{
  "nbformat": 4,
  "nbformat_minor": 0,
  "metadata": {
    "colab": {
      "name": "BNY Mellon Stacked LSTM Shailesh Suran.ipynb",
      "provenance": [],
      "collapsed_sections": [],
      "include_colab_link": true
    },
    "kernelspec": {
      "name": "python3",
      "display_name": "Python 3"
    },
    "language_info": {
      "name": "python"
    }
  },
  "cells": [
    {
      "cell_type": "markdown",
      "metadata": {
        "id": "view-in-github",
        "colab_type": "text"
      },
      
    },
    {
      "cell_type": "code",
      "source": [
        "### Shailesh Suran || ss812050@student.nitw.ac.in || shaileshsuran@gmail.com || +91 8106714553\n",
        "\n",
        "import pandas as pd\n",
        "import matplotlib.pyplot as plt\n",
        "import numpy as np\n",
        "import math\n"
      ],
      "metadata": {
        "id": "tMhpLLih38YF"
      },
      "execution_count": 1,
      "outputs": []
    },
    {
      "cell_type": "code",
      "source": [
        "### Data Collection using TIINGO ( this was a good resource i found, i was having some problem with Investing.com) to collect past data of the stock \n",
        "import pandas_datareader as pdr\n",
        "key=\"8f291cc13ac10b56a0b393bba2debea47ca99268\""
      ],
      "metadata": {
        "id": "WhE-cjl-yhli"
      },
      "execution_count": 2,
      "outputs": []
    },
    {
      "cell_type": "code",
      "source": [
        "df = pdr.get_data_tiingo('BK', api_key=key)\n"
      ],
      "metadata": {
        "colab": {
          "base_uri": "https://localhost:8080/"
        },
        "id": "xNqJtFWt2Bsd",
        "outputId": "4dce2bbc-3c53-4c91-9e74-4674b02e03e5"
      },
      "execution_count": 3,
      "outputs": [
        {
          "output_type": "stream",
          "name": "stderr",
          "text": [
            "/usr/local/lib/python3.7/dist-packages/pandas_datareader/tiingo.py:234: FutureWarning: In a future version of pandas all arguments of concat except for the argument 'objs' will be keyword-only\n",
            "  return pd.concat(dfs, self._concat_axis)\n"
          ]
        }
      ]
    },
    {
      "cell_type": "code",
      "source": [
        "df.to_csv('BNY.csv')\n"
      ],
      "metadata": {
        "id": "at7KKgoy2EkG"
      },
      "execution_count": 4,
      "outputs": []
    },
    {
      "cell_type": "code",
      "source": [
        "df = pd.read_csv('BNY.csv')"
      ],
      "metadata": {
        "id": "bByeHVWD3_in"
      },
      "execution_count": 5,
      "outputs": []
    },
    {
      "cell_type": "code",
      "source": [
        "### since we are going to precdict the closing price of the stock the next day, we will only be using the close price of the stock \n",
        "\n",
        "df1 = df.reset_index()['close']"
      ],
      "metadata": {
        "id": "uH2ZKmm84NGg"
      },
      "execution_count": 6,
      "outputs": []
    },
    {
      "cell_type": "code",
      "source": [
        "#plotting the data for a better visual \n",
        "\n",
        "plt.plot(df1)"
      ],
      "metadata": {
        "colab": {
          "base_uri": "https://localhost:8080/",
          "height": 285
        },
        "id": "kFhFvfbi40jD",
        "outputId": "afa29068-1532-4d06-96da-fade04fd9d29"
      },
      "execution_count": 7,
      "outputs": [
        {
          "output_type": "execute_result",
          "data": {
            "text/plain": [
              "[<matplotlib.lines.Line2D at 0x7f0826be14d0>]"
            ]
          },
          "metadata": {},
          "execution_count": 7
        },
        {
          "output_type": "display_data",
          "data": {
            "text/plain": [
              "<Figure size 432x288 with 1 Axes>"
            ],
            "image/png": "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\n"
          },
          "metadata": {
            "needs_background": "light"
          }
        }
      ]
    },
    {
      "cell_type": "code",
      "source": [
        "df1.shape\n"
      ],
      "metadata": {
        "colab": {
          "base_uri": "https://localhost:8080/"
        },
        "id": "5Vo6k7X1SlWH",
        "outputId": "195ebabe-449c-41ec-fef0-281fe6eb4f75"
      },
      "execution_count": 8,
      "outputs": [
        {
          "output_type": "execute_result",
          "data": {
            "text/plain": [
              "(1257,)"
            ]
          },
          "metadata": {},
          "execution_count": 8
        }
      ]
    },
    {
      "cell_type": "code",
      "source": [
        "### scaling the values if important since LSTM can be sensitive, so using the MinMax scaler and scaling it between 0 and 1  \n",
        "\n",
        "from sklearn.preprocessing import MinMaxScaler\n",
        "scaler = MinMaxScaler(feature_range=(0,1))\n",
        "df1 = scaler.fit_transform(np.array(df1).reshape(-1,1))\n",
        "\n",
        "## so here we have completed collecting the data "
      ],
      "metadata": {
        "id": "MqwD67yr5Qub"
      },
      "execution_count": 9,
      "outputs": []
    },
    {
      "cell_type": "code",
      "source": [
        "## now moving onto preprocessing the data \n",
        "## to make the test - train split, since it is a time series data we cannot use cross validation or random seed\n",
        "## so here i will take a 65 - 35 % train - test split here \n",
        "\n",
        "training_size = int (len(df1)*0.65)\n",
        "test_size = len(df1) - training_size\n",
        "\n",
        "train_data= df1[0 : training_size , :] \n",
        "test_data = df1[training_size : len(df1) , :] \n",
        "\n",
        "\n",
        "\n"
      ],
      "metadata": {
        "id": "ceSDejo26ceA"
      },
      "execution_count": 10,
      "outputs": []
    },
    {
      "cell_type": "code",
      "source": [
        "### Now doing the actual preprocessing\n",
        "### so now we will be creating timesteps of length 100 \n",
        "\n",
        "def create_dataset ( dataset , time_step = 1):\n",
        "  dataX , dataY = [] , []\n",
        "  for i in range (len(dataset) - time_step - 1 ):\n",
        "    row = dataset[i : (i + time_step) ,  0 ]\n",
        "    dataX.append(row)\n",
        "    dataY.append(dataset[i + time_step , 0])\n",
        "  \n",
        "  return np.array(dataX) , np.array(dataY)\n",
        "\n"
      ],
      "metadata": {
        "id": "orjdsaAy-UKl"
      },
      "execution_count": 11,
      "outputs": []
    },
    {
      "cell_type": "code",
      "source": [
        "time_step = 100; \n",
        "\n",
        "X_train , Y_train = create_dataset( train_data , time_step)\n",
        "X_test , Y_test = create_dataset(test_data, time_step)\n"
      ],
      "metadata": {
        "id": "EyzlGMIJhO1d"
      },
      "execution_count": 12,
      "outputs": []
    },
    {
      "cell_type": "code",
      "source": [
        "### Now creating the LSTM model \n",
        "\n",
        "## since LSTM needs another dimension to the input data set, adding it \n",
        "\n",
        "X_train = X_train.reshape(X_train.shape[0], X_train.shape[1], 1)\n",
        "X_test = X_test.reshape(X_test.shape[0], X_test.shape[1], 1)"
      ],
      "metadata": {
        "id": "vxORGMiSiMH9"
      },
      "execution_count": 13,
      "outputs": []
    },
    {
      "cell_type": "code",
      "source": [
        "### importing dependencies\n",
        "\n",
        "from tensorflow.keras.models import Sequential\n",
        "from tensorflow.keras.layers import Dense \n",
        "from tensorflow.keras.layers import LSTM"
      ],
      "metadata": {
        "id": "DjQzggFREWRN"
      },
      "execution_count": 14,
      "outputs": []
    },
    {
      "cell_type": "code",
      "source": [
        "### creating the LSTM model \n",
        "\n",
        "model = Sequential()\n",
        "\n",
        "model.add(LSTM(50, return_sequences = True , input_shape = (time_step , 1)))\n",
        "model.add(LSTM(50 , return_sequences = True))\n",
        "model.add(LSTM(50))\n",
        "model.add(Dense(1))\n",
        "model.compile( loss = 'mean_squared_error' , optimizer = 'adam')"
      ],
      "metadata": {
        "id": "gJVPxOrEFCyM"
      },
      "execution_count": 15,
      "outputs": []
    },
    {
      "cell_type": "code",
      "source": [
        "model.summary()"
      ],
      "metadata": {
        "colab": {
          "base_uri": "https://localhost:8080/"
        },
        "id": "8QOu43lwGS7t",
        "outputId": "51229460-37eb-43eb-a616-d024f17e3031"
      },
      "execution_count": 16,
      "outputs": [
        {
          "output_type": "stream",
          "name": "stdout",
          "text": [
            "Model: \"sequential\"\n",
            "_________________________________________________________________\n",
            " Layer (type)                Output Shape              Param #   \n",
            "=================================================================\n",
            " lstm (LSTM)                 (None, 100, 50)           10400     \n",
            "                                                                 \n",
            " lstm_1 (LSTM)               (None, 100, 50)           20200     \n",
            "                                                                 \n",
            " lstm_2 (LSTM)               (None, 50)                20200     \n",
            "                                                                 \n",
            " dense (Dense)               (None, 1)                 51        \n",
            "                                                                 \n",
            "=================================================================\n",
            "Total params: 50,851\n",
            "Trainable params: 50,851\n",
            "Non-trainable params: 0\n",
            "_________________________________________________________________\n"
          ]
        }
      ]
    },
    {
      "cell_type": "code",
      "source": [
        "### training the model \n",
        "\n",
        "model.fit(X_train , Y_train, validation_data = (X_test , Y_test), epochs = 100, batch_size = 64, verbose = 1)"
      ],
      "metadata": {
        "colab": {
          "base_uri": "https://localhost:8080/"
        },
        "id": "Fl3sb0i1GdBv",
        "outputId": "d970c8ec-e419-41c3-f494-d007cd0c4376"
      },
      "execution_count": 17,
      "outputs": [
        {
          "output_type": "stream",
          "name": "stdout",
          "text": [
            "Epoch 1/100\n",
            "12/12 [==============================] - 6s 186ms/step - loss: 0.1216 - val_loss: 0.0096\n",
            "Epoch 2/100\n",
            "12/12 [==============================] - 1s 114ms/step - loss: 0.0165 - val_loss: 0.0096\n",
            "Epoch 3/100\n",
            "12/12 [==============================] - 1s 115ms/step - loss: 0.0104 - val_loss: 0.0159\n",
            "Epoch 4/100\n",
            "12/12 [==============================] - 1s 124ms/step - loss: 0.0078 - val_loss: 0.0067\n",
            "Epoch 5/100\n",
            "12/12 [==============================] - 2s 197ms/step - loss: 0.0057 - val_loss: 0.0062\n",
            "Epoch 6/100\n",
            "12/12 [==============================] - 2s 192ms/step - loss: 0.0049 - val_loss: 0.0068\n",
            "Epoch 7/100\n",
            "12/12 [==============================] - 2s 188ms/step - loss: 0.0048 - val_loss: 0.0057\n",
            "Epoch 8/100\n",
            "12/12 [==============================] - 2s 196ms/step - loss: 0.0046 - val_loss: 0.0056\n",
            "Epoch 9/100\n",
            "12/12 [==============================] - 2s 200ms/step - loss: 0.0044 - val_loss: 0.0053\n",
            "Epoch 10/100\n",
            "12/12 [==============================] - 2s 192ms/step - loss: 0.0043 - val_loss: 0.0050\n",
            "Epoch 11/100\n",
            "12/12 [==============================] - 1s 114ms/step - loss: 0.0043 - val_loss: 0.0047\n",
            "Epoch 12/100\n",
            "12/12 [==============================] - 1s 114ms/step - loss: 0.0041 - val_loss: 0.0046\n",
            "Epoch 13/100\n",
            "12/12 [==============================] - 1s 114ms/step - loss: 0.0040 - val_loss: 0.0047\n",
            "Epoch 14/100\n",
            "12/12 [==============================] - 1s 111ms/step - loss: 0.0039 - val_loss: 0.0045\n",
            "Epoch 15/100\n",
            "12/12 [==============================] - 1s 116ms/step - loss: 0.0038 - val_loss: 0.0044\n",
            "Epoch 16/100\n",
            "12/12 [==============================] - 1s 111ms/step - loss: 0.0036 - val_loss: 0.0045\n",
            "Epoch 17/100\n",
            "12/12 [==============================] - 1s 112ms/step - loss: 0.0038 - val_loss: 0.0039\n",
            "Epoch 18/100\n",
            "12/12 [==============================] - 1s 115ms/step - loss: 0.0035 - val_loss: 0.0049\n",
            "Epoch 19/100\n",
            "12/12 [==============================] - 1s 112ms/step - loss: 0.0035 - val_loss: 0.0037\n",
            "Epoch 20/100\n",
            "12/12 [==============================] - 1s 114ms/step - loss: 0.0033 - val_loss: 0.0038\n",
            "Epoch 21/100\n",
            "12/12 [==============================] - 1s 112ms/step - loss: 0.0031 - val_loss: 0.0035\n",
            "Epoch 22/100\n",
            "12/12 [==============================] - 1s 113ms/step - loss: 0.0031 - val_loss: 0.0033\n",
            "Epoch 23/100\n",
            "12/12 [==============================] - 1s 112ms/step - loss: 0.0029 - val_loss: 0.0037\n",
            "Epoch 24/100\n",
            "12/12 [==============================] - 1s 115ms/step - loss: 0.0028 - val_loss: 0.0035\n",
            "Epoch 25/100\n",
            "12/12 [==============================] - 1s 112ms/step - loss: 0.0028 - val_loss: 0.0030\n",
            "Epoch 26/100\n",
            "12/12 [==============================] - 1s 114ms/step - loss: 0.0025 - val_loss: 0.0029\n",
            "Epoch 27/100\n",
            "12/12 [==============================] - 1s 115ms/step - loss: 0.0025 - val_loss: 0.0031\n",
            "Epoch 28/100\n",
            "12/12 [==============================] - 1s 115ms/step - loss: 0.0025 - val_loss: 0.0029\n",
            "Epoch 29/100\n",
            "12/12 [==============================] - 1s 116ms/step - loss: 0.0026 - val_loss: 0.0033\n",
            "Epoch 30/100\n",
            "12/12 [==============================] - 1s 112ms/step - loss: 0.0023 - val_loss: 0.0025\n",
            "Epoch 31/100\n",
            "12/12 [==============================] - 1s 112ms/step - loss: 0.0021 - val_loss: 0.0033\n",
            "Epoch 32/100\n",
            "12/12 [==============================] - 1s 114ms/step - loss: 0.0023 - val_loss: 0.0035\n",
            "Epoch 33/100\n",
            "12/12 [==============================] - 1s 112ms/step - loss: 0.0022 - val_loss: 0.0023\n",
            "Epoch 34/100\n",
            "12/12 [==============================] - 1s 115ms/step - loss: 0.0019 - val_loss: 0.0024\n",
            "Epoch 35/100\n",
            "12/12 [==============================] - 1s 114ms/step - loss: 0.0019 - val_loss: 0.0034\n",
            "Epoch 36/100\n",
            "12/12 [==============================] - 1s 113ms/step - loss: 0.0026 - val_loss: 0.0021\n",
            "Epoch 37/100\n",
            "12/12 [==============================] - 1s 112ms/step - loss: 0.0023 - val_loss: 0.0025\n",
            "Epoch 38/100\n",
            "12/12 [==============================] - 1s 113ms/step - loss: 0.0019 - val_loss: 0.0023\n",
            "Epoch 39/100\n",
            "12/12 [==============================] - 1s 115ms/step - loss: 0.0018 - val_loss: 0.0019\n",
            "Epoch 40/100\n",
            "12/12 [==============================] - 1s 115ms/step - loss: 0.0018 - val_loss: 0.0020\n",
            "Epoch 41/100\n",
            "12/12 [==============================] - 1s 112ms/step - loss: 0.0019 - val_loss: 0.0020\n",
            "Epoch 42/100\n",
            "12/12 [==============================] - 1s 116ms/step - loss: 0.0020 - val_loss: 0.0019\n",
            "Epoch 43/100\n",
            "12/12 [==============================] - 1s 114ms/step - loss: 0.0017 - val_loss: 0.0018\n",
            "Epoch 44/100\n",
            "12/12 [==============================] - 1s 113ms/step - loss: 0.0018 - val_loss: 0.0017\n",
            "Epoch 45/100\n",
            "12/12 [==============================] - 1s 115ms/step - loss: 0.0017 - val_loss: 0.0023\n",
            "Epoch 46/100\n",
            "12/12 [==============================] - 1s 115ms/step - loss: 0.0018 - val_loss: 0.0017\n",
            "Epoch 47/100\n",
            "12/12 [==============================] - 1s 112ms/step - loss: 0.0015 - val_loss: 0.0016\n",
            "Epoch 48/100\n",
            "12/12 [==============================] - 1s 114ms/step - loss: 0.0015 - val_loss: 0.0016\n",
            "Epoch 49/100\n",
            "12/12 [==============================] - 1s 110ms/step - loss: 0.0015 - val_loss: 0.0018\n",
            "Epoch 50/100\n",
            "12/12 [==============================] - 1s 114ms/step - loss: 0.0016 - val_loss: 0.0016\n",
            "Epoch 51/100\n",
            "12/12 [==============================] - 1s 114ms/step - loss: 0.0014 - val_loss: 0.0018\n",
            "Epoch 52/100\n",
            "12/12 [==============================] - 2s 138ms/step - loss: 0.0016 - val_loss: 0.0017\n",
            "Epoch 53/100\n",
            "12/12 [==============================] - 2s 165ms/step - loss: 0.0015 - val_loss: 0.0023\n",
            "Epoch 54/100\n",
            "12/12 [==============================] - 1s 111ms/step - loss: 0.0017 - val_loss: 0.0018\n",
            "Epoch 55/100\n",
            "12/12 [==============================] - 1s 115ms/step - loss: 0.0014 - val_loss: 0.0025\n",
            "Epoch 56/100\n",
            "12/12 [==============================] - 1s 115ms/step - loss: 0.0015 - val_loss: 0.0017\n",
            "Epoch 57/100\n",
            "12/12 [==============================] - 1s 114ms/step - loss: 0.0014 - val_loss: 0.0015\n",
            "Epoch 58/100\n",
            "12/12 [==============================] - 1s 115ms/step - loss: 0.0015 - val_loss: 0.0023\n",
            "Epoch 59/100\n",
            "12/12 [==============================] - 1s 113ms/step - loss: 0.0018 - val_loss: 0.0026\n",
            "Epoch 60/100\n",
            "12/12 [==============================] - 1s 113ms/step - loss: 0.0017 - val_loss: 0.0019\n",
            "Epoch 61/100\n",
            "12/12 [==============================] - 1s 112ms/step - loss: 0.0014 - val_loss: 0.0014\n",
            "Epoch 62/100\n",
            "12/12 [==============================] - 1s 112ms/step - loss: 0.0013 - val_loss: 0.0013\n",
            "Epoch 63/100\n",
            "12/12 [==============================] - 1s 112ms/step - loss: 0.0013 - val_loss: 0.0012\n",
            "Epoch 64/100\n",
            "12/12 [==============================] - 1s 113ms/step - loss: 0.0012 - val_loss: 0.0013\n",
            "Epoch 65/100\n",
            "12/12 [==============================] - 1s 113ms/step - loss: 0.0012 - val_loss: 0.0017\n",
            "Epoch 66/100\n",
            "12/12 [==============================] - 1s 115ms/step - loss: 0.0016 - val_loss: 0.0012\n",
            "Epoch 67/100\n",
            "12/12 [==============================] - 1s 113ms/step - loss: 0.0014 - val_loss: 0.0028\n",
            "Epoch 68/100\n",
            "12/12 [==============================] - 1s 109ms/step - loss: 0.0015 - val_loss: 0.0012\n",
            "Epoch 69/100\n",
            "12/12 [==============================] - 1s 117ms/step - loss: 0.0011 - val_loss: 0.0011\n",
            "Epoch 70/100\n",
            "12/12 [==============================] - 1s 116ms/step - loss: 0.0012 - val_loss: 0.0013\n",
            "Epoch 71/100\n",
            "12/12 [==============================] - 1s 113ms/step - loss: 0.0011 - val_loss: 0.0011\n",
            "Epoch 72/100\n",
            "12/12 [==============================] - 1s 114ms/step - loss: 0.0011 - val_loss: 0.0014\n",
            "Epoch 73/100\n",
            "12/12 [==============================] - 1s 114ms/step - loss: 0.0011 - val_loss: 0.0011\n",
            "Epoch 74/100\n",
            "12/12 [==============================] - 1s 115ms/step - loss: 0.0010 - val_loss: 0.0012\n",
            "Epoch 75/100\n",
            "12/12 [==============================] - 1s 112ms/step - loss: 0.0010 - val_loss: 0.0014\n",
            "Epoch 76/100\n",
            "12/12 [==============================] - 1s 117ms/step - loss: 0.0011 - val_loss: 0.0016\n",
            "Epoch 77/100\n",
            "12/12 [==============================] - 1s 114ms/step - loss: 0.0011 - val_loss: 0.0014\n",
            "Epoch 78/100\n",
            "12/12 [==============================] - 1s 114ms/step - loss: 0.0011 - val_loss: 0.0011\n",
            "Epoch 79/100\n",
            "12/12 [==============================] - 1s 115ms/step - loss: 0.0012 - val_loss: 0.0014\n",
            "Epoch 80/100\n",
            "12/12 [==============================] - 1s 115ms/step - loss: 0.0012 - val_loss: 0.0010\n",
            "Epoch 81/100\n",
            "12/12 [==============================] - 1s 116ms/step - loss: 9.6932e-04 - val_loss: 9.8246e-04\n",
            "Epoch 82/100\n",
            "12/12 [==============================] - 1s 114ms/step - loss: 9.3467e-04 - val_loss: 0.0011\n",
            "Epoch 83/100\n",
            "12/12 [==============================] - 1s 110ms/step - loss: 9.2048e-04 - val_loss: 0.0012\n",
            "Epoch 84/100\n",
            "12/12 [==============================] - 1s 116ms/step - loss: 9.5380e-04 - val_loss: 0.0010\n",
            "Epoch 85/100\n",
            "12/12 [==============================] - 1s 113ms/step - loss: 8.8444e-04 - val_loss: 9.7466e-04\n",
            "Epoch 86/100\n",
            "12/12 [==============================] - 1s 113ms/step - loss: 8.5371e-04 - val_loss: 0.0016\n",
            "Epoch 87/100\n",
            "12/12 [==============================] - 1s 114ms/step - loss: 0.0011 - val_loss: 0.0012\n",
            "Epoch 88/100\n",
            "12/12 [==============================] - 1s 113ms/step - loss: 9.6055e-04 - val_loss: 9.0520e-04\n",
            "Epoch 89/100\n",
            "12/12 [==============================] - 1s 112ms/step - loss: 8.6646e-04 - val_loss: 0.0011\n",
            "Epoch 90/100\n",
            "12/12 [==============================] - 1s 116ms/step - loss: 9.4523e-04 - val_loss: 0.0010\n",
            "Epoch 91/100\n",
            "12/12 [==============================] - 1s 114ms/step - loss: 9.3104e-04 - val_loss: 8.6187e-04\n",
            "Epoch 92/100\n",
            "12/12 [==============================] - 1s 116ms/step - loss: 9.4870e-04 - val_loss: 9.3310e-04\n",
            "Epoch 93/100\n",
            "12/12 [==============================] - 1s 114ms/step - loss: 8.8879e-04 - val_loss: 0.0010\n",
            "Epoch 94/100\n",
            "12/12 [==============================] - 1s 113ms/step - loss: 9.0470e-04 - val_loss: 0.0011\n",
            "Epoch 95/100\n",
            "12/12 [==============================] - 1s 115ms/step - loss: 8.7064e-04 - val_loss: 8.9657e-04\n",
            "Epoch 96/100\n",
            "12/12 [==============================] - 1s 112ms/step - loss: 8.4328e-04 - val_loss: 8.2365e-04\n",
            "Epoch 97/100\n",
            "12/12 [==============================] - 1s 114ms/step - loss: 7.9104e-04 - val_loss: 8.0667e-04\n",
            "Epoch 98/100\n",
            "12/12 [==============================] - 1s 114ms/step - loss: 8.0402e-04 - val_loss: 9.8860e-04\n",
            "Epoch 99/100\n",
            "12/12 [==============================] - 1s 115ms/step - loss: 9.2755e-04 - val_loss: 0.0019\n",
            "Epoch 100/100\n",
            "12/12 [==============================] - 1s 113ms/step - loss: 9.1959e-04 - val_loss: 7.8970e-04\n"
          ]
        },
        {
          "output_type": "execute_result",
          "data": {
            "text/plain": [
              "<keras.callbacks.History at 0x7f07b6b20dd0>"
            ]
          },
          "metadata": {},
          "execution_count": 17
        }
      ]
    },
    {
      "cell_type": "code",
      "source": [
        "### now predicting on train and test data \n",
        "\n",
        "train_predict = model.predict(X_train)\n",
        "test_predict = model.predict(X_test)"
      ],
      "metadata": {
        "id": "Oir-SgHSHFP_"
      },
      "execution_count": 18,
      "outputs": []
    },
    {
      "cell_type": "code",
      "source": [
        "### transforming back to original form \n",
        "\n",
        "\n",
        "train_predict = scaler.inverse_transform(train_predict)\n",
        "test_predict = scaler.inverse_transform(test_predict)\n"
      ],
      "metadata": {
        "id": "MooX_GOhHyyv"
      },
      "execution_count": 19,
      "outputs": []
    },
    {
      "cell_type": "code",
      "source": [
        "## calculting the Root mean squared error performance metrics\n",
        "\n",
        "from sklearn.metrics import mean_squared_error\n",
        "math.sqrt(mean_squared_error(Y_train, train_predict))"
      ],
      "metadata": {
        "colab": {
          "base_uri": "https://localhost:8080/"
        },
        "id": "tEN0RpOGOSJS",
        "outputId": "f749bb13-5813-4ea8-e6bd-de6980da24ea"
      },
      "execution_count": 20,
      "outputs": [
        {
          "output_type": "execute_result",
          "data": {
            "text/plain": [
              "46.448561335591286"
            ]
          },
          "metadata": {},
          "execution_count": 20
        }
      ]
    },
    {
      "cell_type": "code",
      "source": [
        "## for the test data\n",
        "\n",
        "math.sqrt(mean_squared_error(Y_test, test_predict))"
      ],
      "metadata": {
        "colab": {
          "base_uri": "https://localhost:8080/"
        },
        "id": "-UCkZAdLO6bO",
        "outputId": "563ee4f1-7feb-4734-9a50-6169efd82402"
      },
      "execution_count": 21,
      "outputs": [
        {
          "output_type": "execute_result",
          "data": {
            "text/plain": [
              "51.010171487511634"
            ]
          },
          "metadata": {},
          "execution_count": 21
        }
      ]
    },
    {
      "cell_type": "code",
      "source": [
        "### Plotting \n",
        "# shift train predictions for plotting\n",
        "look_back=100\n",
        "trainPredictPlot = np.empty_like(df1)\n",
        "trainPredictPlot[:, :] = np.nan\n",
        "trainPredictPlot[look_back:len(train_predict)+look_back, :] = train_predict\n",
        "\n",
        "\n",
        "# shift test predictions for plotting\n",
        "testPredictPlot = np.empty_like(df1)\n",
        "testPredictPlot[:, :] = np.nan\n",
        "testPredictPlot[len(train_predict)+(look_back*2)+1:len(df1)-1, :] = test_predict\n",
        "\n",
        "\n",
        "# plot baseline and predictions\n",
        "plt.plot(scaler.inverse_transform(df1))\n",
        "plt.plot(trainPredictPlot)\n",
        "plt.plot(testPredictPlot)\n",
        "plt.show()"
      ],
      "metadata": {
        "colab": {
          "base_uri": "https://localhost:8080/",
          "height": 267
        },
        "id": "VLsN7aI3PxTN",
        "outputId": "1153c0cb-7444-4429-ec36-634a586e443a"
      },
      "execution_count": 22,
      "outputs": [
        {
          "output_type": "display_data",
          "data": {
            "text/plain": [
              "<Figure size 432x288 with 1 Axes>"
            ],
            "image/png": "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\n"
          },
          "metadata": {
            "needs_background": "light"
          }
        }
      ]
    },
    {
      "cell_type": "code",
      "source": [
        "### Now lets use this weapon to predict the future of the stock and trade \n",
        "### why stop at next day when we can use it to predict for the whole next month \n",
        "\n",
        "len(test_data) # comes out to be 441 so for the last 100 days -> 341 : \n",
        "x_input=test_data[ 340:].reshape(1,-1)\n",
        "x_input.shape"
      ],
      "metadata": {
        "colab": {
          "base_uri": "https://localhost:8080/"
        },
        "id": "GzlnoW3EQswK",
        "outputId": "0b339776-c36d-4e6e-bccc-43d400233b0c"
      },
      "execution_count": 47,
      "outputs": [
        {
          "output_type": "execute_result",
          "data": {
            "text/plain": [
              "(1, 100)"
            ]
          },
          "metadata": {},
          "execution_count": 47
        }
      ]
    },
    {
      "cell_type": "code",
      "source": [
        "temp_input=list(x_input)\n",
        "temp_input=temp_input[0].tolist()"
      ],
      "metadata": {
        "id": "wXpNdDyCRnFb"
      },
      "execution_count": 48,
      "outputs": []
    },
    {
      "cell_type": "code",
      "source": [
        "#  prediction for next 30 days\n",
        "from numpy import array\n",
        "\n",
        "lst_output=[]\n",
        "n_steps=99\n",
        "i=0\n",
        "while(i<31):\n",
        "    \n",
        "    if(len(temp_input)>100):\n",
        "        #print(temp_input)\n",
        "        x_input=np.array(temp_input[1:])\n",
        "        print(\"{} day input {}\".format(i,x_input))\n",
        "        x_input=x_input.reshape(1,-1)\n",
        "        x_input = x_input.reshape((1, 100, 1))\n",
        "        #print(x_input)\n",
        "        yhat = model.predict(x_input, verbose=0)\n",
        "        print(\"{} day output {}\".format(i,yhat))\n",
        "        temp_input.extend(yhat[0].tolist())\n",
        "        temp_input=temp_input[1:]\n",
        "        #print(temp_input)\n",
        "        lst_output.extend(yhat.tolist())\n",
        "        i=i+1\n",
        "    else:\n",
        "        x_input = x_input.reshape((1, 100, 1))\n",
        "        yhat = model.predict(x_input, verbose=0)\n",
        "        print(yhat[0])\n",
        "        temp_input.extend(yhat[0].tolist())\n",
        "        print(len(temp_input))\n",
        "        lst_output.extend(yhat.tolist())\n",
        "        i=i+1\n",
        "    \n",
        "    "
      ],
      "metadata": {
        "colab": {
          "base_uri": "https://localhost:8080/"
        },
        "id": "siU60rq7Rt1J",
        "outputId": "9f285b50-aa58-445e-fe3e-a6a9f55c2edf"
      },
      "execution_count": 49,
      "outputs": [
        {
          "output_type": "stream",
          "name": "stdout",
          "text": [
            "[0.43143988]\n",
            "101\n",
            "1 day input [0.60713298 0.60879182 0.59358584 0.57257396 0.56040918 0.57644457\n",
            " 0.56897982 0.55736798 0.57644457 0.54741498 0.51755599 0.52612662\n",
            " 0.53995024 0.51589715 0.46226154 0.4666851  0.43599668 0.41083771\n",
            " 0.44152613 0.40282002 0.42051424 0.4318496  0.4785734  0.45922035\n",
            " 0.44982029 0.43461432 0.42770252 0.41304949 0.42355543 0.44152613\n",
            " 0.43544374 0.47276749 0.4368261  0.43765552 0.45009677 0.47525574\n",
            " 0.46585568 0.47636163 0.50235001 0.52502074 0.52861487 0.50207354\n",
            " 0.52474426 0.50041471 0.51036771 0.52115012 0.4935029  0.45756152\n",
            " 0.42300249 0.38650816 0.36245507 0.39756704 0.37931988 0.3771081\n",
            " 0.41000829 0.40752004 0.40116118 0.44539674 0.43046724 0.42493779\n",
            " 0.41249654 0.39314349 0.41277302 0.40337296 0.38954935 0.40917888\n",
            " 0.39811999 0.39314349 0.39480232 0.38097871 0.35803152 0.44014377\n",
            " 0.42244954 0.44484379 0.43240254 0.44207907 0.42106718 0.42936135\n",
            " 0.40420238 0.42549074 0.42963782 0.44152613 0.4368261  0.42742604\n",
            " 0.44843793 0.43046724 0.44263202 0.43102018 0.43406138 0.45617915\n",
            " 0.4666851  0.48133813 0.47608515 0.48493226 0.47884988 0.47470279\n",
            " 0.45341443 0.43544374 0.42797899 0.43143988]\n",
            "1 day output [[0.4237138]]\n",
            "2 day input [0.60879182 0.59358584 0.57257396 0.56040918 0.57644457 0.56897982\n",
            " 0.55736798 0.57644457 0.54741498 0.51755599 0.52612662 0.53995024\n",
            " 0.51589715 0.46226154 0.4666851  0.43599668 0.41083771 0.44152613\n",
            " 0.40282002 0.42051424 0.4318496  0.4785734  0.45922035 0.44982029\n",
            " 0.43461432 0.42770252 0.41304949 0.42355543 0.44152613 0.43544374\n",
            " 0.47276749 0.4368261  0.43765552 0.45009677 0.47525574 0.46585568\n",
            " 0.47636163 0.50235001 0.52502074 0.52861487 0.50207354 0.52474426\n",
            " 0.50041471 0.51036771 0.52115012 0.4935029  0.45756152 0.42300249\n",
            " 0.38650816 0.36245507 0.39756704 0.37931988 0.3771081  0.41000829\n",
            " 0.40752004 0.40116118 0.44539674 0.43046724 0.42493779 0.41249654\n",
            " 0.39314349 0.41277302 0.40337296 0.38954935 0.40917888 0.39811999\n",
            " 0.39314349 0.39480232 0.38097871 0.35803152 0.44014377 0.42244954\n",
            " 0.44484379 0.43240254 0.44207907 0.42106718 0.42936135 0.40420238\n",
            " 0.42549074 0.42963782 0.44152613 0.4368261  0.42742604 0.44843793\n",
            " 0.43046724 0.44263202 0.43102018 0.43406138 0.45617915 0.4666851\n",
            " 0.48133813 0.47608515 0.48493226 0.47884988 0.47470279 0.45341443\n",
            " 0.43544374 0.42797899 0.43143988 0.4237138 ]\n",
            "2 day output [[0.42020693]]\n",
            "3 day input [0.59358584 0.57257396 0.56040918 0.57644457 0.56897982 0.55736798\n",
            " 0.57644457 0.54741498 0.51755599 0.52612662 0.53995024 0.51589715\n",
            " 0.46226154 0.4666851  0.43599668 0.41083771 0.44152613 0.40282002\n",
            " 0.42051424 0.4318496  0.4785734  0.45922035 0.44982029 0.43461432\n",
            " 0.42770252 0.41304949 0.42355543 0.44152613 0.43544374 0.47276749\n",
            " 0.4368261  0.43765552 0.45009677 0.47525574 0.46585568 0.47636163\n",
            " 0.50235001 0.52502074 0.52861487 0.50207354 0.52474426 0.50041471\n",
            " 0.51036771 0.52115012 0.4935029  0.45756152 0.42300249 0.38650816\n",
            " 0.36245507 0.39756704 0.37931988 0.3771081  0.41000829 0.40752004\n",
            " 0.40116118 0.44539674 0.43046724 0.42493779 0.41249654 0.39314349\n",
            " 0.41277302 0.40337296 0.38954935 0.40917888 0.39811999 0.39314349\n",
            " 0.39480232 0.38097871 0.35803152 0.44014377 0.42244954 0.44484379\n",
            " 0.43240254 0.44207907 0.42106718 0.42936135 0.40420238 0.42549074\n",
            " 0.42963782 0.44152613 0.4368261  0.42742604 0.44843793 0.43046724\n",
            " 0.44263202 0.43102018 0.43406138 0.45617915 0.4666851  0.48133813\n",
            " 0.47608515 0.48493226 0.47884988 0.47470279 0.45341443 0.43544374\n",
            " 0.42797899 0.43143988 0.4237138  0.42020693]\n",
            "3 day output [[0.41800624]]\n",
            "4 day input [0.57257396 0.56040918 0.57644457 0.56897982 0.55736798 0.57644457\n",
            " 0.54741498 0.51755599 0.52612662 0.53995024 0.51589715 0.46226154\n",
            " 0.4666851  0.43599668 0.41083771 0.44152613 0.40282002 0.42051424\n",
            " 0.4318496  0.4785734  0.45922035 0.44982029 0.43461432 0.42770252\n",
            " 0.41304949 0.42355543 0.44152613 0.43544374 0.47276749 0.4368261\n",
            " 0.43765552 0.45009677 0.47525574 0.46585568 0.47636163 0.50235001\n",
            " 0.52502074 0.52861487 0.50207354 0.52474426 0.50041471 0.51036771\n",
            " 0.52115012 0.4935029  0.45756152 0.42300249 0.38650816 0.36245507\n",
            " 0.39756704 0.37931988 0.3771081  0.41000829 0.40752004 0.40116118\n",
            " 0.44539674 0.43046724 0.42493779 0.41249654 0.39314349 0.41277302\n",
            " 0.40337296 0.38954935 0.40917888 0.39811999 0.39314349 0.39480232\n",
            " 0.38097871 0.35803152 0.44014377 0.42244954 0.44484379 0.43240254\n",
            " 0.44207907 0.42106718 0.42936135 0.40420238 0.42549074 0.42963782\n",
            " 0.44152613 0.4368261  0.42742604 0.44843793 0.43046724 0.44263202\n",
            " 0.43102018 0.43406138 0.45617915 0.4666851  0.48133813 0.47608515\n",
            " 0.48493226 0.47884988 0.47470279 0.45341443 0.43544374 0.42797899\n",
            " 0.43143988 0.4237138  0.42020693 0.41800624]\n",
            "4 day output [[0.41621643]]\n",
            "5 day input [0.56040918 0.57644457 0.56897982 0.55736798 0.57644457 0.54741498\n",
            " 0.51755599 0.52612662 0.53995024 0.51589715 0.46226154 0.4666851\n",
            " 0.43599668 0.41083771 0.44152613 0.40282002 0.42051424 0.4318496\n",
            " 0.4785734  0.45922035 0.44982029 0.43461432 0.42770252 0.41304949\n",
            " 0.42355543 0.44152613 0.43544374 0.47276749 0.4368261  0.43765552\n",
            " 0.45009677 0.47525574 0.46585568 0.47636163 0.50235001 0.52502074\n",
            " 0.52861487 0.50207354 0.52474426 0.50041471 0.51036771 0.52115012\n",
            " 0.4935029  0.45756152 0.42300249 0.38650816 0.36245507 0.39756704\n",
            " 0.37931988 0.3771081  0.41000829 0.40752004 0.40116118 0.44539674\n",
            " 0.43046724 0.42493779 0.41249654 0.39314349 0.41277302 0.40337296\n",
            " 0.38954935 0.40917888 0.39811999 0.39314349 0.39480232 0.38097871\n",
            " 0.35803152 0.44014377 0.42244954 0.44484379 0.43240254 0.44207907\n",
            " 0.42106718 0.42936135 0.40420238 0.42549074 0.42963782 0.44152613\n",
            " 0.4368261  0.42742604 0.44843793 0.43046724 0.44263202 0.43102018\n",
            " 0.43406138 0.45617915 0.4666851  0.48133813 0.47608515 0.48493226\n",
            " 0.47884988 0.47470279 0.45341443 0.43544374 0.42797899 0.43143988\n",
            " 0.4237138  0.42020693 0.41800624 0.41621643]\n",
            "5 day output [[0.41473082]]\n",
            "6 day input [0.57644457 0.56897982 0.55736798 0.57644457 0.54741498 0.51755599\n",
            " 0.52612662 0.53995024 0.51589715 0.46226154 0.4666851  0.43599668\n",
            " 0.41083771 0.44152613 0.40282002 0.42051424 0.4318496  0.4785734\n",
            " 0.45922035 0.44982029 0.43461432 0.42770252 0.41304949 0.42355543\n",
            " 0.44152613 0.43544374 0.47276749 0.4368261  0.43765552 0.45009677\n",
            " 0.47525574 0.46585568 0.47636163 0.50235001 0.52502074 0.52861487\n",
            " 0.50207354 0.52474426 0.50041471 0.51036771 0.52115012 0.4935029\n",
            " 0.45756152 0.42300249 0.38650816 0.36245507 0.39756704 0.37931988\n",
            " 0.3771081  0.41000829 0.40752004 0.40116118 0.44539674 0.43046724\n",
            " 0.42493779 0.41249654 0.39314349 0.41277302 0.40337296 0.38954935\n",
            " 0.40917888 0.39811999 0.39314349 0.39480232 0.38097871 0.35803152\n",
            " 0.44014377 0.42244954 0.44484379 0.43240254 0.44207907 0.42106718\n",
            " 0.42936135 0.40420238 0.42549074 0.42963782 0.44152613 0.4368261\n",
            " 0.42742604 0.44843793 0.43046724 0.44263202 0.43102018 0.43406138\n",
            " 0.45617915 0.4666851  0.48133813 0.47608515 0.48493226 0.47884988\n",
            " 0.47470279 0.45341443 0.43544374 0.42797899 0.43143988 0.4237138\n",
            " 0.42020693 0.41800624 0.41621643 0.41473082]\n",
            "6 day output [[0.41359445]]\n",
            "7 day input [0.56897982 0.55736798 0.57644457 0.54741498 0.51755599 0.52612662\n",
            " 0.53995024 0.51589715 0.46226154 0.4666851  0.43599668 0.41083771\n",
            " 0.44152613 0.40282002 0.42051424 0.4318496  0.4785734  0.45922035\n",
            " 0.44982029 0.43461432 0.42770252 0.41304949 0.42355543 0.44152613\n",
            " 0.43544374 0.47276749 0.4368261  0.43765552 0.45009677 0.47525574\n",
            " 0.46585568 0.47636163 0.50235001 0.52502074 0.52861487 0.50207354\n",
            " 0.52474426 0.50041471 0.51036771 0.52115012 0.4935029  0.45756152\n",
            " 0.42300249 0.38650816 0.36245507 0.39756704 0.37931988 0.3771081\n",
            " 0.41000829 0.40752004 0.40116118 0.44539674 0.43046724 0.42493779\n",
            " 0.41249654 0.39314349 0.41277302 0.40337296 0.38954935 0.40917888\n",
            " 0.39811999 0.39314349 0.39480232 0.38097871 0.35803152 0.44014377\n",
            " 0.42244954 0.44484379 0.43240254 0.44207907 0.42106718 0.42936135\n",
            " 0.40420238 0.42549074 0.42963782 0.44152613 0.4368261  0.42742604\n",
            " 0.44843793 0.43046724 0.44263202 0.43102018 0.43406138 0.45617915\n",
            " 0.4666851  0.48133813 0.47608515 0.48493226 0.47884988 0.47470279\n",
            " 0.45341443 0.43544374 0.42797899 0.43143988 0.4237138  0.42020693\n",
            " 0.41800624 0.41621643 0.41473082 0.41359445]\n",
            "7 day output [[0.41282943]]\n",
            "8 day input [0.55736798 0.57644457 0.54741498 0.51755599 0.52612662 0.53995024\n",
            " 0.51589715 0.46226154 0.4666851  0.43599668 0.41083771 0.44152613\n",
            " 0.40282002 0.42051424 0.4318496  0.4785734  0.45922035 0.44982029\n",
            " 0.43461432 0.42770252 0.41304949 0.42355543 0.44152613 0.43544374\n",
            " 0.47276749 0.4368261  0.43765552 0.45009677 0.47525574 0.46585568\n",
            " 0.47636163 0.50235001 0.52502074 0.52861487 0.50207354 0.52474426\n",
            " 0.50041471 0.51036771 0.52115012 0.4935029  0.45756152 0.42300249\n",
            " 0.38650816 0.36245507 0.39756704 0.37931988 0.3771081  0.41000829\n",
            " 0.40752004 0.40116118 0.44539674 0.43046724 0.42493779 0.41249654\n",
            " 0.39314349 0.41277302 0.40337296 0.38954935 0.40917888 0.39811999\n",
            " 0.39314349 0.39480232 0.38097871 0.35803152 0.44014377 0.42244954\n",
            " 0.44484379 0.43240254 0.44207907 0.42106718 0.42936135 0.40420238\n",
            " 0.42549074 0.42963782 0.44152613 0.4368261  0.42742604 0.44843793\n",
            " 0.43046724 0.44263202 0.43102018 0.43406138 0.45617915 0.4666851\n",
            " 0.48133813 0.47608515 0.48493226 0.47884988 0.47470279 0.45341443\n",
            " 0.43544374 0.42797899 0.43143988 0.4237138  0.42020693 0.41800624\n",
            " 0.41621643 0.41473082 0.41359445 0.41282943]\n",
            "8 day output [[0.41242468]]\n",
            "9 day input [0.57644457 0.54741498 0.51755599 0.52612662 0.53995024 0.51589715\n",
            " 0.46226154 0.4666851  0.43599668 0.41083771 0.44152613 0.40282002\n",
            " 0.42051424 0.4318496  0.4785734  0.45922035 0.44982029 0.43461432\n",
            " 0.42770252 0.41304949 0.42355543 0.44152613 0.43544374 0.47276749\n",
            " 0.4368261  0.43765552 0.45009677 0.47525574 0.46585568 0.47636163\n",
            " 0.50235001 0.52502074 0.52861487 0.50207354 0.52474426 0.50041471\n",
            " 0.51036771 0.52115012 0.4935029  0.45756152 0.42300249 0.38650816\n",
            " 0.36245507 0.39756704 0.37931988 0.3771081  0.41000829 0.40752004\n",
            " 0.40116118 0.44539674 0.43046724 0.42493779 0.41249654 0.39314349\n",
            " 0.41277302 0.40337296 0.38954935 0.40917888 0.39811999 0.39314349\n",
            " 0.39480232 0.38097871 0.35803152 0.44014377 0.42244954 0.44484379\n",
            " 0.43240254 0.44207907 0.42106718 0.42936135 0.40420238 0.42549074\n",
            " 0.42963782 0.44152613 0.4368261  0.42742604 0.44843793 0.43046724\n",
            " 0.44263202 0.43102018 0.43406138 0.45617915 0.4666851  0.48133813\n",
            " 0.47608515 0.48493226 0.47884988 0.47470279 0.45341443 0.43544374\n",
            " 0.42797899 0.43143988 0.4237138  0.42020693 0.41800624 0.41621643\n",
            " 0.41473082 0.41359445 0.41282943 0.41242468]\n",
            "9 day output [[0.41235188]]\n",
            "10 day input [0.54741498 0.51755599 0.52612662 0.53995024 0.51589715 0.46226154\n",
            " 0.4666851  0.43599668 0.41083771 0.44152613 0.40282002 0.42051424\n",
            " 0.4318496  0.4785734  0.45922035 0.44982029 0.43461432 0.42770252\n",
            " 0.41304949 0.42355543 0.44152613 0.43544374 0.47276749 0.4368261\n",
            " 0.43765552 0.45009677 0.47525574 0.46585568 0.47636163 0.50235001\n",
            " 0.52502074 0.52861487 0.50207354 0.52474426 0.50041471 0.51036771\n",
            " 0.52115012 0.4935029  0.45756152 0.42300249 0.38650816 0.36245507\n",
            " 0.39756704 0.37931988 0.3771081  0.41000829 0.40752004 0.40116118\n",
            " 0.44539674 0.43046724 0.42493779 0.41249654 0.39314349 0.41277302\n",
            " 0.40337296 0.38954935 0.40917888 0.39811999 0.39314349 0.39480232\n",
            " 0.38097871 0.35803152 0.44014377 0.42244954 0.44484379 0.43240254\n",
            " 0.44207907 0.42106718 0.42936135 0.40420238 0.42549074 0.42963782\n",
            " 0.44152613 0.4368261  0.42742604 0.44843793 0.43046724 0.44263202\n",
            " 0.43102018 0.43406138 0.45617915 0.4666851  0.48133813 0.47608515\n",
            " 0.48493226 0.47884988 0.47470279 0.45341443 0.43544374 0.42797899\n",
            " 0.43143988 0.4237138  0.42020693 0.41800624 0.41621643 0.41473082\n",
            " 0.41359445 0.41282943 0.41242468 0.41235188]\n",
            "10 day output [[0.4125745]]\n",
            "11 day input [0.51755599 0.52612662 0.53995024 0.51589715 0.46226154 0.4666851\n",
            " 0.43599668 0.41083771 0.44152613 0.40282002 0.42051424 0.4318496\n",
            " 0.4785734  0.45922035 0.44982029 0.43461432 0.42770252 0.41304949\n",
            " 0.42355543 0.44152613 0.43544374 0.47276749 0.4368261  0.43765552\n",
            " 0.45009677 0.47525574 0.46585568 0.47636163 0.50235001 0.52502074\n",
            " 0.52861487 0.50207354 0.52474426 0.50041471 0.51036771 0.52115012\n",
            " 0.4935029  0.45756152 0.42300249 0.38650816 0.36245507 0.39756704\n",
            " 0.37931988 0.3771081  0.41000829 0.40752004 0.40116118 0.44539674\n",
            " 0.43046724 0.42493779 0.41249654 0.39314349 0.41277302 0.40337296\n",
            " 0.38954935 0.40917888 0.39811999 0.39314349 0.39480232 0.38097871\n",
            " 0.35803152 0.44014377 0.42244954 0.44484379 0.43240254 0.44207907\n",
            " 0.42106718 0.42936135 0.40420238 0.42549074 0.42963782 0.44152613\n",
            " 0.4368261  0.42742604 0.44843793 0.43046724 0.44263202 0.43102018\n",
            " 0.43406138 0.45617915 0.4666851  0.48133813 0.47608515 0.48493226\n",
            " 0.47884988 0.47470279 0.45341443 0.43544374 0.42797899 0.43143988\n",
            " 0.4237138  0.42020693 0.41800624 0.41621643 0.41473082 0.41359445\n",
            " 0.41282943 0.41242468 0.41235188 0.4125745 ]\n",
            "11 day output [[0.41305083]]\n",
            "12 day input [0.52612662 0.53995024 0.51589715 0.46226154 0.4666851  0.43599668\n",
            " 0.41083771 0.44152613 0.40282002 0.42051424 0.4318496  0.4785734\n",
            " 0.45922035 0.44982029 0.43461432 0.42770252 0.41304949 0.42355543\n",
            " 0.44152613 0.43544374 0.47276749 0.4368261  0.43765552 0.45009677\n",
            " 0.47525574 0.46585568 0.47636163 0.50235001 0.52502074 0.52861487\n",
            " 0.50207354 0.52474426 0.50041471 0.51036771 0.52115012 0.4935029\n",
            " 0.45756152 0.42300249 0.38650816 0.36245507 0.39756704 0.37931988\n",
            " 0.3771081  0.41000829 0.40752004 0.40116118 0.44539674 0.43046724\n",
            " 0.42493779 0.41249654 0.39314349 0.41277302 0.40337296 0.38954935\n",
            " 0.40917888 0.39811999 0.39314349 0.39480232 0.38097871 0.35803152\n",
            " 0.44014377 0.42244954 0.44484379 0.43240254 0.44207907 0.42106718\n",
            " 0.42936135 0.40420238 0.42549074 0.42963782 0.44152613 0.4368261\n",
            " 0.42742604 0.44843793 0.43046724 0.44263202 0.43102018 0.43406138\n",
            " 0.45617915 0.4666851  0.48133813 0.47608515 0.48493226 0.47884988\n",
            " 0.47470279 0.45341443 0.43544374 0.42797899 0.43143988 0.4237138\n",
            " 0.42020693 0.41800624 0.41621643 0.41473082 0.41359445 0.41282943\n",
            " 0.41242468 0.41235188 0.4125745  0.41305083]\n",
            "12 day output [[0.4137358]]\n",
            "13 day input [0.53995024 0.51589715 0.46226154 0.4666851  0.43599668 0.41083771\n",
            " 0.44152613 0.40282002 0.42051424 0.4318496  0.4785734  0.45922035\n",
            " 0.44982029 0.43461432 0.42770252 0.41304949 0.42355543 0.44152613\n",
            " 0.43544374 0.47276749 0.4368261  0.43765552 0.45009677 0.47525574\n",
            " 0.46585568 0.47636163 0.50235001 0.52502074 0.52861487 0.50207354\n",
            " 0.52474426 0.50041471 0.51036771 0.52115012 0.4935029  0.45756152\n",
            " 0.42300249 0.38650816 0.36245507 0.39756704 0.37931988 0.3771081\n",
            " 0.41000829 0.40752004 0.40116118 0.44539674 0.43046724 0.42493779\n",
            " 0.41249654 0.39314349 0.41277302 0.40337296 0.38954935 0.40917888\n",
            " 0.39811999 0.39314349 0.39480232 0.38097871 0.35803152 0.44014377\n",
            " 0.42244954 0.44484379 0.43240254 0.44207907 0.42106718 0.42936135\n",
            " 0.40420238 0.42549074 0.42963782 0.44152613 0.4368261  0.42742604\n",
            " 0.44843793 0.43046724 0.44263202 0.43102018 0.43406138 0.45617915\n",
            " 0.4666851  0.48133813 0.47608515 0.48493226 0.47884988 0.47470279\n",
            " 0.45341443 0.43544374 0.42797899 0.43143988 0.4237138  0.42020693\n",
            " 0.41800624 0.41621643 0.41473082 0.41359445 0.41282943 0.41242468\n",
            " 0.41235188 0.4125745  0.41305083 0.41373581]\n",
            "13 day output [[0.41458213]]\n",
            "14 day input [0.51589715 0.46226154 0.4666851  0.43599668 0.41083771 0.44152613\n",
            " 0.40282002 0.42051424 0.4318496  0.4785734  0.45922035 0.44982029\n",
            " 0.43461432 0.42770252 0.41304949 0.42355543 0.44152613 0.43544374\n",
            " 0.47276749 0.4368261  0.43765552 0.45009677 0.47525574 0.46585568\n",
            " 0.47636163 0.50235001 0.52502074 0.52861487 0.50207354 0.52474426\n",
            " 0.50041471 0.51036771 0.52115012 0.4935029  0.45756152 0.42300249\n",
            " 0.38650816 0.36245507 0.39756704 0.37931988 0.3771081  0.41000829\n",
            " 0.40752004 0.40116118 0.44539674 0.43046724 0.42493779 0.41249654\n",
            " 0.39314349 0.41277302 0.40337296 0.38954935 0.40917888 0.39811999\n",
            " 0.39314349 0.39480232 0.38097871 0.35803152 0.44014377 0.42244954\n",
            " 0.44484379 0.43240254 0.44207907 0.42106718 0.42936135 0.40420238\n",
            " 0.42549074 0.42963782 0.44152613 0.4368261  0.42742604 0.44843793\n",
            " 0.43046724 0.44263202 0.43102018 0.43406138 0.45617915 0.4666851\n",
            " 0.48133813 0.47608515 0.48493226 0.47884988 0.47470279 0.45341443\n",
            " 0.43544374 0.42797899 0.43143988 0.4237138  0.42020693 0.41800624\n",
            " 0.41621643 0.41473082 0.41359445 0.41282943 0.41242468 0.41235188\n",
            " 0.4125745  0.41305083 0.41373581 0.41458213]\n",
            "14 day output [[0.4155426]]\n",
            "15 day input [0.46226154 0.4666851  0.43599668 0.41083771 0.44152613 0.40282002\n",
            " 0.42051424 0.4318496  0.4785734  0.45922035 0.44982029 0.43461432\n",
            " 0.42770252 0.41304949 0.42355543 0.44152613 0.43544374 0.47276749\n",
            " 0.4368261  0.43765552 0.45009677 0.47525574 0.46585568 0.47636163\n",
            " 0.50235001 0.52502074 0.52861487 0.50207354 0.52474426 0.50041471\n",
            " 0.51036771 0.52115012 0.4935029  0.45756152 0.42300249 0.38650816\n",
            " 0.36245507 0.39756704 0.37931988 0.3771081  0.41000829 0.40752004\n",
            " 0.40116118 0.44539674 0.43046724 0.42493779 0.41249654 0.39314349\n",
            " 0.41277302 0.40337296 0.38954935 0.40917888 0.39811999 0.39314349\n",
            " 0.39480232 0.38097871 0.35803152 0.44014377 0.42244954 0.44484379\n",
            " 0.43240254 0.44207907 0.42106718 0.42936135 0.40420238 0.42549074\n",
            " 0.42963782 0.44152613 0.4368261  0.42742604 0.44843793 0.43046724\n",
            " 0.44263202 0.43102018 0.43406138 0.45617915 0.4666851  0.48133813\n",
            " 0.47608515 0.48493226 0.47884988 0.47470279 0.45341443 0.43544374\n",
            " 0.42797899 0.43143988 0.4237138  0.42020693 0.41800624 0.41621643\n",
            " 0.41473082 0.41359445 0.41282943 0.41242468 0.41235188 0.4125745\n",
            " 0.41305083 0.41373581 0.41458213 0.4155426 ]\n",
            "15 day output [[0.41657135]]\n",
            "16 day input [0.4666851  0.43599668 0.41083771 0.44152613 0.40282002 0.42051424\n",
            " 0.4318496  0.4785734  0.45922035 0.44982029 0.43461432 0.42770252\n",
            " 0.41304949 0.42355543 0.44152613 0.43544374 0.47276749 0.4368261\n",
            " 0.43765552 0.45009677 0.47525574 0.46585568 0.47636163 0.50235001\n",
            " 0.52502074 0.52861487 0.50207354 0.52474426 0.50041471 0.51036771\n",
            " 0.52115012 0.4935029  0.45756152 0.42300249 0.38650816 0.36245507\n",
            " 0.39756704 0.37931988 0.3771081  0.41000829 0.40752004 0.40116118\n",
            " 0.44539674 0.43046724 0.42493779 0.41249654 0.39314349 0.41277302\n",
            " 0.40337296 0.38954935 0.40917888 0.39811999 0.39314349 0.39480232\n",
            " 0.38097871 0.35803152 0.44014377 0.42244954 0.44484379 0.43240254\n",
            " 0.44207907 0.42106718 0.42936135 0.40420238 0.42549074 0.42963782\n",
            " 0.44152613 0.4368261  0.42742604 0.44843793 0.43046724 0.44263202\n",
            " 0.43102018 0.43406138 0.45617915 0.4666851  0.48133813 0.47608515\n",
            " 0.48493226 0.47884988 0.47470279 0.45341443 0.43544374 0.42797899\n",
            " 0.43143988 0.4237138  0.42020693 0.41800624 0.41621643 0.41473082\n",
            " 0.41359445 0.41282943 0.41242468 0.41235188 0.4125745  0.41305083\n",
            " 0.41373581 0.41458213 0.4155426  0.41657135]\n",
            "16 day output [[0.4176256]]\n",
            "17 day input [0.43599668 0.41083771 0.44152613 0.40282002 0.42051424 0.4318496\n",
            " 0.4785734  0.45922035 0.44982029 0.43461432 0.42770252 0.41304949\n",
            " 0.42355543 0.44152613 0.43544374 0.47276749 0.4368261  0.43765552\n",
            " 0.45009677 0.47525574 0.46585568 0.47636163 0.50235001 0.52502074\n",
            " 0.52861487 0.50207354 0.52474426 0.50041471 0.51036771 0.52115012\n",
            " 0.4935029  0.45756152 0.42300249 0.38650816 0.36245507 0.39756704\n",
            " 0.37931988 0.3771081  0.41000829 0.40752004 0.40116118 0.44539674\n",
            " 0.43046724 0.42493779 0.41249654 0.39314349 0.41277302 0.40337296\n",
            " 0.38954935 0.40917888 0.39811999 0.39314349 0.39480232 0.38097871\n",
            " 0.35803152 0.44014377 0.42244954 0.44484379 0.43240254 0.44207907\n",
            " 0.42106718 0.42936135 0.40420238 0.42549074 0.42963782 0.44152613\n",
            " 0.4368261  0.42742604 0.44843793 0.43046724 0.44263202 0.43102018\n",
            " 0.43406138 0.45617915 0.4666851  0.48133813 0.47608515 0.48493226\n",
            " 0.47884988 0.47470279 0.45341443 0.43544374 0.42797899 0.43143988\n",
            " 0.4237138  0.42020693 0.41800624 0.41621643 0.41473082 0.41359445\n",
            " 0.41282943 0.41242468 0.41235188 0.4125745  0.41305083 0.41373581\n",
            " 0.41458213 0.4155426  0.41657135 0.41762561]\n",
            "17 day output [[0.4186673]]\n",
            "18 day input [0.41083771 0.44152613 0.40282002 0.42051424 0.4318496  0.4785734\n",
            " 0.45922035 0.44982029 0.43461432 0.42770252 0.41304949 0.42355543\n",
            " 0.44152613 0.43544374 0.47276749 0.4368261  0.43765552 0.45009677\n",
            " 0.47525574 0.46585568 0.47636163 0.50235001 0.52502074 0.52861487\n",
            " 0.50207354 0.52474426 0.50041471 0.51036771 0.52115012 0.4935029\n",
            " 0.45756152 0.42300249 0.38650816 0.36245507 0.39756704 0.37931988\n",
            " 0.3771081  0.41000829 0.40752004 0.40116118 0.44539674 0.43046724\n",
            " 0.42493779 0.41249654 0.39314349 0.41277302 0.40337296 0.38954935\n",
            " 0.40917888 0.39811999 0.39314349 0.39480232 0.38097871 0.35803152\n",
            " 0.44014377 0.42244954 0.44484379 0.43240254 0.44207907 0.42106718\n",
            " 0.42936135 0.40420238 0.42549074 0.42963782 0.44152613 0.4368261\n",
            " 0.42742604 0.44843793 0.43046724 0.44263202 0.43102018 0.43406138\n",
            " 0.45617915 0.4666851  0.48133813 0.47608515 0.48493226 0.47884988\n",
            " 0.47470279 0.45341443 0.43544374 0.42797899 0.43143988 0.4237138\n",
            " 0.42020693 0.41800624 0.41621643 0.41473082 0.41359445 0.41282943\n",
            " 0.41242468 0.41235188 0.4125745  0.41305083 0.41373581 0.41458213\n",
            " 0.4155426  0.41657135 0.41762561 0.41866729]\n",
            "18 day output [[0.41966322]]\n",
            "19 day input [0.44152613 0.40282002 0.42051424 0.4318496  0.4785734  0.45922035\n",
            " 0.44982029 0.43461432 0.42770252 0.41304949 0.42355543 0.44152613\n",
            " 0.43544374 0.47276749 0.4368261  0.43765552 0.45009677 0.47525574\n",
            " 0.46585568 0.47636163 0.50235001 0.52502074 0.52861487 0.50207354\n",
            " 0.52474426 0.50041471 0.51036771 0.52115012 0.4935029  0.45756152\n",
            " 0.42300249 0.38650816 0.36245507 0.39756704 0.37931988 0.3771081\n",
            " 0.41000829 0.40752004 0.40116118 0.44539674 0.43046724 0.42493779\n",
            " 0.41249654 0.39314349 0.41277302 0.40337296 0.38954935 0.40917888\n",
            " 0.39811999 0.39314349 0.39480232 0.38097871 0.35803152 0.44014377\n",
            " 0.42244954 0.44484379 0.43240254 0.44207907 0.42106718 0.42936135\n",
            " 0.40420238 0.42549074 0.42963782 0.44152613 0.4368261  0.42742604\n",
            " 0.44843793 0.43046724 0.44263202 0.43102018 0.43406138 0.45617915\n",
            " 0.4666851  0.48133813 0.47608515 0.48493226 0.47884988 0.47470279\n",
            " 0.45341443 0.43544374 0.42797899 0.43143988 0.4237138  0.42020693\n",
            " 0.41800624 0.41621643 0.41473082 0.41359445 0.41282943 0.41242468\n",
            " 0.41235188 0.4125745  0.41305083 0.41373581 0.41458213 0.4155426\n",
            " 0.41657135 0.41762561 0.41866729 0.41966322]\n",
            "19 day output [[0.42058605]]\n",
            "20 day input [0.40282002 0.42051424 0.4318496  0.4785734  0.45922035 0.44982029\n",
            " 0.43461432 0.42770252 0.41304949 0.42355543 0.44152613 0.43544374\n",
            " 0.47276749 0.4368261  0.43765552 0.45009677 0.47525574 0.46585568\n",
            " 0.47636163 0.50235001 0.52502074 0.52861487 0.50207354 0.52474426\n",
            " 0.50041471 0.51036771 0.52115012 0.4935029  0.45756152 0.42300249\n",
            " 0.38650816 0.36245507 0.39756704 0.37931988 0.3771081  0.41000829\n",
            " 0.40752004 0.40116118 0.44539674 0.43046724 0.42493779 0.41249654\n",
            " 0.39314349 0.41277302 0.40337296 0.38954935 0.40917888 0.39811999\n",
            " 0.39314349 0.39480232 0.38097871 0.35803152 0.44014377 0.42244954\n",
            " 0.44484379 0.43240254 0.44207907 0.42106718 0.42936135 0.40420238\n",
            " 0.42549074 0.42963782 0.44152613 0.4368261  0.42742604 0.44843793\n",
            " 0.43046724 0.44263202 0.43102018 0.43406138 0.45617915 0.4666851\n",
            " 0.48133813 0.47608515 0.48493226 0.47884988 0.47470279 0.45341443\n",
            " 0.43544374 0.42797899 0.43143988 0.4237138  0.42020693 0.41800624\n",
            " 0.41621643 0.41473082 0.41359445 0.41282943 0.41242468 0.41235188\n",
            " 0.4125745  0.41305083 0.41373581 0.41458213 0.4155426  0.41657135\n",
            " 0.41762561 0.41866729 0.41966322 0.42058605]\n",
            "20 day output [[0.42141455]]\n",
            "21 day input [0.42051424 0.4318496  0.4785734  0.45922035 0.44982029 0.43461432\n",
            " 0.42770252 0.41304949 0.42355543 0.44152613 0.43544374 0.47276749\n",
            " 0.4368261  0.43765552 0.45009677 0.47525574 0.46585568 0.47636163\n",
            " 0.50235001 0.52502074 0.52861487 0.50207354 0.52474426 0.50041471\n",
            " 0.51036771 0.52115012 0.4935029  0.45756152 0.42300249 0.38650816\n",
            " 0.36245507 0.39756704 0.37931988 0.3771081  0.41000829 0.40752004\n",
            " 0.40116118 0.44539674 0.43046724 0.42493779 0.41249654 0.39314349\n",
            " 0.41277302 0.40337296 0.38954935 0.40917888 0.39811999 0.39314349\n",
            " 0.39480232 0.38097871 0.35803152 0.44014377 0.42244954 0.44484379\n",
            " 0.43240254 0.44207907 0.42106718 0.42936135 0.40420238 0.42549074\n",
            " 0.42963782 0.44152613 0.4368261  0.42742604 0.44843793 0.43046724\n",
            " 0.44263202 0.43102018 0.43406138 0.45617915 0.4666851  0.48133813\n",
            " 0.47608515 0.48493226 0.47884988 0.47470279 0.45341443 0.43544374\n",
            " 0.42797899 0.43143988 0.4237138  0.42020693 0.41800624 0.41621643\n",
            " 0.41473082 0.41359445 0.41282943 0.41242468 0.41235188 0.4125745\n",
            " 0.41305083 0.41373581 0.41458213 0.4155426  0.41657135 0.41762561\n",
            " 0.41866729 0.41966322 0.42058605 0.42141455]\n",
            "21 day output [[0.4221327]]\n",
            "22 day input [0.4318496  0.4785734  0.45922035 0.44982029 0.43461432 0.42770252\n",
            " 0.41304949 0.42355543 0.44152613 0.43544374 0.47276749 0.4368261\n",
            " 0.43765552 0.45009677 0.47525574 0.46585568 0.47636163 0.50235001\n",
            " 0.52502074 0.52861487 0.50207354 0.52474426 0.50041471 0.51036771\n",
            " 0.52115012 0.4935029  0.45756152 0.42300249 0.38650816 0.36245507\n",
            " 0.39756704 0.37931988 0.3771081  0.41000829 0.40752004 0.40116118\n",
            " 0.44539674 0.43046724 0.42493779 0.41249654 0.39314349 0.41277302\n",
            " 0.40337296 0.38954935 0.40917888 0.39811999 0.39314349 0.39480232\n",
            " 0.38097871 0.35803152 0.44014377 0.42244954 0.44484379 0.43240254\n",
            " 0.44207907 0.42106718 0.42936135 0.40420238 0.42549074 0.42963782\n",
            " 0.44152613 0.4368261  0.42742604 0.44843793 0.43046724 0.44263202\n",
            " 0.43102018 0.43406138 0.45617915 0.4666851  0.48133813 0.47608515\n",
            " 0.48493226 0.47884988 0.47470279 0.45341443 0.43544374 0.42797899\n",
            " 0.43143988 0.4237138  0.42020693 0.41800624 0.41621643 0.41473082\n",
            " 0.41359445 0.41282943 0.41242468 0.41235188 0.4125745  0.41305083\n",
            " 0.41373581 0.41458213 0.4155426  0.41657135 0.41762561 0.41866729\n",
            " 0.41966322 0.42058605 0.42141455 0.4221327 ]\n",
            "22 day output [[0.42273092]]\n",
            "23 day input [0.4785734  0.45922035 0.44982029 0.43461432 0.42770252 0.41304949\n",
            " 0.42355543 0.44152613 0.43544374 0.47276749 0.4368261  0.43765552\n",
            " 0.45009677 0.47525574 0.46585568 0.47636163 0.50235001 0.52502074\n",
            " 0.52861487 0.50207354 0.52474426 0.50041471 0.51036771 0.52115012\n",
            " 0.4935029  0.45756152 0.42300249 0.38650816 0.36245507 0.39756704\n",
            " 0.37931988 0.3771081  0.41000829 0.40752004 0.40116118 0.44539674\n",
            " 0.43046724 0.42493779 0.41249654 0.39314349 0.41277302 0.40337296\n",
            " 0.38954935 0.40917888 0.39811999 0.39314349 0.39480232 0.38097871\n",
            " 0.35803152 0.44014377 0.42244954 0.44484379 0.43240254 0.44207907\n",
            " 0.42106718 0.42936135 0.40420238 0.42549074 0.42963782 0.44152613\n",
            " 0.4368261  0.42742604 0.44843793 0.43046724 0.44263202 0.43102018\n",
            " 0.43406138 0.45617915 0.4666851  0.48133813 0.47608515 0.48493226\n",
            " 0.47884988 0.47470279 0.45341443 0.43544374 0.42797899 0.43143988\n",
            " 0.4237138  0.42020693 0.41800624 0.41621643 0.41473082 0.41359445\n",
            " 0.41282943 0.41242468 0.41235188 0.4125745  0.41305083 0.41373581\n",
            " 0.41458213 0.4155426  0.41657135 0.41762561 0.41866729 0.41966322\n",
            " 0.42058605 0.42141455 0.4221327  0.42273092]\n",
            "23 day output [[0.42320383]]\n",
            "24 day input [0.45922035 0.44982029 0.43461432 0.42770252 0.41304949 0.42355543\n",
            " 0.44152613 0.43544374 0.47276749 0.4368261  0.43765552 0.45009677\n",
            " 0.47525574 0.46585568 0.47636163 0.50235001 0.52502074 0.52861487\n",
            " 0.50207354 0.52474426 0.50041471 0.51036771 0.52115012 0.4935029\n",
            " 0.45756152 0.42300249 0.38650816 0.36245507 0.39756704 0.37931988\n",
            " 0.3771081  0.41000829 0.40752004 0.40116118 0.44539674 0.43046724\n",
            " 0.42493779 0.41249654 0.39314349 0.41277302 0.40337296 0.38954935\n",
            " 0.40917888 0.39811999 0.39314349 0.39480232 0.38097871 0.35803152\n",
            " 0.44014377 0.42244954 0.44484379 0.43240254 0.44207907 0.42106718\n",
            " 0.42936135 0.40420238 0.42549074 0.42963782 0.44152613 0.4368261\n",
            " 0.42742604 0.44843793 0.43046724 0.44263202 0.43102018 0.43406138\n",
            " 0.45617915 0.4666851  0.48133813 0.47608515 0.48493226 0.47884988\n",
            " 0.47470279 0.45341443 0.43544374 0.42797899 0.43143988 0.4237138\n",
            " 0.42020693 0.41800624 0.41621643 0.41473082 0.41359445 0.41282943\n",
            " 0.41242468 0.41235188 0.4125745  0.41305083 0.41373581 0.41458213\n",
            " 0.4155426  0.41657135 0.41762561 0.41866729 0.41966322 0.42058605\n",
            " 0.42141455 0.4221327  0.42273092 0.42320383]\n",
            "24 day output [[0.42355093]]\n",
            "25 day input [0.44982029 0.43461432 0.42770252 0.41304949 0.42355543 0.44152613\n",
            " 0.43544374 0.47276749 0.4368261  0.43765552 0.45009677 0.47525574\n",
            " 0.46585568 0.47636163 0.50235001 0.52502074 0.52861487 0.50207354\n",
            " 0.52474426 0.50041471 0.51036771 0.52115012 0.4935029  0.45756152\n",
            " 0.42300249 0.38650816 0.36245507 0.39756704 0.37931988 0.3771081\n",
            " 0.41000829 0.40752004 0.40116118 0.44539674 0.43046724 0.42493779\n",
            " 0.41249654 0.39314349 0.41277302 0.40337296 0.38954935 0.40917888\n",
            " 0.39811999 0.39314349 0.39480232 0.38097871 0.35803152 0.44014377\n",
            " 0.42244954 0.44484379 0.43240254 0.44207907 0.42106718 0.42936135\n",
            " 0.40420238 0.42549074 0.42963782 0.44152613 0.4368261  0.42742604\n",
            " 0.44843793 0.43046724 0.44263202 0.43102018 0.43406138 0.45617915\n",
            " 0.4666851  0.48133813 0.47608515 0.48493226 0.47884988 0.47470279\n",
            " 0.45341443 0.43544374 0.42797899 0.43143988 0.4237138  0.42020693\n",
            " 0.41800624 0.41621643 0.41473082 0.41359445 0.41282943 0.41242468\n",
            " 0.41235188 0.4125745  0.41305083 0.41373581 0.41458213 0.4155426\n",
            " 0.41657135 0.41762561 0.41866729 0.41966322 0.42058605 0.42141455\n",
            " 0.4221327  0.42273092 0.42320383 0.42355093]\n",
            "25 day output [[0.4237753]]\n",
            "26 day input [0.43461432 0.42770252 0.41304949 0.42355543 0.44152613 0.43544374\n",
            " 0.47276749 0.4368261  0.43765552 0.45009677 0.47525574 0.46585568\n",
            " 0.47636163 0.50235001 0.52502074 0.52861487 0.50207354 0.52474426\n",
            " 0.50041471 0.51036771 0.52115012 0.4935029  0.45756152 0.42300249\n",
            " 0.38650816 0.36245507 0.39756704 0.37931988 0.3771081  0.41000829\n",
            " 0.40752004 0.40116118 0.44539674 0.43046724 0.42493779 0.41249654\n",
            " 0.39314349 0.41277302 0.40337296 0.38954935 0.40917888 0.39811999\n",
            " 0.39314349 0.39480232 0.38097871 0.35803152 0.44014377 0.42244954\n",
            " 0.44484379 0.43240254 0.44207907 0.42106718 0.42936135 0.40420238\n",
            " 0.42549074 0.42963782 0.44152613 0.4368261  0.42742604 0.44843793\n",
            " 0.43046724 0.44263202 0.43102018 0.43406138 0.45617915 0.4666851\n",
            " 0.48133813 0.47608515 0.48493226 0.47884988 0.47470279 0.45341443\n",
            " 0.43544374 0.42797899 0.43143988 0.4237138  0.42020693 0.41800624\n",
            " 0.41621643 0.41473082 0.41359445 0.41282943 0.41242468 0.41235188\n",
            " 0.4125745  0.41305083 0.41373581 0.41458213 0.4155426  0.41657135\n",
            " 0.41762561 0.41866729 0.41966322 0.42058605 0.42141455 0.4221327\n",
            " 0.42273092 0.42320383 0.42355093 0.42377529]\n",
            "26 day output [[0.42388338]]\n",
            "27 day input [0.42770252 0.41304949 0.42355543 0.44152613 0.43544374 0.47276749\n",
            " 0.4368261  0.43765552 0.45009677 0.47525574 0.46585568 0.47636163\n",
            " 0.50235001 0.52502074 0.52861487 0.50207354 0.52474426 0.50041471\n",
            " 0.51036771 0.52115012 0.4935029  0.45756152 0.42300249 0.38650816\n",
            " 0.36245507 0.39756704 0.37931988 0.3771081  0.41000829 0.40752004\n",
            " 0.40116118 0.44539674 0.43046724 0.42493779 0.41249654 0.39314349\n",
            " 0.41277302 0.40337296 0.38954935 0.40917888 0.39811999 0.39314349\n",
            " 0.39480232 0.38097871 0.35803152 0.44014377 0.42244954 0.44484379\n",
            " 0.43240254 0.44207907 0.42106718 0.42936135 0.40420238 0.42549074\n",
            " 0.42963782 0.44152613 0.4368261  0.42742604 0.44843793 0.43046724\n",
            " 0.44263202 0.43102018 0.43406138 0.45617915 0.4666851  0.48133813\n",
            " 0.47608515 0.48493226 0.47884988 0.47470279 0.45341443 0.43544374\n",
            " 0.42797899 0.43143988 0.4237138  0.42020693 0.41800624 0.41621643\n",
            " 0.41473082 0.41359445 0.41282943 0.41242468 0.41235188 0.4125745\n",
            " 0.41305083 0.41373581 0.41458213 0.4155426  0.41657135 0.41762561\n",
            " 0.41866729 0.41966322 0.42058605 0.42141455 0.4221327  0.42273092\n",
            " 0.42320383 0.42355093 0.42377529 0.42388338]\n",
            "27 day output [[0.4238841]]\n",
            "28 day input [0.41304949 0.42355543 0.44152613 0.43544374 0.47276749 0.4368261\n",
            " 0.43765552 0.45009677 0.47525574 0.46585568 0.47636163 0.50235001\n",
            " 0.52502074 0.52861487 0.50207354 0.52474426 0.50041471 0.51036771\n",
            " 0.52115012 0.4935029  0.45756152 0.42300249 0.38650816 0.36245507\n",
            " 0.39756704 0.37931988 0.3771081  0.41000829 0.40752004 0.40116118\n",
            " 0.44539674 0.43046724 0.42493779 0.41249654 0.39314349 0.41277302\n",
            " 0.40337296 0.38954935 0.40917888 0.39811999 0.39314349 0.39480232\n",
            " 0.38097871 0.35803152 0.44014377 0.42244954 0.44484379 0.43240254\n",
            " 0.44207907 0.42106718 0.42936135 0.40420238 0.42549074 0.42963782\n",
            " 0.44152613 0.4368261  0.42742604 0.44843793 0.43046724 0.44263202\n",
            " 0.43102018 0.43406138 0.45617915 0.4666851  0.48133813 0.47608515\n",
            " 0.48493226 0.47884988 0.47470279 0.45341443 0.43544374 0.42797899\n",
            " 0.43143988 0.4237138  0.42020693 0.41800624 0.41621643 0.41473082\n",
            " 0.41359445 0.41282943 0.41242468 0.41235188 0.4125745  0.41305083\n",
            " 0.41373581 0.41458213 0.4155426  0.41657135 0.41762561 0.41866729\n",
            " 0.41966322 0.42058605 0.42141455 0.4221327  0.42273092 0.42320383\n",
            " 0.42355093 0.42377529 0.42388338 0.42388409]\n",
            "28 day output [[0.42378822]]\n",
            "29 day input [0.42355543 0.44152613 0.43544374 0.47276749 0.4368261  0.43765552\n",
            " 0.45009677 0.47525574 0.46585568 0.47636163 0.50235001 0.52502074\n",
            " 0.52861487 0.50207354 0.52474426 0.50041471 0.51036771 0.52115012\n",
            " 0.4935029  0.45756152 0.42300249 0.38650816 0.36245507 0.39756704\n",
            " 0.37931988 0.3771081  0.41000829 0.40752004 0.40116118 0.44539674\n",
            " 0.43046724 0.42493779 0.41249654 0.39314349 0.41277302 0.40337296\n",
            " 0.38954935 0.40917888 0.39811999 0.39314349 0.39480232 0.38097871\n",
            " 0.35803152 0.44014377 0.42244954 0.44484379 0.43240254 0.44207907\n",
            " 0.42106718 0.42936135 0.40420238 0.42549074 0.42963782 0.44152613\n",
            " 0.4368261  0.42742604 0.44843793 0.43046724 0.44263202 0.43102018\n",
            " 0.43406138 0.45617915 0.4666851  0.48133813 0.47608515 0.48493226\n",
            " 0.47884988 0.47470279 0.45341443 0.43544374 0.42797899 0.43143988\n",
            " 0.4237138  0.42020693 0.41800624 0.41621643 0.41473082 0.41359445\n",
            " 0.41282943 0.41242468 0.41235188 0.4125745  0.41305083 0.41373581\n",
            " 0.41458213 0.4155426  0.41657135 0.41762561 0.41866729 0.41966322\n",
            " 0.42058605 0.42141455 0.4221327  0.42273092 0.42320383 0.42355093\n",
            " 0.42377529 0.42388338 0.42388409 0.42378822]\n",
            "29 day output [[0.42360774]]\n",
            "30 day input [0.44152613 0.43544374 0.47276749 0.4368261  0.43765552 0.45009677\n",
            " 0.47525574 0.46585568 0.47636163 0.50235001 0.52502074 0.52861487\n",
            " 0.50207354 0.52474426 0.50041471 0.51036771 0.52115012 0.4935029\n",
            " 0.45756152 0.42300249 0.38650816 0.36245507 0.39756704 0.37931988\n",
            " 0.3771081  0.41000829 0.40752004 0.40116118 0.44539674 0.43046724\n",
            " 0.42493779 0.41249654 0.39314349 0.41277302 0.40337296 0.38954935\n",
            " 0.40917888 0.39811999 0.39314349 0.39480232 0.38097871 0.35803152\n",
            " 0.44014377 0.42244954 0.44484379 0.43240254 0.44207907 0.42106718\n",
            " 0.42936135 0.40420238 0.42549074 0.42963782 0.44152613 0.4368261\n",
            " 0.42742604 0.44843793 0.43046724 0.44263202 0.43102018 0.43406138\n",
            " 0.45617915 0.4666851  0.48133813 0.47608515 0.48493226 0.47884988\n",
            " 0.47470279 0.45341443 0.43544374 0.42797899 0.43143988 0.4237138\n",
            " 0.42020693 0.41800624 0.41621643 0.41473082 0.41359445 0.41282943\n",
            " 0.41242468 0.41235188 0.4125745  0.41305083 0.41373581 0.41458213\n",
            " 0.4155426  0.41657135 0.41762561 0.41866729 0.41966322 0.42058605\n",
            " 0.42141455 0.4221327  0.42273092 0.42320383 0.42355093 0.42377529\n",
            " 0.42388338 0.42388409 0.42378822 0.42360774]\n",
            "30 day output [[0.42335573]]\n"
          ]
        }
      ]
    },
    {
      "cell_type": "code",
      "source": [
        "# plotting the actual data, and the next 30 days' prediction \n",
        "\n",
        "day_new=np.arange(1,100)\n",
        "day_pred=np.arange(100,131)"
      ],
      "metadata": {
        "id": "0kTQKiJnR71p"
      },
      "execution_count": 55,
      "outputs": []
    },
    {
      "cell_type": "code",
      "source": [
        "plt.plot(day_new,scaler.inverse_transform(df1[1158:]))\n",
        "plt.plot(day_pred,scaler.inverse_transform(lst_output))\n"
      ],
      "metadata": {
        "id": "e_XGobY4SEE3",
        "colab": {
          "base_uri": "https://localhost:8080/",
          "height": 283
        },
        "outputId": "e6707286-3b74-48db-aa97-b5ebbbaf22b1"
      },
      "execution_count": 56,
      "outputs": [
        {
          "output_type": "execute_result",
          "data": {
            "text/plain": [
              "[<matplotlib.lines.Line2D at 0x7f07b47d4c50>]"
            ]
          },
          "metadata": {},
          "execution_count": 56
        },
        {
          "output_type": "display_data",
          "data": {
            "text/plain": [
              "<Figure size 432x288 with 1 Axes>"
            ],
            "image/png": "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\n"
          },
          "metadata": {
            "needs_background": "light"
          }
        }
      ]
    },
    {
      "cell_type": "code",
      "source": [
        "## lets see the combined output also \n",
        "df3=df1.tolist()\n",
        "df3.extend(lst_output)\n",
        "plt.plot(df3[1200:])"
      ],
      "metadata": {
        "id": "7KCqymOuS6W7",
        "colab": {
          "base_uri": "https://localhost:8080/",
          "height": 283
        },
        "outputId": "2a7883ae-7244-4c6a-fb81-f73317840cee"
      },
      "execution_count": 57,
      "outputs": [
        {
          "output_type": "execute_result",
          "data": {
            "text/plain": [
              "[<matplotlib.lines.Line2D at 0x7f07b5a26d90>]"
            ]
          },
          "metadata": {},
          "execution_count": 57
        },
        {
          "output_type": "display_data",
          "data": {
            "text/plain": [
              "<Figure size 432x288 with 1 Axes>"
            ],
            "image/png": "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\n"
          },
          "metadata": {
            "needs_background": "light"
          }
        }
      ]
    },
    {
      "cell_type": "code",
      "source": [
        "df3=scaler.inverse_transform(df3).tolist()\n",
        "plt.plot(df3)\n",
        "\n",
        "## here is the whole complete graph "
      ],
      "metadata": {
        "colab": {
          "base_uri": "https://localhost:8080/",
          "height": 285
        },
        "id": "BZauzjxZBP20",
        "outputId": "b2a5fc77-d663-4494-8972-839820427fd1"
      },
      "execution_count": 58,
      "outputs": [
        {
          "output_type": "execute_result",
          "data": {
            "text/plain": [
              "[<matplotlib.lines.Line2D at 0x7f07b6569a90>]"
            ]
          },
          "metadata": {},
          "execution_count": 58
        },
        {
          "output_type": "display_data",
          "data": {
            "text/plain": [
              "<Figure size 432x288 with 1 Axes>"
            ],
            "image/png": "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\n"
          },
          "metadata": {
            "needs_background": "light"
          }
        }
      ]
    }
  ]
}