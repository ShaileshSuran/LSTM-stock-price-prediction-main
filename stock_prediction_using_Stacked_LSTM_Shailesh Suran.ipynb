{
  "nbformat": 4,
  "nbformat_minor": 0,
  "metadata": {
    "colab": {
      "name": "stock prediction using Stacked LSTM Shailesh Suran.ipynb",
      "provenance": [],
      "collapsed_sections": [],
      "include_colab_link": true
    },
    "kernelspec": {
      "name": "python3",
      "display_name": "Python 3"
    },
    "language_info": {
      "name": "python"
    }
  },
  "cells": [
    {
      "cell_type": "markdown",
      "metadata": {
        "id": "view-in-github",
        "colab_type": "text"
      },
      
    },
    {
      "cell_type": "code",
      "source": [
        "### Shailesh Suran || ss812050@student.nitw.ac.in || shaileshsuran@gmail.com || +91 8108714553\n",
        "\n",
        "import pandas as pd\n",
        "import matplotlib.pyplot as plt\n",
        "import numpy as np\n",
        "import math\n"
      ],
      "metadata": {
        "id": "tMhpLLih38YF"
      },
      "execution_count": null,
      "outputs": []
    },
    {
      "cell_type": "code",
      "source": [
        "### Data Collection using TIINGO ( this was a good resource i found, i was having some problem with Investing.com) to collect past data of the stock \n",
        "import pandas_datareader as pdr\n",
        "key=\"8f291cc13ac10b56a0b393bba2debea47ca99268\""
      ],
      "metadata": {
        "id": "WhE-cjl-yhli"
      },
      "execution_count": null,
      "outputs": []
    },
    {
      "cell_type": "code",
      "source": [
        "df = pdr.get_data_tiingo('ORCL', api_key=key)\n"
      ],
      "metadata": {
        "colab": {
          "base_uri": "https://localhost:8080/"
        },
        "id": "xNqJtFWt2Bsd",
        "outputId": "081bf3f6-770d-4114-b952-7f787599bb55"
      },
      "execution_count": null,
      "outputs": [
        {
          "output_type": "stream",
          "name": "stderr",
          "text": [
            "/usr/local/lib/python3.7/dist-packages/pandas_datareader/tiingo.py:234: FutureWarning: In a future version of pandas all arguments of concat except for the argument 'objs' will be keyword-only\n",
            "  return pd.concat(dfs, self._concat_axis)\n"
          ]
        }
      ]
    },
    {
      "cell_type": "code",
      "source": [
        "df.to_csv('ORCL.csv')\n"
      ],
      "metadata": {
        "id": "at7KKgoy2EkG"
      },
      "execution_count": null,
      "outputs": []
    },
    {
      "cell_type": "code",
      "source": [
        "df = pd.read_csv('ORCL.csv')"
      ],
      "metadata": {
        "id": "bByeHVWD3_in"
      },
      "execution_count": null,
      "outputs": []
    },
    {
      "cell_type": "code",
      "source": [
        "### since we are going to precdict the closing price of the stock the next day, we will only be using the close price of the stock \n",
        "\n",
        "df1 = df.reset_index()['close']"
      ],
      "metadata": {
        "id": "uH2ZKmm84NGg"
      },
      "execution_count": null,
      "outputs": []
    },
    {
      "cell_type": "code",
      "source": [
        "#plotting the data for a better visual \n",
        "\n",
        "plt.plot(df1)"
      ],
      "metadata": {
        "colab": {
          "base_uri": "https://localhost:8080/",
          "height": 283
        },
        "id": "kFhFvfbi40jD",
        "outputId": "ec248423-0b47-44df-e7a9-e1c898f8ce49"
      },
      "execution_count": null,
      "outputs": [
        {
          "output_type": "execute_result",
          "data": {
            "text/plain": [
              "[<matplotlib.lines.Line2D at 0x7fb45b6dbcd0>]"
            ]
          },
          "metadata": {},
          "execution_count": 7
        },
        {
          "output_type": "display_data",
          "data": {
            "text/plain": [
              "<Figure size 432x288 with 1 Axes>"
            ],
            "image/png": "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\n"
          },
          "metadata": {
            "needs_background": "light"
          }
        }
      ]
    },
    {
      "cell_type": "code",
      "source": [
        "df1.shape\n"
      ],
      "metadata": {
        "colab": {
          "base_uri": "https://localhost:8080/"
        },
        "id": "5Vo6k7X1SlWH",
        "outputId": "cf2a6137-2366-4b9b-f7e8-b42f1076d05f"
      },
      "execution_count": null,
      "outputs": [
        {
          "output_type": "execute_result",
          "data": {
            "text/plain": [
              "(1257,)"
            ]
          },
          "metadata": {},
          "execution_count": 8
        }
      ]
    },
    {
      "cell_type": "code",
      "source": [
        "### scaling the values if important since LSTM can be sensitive, so using the MinMax scaler and scaling it between 0 and 1  \n",
        "\n",
        "from sklearn.preprocessing import MinMaxScaler\n",
        "scaler = MinMaxScaler(feature_range=(0,1))\n",
        "df1 = scaler.fit_transform(np.array(df1).reshape(-1,1))\n",
        "\n",
        "## so here we have completed collecting the data "
      ],
      "metadata": {
        "id": "MqwD67yr5Qub"
      },
      "execution_count": null,
      "outputs": []
    },
    {
      "cell_type": "code",
      "source": [
        "## now moving onto preprocessing the data \n",
        "## to make the test - train split, since it is a time series data we cannot use cross validation or random seed\n",
        "## so here i will take a 65 - 35 % train - test split here \n",
        "\n",
        "training_size = int (len(df1)*0.65)\n",
        "test_size = len(df1) - training_size\n",
        "\n",
        "train_data= df1[0 : training_size , :] \n",
        "test_data = df1[training_size : len(df1) , :] \n",
        "\n",
        "\n",
        "\n"
      ],
      "metadata": {
        "id": "ceSDejo26ceA"
      },
      "execution_count": null,
      "outputs": []
    },
    {
      "cell_type": "code",
      "source": [
        "### Now doing the actual preprocessing\n",
        "### so now we will be creating timesteps of length 100 \n",
        "\n",
        "def create_dataset ( dataset , time_step = 1):\n",
        "  dataX , dataY = [] , []\n",
        "  for i in range (len(dataset) - time_step - 1 ):\n",
        "    row = dataset[i : (i + time_step) ,  0 ]\n",
        "    dataX.append(row)\n",
        "    dataY.append(dataset[i + time_step , 0])\n",
        "  \n",
        "  return np.array(dataX) , np.array(dataY)\n",
        "\n"
      ],
      "metadata": {
        "id": "orjdsaAy-UKl"
      },
      "execution_count": null,
      "outputs": []
    },
    {
      "cell_type": "code",
      "source": [
        "time_step = 100; \n",
        "\n",
        "X_train , Y_train = create_dataset( train_data , time_step)\n",
        "X_test , Y_test = create_dataset(test_data, time_step)\n"
      ],
      "metadata": {
        "id": "EyzlGMIJhO1d"
      },
      "execution_count": null,
      "outputs": []
    },
    {
      "cell_type": "code",
      "source": [
        "### Now creating the LSTM model \n",
        "\n",
        "## since LSTM needs another dimension to the input data set, adding it \n",
        "\n",
        "X_train = X_train.reshape(X_train.shape[0], X_train.shape[1], 1)\n",
        "X_test = X_test.reshape(X_test.shape[0], X_test.shape[1], 1)"
      ],
      "metadata": {
        "id": "vxORGMiSiMH9"
      },
      "execution_count": null,
      "outputs": []
    },
    {
      "cell_type": "code",
      "source": [
        "### importing dependencies\n",
        "\n",
        "from tensorflow.keras.models import Sequential\n",
        "from tensorflow.keras.layers import Dense \n",
        "from tensorflow.keras.layers import LSTM"
      ],
      "metadata": {
        "id": "DjQzggFREWRN"
      },
      "execution_count": null,
      "outputs": []
    },
    {
      "cell_type": "code",
      "source": [
        "### creating the LSTM model \n",
        "\n",
        "model = Sequential()\n",
        "\n",
        "model.add(LSTM(50, return_sequences = True , input_shape = (time_step , 1)))\n",
        "model.add(LSTM(50 , return_sequences = True))\n",
        "model.add(LSTM(50))\n",
        "model.add(Dense(1))\n",
        "model.compile( loss = 'mean_squared_error' , optimizer = 'adam')"
      ],
      "metadata": {
        "id": "gJVPxOrEFCyM"
      },
      "execution_count": null,
      "outputs": []
    },
    {
      "cell_type": "code",
      "source": [
        "model.summary()"
      ],
      "metadata": {
        "colab": {
          "base_uri": "https://localhost:8080/"
        },
        "id": "8QOu43lwGS7t",
        "outputId": "e493cd65-9666-450b-c9ec-7ba59bb0b6cd"
      },
      "execution_count": null,
      "outputs": [
        {
          "output_type": "stream",
          "name": "stdout",
          "text": [
            "Model: \"sequential\"\n",
            "_________________________________________________________________\n",
            " Layer (type)                Output Shape              Param #   \n",
            "=================================================================\n",
            " lstm (LSTM)                 (None, 100, 50)           10400     \n",
            "                                                                 \n",
            " lstm_1 (LSTM)               (None, 100, 50)           20200     \n",
            "                                                                 \n",
            " lstm_2 (LSTM)               (None, 50)                20200     \n",
            "                                                                 \n",
            " dense (Dense)               (None, 1)                 51        \n",
            "                                                                 \n",
            "=================================================================\n",
            "Total params: 50,851\n",
            "Trainable params: 50,851\n",
            "Non-trainable params: 0\n",
            "_________________________________________________________________\n"
          ]
        }
      ]
    },
    {
      "cell_type": "code",
      "source": [
        "### training the model \n",
        "\n",
        "model.fit(X_train , Y_train, validation_data = (X_test , Y_test), epochs = 100, batch_size = 64, verbose = 1)"
      ],
      "metadata": {
        "colab": {
          "base_uri": "https://localhost:8080/"
        },
        "id": "Fl3sb0i1GdBv",
        "outputId": "038be955-26c9-4151-d969-1790a7a5422e"
      },
      "execution_count": null,
      "outputs": [
        {
          "output_type": "stream",
          "name": "stdout",
          "text": [
            "Epoch 1/100\n",
            "12/12 [==============================] - 2s 199ms/step - loss: 2.3372e-04 - val_loss: 0.0048\n",
            "Epoch 2/100\n",
            "12/12 [==============================] - 2s 196ms/step - loss: 2.2683e-04 - val_loss: 0.0019\n",
            "Epoch 3/100\n",
            "12/12 [==============================] - 2s 194ms/step - loss: 2.1997e-04 - val_loss: 0.0047\n",
            "Epoch 4/100\n",
            "12/12 [==============================] - 2s 196ms/step - loss: 2.1462e-04 - val_loss: 0.0017\n",
            "Epoch 5/100\n",
            "12/12 [==============================] - 2s 194ms/step - loss: 2.1692e-04 - val_loss: 0.0049\n",
            "Epoch 6/100\n",
            "12/12 [==============================] - 2s 199ms/step - loss: 2.1475e-04 - val_loss: 0.0081\n",
            "Epoch 7/100\n",
            "12/12 [==============================] - 2s 193ms/step - loss: 2.4935e-04 - val_loss: 0.0061\n",
            "Epoch 8/100\n",
            "12/12 [==============================] - 2s 197ms/step - loss: 3.1415e-04 - val_loss: 0.0022\n",
            "Epoch 9/100\n",
            "12/12 [==============================] - 2s 197ms/step - loss: 2.7307e-04 - val_loss: 9.0005e-04\n",
            "Epoch 10/100\n",
            "12/12 [==============================] - 2s 190ms/step - loss: 2.2322e-04 - val_loss: 0.0015\n",
            "Epoch 11/100\n",
            "12/12 [==============================] - 2s 197ms/step - loss: 2.2278e-04 - val_loss: 0.0054\n",
            "Epoch 12/100\n",
            "12/12 [==============================] - 2s 203ms/step - loss: 2.6562e-04 - val_loss: 0.0012\n",
            "Epoch 13/100\n",
            "12/12 [==============================] - 2s 195ms/step - loss: 2.1181e-04 - val_loss: 0.0022\n",
            "Epoch 14/100\n",
            "12/12 [==============================] - 2s 201ms/step - loss: 2.1367e-04 - val_loss: 0.0013\n",
            "Epoch 15/100\n",
            "12/12 [==============================] - 2s 200ms/step - loss: 2.1068e-04 - val_loss: 0.0018\n",
            "Epoch 16/100\n",
            "12/12 [==============================] - 2s 198ms/step - loss: 2.2228e-04 - val_loss: 0.0026\n",
            "Epoch 17/100\n",
            "12/12 [==============================] - 2s 196ms/step - loss: 2.1040e-04 - val_loss: 0.0013\n",
            "Epoch 18/100\n",
            "12/12 [==============================] - 2s 199ms/step - loss: 2.1045e-04 - val_loss: 0.0021\n",
            "Epoch 19/100\n",
            "12/12 [==============================] - 2s 200ms/step - loss: 2.0586e-04 - val_loss: 0.0024\n",
            "Epoch 20/100\n",
            "12/12 [==============================] - 2s 193ms/step - loss: 2.0590e-04 - val_loss: 0.0015\n",
            "Epoch 21/100\n",
            "12/12 [==============================] - 2s 195ms/step - loss: 2.3966e-04 - val_loss: 0.0029\n",
            "Epoch 22/100\n",
            "12/12 [==============================] - 2s 196ms/step - loss: 2.2573e-04 - val_loss: 0.0012\n",
            "Epoch 23/100\n",
            "12/12 [==============================] - 2s 195ms/step - loss: 2.1871e-04 - val_loss: 0.0018\n",
            "Epoch 24/100\n",
            "12/12 [==============================] - 2s 211ms/step - loss: 2.0129e-04 - val_loss: 0.0015\n",
            "Epoch 25/100\n",
            "12/12 [==============================] - 2s 196ms/step - loss: 2.0790e-04 - val_loss: 0.0024\n",
            "Epoch 26/100\n",
            "12/12 [==============================] - 2s 195ms/step - loss: 2.1189e-04 - val_loss: 0.0025\n",
            "Epoch 27/100\n",
            "12/12 [==============================] - 2s 199ms/step - loss: 2.1356e-04 - val_loss: 0.0013\n",
            "Epoch 28/100\n",
            "12/12 [==============================] - 2s 206ms/step - loss: 2.0970e-04 - val_loss: 0.0013\n",
            "Epoch 29/100\n",
            "12/12 [==============================] - 2s 196ms/step - loss: 2.0295e-04 - val_loss: 9.6954e-04\n",
            "Epoch 30/100\n",
            "12/12 [==============================] - 2s 197ms/step - loss: 2.2172e-04 - val_loss: 0.0024\n",
            "Epoch 31/100\n",
            "12/12 [==============================] - 3s 288ms/step - loss: 2.0387e-04 - val_loss: 0.0029\n",
            "Epoch 32/100\n",
            "12/12 [==============================] - 3s 260ms/step - loss: 1.9750e-04 - val_loss: 0.0010\n",
            "Epoch 33/100\n",
            "12/12 [==============================] - 3s 212ms/step - loss: 2.2290e-04 - val_loss: 0.0018\n",
            "Epoch 34/100\n",
            "12/12 [==============================] - 2s 202ms/step - loss: 1.9690e-04 - val_loss: 0.0022\n",
            "Epoch 35/100\n",
            "12/12 [==============================] - 2s 199ms/step - loss: 2.1301e-04 - val_loss: 0.0012\n",
            "Epoch 36/100\n",
            "12/12 [==============================] - 2s 200ms/step - loss: 2.3688e-04 - val_loss: 0.0019\n",
            "Epoch 37/100\n",
            "12/12 [==============================] - 2s 197ms/step - loss: 2.0152e-04 - val_loss: 0.0019\n",
            "Epoch 38/100\n",
            "12/12 [==============================] - 2s 203ms/step - loss: 2.1996e-04 - val_loss: 0.0010\n",
            "Epoch 39/100\n",
            "12/12 [==============================] - 2s 197ms/step - loss: 2.3152e-04 - val_loss: 0.0017\n",
            "Epoch 40/100\n",
            "12/12 [==============================] - 2s 198ms/step - loss: 1.9565e-04 - val_loss: 0.0012\n",
            "Epoch 41/100\n",
            "12/12 [==============================] - 2s 199ms/step - loss: 1.9563e-04 - val_loss: 0.0029\n",
            "Epoch 42/100\n",
            "12/12 [==============================] - 2s 205ms/step - loss: 1.9735e-04 - val_loss: 0.0014\n",
            "Epoch 43/100\n",
            "12/12 [==============================] - 2s 200ms/step - loss: 1.9599e-04 - val_loss: 0.0013\n",
            "Epoch 44/100\n",
            "12/12 [==============================] - 2s 202ms/step - loss: 2.0763e-04 - val_loss: 0.0013\n",
            "Epoch 45/100\n",
            "12/12 [==============================] - 2s 202ms/step - loss: 2.0836e-04 - val_loss: 0.0011\n",
            "Epoch 46/100\n",
            "12/12 [==============================] - 2s 196ms/step - loss: 2.1529e-04 - val_loss: 0.0018\n",
            "Epoch 47/100\n",
            "12/12 [==============================] - 2s 197ms/step - loss: 1.9344e-04 - val_loss: 0.0023\n",
            "Epoch 48/100\n",
            "12/12 [==============================] - 2s 198ms/step - loss: 1.9838e-04 - val_loss: 0.0022\n",
            "Epoch 49/100\n",
            "12/12 [==============================] - 2s 200ms/step - loss: 1.9498e-04 - val_loss: 0.0013\n",
            "Epoch 50/100\n",
            "12/12 [==============================] - 2s 197ms/step - loss: 1.9514e-04 - val_loss: 0.0027\n",
            "Epoch 51/100\n",
            "12/12 [==============================] - 2s 198ms/step - loss: 2.0358e-04 - val_loss: 0.0018\n",
            "Epoch 52/100\n",
            "12/12 [==============================] - 2s 196ms/step - loss: 2.0095e-04 - val_loss: 0.0013\n",
            "Epoch 53/100\n",
            "12/12 [==============================] - 2s 198ms/step - loss: 1.9578e-04 - val_loss: 0.0030\n",
            "Epoch 54/100\n",
            "12/12 [==============================] - 2s 204ms/step - loss: 2.1194e-04 - val_loss: 0.0016\n",
            "Epoch 55/100\n",
            "12/12 [==============================] - 2s 199ms/step - loss: 2.5241e-04 - val_loss: 0.0027\n",
            "Epoch 56/100\n",
            "12/12 [==============================] - 2s 198ms/step - loss: 2.1884e-04 - val_loss: 0.0011\n",
            "Epoch 57/100\n",
            "12/12 [==============================] - 2s 200ms/step - loss: 2.0040e-04 - val_loss: 0.0020\n",
            "Epoch 58/100\n",
            "12/12 [==============================] - 2s 196ms/step - loss: 1.9408e-04 - val_loss: 0.0017\n",
            "Epoch 59/100\n",
            "12/12 [==============================] - 2s 196ms/step - loss: 1.9457e-04 - val_loss: 0.0020\n",
            "Epoch 60/100\n",
            "12/12 [==============================] - 2s 203ms/step - loss: 2.0108e-04 - val_loss: 0.0018\n",
            "Epoch 61/100\n",
            "12/12 [==============================] - 2s 201ms/step - loss: 1.9553e-04 - val_loss: 0.0016\n",
            "Epoch 62/100\n",
            "12/12 [==============================] - 2s 198ms/step - loss: 1.9538e-04 - val_loss: 0.0022\n",
            "Epoch 63/100\n",
            "12/12 [==============================] - 2s 197ms/step - loss: 1.9804e-04 - val_loss: 0.0014\n",
            "Epoch 64/100\n",
            "12/12 [==============================] - 2s 196ms/step - loss: 1.9538e-04 - val_loss: 0.0018\n",
            "Epoch 65/100\n",
            "12/12 [==============================] - 2s 201ms/step - loss: 1.9211e-04 - val_loss: 0.0014\n",
            "Epoch 66/100\n",
            "12/12 [==============================] - 2s 197ms/step - loss: 2.0030e-04 - val_loss: 0.0014\n",
            "Epoch 67/100\n",
            "12/12 [==============================] - 2s 200ms/step - loss: 2.3559e-04 - val_loss: 0.0023\n",
            "Epoch 68/100\n",
            "12/12 [==============================] - 2s 198ms/step - loss: 1.9677e-04 - val_loss: 0.0022\n",
            "Epoch 69/100\n",
            "12/12 [==============================] - 2s 198ms/step - loss: 1.9599e-04 - val_loss: 0.0014\n",
            "Epoch 70/100\n",
            "12/12 [==============================] - 2s 197ms/step - loss: 2.1372e-04 - val_loss: 0.0018\n",
            "Epoch 71/100\n",
            "12/12 [==============================] - 2s 199ms/step - loss: 2.0679e-04 - val_loss: 0.0033\n",
            "Epoch 72/100\n",
            "12/12 [==============================] - 2s 198ms/step - loss: 2.2498e-04 - val_loss: 0.0015\n",
            "Epoch 73/100\n",
            "12/12 [==============================] - 2s 196ms/step - loss: 2.0479e-04 - val_loss: 0.0020\n",
            "Epoch 74/100\n",
            "12/12 [==============================] - 2s 195ms/step - loss: 2.0273e-04 - val_loss: 0.0013\n",
            "Epoch 75/100\n",
            "12/12 [==============================] - 2s 196ms/step - loss: 1.9531e-04 - val_loss: 0.0018\n",
            "Epoch 76/100\n",
            "12/12 [==============================] - 2s 195ms/step - loss: 1.9234e-04 - val_loss: 0.0014\n",
            "Epoch 77/100\n",
            "12/12 [==============================] - 2s 204ms/step - loss: 1.9617e-04 - val_loss: 0.0015\n",
            "Epoch 78/100\n",
            "12/12 [==============================] - 2s 209ms/step - loss: 2.0113e-04 - val_loss: 0.0017\n",
            "Epoch 79/100\n",
            "12/12 [==============================] - 2s 198ms/step - loss: 1.9435e-04 - val_loss: 0.0034\n",
            "Epoch 80/100\n",
            "12/12 [==============================] - 2s 210ms/step - loss: 2.1690e-04 - val_loss: 0.0015\n",
            "Epoch 81/100\n",
            "12/12 [==============================] - 2s 201ms/step - loss: 2.0148e-04 - val_loss: 0.0027\n",
            "Epoch 82/100\n",
            "12/12 [==============================] - 2s 200ms/step - loss: 1.9473e-04 - val_loss: 0.0015\n",
            "Epoch 83/100\n",
            "12/12 [==============================] - 2s 196ms/step - loss: 1.9504e-04 - val_loss: 0.0019\n",
            "Epoch 84/100\n",
            "12/12 [==============================] - 2s 198ms/step - loss: 1.8901e-04 - val_loss: 0.0019\n",
            "Epoch 85/100\n",
            "12/12 [==============================] - 2s 202ms/step - loss: 2.1602e-04 - val_loss: 0.0021\n",
            "Epoch 86/100\n",
            "12/12 [==============================] - 2s 200ms/step - loss: 1.9677e-04 - val_loss: 0.0016\n",
            "Epoch 87/100\n",
            "12/12 [==============================] - 2s 199ms/step - loss: 1.9333e-04 - val_loss: 0.0016\n",
            "Epoch 88/100\n",
            "12/12 [==============================] - 2s 201ms/step - loss: 1.9216e-04 - val_loss: 0.0019\n",
            "Epoch 89/100\n",
            "12/12 [==============================] - 2s 208ms/step - loss: 1.9308e-04 - val_loss: 0.0018\n",
            "Epoch 90/100\n",
            "12/12 [==============================] - 2s 202ms/step - loss: 1.9207e-04 - val_loss: 0.0017\n",
            "Epoch 91/100\n",
            "12/12 [==============================] - 2s 199ms/step - loss: 1.9209e-04 - val_loss: 0.0018\n",
            "Epoch 92/100\n",
            "12/12 [==============================] - 2s 203ms/step - loss: 1.8974e-04 - val_loss: 0.0020\n",
            "Epoch 93/100\n",
            "12/12 [==============================] - 2s 210ms/step - loss: 1.9465e-04 - val_loss: 0.0016\n",
            "Epoch 94/100\n",
            "12/12 [==============================] - 2s 200ms/step - loss: 1.8841e-04 - val_loss: 0.0021\n",
            "Epoch 95/100\n",
            "12/12 [==============================] - 2s 198ms/step - loss: 2.0626e-04 - val_loss: 0.0017\n",
            "Epoch 96/100\n",
            "12/12 [==============================] - 2s 204ms/step - loss: 2.0080e-04 - val_loss: 0.0020\n",
            "Epoch 97/100\n",
            "12/12 [==============================] - 3s 233ms/step - loss: 1.9823e-04 - val_loss: 0.0027\n",
            "Epoch 98/100\n",
            "12/12 [==============================] - 4s 318ms/step - loss: 2.1042e-04 - val_loss: 0.0018\n",
            "Epoch 99/100\n",
            "12/12 [==============================] - 3s 203ms/step - loss: 2.2826e-04 - val_loss: 0.0025\n",
            "Epoch 100/100\n",
            "12/12 [==============================] - 2s 198ms/step - loss: 2.1463e-04 - val_loss: 0.0020\n"
          ]
        },
        {
          "output_type": "execute_result",
          "data": {
            "text/plain": [
              "<keras.callbacks.History at 0x7fb3ed63ba90>"
            ]
          },
          "metadata": {},
          "execution_count": 51
        }
      ]
    },
    {
      "cell_type": "code",
      "source": [
        "### now predicting on train and test data \n",
        "\n",
        "train_predict = model.predict(X_train)\n",
        "test_predict = model.predict(X_test)"
      ],
      "metadata": {
        "id": "Oir-SgHSHFP_",
        "outputId": "792f8b99-45f0-4fb9-85fc-ff202975274a",
        "colab": {
          "base_uri": "https://localhost:8080/"
        }
      },
      "execution_count": null,
      "outputs": [
        {
          "output_type": "stream",
          "name": "stdout",
          "text": [
            "23/23 [==============================] - 1s 34ms/step\n",
            "11/11 [==============================] - 0s 36ms/step\n"
          ]
        }
      ]
    },
    {
      "cell_type": "code",
      "source": [
        "### transforming back to original form \n",
        "\n",
        "\n",
        "train_predict = scaler.inverse_transform(train_predict)\n",
        "test_predict = scaler.inverse_transform(test_predict)\n"
      ],
      "metadata": {
        "id": "MooX_GOhHyyv"
      },
      "execution_count": null,
      "outputs": []
    },
    {
      "cell_type": "code",
      "source": [
        "## calculting the Root mean squared error performance metrics\n",
        "\n",
        "from sklearn.metrics import mean_squared_error\n",
        "math.sqrt(mean_squared_error(Y_train, train_predict))"
      ],
      "metadata": {
        "colab": {
          "base_uri": "https://localhost:8080/"
        },
        "id": "tEN0RpOGOSJS",
        "outputId": "bf92b1d6-e2ad-4df8-c928-9c1b18cfab19"
      },
      "execution_count": null,
      "outputs": [
        {
          "output_type": "execute_result",
          "data": {
            "text/plain": [
              "51.88691811844255"
            ]
          },
          "metadata": {},
          "execution_count": 54
        }
      ]
    },
    {
      "cell_type": "code",
      "source": [
        "## for the test data\n",
        "\n",
        "math.sqrt(mean_squared_error(Y_test, test_predict))"
      ],
      "metadata": {
        "colab": {
          "base_uri": "https://localhost:8080/"
        },
        "id": "-UCkZAdLO6bO",
        "outputId": "eebd24f6-2597-46dc-af19-37f634213e32"
      },
      "execution_count": null,
      "outputs": [
        {
          "output_type": "execute_result",
          "data": {
            "text/plain": [
              "83.18050855599424"
            ]
          },
          "metadata": {},
          "execution_count": 55
        }
      ]
    },
    {
      "cell_type": "code",
      "source": [
        "### Plotting \n",
        "# shift train predictions for plotting\n",
        "look_back=100\n",
        "trainPredictPlot = np.empty_like(df1)\n",
        "trainPredictPlot[:, :] = np.nan\n",
        "trainPredictPlot[look_back:len(train_predict)+look_back, :] = train_predict\n",
        "\n",
        "\n",
        "# shift test predictions for plotting\n",
        "testPredictPlot = np.empty_like(df1)\n",
        "testPredictPlot[:, :] = np.nan\n",
        "testPredictPlot[len(train_predict)+(look_back*2)+1:len(df1)-1, :] = test_predict\n",
        "\n",
        "\n",
        "# plot baseline and predictions\n",
        "plt.plot(scaler.inverse_transform(df1))\n",
        "plt.plot(trainPredictPlot)\n",
        "plt.plot(testPredictPlot)\n",
        "plt.show()"
      ],
      "metadata": {
        "colab": {
          "base_uri": "https://localhost:8080/",
          "height": 265
        },
        "id": "VLsN7aI3PxTN",
        "outputId": "2d12cd9e-16f2-4112-f371-396c195d00c5"
      },
      "execution_count": null,
      "outputs": [
        {
          "output_type": "display_data",
          "data": {
            "text/plain": [
              "<Figure size 432x288 with 1 Axes>"
            ],
            "image/png": "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\n"
          },
          "metadata": {
            "needs_background": "light"
          }
        }
      ]
    },
    {
      "cell_type": "code",
      "source": [
        "### Now lets use this weapon to predict the future of the stock and trade \n",
        "### why stop at next day when we can use it to predict for the whole next month \n",
        "\n",
        "len(test_data) # comes out to be 441 so for the last 100 days -> 341 : \n",
        "x_input=test_data[ 341:].reshape(1,-1)\n",
        "x_input.shape"
      ],
      "metadata": {
        "colab": {
          "base_uri": "https://localhost:8080/"
        },
        "id": "GzlnoW3EQswK",
        "outputId": "1aa081c8-6c38-41c4-8a93-eff27613f608"
      },
      "execution_count": null,
      "outputs": [
        {
          "output_type": "execute_result",
          "data": {
            "text/plain": [
              "(1, 99)"
            ]
          },
          "metadata": {},
          "execution_count": 57
        }
      ]
    },
    {
      "cell_type": "code",
      "source": [
        "temp_input=list(x_input)\n",
        "temp_input=temp_input[0].tolist()"
      ],
      "metadata": {
        "id": "wXpNdDyCRnFb"
      },
      "execution_count": null,
      "outputs": []
    },
    {
      "cell_type": "code",
      "source": [
        "#  prediction for next 30 days\n",
        "from numpy import array\n",
        "\n",
        "lst_output=[]\n",
        "n_steps=99\n",
        "i=0\n",
        "while(i<31):\n",
        "    \n",
        "    if(len(temp_input)>100):\n",
        "        #print(temp_input)\n",
        "        x_input=np.array(temp_input[1:])\n",
        "        print(\"{} day input {}\".format(i,x_input))\n",
        "        x_input=x_input.reshape(1,-1)\n",
        "        x_input = x_input.reshape((1, 100, 1))\n",
        "        #print(x_input)\n",
        "        yhat = model.predict(x_input, verbose=0)\n",
        "        print(\"{} day output {}\".format(i,yhat))\n",
        "        temp_input.extend(yhat[0].tolist())\n",
        "        temp_input=temp_input[1:]\n",
        "        #print(temp_input)\n",
        "        lst_output.extend(yhat.tolist())\n",
        "        i=i+1\n",
        "    else:\n",
        "        x_input = x_input.reshape((1, n_steps,1))\n",
        "        yhat = model.predict(x_input, verbose=0)\n",
        "        print(yhat[0])\n",
        "        temp_input.extend(yhat[0].tolist())\n",
        "        print(len(temp_input))\n",
        "        lst_output.extend(yhat.tolist())\n",
        "        i=i+1\n",
        "    \n",
        "    "
      ],
      "metadata": {
        "colab": {
          "base_uri": "https://localhost:8080/"
        },
        "id": "siU60rq7Rt1J",
        "outputId": "dcb4fc7b-4585-4b6d-9844-45805f66625b"
      },
      "execution_count": null,
      "outputs": [
        {
          "output_type": "stream",
          "name": "stdout",
          "text": [
            "0 day input [0.69678935 0.68222396 0.67235709 0.66108066 0.69334377 0.67564605\n",
            " 0.66280345 0.65371966 0.64432263 0.62584182 0.61910728 0.6256852\n",
            " 0.62098669 0.60172279 0.62270948 0.63414252 0.62145654 0.57024276\n",
            " 0.58230227 0.54361785 0.54753328 0.56914644 0.52623336 0.53563038\n",
            " 0.52451057 0.55458105 0.51683634 0.51198121 0.49710258 0.51260767\n",
            " 0.48911511 0.4844166  0.49130775 0.46844166 0.50242756 0.44635865\n",
            " 0.4266249  0.45152702 0.47361002 0.4577917  0.47032106 0.49898199\n",
            " 0.5165231  0.50305403 0.49804229 0.52216132 0.50101801 0.51949883\n",
            " 0.51511355 0.49459671 0.46076742 0.42819107 0.3797964  0.48425998\n",
            " 0.46828504 0.45277995 0.43727486 0.43664839 0.41863743 0.43586531\n",
            " 0.48394675 0.47940486 0.45074393 0.46061081 0.47094753 0.48660924\n",
            " 0.50415035 0.49898199 0.50164448 0.50227095 0.49757244 0.47940486\n",
            " 0.47345341 0.46436962 0.48457322 0.47627251 0.50806578 0.51354738\n",
            " 0.54408771 0.54972592 0.54909945 0.53610023 0.56491778 0.58324197\n",
            " 0.59577134 0.58950666 0.5724354  0.58841034 0.58888019 0.5880971\n",
            " 0.5743148  0.57901331 0.59107283 0.58512138 0.61628818 0.61566171\n",
            " 0.62208301 0.61785435 0.60550499 0.60550499]\n",
            "0 day output [[0.61239076]]\n",
            "1 day input [0.68222396 0.67235709 0.66108066 0.69334377 0.67564605 0.66280345\n",
            " 0.65371966 0.64432263 0.62584182 0.61910728 0.6256852  0.62098669\n",
            " 0.60172279 0.62270948 0.63414252 0.62145654 0.57024276 0.58230227\n",
            " 0.54361785 0.54753328 0.56914644 0.52623336 0.53563038 0.52451057\n",
            " 0.55458105 0.51683634 0.51198121 0.49710258 0.51260767 0.48911511\n",
            " 0.4844166  0.49130775 0.46844166 0.50242756 0.44635865 0.4266249\n",
            " 0.45152702 0.47361002 0.4577917  0.47032106 0.49898199 0.5165231\n",
            " 0.50305403 0.49804229 0.52216132 0.50101801 0.51949883 0.51511355\n",
            " 0.49459671 0.46076742 0.42819107 0.3797964  0.48425998 0.46828504\n",
            " 0.45277995 0.43727486 0.43664839 0.41863743 0.43586531 0.48394675\n",
            " 0.47940486 0.45074393 0.46061081 0.47094753 0.48660924 0.50415035\n",
            " 0.49898199 0.50164448 0.50227095 0.49757244 0.47940486 0.47345341\n",
            " 0.46436962 0.48457322 0.47627251 0.50806578 0.51354738 0.54408771\n",
            " 0.54972592 0.54909945 0.53610023 0.56491778 0.58324197 0.59577134\n",
            " 0.58950666 0.5724354  0.58841034 0.58888019 0.5880971  0.5743148\n",
            " 0.57901331 0.59107283 0.58512138 0.61628818 0.61566171 0.62208301\n",
            " 0.61785435 0.60550499 0.60550499 0.61239076]\n",
            "1 day output [[0.6245827]]\n",
            "2 day input [0.67235709 0.66108066 0.69334377 0.67564605 0.66280345 0.65371966\n",
            " 0.64432263 0.62584182 0.61910728 0.6256852  0.62098669 0.60172279\n",
            " 0.62270948 0.63414252 0.62145654 0.57024276 0.58230227 0.54361785\n",
            " 0.54753328 0.56914644 0.52623336 0.53563038 0.52451057 0.55458105\n",
            " 0.51683634 0.51198121 0.49710258 0.51260767 0.48911511 0.4844166\n",
            " 0.49130775 0.46844166 0.50242756 0.44635865 0.4266249  0.45152702\n",
            " 0.47361002 0.4577917  0.47032106 0.49898199 0.5165231  0.50305403\n",
            " 0.49804229 0.52216132 0.50101801 0.51949883 0.51511355 0.49459671\n",
            " 0.46076742 0.42819107 0.3797964  0.48425998 0.46828504 0.45277995\n",
            " 0.43727486 0.43664839 0.41863743 0.43586531 0.48394675 0.47940486\n",
            " 0.45074393 0.46061081 0.47094753 0.48660924 0.50415035 0.49898199\n",
            " 0.50164448 0.50227095 0.49757244 0.47940486 0.47345341 0.46436962\n",
            " 0.48457322 0.47627251 0.50806578 0.51354738 0.54408771 0.54972592\n",
            " 0.54909945 0.53610023 0.56491778 0.58324197 0.59577134 0.58950666\n",
            " 0.5724354  0.58841034 0.58888019 0.5880971  0.5743148  0.57901331\n",
            " 0.59107283 0.58512138 0.61628818 0.61566171 0.62208301 0.61785435\n",
            " 0.60550499 0.60550499 0.61239076 0.62458271]\n",
            "2 day output [[0.6364497]]\n",
            "3 day input [0.66108066 0.69334377 0.67564605 0.66280345 0.65371966 0.64432263\n",
            " 0.62584182 0.61910728 0.6256852  0.62098669 0.60172279 0.62270948\n",
            " 0.63414252 0.62145654 0.57024276 0.58230227 0.54361785 0.54753328\n",
            " 0.56914644 0.52623336 0.53563038 0.52451057 0.55458105 0.51683634\n",
            " 0.51198121 0.49710258 0.51260767 0.48911511 0.4844166  0.49130775\n",
            " 0.46844166 0.50242756 0.44635865 0.4266249  0.45152702 0.47361002\n",
            " 0.4577917  0.47032106 0.49898199 0.5165231  0.50305403 0.49804229\n",
            " 0.52216132 0.50101801 0.51949883 0.51511355 0.49459671 0.46076742\n",
            " 0.42819107 0.3797964  0.48425998 0.46828504 0.45277995 0.43727486\n",
            " 0.43664839 0.41863743 0.43586531 0.48394675 0.47940486 0.45074393\n",
            " 0.46061081 0.47094753 0.48660924 0.50415035 0.49898199 0.50164448\n",
            " 0.50227095 0.49757244 0.47940486 0.47345341 0.46436962 0.48457322\n",
            " 0.47627251 0.50806578 0.51354738 0.54408771 0.54972592 0.54909945\n",
            " 0.53610023 0.56491778 0.58324197 0.59577134 0.58950666 0.5724354\n",
            " 0.58841034 0.58888019 0.5880971  0.5743148  0.57901331 0.59107283\n",
            " 0.58512138 0.61628818 0.61566171 0.62208301 0.61785435 0.60550499\n",
            " 0.60550499 0.61239076 0.62458271 0.63644969]\n",
            "3 day output [[0.6462699]]\n",
            "4 day input [0.69334377 0.67564605 0.66280345 0.65371966 0.64432263 0.62584182\n",
            " 0.61910728 0.6256852  0.62098669 0.60172279 0.62270948 0.63414252\n",
            " 0.62145654 0.57024276 0.58230227 0.54361785 0.54753328 0.56914644\n",
            " 0.52623336 0.53563038 0.52451057 0.55458105 0.51683634 0.51198121\n",
            " 0.49710258 0.51260767 0.48911511 0.4844166  0.49130775 0.46844166\n",
            " 0.50242756 0.44635865 0.4266249  0.45152702 0.47361002 0.4577917\n",
            " 0.47032106 0.49898199 0.5165231  0.50305403 0.49804229 0.52216132\n",
            " 0.50101801 0.51949883 0.51511355 0.49459671 0.46076742 0.42819107\n",
            " 0.3797964  0.48425998 0.46828504 0.45277995 0.43727486 0.43664839\n",
            " 0.41863743 0.43586531 0.48394675 0.47940486 0.45074393 0.46061081\n",
            " 0.47094753 0.48660924 0.50415035 0.49898199 0.50164448 0.50227095\n",
            " 0.49757244 0.47940486 0.47345341 0.46436962 0.48457322 0.47627251\n",
            " 0.50806578 0.51354738 0.54408771 0.54972592 0.54909945 0.53610023\n",
            " 0.56491778 0.58324197 0.59577134 0.58950666 0.5724354  0.58841034\n",
            " 0.58888019 0.5880971  0.5743148  0.57901331 0.59107283 0.58512138\n",
            " 0.61628818 0.61566171 0.62208301 0.61785435 0.60550499 0.60550499\n",
            " 0.61239076 0.62458271 0.63644969 0.64626992]\n",
            "4 day output [[0.65478873]]\n",
            "5 day input [0.67564605 0.66280345 0.65371966 0.64432263 0.62584182 0.61910728\n",
            " 0.6256852  0.62098669 0.60172279 0.62270948 0.63414252 0.62145654\n",
            " 0.57024276 0.58230227 0.54361785 0.54753328 0.56914644 0.52623336\n",
            " 0.53563038 0.52451057 0.55458105 0.51683634 0.51198121 0.49710258\n",
            " 0.51260767 0.48911511 0.4844166  0.49130775 0.46844166 0.50242756\n",
            " 0.44635865 0.4266249  0.45152702 0.47361002 0.4577917  0.47032106\n",
            " 0.49898199 0.5165231  0.50305403 0.49804229 0.52216132 0.50101801\n",
            " 0.51949883 0.51511355 0.49459671 0.46076742 0.42819107 0.3797964\n",
            " 0.48425998 0.46828504 0.45277995 0.43727486 0.43664839 0.41863743\n",
            " 0.43586531 0.48394675 0.47940486 0.45074393 0.46061081 0.47094753\n",
            " 0.48660924 0.50415035 0.49898199 0.50164448 0.50227095 0.49757244\n",
            " 0.47940486 0.47345341 0.46436962 0.48457322 0.47627251 0.50806578\n",
            " 0.51354738 0.54408771 0.54972592 0.54909945 0.53610023 0.56491778\n",
            " 0.58324197 0.59577134 0.58950666 0.5724354  0.58841034 0.58888019\n",
            " 0.5880971  0.5743148  0.57901331 0.59107283 0.58512138 0.61628818\n",
            " 0.61566171 0.62208301 0.61785435 0.60550499 0.60550499 0.61239076\n",
            " 0.62458271 0.63644969 0.64626992 0.65478873]\n",
            "5 day output [[0.6625346]]\n",
            "6 day input [0.66280345 0.65371966 0.64432263 0.62584182 0.61910728 0.6256852\n",
            " 0.62098669 0.60172279 0.62270948 0.63414252 0.62145654 0.57024276\n",
            " 0.58230227 0.54361785 0.54753328 0.56914644 0.52623336 0.53563038\n",
            " 0.52451057 0.55458105 0.51683634 0.51198121 0.49710258 0.51260767\n",
            " 0.48911511 0.4844166  0.49130775 0.46844166 0.50242756 0.44635865\n",
            " 0.4266249  0.45152702 0.47361002 0.4577917  0.47032106 0.49898199\n",
            " 0.5165231  0.50305403 0.49804229 0.52216132 0.50101801 0.51949883\n",
            " 0.51511355 0.49459671 0.46076742 0.42819107 0.3797964  0.48425998\n",
            " 0.46828504 0.45277995 0.43727486 0.43664839 0.41863743 0.43586531\n",
            " 0.48394675 0.47940486 0.45074393 0.46061081 0.47094753 0.48660924\n",
            " 0.50415035 0.49898199 0.50164448 0.50227095 0.49757244 0.47940486\n",
            " 0.47345341 0.46436962 0.48457322 0.47627251 0.50806578 0.51354738\n",
            " 0.54408771 0.54972592 0.54909945 0.53610023 0.56491778 0.58324197\n",
            " 0.59577134 0.58950666 0.5724354  0.58841034 0.58888019 0.5880971\n",
            " 0.5743148  0.57901331 0.59107283 0.58512138 0.61628818 0.61566171\n",
            " 0.62208301 0.61785435 0.60550499 0.60550499 0.61239076 0.62458271\n",
            " 0.63644969 0.64626992 0.65478873 0.66253459]\n",
            "6 day output [[0.67037714]]\n",
            "7 day input [0.65371966 0.64432263 0.62584182 0.61910728 0.6256852  0.62098669\n",
            " 0.60172279 0.62270948 0.63414252 0.62145654 0.57024276 0.58230227\n",
            " 0.54361785 0.54753328 0.56914644 0.52623336 0.53563038 0.52451057\n",
            " 0.55458105 0.51683634 0.51198121 0.49710258 0.51260767 0.48911511\n",
            " 0.4844166  0.49130775 0.46844166 0.50242756 0.44635865 0.4266249\n",
            " 0.45152702 0.47361002 0.4577917  0.47032106 0.49898199 0.5165231\n",
            " 0.50305403 0.49804229 0.52216132 0.50101801 0.51949883 0.51511355\n",
            " 0.49459671 0.46076742 0.42819107 0.3797964  0.48425998 0.46828504\n",
            " 0.45277995 0.43727486 0.43664839 0.41863743 0.43586531 0.48394675\n",
            " 0.47940486 0.45074393 0.46061081 0.47094753 0.48660924 0.50415035\n",
            " 0.49898199 0.50164448 0.50227095 0.49757244 0.47940486 0.47345341\n",
            " 0.46436962 0.48457322 0.47627251 0.50806578 0.51354738 0.54408771\n",
            " 0.54972592 0.54909945 0.53610023 0.56491778 0.58324197 0.59577134\n",
            " 0.58950666 0.5724354  0.58841034 0.58888019 0.5880971  0.5743148\n",
            " 0.57901331 0.59107283 0.58512138 0.61628818 0.61566171 0.62208301\n",
            " 0.61785435 0.60550499 0.60550499 0.61239076 0.62458271 0.63644969\n",
            " 0.64626992 0.65478873 0.66253459 0.67037714]\n",
            "7 day output [[0.67915344]]\n",
            "8 day input [0.64432263 0.62584182 0.61910728 0.6256852  0.62098669 0.60172279\n",
            " 0.62270948 0.63414252 0.62145654 0.57024276 0.58230227 0.54361785\n",
            " 0.54753328 0.56914644 0.52623336 0.53563038 0.52451057 0.55458105\n",
            " 0.51683634 0.51198121 0.49710258 0.51260767 0.48911511 0.4844166\n",
            " 0.49130775 0.46844166 0.50242756 0.44635865 0.4266249  0.45152702\n",
            " 0.47361002 0.4577917  0.47032106 0.49898199 0.5165231  0.50305403\n",
            " 0.49804229 0.52216132 0.50101801 0.51949883 0.51511355 0.49459671\n",
            " 0.46076742 0.42819107 0.3797964  0.48425998 0.46828504 0.45277995\n",
            " 0.43727486 0.43664839 0.41863743 0.43586531 0.48394675 0.47940486\n",
            " 0.45074393 0.46061081 0.47094753 0.48660924 0.50415035 0.49898199\n",
            " 0.50164448 0.50227095 0.49757244 0.47940486 0.47345341 0.46436962\n",
            " 0.48457322 0.47627251 0.50806578 0.51354738 0.54408771 0.54972592\n",
            " 0.54909945 0.53610023 0.56491778 0.58324197 0.59577134 0.58950666\n",
            " 0.5724354  0.58841034 0.58888019 0.5880971  0.5743148  0.57901331\n",
            " 0.59107283 0.58512138 0.61628818 0.61566171 0.62208301 0.61785435\n",
            " 0.60550499 0.60550499 0.61239076 0.62458271 0.63644969 0.64626992\n",
            " 0.65478873 0.66253459 0.67037714 0.67915344]\n",
            "8 day output [[0.68936443]]\n",
            "9 day input [0.62584182 0.61910728 0.6256852  0.62098669 0.60172279 0.62270948\n",
            " 0.63414252 0.62145654 0.57024276 0.58230227 0.54361785 0.54753328\n",
            " 0.56914644 0.52623336 0.53563038 0.52451057 0.55458105 0.51683634\n",
            " 0.51198121 0.49710258 0.51260767 0.48911511 0.4844166  0.49130775\n",
            " 0.46844166 0.50242756 0.44635865 0.4266249  0.45152702 0.47361002\n",
            " 0.4577917  0.47032106 0.49898199 0.5165231  0.50305403 0.49804229\n",
            " 0.52216132 0.50101801 0.51949883 0.51511355 0.49459671 0.46076742\n",
            " 0.42819107 0.3797964  0.48425998 0.46828504 0.45277995 0.43727486\n",
            " 0.43664839 0.41863743 0.43586531 0.48394675 0.47940486 0.45074393\n",
            " 0.46061081 0.47094753 0.48660924 0.50415035 0.49898199 0.50164448\n",
            " 0.50227095 0.49757244 0.47940486 0.47345341 0.46436962 0.48457322\n",
            " 0.47627251 0.50806578 0.51354738 0.54408771 0.54972592 0.54909945\n",
            " 0.53610023 0.56491778 0.58324197 0.59577134 0.58950666 0.5724354\n",
            " 0.58841034 0.58888019 0.5880971  0.5743148  0.57901331 0.59107283\n",
            " 0.58512138 0.61628818 0.61566171 0.62208301 0.61785435 0.60550499\n",
            " 0.60550499 0.61239076 0.62458271 0.63644969 0.64626992 0.65478873\n",
            " 0.66253459 0.67037714 0.67915344 0.68936443]\n",
            "9 day output [[0.7011487]]\n",
            "10 day input [0.61910728 0.6256852  0.62098669 0.60172279 0.62270948 0.63414252\n",
            " 0.62145654 0.57024276 0.58230227 0.54361785 0.54753328 0.56914644\n",
            " 0.52623336 0.53563038 0.52451057 0.55458105 0.51683634 0.51198121\n",
            " 0.49710258 0.51260767 0.48911511 0.4844166  0.49130775 0.46844166\n",
            " 0.50242756 0.44635865 0.4266249  0.45152702 0.47361002 0.4577917\n",
            " 0.47032106 0.49898199 0.5165231  0.50305403 0.49804229 0.52216132\n",
            " 0.50101801 0.51949883 0.51511355 0.49459671 0.46076742 0.42819107\n",
            " 0.3797964  0.48425998 0.46828504 0.45277995 0.43727486 0.43664839\n",
            " 0.41863743 0.43586531 0.48394675 0.47940486 0.45074393 0.46061081\n",
            " 0.47094753 0.48660924 0.50415035 0.49898199 0.50164448 0.50227095\n",
            " 0.49757244 0.47940486 0.47345341 0.46436962 0.48457322 0.47627251\n",
            " 0.50806578 0.51354738 0.54408771 0.54972592 0.54909945 0.53610023\n",
            " 0.56491778 0.58324197 0.59577134 0.58950666 0.5724354  0.58841034\n",
            " 0.58888019 0.5880971  0.5743148  0.57901331 0.59107283 0.58512138\n",
            " 0.61628818 0.61566171 0.62208301 0.61785435 0.60550499 0.60550499\n",
            " 0.61239076 0.62458271 0.63644969 0.64626992 0.65478873 0.66253459\n",
            " 0.67037714 0.67915344 0.68936443 0.70114869]\n",
            "10 day output [[0.71439475]]\n",
            "11 day input [0.6256852  0.62098669 0.60172279 0.62270948 0.63414252 0.62145654\n",
            " 0.57024276 0.58230227 0.54361785 0.54753328 0.56914644 0.52623336\n",
            " 0.53563038 0.52451057 0.55458105 0.51683634 0.51198121 0.49710258\n",
            " 0.51260767 0.48911511 0.4844166  0.49130775 0.46844166 0.50242756\n",
            " 0.44635865 0.4266249  0.45152702 0.47361002 0.4577917  0.47032106\n",
            " 0.49898199 0.5165231  0.50305403 0.49804229 0.52216132 0.50101801\n",
            " 0.51949883 0.51511355 0.49459671 0.46076742 0.42819107 0.3797964\n",
            " 0.48425998 0.46828504 0.45277995 0.43727486 0.43664839 0.41863743\n",
            " 0.43586531 0.48394675 0.47940486 0.45074393 0.46061081 0.47094753\n",
            " 0.48660924 0.50415035 0.49898199 0.50164448 0.50227095 0.49757244\n",
            " 0.47940486 0.47345341 0.46436962 0.48457322 0.47627251 0.50806578\n",
            " 0.51354738 0.54408771 0.54972592 0.54909945 0.53610023 0.56491778\n",
            " 0.58324197 0.59577134 0.58950666 0.5724354  0.58841034 0.58888019\n",
            " 0.5880971  0.5743148  0.57901331 0.59107283 0.58512138 0.61628818\n",
            " 0.61566171 0.62208301 0.61785435 0.60550499 0.60550499 0.61239076\n",
            " 0.62458271 0.63644969 0.64626992 0.65478873 0.66253459 0.67037714\n",
            " 0.67915344 0.68936443 0.70114869 0.71439475]\n",
            "11 day output [[0.7288983]]\n",
            "12 day input [0.62098669 0.60172279 0.62270948 0.63414252 0.62145654 0.57024276\n",
            " 0.58230227 0.54361785 0.54753328 0.56914644 0.52623336 0.53563038\n",
            " 0.52451057 0.55458105 0.51683634 0.51198121 0.49710258 0.51260767\n",
            " 0.48911511 0.4844166  0.49130775 0.46844166 0.50242756 0.44635865\n",
            " 0.4266249  0.45152702 0.47361002 0.4577917  0.47032106 0.49898199\n",
            " 0.5165231  0.50305403 0.49804229 0.52216132 0.50101801 0.51949883\n",
            " 0.51511355 0.49459671 0.46076742 0.42819107 0.3797964  0.48425998\n",
            " 0.46828504 0.45277995 0.43727486 0.43664839 0.41863743 0.43586531\n",
            " 0.48394675 0.47940486 0.45074393 0.46061081 0.47094753 0.48660924\n",
            " 0.50415035 0.49898199 0.50164448 0.50227095 0.49757244 0.47940486\n",
            " 0.47345341 0.46436962 0.48457322 0.47627251 0.50806578 0.51354738\n",
            " 0.54408771 0.54972592 0.54909945 0.53610023 0.56491778 0.58324197\n",
            " 0.59577134 0.58950666 0.5724354  0.58841034 0.58888019 0.5880971\n",
            " 0.5743148  0.57901331 0.59107283 0.58512138 0.61628818 0.61566171\n",
            " 0.62208301 0.61785435 0.60550499 0.60550499 0.61239076 0.62458271\n",
            " 0.63644969 0.64626992 0.65478873 0.66253459 0.67037714 0.67915344\n",
            " 0.68936443 0.70114869 0.71439475 0.72889829]\n",
            "12 day output [[0.7444965]]\n",
            "13 day input [0.60172279 0.62270948 0.63414252 0.62145654 0.57024276 0.58230227\n",
            " 0.54361785 0.54753328 0.56914644 0.52623336 0.53563038 0.52451057\n",
            " 0.55458105 0.51683634 0.51198121 0.49710258 0.51260767 0.48911511\n",
            " 0.4844166  0.49130775 0.46844166 0.50242756 0.44635865 0.4266249\n",
            " 0.45152702 0.47361002 0.4577917  0.47032106 0.49898199 0.5165231\n",
            " 0.50305403 0.49804229 0.52216132 0.50101801 0.51949883 0.51511355\n",
            " 0.49459671 0.46076742 0.42819107 0.3797964  0.48425998 0.46828504\n",
            " 0.45277995 0.43727486 0.43664839 0.41863743 0.43586531 0.48394675\n",
            " 0.47940486 0.45074393 0.46061081 0.47094753 0.48660924 0.50415035\n",
            " 0.49898199 0.50164448 0.50227095 0.49757244 0.47940486 0.47345341\n",
            " 0.46436962 0.48457322 0.47627251 0.50806578 0.51354738 0.54408771\n",
            " 0.54972592 0.54909945 0.53610023 0.56491778 0.58324197 0.59577134\n",
            " 0.58950666 0.5724354  0.58841034 0.58888019 0.5880971  0.5743148\n",
            " 0.57901331 0.59107283 0.58512138 0.61628818 0.61566171 0.62208301\n",
            " 0.61785435 0.60550499 0.60550499 0.61239076 0.62458271 0.63644969\n",
            " 0.64626992 0.65478873 0.66253459 0.67037714 0.67915344 0.68936443\n",
            " 0.70114869 0.71439475 0.72889829 0.74449652]\n",
            "13 day output [[0.76114786]]\n",
            "14 day input [0.62270948 0.63414252 0.62145654 0.57024276 0.58230227 0.54361785\n",
            " 0.54753328 0.56914644 0.52623336 0.53563038 0.52451057 0.55458105\n",
            " 0.51683634 0.51198121 0.49710258 0.51260767 0.48911511 0.4844166\n",
            " 0.49130775 0.46844166 0.50242756 0.44635865 0.4266249  0.45152702\n",
            " 0.47361002 0.4577917  0.47032106 0.49898199 0.5165231  0.50305403\n",
            " 0.49804229 0.52216132 0.50101801 0.51949883 0.51511355 0.49459671\n",
            " 0.46076742 0.42819107 0.3797964  0.48425998 0.46828504 0.45277995\n",
            " 0.43727486 0.43664839 0.41863743 0.43586531 0.48394675 0.47940486\n",
            " 0.45074393 0.46061081 0.47094753 0.48660924 0.50415035 0.49898199\n",
            " 0.50164448 0.50227095 0.49757244 0.47940486 0.47345341 0.46436962\n",
            " 0.48457322 0.47627251 0.50806578 0.51354738 0.54408771 0.54972592\n",
            " 0.54909945 0.53610023 0.56491778 0.58324197 0.59577134 0.58950666\n",
            " 0.5724354  0.58841034 0.58888019 0.5880971  0.5743148  0.57901331\n",
            " 0.59107283 0.58512138 0.61628818 0.61566171 0.62208301 0.61785435\n",
            " 0.60550499 0.60550499 0.61239076 0.62458271 0.63644969 0.64626992\n",
            " 0.65478873 0.66253459 0.67037714 0.67915344 0.68936443 0.70114869\n",
            " 0.71439475 0.72889829 0.74449652 0.76114786]\n",
            "14 day output [[0.77894336]]\n",
            "15 day input [0.63414252 0.62145654 0.57024276 0.58230227 0.54361785 0.54753328\n",
            " 0.56914644 0.52623336 0.53563038 0.52451057 0.55458105 0.51683634\n",
            " 0.51198121 0.49710258 0.51260767 0.48911511 0.4844166  0.49130775\n",
            " 0.46844166 0.50242756 0.44635865 0.4266249  0.45152702 0.47361002\n",
            " 0.4577917  0.47032106 0.49898199 0.5165231  0.50305403 0.49804229\n",
            " 0.52216132 0.50101801 0.51949883 0.51511355 0.49459671 0.46076742\n",
            " 0.42819107 0.3797964  0.48425998 0.46828504 0.45277995 0.43727486\n",
            " 0.43664839 0.41863743 0.43586531 0.48394675 0.47940486 0.45074393\n",
            " 0.46061081 0.47094753 0.48660924 0.50415035 0.49898199 0.50164448\n",
            " 0.50227095 0.49757244 0.47940486 0.47345341 0.46436962 0.48457322\n",
            " 0.47627251 0.50806578 0.51354738 0.54408771 0.54972592 0.54909945\n",
            " 0.53610023 0.56491778 0.58324197 0.59577134 0.58950666 0.5724354\n",
            " 0.58841034 0.58888019 0.5880971  0.5743148  0.57901331 0.59107283\n",
            " 0.58512138 0.61628818 0.61566171 0.62208301 0.61785435 0.60550499\n",
            " 0.60550499 0.61239076 0.62458271 0.63644969 0.64626992 0.65478873\n",
            " 0.66253459 0.67037714 0.67915344 0.68936443 0.70114869 0.71439475\n",
            " 0.72889829 0.74449652 0.76114786 0.77894336]\n",
            "15 day output [[0.79806674]]\n",
            "16 day input [0.62145654 0.57024276 0.58230227 0.54361785 0.54753328 0.56914644\n",
            " 0.52623336 0.53563038 0.52451057 0.55458105 0.51683634 0.51198121\n",
            " 0.49710258 0.51260767 0.48911511 0.4844166  0.49130775 0.46844166\n",
            " 0.50242756 0.44635865 0.4266249  0.45152702 0.47361002 0.4577917\n",
            " 0.47032106 0.49898199 0.5165231  0.50305403 0.49804229 0.52216132\n",
            " 0.50101801 0.51949883 0.51511355 0.49459671 0.46076742 0.42819107\n",
            " 0.3797964  0.48425998 0.46828504 0.45277995 0.43727486 0.43664839\n",
            " 0.41863743 0.43586531 0.48394675 0.47940486 0.45074393 0.46061081\n",
            " 0.47094753 0.48660924 0.50415035 0.49898199 0.50164448 0.50227095\n",
            " 0.49757244 0.47940486 0.47345341 0.46436962 0.48457322 0.47627251\n",
            " 0.50806578 0.51354738 0.54408771 0.54972592 0.54909945 0.53610023\n",
            " 0.56491778 0.58324197 0.59577134 0.58950666 0.5724354  0.58841034\n",
            " 0.58888019 0.5880971  0.5743148  0.57901331 0.59107283 0.58512138\n",
            " 0.61628818 0.61566171 0.62208301 0.61785435 0.60550499 0.60550499\n",
            " 0.61239076 0.62458271 0.63644969 0.64626992 0.65478873 0.66253459\n",
            " 0.67037714 0.67915344 0.68936443 0.70114869 0.71439475 0.72889829\n",
            " 0.74449652 0.76114786 0.77894336 0.79806674]\n",
            "16 day output [[0.8187426]]\n",
            "17 day input [0.57024276 0.58230227 0.54361785 0.54753328 0.56914644 0.52623336\n",
            " 0.53563038 0.52451057 0.55458105 0.51683634 0.51198121 0.49710258\n",
            " 0.51260767 0.48911511 0.4844166  0.49130775 0.46844166 0.50242756\n",
            " 0.44635865 0.4266249  0.45152702 0.47361002 0.4577917  0.47032106\n",
            " 0.49898199 0.5165231  0.50305403 0.49804229 0.52216132 0.50101801\n",
            " 0.51949883 0.51511355 0.49459671 0.46076742 0.42819107 0.3797964\n",
            " 0.48425998 0.46828504 0.45277995 0.43727486 0.43664839 0.41863743\n",
            " 0.43586531 0.48394675 0.47940486 0.45074393 0.46061081 0.47094753\n",
            " 0.48660924 0.50415035 0.49898199 0.50164448 0.50227095 0.49757244\n",
            " 0.47940486 0.47345341 0.46436962 0.48457322 0.47627251 0.50806578\n",
            " 0.51354738 0.54408771 0.54972592 0.54909945 0.53610023 0.56491778\n",
            " 0.58324197 0.59577134 0.58950666 0.5724354  0.58841034 0.58888019\n",
            " 0.5880971  0.5743148  0.57901331 0.59107283 0.58512138 0.61628818\n",
            " 0.61566171 0.62208301 0.61785435 0.60550499 0.60550499 0.61239076\n",
            " 0.62458271 0.63644969 0.64626992 0.65478873 0.66253459 0.67037714\n",
            " 0.67915344 0.68936443 0.70114869 0.71439475 0.72889829 0.74449652\n",
            " 0.76114786 0.77894336 0.79806674 0.81874257]\n",
            "17 day output [[0.84118545]]\n",
            "18 day input [0.58230227 0.54361785 0.54753328 0.56914644 0.52623336 0.53563038\n",
            " 0.52451057 0.55458105 0.51683634 0.51198121 0.49710258 0.51260767\n",
            " 0.48911511 0.4844166  0.49130775 0.46844166 0.50242756 0.44635865\n",
            " 0.4266249  0.45152702 0.47361002 0.4577917  0.47032106 0.49898199\n",
            " 0.5165231  0.50305403 0.49804229 0.52216132 0.50101801 0.51949883\n",
            " 0.51511355 0.49459671 0.46076742 0.42819107 0.3797964  0.48425998\n",
            " 0.46828504 0.45277995 0.43727486 0.43664839 0.41863743 0.43586531\n",
            " 0.48394675 0.47940486 0.45074393 0.46061081 0.47094753 0.48660924\n",
            " 0.50415035 0.49898199 0.50164448 0.50227095 0.49757244 0.47940486\n",
            " 0.47345341 0.46436962 0.48457322 0.47627251 0.50806578 0.51354738\n",
            " 0.54408771 0.54972592 0.54909945 0.53610023 0.56491778 0.58324197\n",
            " 0.59577134 0.58950666 0.5724354  0.58841034 0.58888019 0.5880971\n",
            " 0.5743148  0.57901331 0.59107283 0.58512138 0.61628818 0.61566171\n",
            " 0.62208301 0.61785435 0.60550499 0.60550499 0.61239076 0.62458271\n",
            " 0.63644969 0.64626992 0.65478873 0.66253459 0.67037714 0.67915344\n",
            " 0.68936443 0.70114869 0.71439475 0.72889829 0.74449652 0.76114786\n",
            " 0.77894336 0.79806674 0.81874257 0.84118545]\n",
            "18 day output [[0.8655746]]\n",
            "19 day input [0.54361785 0.54753328 0.56914644 0.52623336 0.53563038 0.52451057\n",
            " 0.55458105 0.51683634 0.51198121 0.49710258 0.51260767 0.48911511\n",
            " 0.4844166  0.49130775 0.46844166 0.50242756 0.44635865 0.4266249\n",
            " 0.45152702 0.47361002 0.4577917  0.47032106 0.49898199 0.5165231\n",
            " 0.50305403 0.49804229 0.52216132 0.50101801 0.51949883 0.51511355\n",
            " 0.49459671 0.46076742 0.42819107 0.3797964  0.48425998 0.46828504\n",
            " 0.45277995 0.43727486 0.43664839 0.41863743 0.43586531 0.48394675\n",
            " 0.47940486 0.45074393 0.46061081 0.47094753 0.48660924 0.50415035\n",
            " 0.49898199 0.50164448 0.50227095 0.49757244 0.47940486 0.47345341\n",
            " 0.46436962 0.48457322 0.47627251 0.50806578 0.51354738 0.54408771\n",
            " 0.54972592 0.54909945 0.53610023 0.56491778 0.58324197 0.59577134\n",
            " 0.58950666 0.5724354  0.58841034 0.58888019 0.5880971  0.5743148\n",
            " 0.57901331 0.59107283 0.58512138 0.61628818 0.61566171 0.62208301\n",
            " 0.61785435 0.60550499 0.60550499 0.61239076 0.62458271 0.63644969\n",
            " 0.64626992 0.65478873 0.66253459 0.67037714 0.67915344 0.68936443\n",
            " 0.70114869 0.71439475 0.72889829 0.74449652 0.76114786 0.77894336\n",
            " 0.79806674 0.81874257 0.84118545 0.8655746 ]\n",
            "19 day output [[0.8920576]]\n",
            "20 day input [0.54753328 0.56914644 0.52623336 0.53563038 0.52451057 0.55458105\n",
            " 0.51683634 0.51198121 0.49710258 0.51260767 0.48911511 0.4844166\n",
            " 0.49130775 0.46844166 0.50242756 0.44635865 0.4266249  0.45152702\n",
            " 0.47361002 0.4577917  0.47032106 0.49898199 0.5165231  0.50305403\n",
            " 0.49804229 0.52216132 0.50101801 0.51949883 0.51511355 0.49459671\n",
            " 0.46076742 0.42819107 0.3797964  0.48425998 0.46828504 0.45277995\n",
            " 0.43727486 0.43664839 0.41863743 0.43586531 0.48394675 0.47940486\n",
            " 0.45074393 0.46061081 0.47094753 0.48660924 0.50415035 0.49898199\n",
            " 0.50164448 0.50227095 0.49757244 0.47940486 0.47345341 0.46436962\n",
            " 0.48457322 0.47627251 0.50806578 0.51354738 0.54408771 0.54972592\n",
            " 0.54909945 0.53610023 0.56491778 0.58324197 0.59577134 0.58950666\n",
            " 0.5724354  0.58841034 0.58888019 0.5880971  0.5743148  0.57901331\n",
            " 0.59107283 0.58512138 0.61628818 0.61566171 0.62208301 0.61785435\n",
            " 0.60550499 0.60550499 0.61239076 0.62458271 0.63644969 0.64626992\n",
            " 0.65478873 0.66253459 0.67037714 0.67915344 0.68936443 0.70114869\n",
            " 0.71439475 0.72889829 0.74449652 0.76114786 0.77894336 0.79806674\n",
            " 0.81874257 0.84118545 0.8655746  0.8920576 ]\n",
            "20 day output [[0.9207593]]\n",
            "21 day input [0.56914644 0.52623336 0.53563038 0.52451057 0.55458105 0.51683634\n",
            " 0.51198121 0.49710258 0.51260767 0.48911511 0.4844166  0.49130775\n",
            " 0.46844166 0.50242756 0.44635865 0.4266249  0.45152702 0.47361002\n",
            " 0.4577917  0.47032106 0.49898199 0.5165231  0.50305403 0.49804229\n",
            " 0.52216132 0.50101801 0.51949883 0.51511355 0.49459671 0.46076742\n",
            " 0.42819107 0.3797964  0.48425998 0.46828504 0.45277995 0.43727486\n",
            " 0.43664839 0.41863743 0.43586531 0.48394675 0.47940486 0.45074393\n",
            " 0.46061081 0.47094753 0.48660924 0.50415035 0.49898199 0.50164448\n",
            " 0.50227095 0.49757244 0.47940486 0.47345341 0.46436962 0.48457322\n",
            " 0.47627251 0.50806578 0.51354738 0.54408771 0.54972592 0.54909945\n",
            " 0.53610023 0.56491778 0.58324197 0.59577134 0.58950666 0.5724354\n",
            " 0.58841034 0.58888019 0.5880971  0.5743148  0.57901331 0.59107283\n",
            " 0.58512138 0.61628818 0.61566171 0.62208301 0.61785435 0.60550499\n",
            " 0.60550499 0.61239076 0.62458271 0.63644969 0.64626992 0.65478873\n",
            " 0.66253459 0.67037714 0.67915344 0.68936443 0.70114869 0.71439475\n",
            " 0.72889829 0.74449652 0.76114786 0.77894336 0.79806674 0.81874257\n",
            " 0.84118545 0.8655746  0.8920576  0.92075932]\n",
            "21 day output [[0.9518074]]\n",
            "22 day input [0.52623336 0.53563038 0.52451057 0.55458105 0.51683634 0.51198121\n",
            " 0.49710258 0.51260767 0.48911511 0.4844166  0.49130775 0.46844166\n",
            " 0.50242756 0.44635865 0.4266249  0.45152702 0.47361002 0.4577917\n",
            " 0.47032106 0.49898199 0.5165231  0.50305403 0.49804229 0.52216132\n",
            " 0.50101801 0.51949883 0.51511355 0.49459671 0.46076742 0.42819107\n",
            " 0.3797964  0.48425998 0.46828504 0.45277995 0.43727486 0.43664839\n",
            " 0.41863743 0.43586531 0.48394675 0.47940486 0.45074393 0.46061081\n",
            " 0.47094753 0.48660924 0.50415035 0.49898199 0.50164448 0.50227095\n",
            " 0.49757244 0.47940486 0.47345341 0.46436962 0.48457322 0.47627251\n",
            " 0.50806578 0.51354738 0.54408771 0.54972592 0.54909945 0.53610023\n",
            " 0.56491778 0.58324197 0.59577134 0.58950666 0.5724354  0.58841034\n",
            " 0.58888019 0.5880971  0.5743148  0.57901331 0.59107283 0.58512138\n",
            " 0.61628818 0.61566171 0.62208301 0.61785435 0.60550499 0.60550499\n",
            " 0.61239076 0.62458271 0.63644969 0.64626992 0.65478873 0.66253459\n",
            " 0.67037714 0.67915344 0.68936443 0.70114869 0.71439475 0.72889829\n",
            " 0.74449652 0.76114786 0.77894336 0.79806674 0.81874257 0.84118545\n",
            " 0.8655746  0.8920576  0.92075932 0.95180738]\n",
            "22 day output [[0.98534167]]\n",
            "23 day input [0.53563038 0.52451057 0.55458105 0.51683634 0.51198121 0.49710258\n",
            " 0.51260767 0.48911511 0.4844166  0.49130775 0.46844166 0.50242756\n",
            " 0.44635865 0.4266249  0.45152702 0.47361002 0.4577917  0.47032106\n",
            " 0.49898199 0.5165231  0.50305403 0.49804229 0.52216132 0.50101801\n",
            " 0.51949883 0.51511355 0.49459671 0.46076742 0.42819107 0.3797964\n",
            " 0.48425998 0.46828504 0.45277995 0.43727486 0.43664839 0.41863743\n",
            " 0.43586531 0.48394675 0.47940486 0.45074393 0.46061081 0.47094753\n",
            " 0.48660924 0.50415035 0.49898199 0.50164448 0.50227095 0.49757244\n",
            " 0.47940486 0.47345341 0.46436962 0.48457322 0.47627251 0.50806578\n",
            " 0.51354738 0.54408771 0.54972592 0.54909945 0.53610023 0.56491778\n",
            " 0.58324197 0.59577134 0.58950666 0.5724354  0.58841034 0.58888019\n",
            " 0.5880971  0.5743148  0.57901331 0.59107283 0.58512138 0.61628818\n",
            " 0.61566171 0.62208301 0.61785435 0.60550499 0.60550499 0.61239076\n",
            " 0.62458271 0.63644969 0.64626992 0.65478873 0.66253459 0.67037714\n",
            " 0.67915344 0.68936443 0.70114869 0.71439475 0.72889829 0.74449652\n",
            " 0.76114786 0.77894336 0.79806674 0.81874257 0.84118545 0.8655746\n",
            " 0.8920576  0.92075932 0.95180738 0.98534167]\n",
            "23 day output [[1.0215118]]\n",
            "24 day input [0.52451057 0.55458105 0.51683634 0.51198121 0.49710258 0.51260767\n",
            " 0.48911511 0.4844166  0.49130775 0.46844166 0.50242756 0.44635865\n",
            " 0.4266249  0.45152702 0.47361002 0.4577917  0.47032106 0.49898199\n",
            " 0.5165231  0.50305403 0.49804229 0.52216132 0.50101801 0.51949883\n",
            " 0.51511355 0.49459671 0.46076742 0.42819107 0.3797964  0.48425998\n",
            " 0.46828504 0.45277995 0.43727486 0.43664839 0.41863743 0.43586531\n",
            " 0.48394675 0.47940486 0.45074393 0.46061081 0.47094753 0.48660924\n",
            " 0.50415035 0.49898199 0.50164448 0.50227095 0.49757244 0.47940486\n",
            " 0.47345341 0.46436962 0.48457322 0.47627251 0.50806578 0.51354738\n",
            " 0.54408771 0.54972592 0.54909945 0.53610023 0.56491778 0.58324197\n",
            " 0.59577134 0.58950666 0.5724354  0.58841034 0.58888019 0.5880971\n",
            " 0.5743148  0.57901331 0.59107283 0.58512138 0.61628818 0.61566171\n",
            " 0.62208301 0.61785435 0.60550499 0.60550499 0.61239076 0.62458271\n",
            " 0.63644969 0.64626992 0.65478873 0.66253459 0.67037714 0.67915344\n",
            " 0.68936443 0.70114869 0.71439475 0.72889829 0.74449652 0.76114786\n",
            " 0.77894336 0.79806674 0.81874257 0.84118545 0.8655746  0.8920576\n",
            " 0.92075932 0.95180738 0.98534167 1.02151179]\n",
            "24 day output [[1.0604663]]\n",
            "25 day input [0.55458105 0.51683634 0.51198121 0.49710258 0.51260767 0.48911511\n",
            " 0.4844166  0.49130775 0.46844166 0.50242756 0.44635865 0.4266249\n",
            " 0.45152702 0.47361002 0.4577917  0.47032106 0.49898199 0.5165231\n",
            " 0.50305403 0.49804229 0.52216132 0.50101801 0.51949883 0.51511355\n",
            " 0.49459671 0.46076742 0.42819107 0.3797964  0.48425998 0.46828504\n",
            " 0.45277995 0.43727486 0.43664839 0.41863743 0.43586531 0.48394675\n",
            " 0.47940486 0.45074393 0.46061081 0.47094753 0.48660924 0.50415035\n",
            " 0.49898199 0.50164448 0.50227095 0.49757244 0.47940486 0.47345341\n",
            " 0.46436962 0.48457322 0.47627251 0.50806578 0.51354738 0.54408771\n",
            " 0.54972592 0.54909945 0.53610023 0.56491778 0.58324197 0.59577134\n",
            " 0.58950666 0.5724354  0.58841034 0.58888019 0.5880971  0.5743148\n",
            " 0.57901331 0.59107283 0.58512138 0.61628818 0.61566171 0.62208301\n",
            " 0.61785435 0.60550499 0.60550499 0.61239076 0.62458271 0.63644969\n",
            " 0.64626992 0.65478873 0.66253459 0.67037714 0.67915344 0.68936443\n",
            " 0.70114869 0.71439475 0.72889829 0.74449652 0.76114786 0.77894336\n",
            " 0.79806674 0.81874257 0.84118545 0.8655746  0.8920576  0.92075932\n",
            " 0.95180738 0.98534167 1.02151179 1.06046629]\n",
            "25 day output [[1.1023262]]\n",
            "26 day input [0.51683634 0.51198121 0.49710258 0.51260767 0.48911511 0.4844166\n",
            " 0.49130775 0.46844166 0.50242756 0.44635865 0.4266249  0.45152702\n",
            " 0.47361002 0.4577917  0.47032106 0.49898199 0.5165231  0.50305403\n",
            " 0.49804229 0.52216132 0.50101801 0.51949883 0.51511355 0.49459671\n",
            " 0.46076742 0.42819107 0.3797964  0.48425998 0.46828504 0.45277995\n",
            " 0.43727486 0.43664839 0.41863743 0.43586531 0.48394675 0.47940486\n",
            " 0.45074393 0.46061081 0.47094753 0.48660924 0.50415035 0.49898199\n",
            " 0.50164448 0.50227095 0.49757244 0.47940486 0.47345341 0.46436962\n",
            " 0.48457322 0.47627251 0.50806578 0.51354738 0.54408771 0.54972592\n",
            " 0.54909945 0.53610023 0.56491778 0.58324197 0.59577134 0.58950666\n",
            " 0.5724354  0.58841034 0.58888019 0.5880971  0.5743148  0.57901331\n",
            " 0.59107283 0.58512138 0.61628818 0.61566171 0.62208301 0.61785435\n",
            " 0.60550499 0.60550499 0.61239076 0.62458271 0.63644969 0.64626992\n",
            " 0.65478873 0.66253459 0.67037714 0.67915344 0.68936443 0.70114869\n",
            " 0.71439475 0.72889829 0.74449652 0.76114786 0.77894336 0.79806674\n",
            " 0.81874257 0.84118545 0.8655746  0.8920576  0.92075932 0.95180738\n",
            " 0.98534167 1.02151179 1.06046629 1.10232615]\n",
            "26 day output [[1.147162]]\n",
            "27 day input [0.51198121 0.49710258 0.51260767 0.48911511 0.4844166  0.49130775\n",
            " 0.46844166 0.50242756 0.44635865 0.4266249  0.45152702 0.47361002\n",
            " 0.4577917  0.47032106 0.49898199 0.5165231  0.50305403 0.49804229\n",
            " 0.52216132 0.50101801 0.51949883 0.51511355 0.49459671 0.46076742\n",
            " 0.42819107 0.3797964  0.48425998 0.46828504 0.45277995 0.43727486\n",
            " 0.43664839 0.41863743 0.43586531 0.48394675 0.47940486 0.45074393\n",
            " 0.46061081 0.47094753 0.48660924 0.50415035 0.49898199 0.50164448\n",
            " 0.50227095 0.49757244 0.47940486 0.47345341 0.46436962 0.48457322\n",
            " 0.47627251 0.50806578 0.51354738 0.54408771 0.54972592 0.54909945\n",
            " 0.53610023 0.56491778 0.58324197 0.59577134 0.58950666 0.5724354\n",
            " 0.58841034 0.58888019 0.5880971  0.5743148  0.57901331 0.59107283\n",
            " 0.58512138 0.61628818 0.61566171 0.62208301 0.61785435 0.60550499\n",
            " 0.60550499 0.61239076 0.62458271 0.63644969 0.64626992 0.65478873\n",
            " 0.66253459 0.67037714 0.67915344 0.68936443 0.70114869 0.71439475\n",
            " 0.72889829 0.74449652 0.76114786 0.77894336 0.79806674 0.81874257\n",
            " 0.84118545 0.8655746  0.8920576  0.92075932 0.95180738 0.98534167\n",
            " 1.02151179 1.06046629 1.10232615 1.14716196]\n",
            "27 day output [[1.1949712]]\n",
            "28 day input [0.49710258 0.51260767 0.48911511 0.4844166  0.49130775 0.46844166\n",
            " 0.50242756 0.44635865 0.4266249  0.45152702 0.47361002 0.4577917\n",
            " 0.47032106 0.49898199 0.5165231  0.50305403 0.49804229 0.52216132\n",
            " 0.50101801 0.51949883 0.51511355 0.49459671 0.46076742 0.42819107\n",
            " 0.3797964  0.48425998 0.46828504 0.45277995 0.43727486 0.43664839\n",
            " 0.41863743 0.43586531 0.48394675 0.47940486 0.45074393 0.46061081\n",
            " 0.47094753 0.48660924 0.50415035 0.49898199 0.50164448 0.50227095\n",
            " 0.49757244 0.47940486 0.47345341 0.46436962 0.48457322 0.47627251\n",
            " 0.50806578 0.51354738 0.54408771 0.54972592 0.54909945 0.53610023\n",
            " 0.56491778 0.58324197 0.59577134 0.58950666 0.5724354  0.58841034\n",
            " 0.58888019 0.5880971  0.5743148  0.57901331 0.59107283 0.58512138\n",
            " 0.61628818 0.61566171 0.62208301 0.61785435 0.60550499 0.60550499\n",
            " 0.61239076 0.62458271 0.63644969 0.64626992 0.65478873 0.66253459\n",
            " 0.67037714 0.67915344 0.68936443 0.70114869 0.71439475 0.72889829\n",
            " 0.74449652 0.76114786 0.77894336 0.79806674 0.81874257 0.84118545\n",
            " 0.8655746  0.8920576  0.92075932 0.95180738 0.98534167 1.02151179\n",
            " 1.06046629 1.10232615 1.14716196 1.1949712 ]\n",
            "28 day output [[1.2456634]]\n",
            "29 day input [0.51260767 0.48911511 0.4844166  0.49130775 0.46844166 0.50242756\n",
            " 0.44635865 0.4266249  0.45152702 0.47361002 0.4577917  0.47032106\n",
            " 0.49898199 0.5165231  0.50305403 0.49804229 0.52216132 0.50101801\n",
            " 0.51949883 0.51511355 0.49459671 0.46076742 0.42819107 0.3797964\n",
            " 0.48425998 0.46828504 0.45277995 0.43727486 0.43664839 0.41863743\n",
            " 0.43586531 0.48394675 0.47940486 0.45074393 0.46061081 0.47094753\n",
            " 0.48660924 0.50415035 0.49898199 0.50164448 0.50227095 0.49757244\n",
            " 0.47940486 0.47345341 0.46436962 0.48457322 0.47627251 0.50806578\n",
            " 0.51354738 0.54408771 0.54972592 0.54909945 0.53610023 0.56491778\n",
            " 0.58324197 0.59577134 0.58950666 0.5724354  0.58841034 0.58888019\n",
            " 0.5880971  0.5743148  0.57901331 0.59107283 0.58512138 0.61628818\n",
            " 0.61566171 0.62208301 0.61785435 0.60550499 0.60550499 0.61239076\n",
            " 0.62458271 0.63644969 0.64626992 0.65478873 0.66253459 0.67037714\n",
            " 0.67915344 0.68936443 0.70114869 0.71439475 0.72889829 0.74449652\n",
            " 0.76114786 0.77894336 0.79806674 0.81874257 0.84118545 0.8655746\n",
            " 0.8920576  0.92075932 0.95180738 0.98534167 1.02151179 1.06046629\n",
            " 1.10232615 1.14716196 1.1949712  1.2456634 ]\n",
            "29 day output [[1.2990439]]\n",
            "30 day input [0.48911511 0.4844166  0.49130775 0.46844166 0.50242756 0.44635865\n",
            " 0.4266249  0.45152702 0.47361002 0.4577917  0.47032106 0.49898199\n",
            " 0.5165231  0.50305403 0.49804229 0.52216132 0.50101801 0.51949883\n",
            " 0.51511355 0.49459671 0.46076742 0.42819107 0.3797964  0.48425998\n",
            " 0.46828504 0.45277995 0.43727486 0.43664839 0.41863743 0.43586531\n",
            " 0.48394675 0.47940486 0.45074393 0.46061081 0.47094753 0.48660924\n",
            " 0.50415035 0.49898199 0.50164448 0.50227095 0.49757244 0.47940486\n",
            " 0.47345341 0.46436962 0.48457322 0.47627251 0.50806578 0.51354738\n",
            " 0.54408771 0.54972592 0.54909945 0.53610023 0.56491778 0.58324197\n",
            " 0.59577134 0.58950666 0.5724354  0.58841034 0.58888019 0.5880971\n",
            " 0.5743148  0.57901331 0.59107283 0.58512138 0.61628818 0.61566171\n",
            " 0.62208301 0.61785435 0.60550499 0.60550499 0.61239076 0.62458271\n",
            " 0.63644969 0.64626992 0.65478873 0.66253459 0.67037714 0.67915344\n",
            " 0.68936443 0.70114869 0.71439475 0.72889829 0.74449652 0.76114786\n",
            " 0.77894336 0.79806674 0.81874257 0.84118545 0.8655746  0.8920576\n",
            " 0.92075932 0.95180738 0.98534167 1.02151179 1.06046629 1.10232615\n",
            " 1.14716196 1.1949712  1.2456634  1.29904389]\n",
            "30 day output [[1.3548082]]\n"
          ]
        }
      ]
    },
    {
      "cell_type": "code",
      "source": [
        "# plotting the actual data, and the next 30 days' prediction \n",
        "\n",
        "day_new=np.arange(1,100)\n",
        "day_pred=np.arange(100,131)"
      ],
      "metadata": {
        "id": "0kTQKiJnR71p"
      },
      "execution_count": null,
      "outputs": []
    },
    {
      "cell_type": "code",
      "source": [
        "plt.plot(day_new,scaler.inverse_transform(df1[1158:]))\n",
        "plt.plot(day_pred,scaler.inverse_transform(lst_output))\n"
      ],
      "metadata": {
        "id": "e_XGobY4SEE3",
        "colab": {
          "base_uri": "https://localhost:8080/",
          "height": 283
        },
        "outputId": "bee1dbda-1d2b-4be2-f8c7-6ac68fa0f47f"
      },
      "execution_count": null,
      "outputs": [
        {
          "output_type": "execute_result",
          "data": {
            "text/plain": [
              "[<matplotlib.lines.Line2D at 0x7fb3ed581890>]"
            ]
          },
          "metadata": {},
          "execution_count": 63
        },
        {
          "output_type": "display_data",
          "data": {
            "text/plain": [
              "<Figure size 432x288 with 1 Axes>"
            ],
            "image/png": "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\n"
          },
          "metadata": {
            "needs_background": "light"
          }
        }
      ]
    },
    {
      "cell_type": "code",
      "source": [
        "## lets see the combined output also \n",
        "df3=df1.tolist()\n",
        "df3.extend(lst_output)\n",
        "plt.plot(df3[1200:])"
      ],
      "metadata": {
        "id": "7KCqymOuS6W7",
        "colab": {
          "base_uri": "https://localhost:8080/",
          "height": 287
        },
        "outputId": "546b8140-b2b1-44e1-db39-fed0205edf97"
      },
      "execution_count": null,
      "outputs": [
        {
          "output_type": "execute_result",
          "data": {
            "text/plain": [
              "[<matplotlib.lines.Line2D at 0x7fb3ed52c750>]"
            ]
          },
          "metadata": {},
          "execution_count": 64
        },
        {
          "output_type": "display_data",
          "data": {
            "text/plain": [
              "<Figure size 432x288 with 1 Axes>"
            ],
            "image/png": "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\n"
          },
          "metadata": {
            "needs_background": "light"
          }
        }
      ]
    },
    {
      "cell_type": "code",
      "source": [
        "df3=scaler.inverse_transform(df3).tolist()\n",
        "plt.plot(df3)\n",
        "\n",
        "## here is the whole complete graph "
      ],
      "metadata": {
        "colab": {
          "base_uri": "https://localhost:8080/",
          "height": 283
        },
        "id": "BZauzjxZBP20",
        "outputId": "6efb28c6-5271-44dd-a03c-7abf5ed06015"
      },
      "execution_count": null,
      "outputs": [
        {
          "output_type": "execute_result",
          "data": {
            "text/plain": [
              "[<matplotlib.lines.Line2D at 0x7fb3ed73fc50>]"
            ]
          },
          "metadata": {},
          "execution_count": 65
        },
        {
          "output_type": "display_data",
          "data": {
            "text/plain": [
              "<Figure size 432x288 with 1 Axes>"
            ],
            "image/png": "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\n"
          },
          "metadata": {
            "needs_background": "light"
          }
        }
      ]
    }
  ]
}