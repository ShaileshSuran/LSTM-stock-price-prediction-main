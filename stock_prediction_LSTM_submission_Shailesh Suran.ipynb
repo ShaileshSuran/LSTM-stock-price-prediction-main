{
  "nbformat": 4,
  "nbformat_minor": 0,
  "metadata": {
    "colab": {
      "name": " stock prediction LSTM submission Shailesh Suran.ipynb",
      "provenance": [],
      "collapsed_sections": []
    },
    "kernelspec": {
      "name": "python3",
      "display_name": "Python 3"
    },
    "language_info": {
      "name": "python"
    }
  },
  "cells": [
    {
      "cell_type": "code",
      "source": [
        "import pandas as pd\n",
        "import matplotlib.pyplot as plt\n",
        "import numpy as np\n",
        "import math\n"
      ],
      "metadata": {
        "id": "tMhpLLih38YF"
      },
      "execution_count": 2,
      "outputs": []
    },
    {
      "cell_type": "code",
      "source": [
        "### Data Collection using TIINGO ( this was a good resource i found, i was having some problem with Investing.com) to collect past data of the stock \n",
        "import pandas_datareader as pdr\n",
        "key=\"8f291cc13ac10b56a0b393bba2debea47ca99268\""
      ],
      "metadata": {
        "id": "WhE-cjl-yhli"
      },
      "execution_count": 3,
      "outputs": []
    },
    {
      "cell_type": "code",
      "source": [
        "df = pdr.get_data_tiingo('AAPL', api_key=key)\n"
      ],
      "metadata": {
        "colab": {
          "base_uri": "https://localhost:8080/"
        },
        "id": "xNqJtFWt2Bsd",
        "outputId": "7385bd4d-1d80-4cf4-930c-1e589a58dbf0"
      },
      "execution_count": 4,
      "outputs": [
        {
          "output_type": "stream",
          "name": "stderr",
          "text": [
            "/usr/local/lib/python3.7/dist-packages/pandas_datareader/tiingo.py:234: FutureWarning: In a future version of pandas all arguments of concat except for the argument 'objs' will be keyword-only\n",
            "  return pd.concat(dfs, self._concat_axis)\n"
          ]
        }
      ]
    },
    {
      "cell_type": "code",
      "source": [
        "df.to_csv('AAPL.csv')\n"
      ],
      "metadata": {
        "id": "at7KKgoy2EkG"
      },
      "execution_count": 5,
      "outputs": []
    },
    {
      "cell_type": "code",
      "source": [
        "df = pd.read_csv('AAPL.csv')"
      ],
      "metadata": {
        "id": "bByeHVWD3_in"
      },
      "execution_count": 6,
      "outputs": []
    },
    {
      "cell_type": "code",
      "source": [
        "### since we are going to precdict the closing price of the stock the next day, we will only be using the close price of the stock \n",
        "\n",
        "df1 = df.reset_index()['close']"
      ],
      "metadata": {
        "id": "uH2ZKmm84NGg"
      },
      "execution_count": 7,
      "outputs": []
    },
    {
      "cell_type": "code",
      "source": [
        "#plotting the data for a better visual \n",
        "\n",
        "plt.plot(df1)"
      ],
      "metadata": {
        "colab": {
          "base_uri": "https://localhost:8080/",
          "height": 283
        },
        "id": "kFhFvfbi40jD",
        "outputId": "dfac5a81-656c-4c11-fbca-29a93f94a32f"
      },
      "execution_count": 8,
      "outputs": [
        {
          "output_type": "execute_result",
          "data": {
            "text/plain": [
              "[<matplotlib.lines.Line2D at 0x7f0f71b02550>]"
            ]
          },
          "metadata": {},
          "execution_count": 8
        },
        {
          "output_type": "display_data",
          "data": {
            "text/plain": [
              "<Figure size 432x288 with 1 Axes>"
            ],
            "image/png": "[encoded data removed]"
          },
          "metadata": {
            "needs_background": "light"
          }
        }
      ]
    },
    {
      "cell_type": "code",
      "source": [
        "df1.shape\n"
      ],
      "metadata": {
        "colab": {
          "base_uri": "https://localhost:8080/"
        },
        "id": "5Vo6k7X1SlWH",
        "outputId": "841601b6-4c91-49a8-d873-2e7cc29112ef"
      },
      "execution_count": 9,
      "outputs": [
        {
          "output_type": "execute_result",
          "data": {
            "text/plain": [
              "(1258,)"
            ]
          },
          "metadata": {},
          "execution_count": 9
        }
      ]
    },
    {
      "cell_type": "code",
      "source": [
        "### scaling the values if important since LSTM can be sensitive, so using the MinMax scaler and scaling it between 0 and 1  \n",
        "\n",
        "from sklearn.preprocessing import MinMaxScaler\n",
        "scaler = MinMaxScaler(feature_range=(0,1))\n",
        "df1 = scaler.fit_transform(np.array(df1).reshape(-1,1))\n",
        "\n",
        "## so here we have completed collecting the data "
      ],
      "metadata": {
        "id": "MqwD67yr5Qub"
      },
      "execution_count": 10,
      "outputs": []
    },
    {
      "cell_type": "code",
      "source": [
        "## now moving onto preprocessing the data \n",
        "## to make the test - train split, since it is a time series data we cannot use cross validation or random seed\n",
        "## so here i will take a 65 - 35 % train - test split here \n",
        "\n",
        "training_size = int (len(df1)*0.65)\n",
        "test_size = len(df1) - training_size\n",
        "\n",
        "train_data= df1[0 : training_size , :] \n",
        "test_data = df1[training_size : len(df1) , :] \n",
        "\n",
        "\n",
        "\n"
      ],
      "metadata": {
        "id": "ceSDejo26ceA"
      },
      "execution_count": 11,
      "outputs": []
    },
    {
      "cell_type": "code",
      "source": [
        "### Now doing the actual preprocessing\n",
        "### so now we will be creating timesteps of length 100 \n",
        "\n",
        "def create_dataset ( dataset , time_step = 1):\n",
        "  dataX , dataY = [] , []\n",
        "  for i in range (len(dataset) - time_step - 1 ):\n",
        "    row = dataset[i : (i + time_step) ,  0 ]\n",
        "    dataX.append(row)\n",
        "    dataY.append(dataset[i + time_step , 0])\n",
        "  \n",
        "  return np.array(dataX) , np.array(dataY)\n",
        "\n"
      ],
      "metadata": {
        "id": "orjdsaAy-UKl"
      },
      "execution_count": 12,
      "outputs": []
    },
    {
      "cell_type": "code",
      "source": [
        "time_step = 100; \n",
        "\n",
        "X_train , Y_train = create_dataset( train_data , time_step)\n",
        "X_test , Y_test = create_dataset(test_data, time_step)\n"
      ],
      "metadata": {
        "id": "EyzlGMIJhO1d"
      },
      "execution_count": 13,
      "outputs": []
    },
    {
      "cell_type": "code",
      "source": [
        "### Now creating the LSTM model \n",
        "\n",
        "## since LSTM needs another dimension to the input data set, adding it \n",
        "\n",
        "X_train = X_train.reshape(X_train.shape[0], X_train.shape[1], 1)\n",
        "X_test = X_test.reshape(X_test.shape[0], X_test.shape[1], 1)"
      ],
      "metadata": {
        "id": "vxORGMiSiMH9"
      },
      "execution_count": 14,
      "outputs": []
    },
    {
      "cell_type": "code",
      "source": [
        "### importing dependencies\n",
        "\n",
        "from tensorflow.keras.models import Sequential\n",
        "from tensorflow.keras.layers import Dense \n",
        "from tensorflow.keras.layers import LSTM"
      ],
      "metadata": {
        "id": "DjQzggFREWRN"
      },
      "execution_count": 15,
      "outputs": []
    },
    {
      "cell_type": "code",
      "source": [
        "### creating the LSTM model \n",
        "\n",
        "model = Sequential()\n",
        "\n",
        "model.add(LSTM(50, return_sequences = True , input_shape = (time_step , 1)))\n",
        "model.add(LSTM(50 , return_sequences = True))\n",
        "model.add(LSTM(50))\n",
        "model.add(Dense(1))\n",
        "model.compile( loss = 'mean_squared_error' , optimizer = 'adam')"
      ],
      "metadata": {
        "id": "gJVPxOrEFCyM"
      },
      "execution_count": 16,
      "outputs": []
    },
    {
      "cell_type": "code",
      "source": [
        "model.summary()"
      ],
      "metadata": {
        "colab": {
          "base_uri": "https://localhost:8080/"
        },
        "id": "8QOu43lwGS7t",
        "outputId": "35baf82a-42ce-4145-e35e-678e31650f56"
      },
      "execution_count": 17,
      "outputs": [
        {
          "output_type": "stream",
          "name": "stdout",
          "text": [
            "Model: \"sequential\"\n",
            "_________________________________________________________________\n",
            " Layer (type)                Output Shape              Param #   \n",
            "=================================================================\n",
            " lstm (LSTM)                 (None, 100, 50)           10400     \n",
            "                                                                 \n",
            " lstm_1 (LSTM)               (None, 100, 50)           20200     \n",
            "                                                                 \n",
            " lstm_2 (LSTM)               (None, 50)                20200     \n",
            "                                                                 \n",
            " dense (Dense)               (None, 1)                 51        \n",
            "                                                                 \n",
            "=================================================================\n",
            "Total params: 50,851\n",
            "Trainable params: 50,851\n",
            "Non-trainable params: 0\n",
            "_________________________________________________________________\n"
          ]
        }
      ]
    },
    {
      "cell_type": "code",
      "source": [
        "### training the model \n",
        "\n",
        "model.fit(X_train , Y_train, validation_data = (X_test , Y_test), epochs = 100, batch_size = 64, verbose = 1)"
      ],
      "metadata": {
        "colab": {
          "base_uri": "https://localhost:8080/"
        },
        "id": "Fl3sb0i1GdBv",
        "outputId": "65f15d44-69c0-4a47-9aef-6365eef030cc"
      },
      "execution_count": 18,
      "outputs": [
        {
          "output_type": "stream",
          "name": "stdout",
          "text": [
            "Epoch 1/100\n",
            "12/12 [==============================] - 9s 317ms/step - loss: 0.0377 - val_loss: 0.0030\n",
            "Epoch 2/100\n",
            "12/12 [==============================] - 2s 201ms/step - loss: 0.0133 - val_loss: 0.0102\n",
            "Epoch 3/100\n",
            "12/12 [==============================] - 2s 198ms/step - loss: 0.0108 - val_loss: 0.0015\n",
            "Epoch 4/100\n",
            "12/12 [==============================] - 2s 194ms/step - loss: 0.0090 - val_loss: 3.4787e-04\n",
            "Epoch 5/100\n",
            "12/12 [==============================] - 2s 194ms/step - loss: 0.0090 - val_loss: 4.4757e-04\n",
            "Epoch 6/100\n",
            "12/12 [==============================] - 2s 196ms/step - loss: 0.0084 - val_loss: 7.1619e-04\n",
            "Epoch 7/100\n",
            "12/12 [==============================] - 2s 198ms/step - loss: 0.0083 - val_loss: 4.3098e-04\n",
            "Epoch 8/100\n",
            "12/12 [==============================] - 2s 193ms/step - loss: 0.0081 - val_loss: 3.4786e-04\n",
            "Epoch 9/100\n",
            "12/12 [==============================] - 2s 198ms/step - loss: 0.0081 - val_loss: 3.2808e-04\n",
            "Epoch 10/100\n",
            "12/12 [==============================] - 2s 196ms/step - loss: 0.0086 - val_loss: 0.0011\n",
            "Epoch 11/100\n",
            "12/12 [==============================] - 2s 197ms/step - loss: 0.0077 - val_loss: 0.0014\n",
            "Epoch 12/100\n",
            "12/12 [==============================] - 2s 195ms/step - loss: 0.0089 - val_loss: 3.2763e-04\n",
            "Epoch 13/100\n",
            "12/12 [==============================] - 2s 194ms/step - loss: 0.0079 - val_loss: 5.1040e-04\n",
            "Epoch 14/100\n",
            "12/12 [==============================] - 2s 194ms/step - loss: 0.0068 - val_loss: 2.7411e-04\n",
            "Epoch 15/100\n",
            "12/12 [==============================] - 2s 209ms/step - loss: 0.0070 - val_loss: 6.1604e-04\n",
            "Epoch 16/100\n",
            "12/12 [==============================] - 3s 258ms/step - loss: 0.0057 - val_loss: 7.4216e-04\n",
            "Epoch 17/100\n",
            "12/12 [==============================] - 2s 198ms/step - loss: 0.0055 - val_loss: 8.7899e-04\n",
            "Epoch 18/100\n",
            "12/12 [==============================] - 2s 197ms/step - loss: 0.0054 - val_loss: 7.7284e-04\n",
            "Epoch 19/100\n",
            "12/12 [==============================] - 2s 196ms/step - loss: 0.0051 - val_loss: 5.6377e-04\n",
            "Epoch 20/100\n",
            "12/12 [==============================] - 2s 196ms/step - loss: 0.0039 - val_loss: 9.5912e-04\n",
            "Epoch 21/100\n",
            "12/12 [==============================] - 2s 198ms/step - loss: 0.0035 - val_loss: 6.6973e-04\n",
            "Epoch 22/100\n",
            "12/12 [==============================] - 2s 193ms/step - loss: 0.0034 - val_loss: 0.0012\n",
            "Epoch 23/100\n",
            "12/12 [==============================] - 2s 197ms/step - loss: 0.0030 - val_loss: 5.9588e-04\n",
            "Epoch 24/100\n",
            "12/12 [==============================] - 2s 198ms/step - loss: 0.0031 - val_loss: 7.1022e-04\n",
            "Epoch 25/100\n",
            "12/12 [==============================] - 2s 197ms/step - loss: 0.0031 - val_loss: 7.0751e-04\n",
            "Epoch 26/100\n",
            "12/12 [==============================] - 2s 196ms/step - loss: 0.0028 - val_loss: 7.0845e-04\n",
            "Epoch 27/100\n",
            "12/12 [==============================] - 2s 195ms/step - loss: 0.0028 - val_loss: 4.3497e-04\n",
            "Epoch 28/100\n",
            "12/12 [==============================] - 2s 196ms/step - loss: 0.0025 - val_loss: 2.7052e-04\n",
            "Epoch 29/100\n",
            "12/12 [==============================] - 3s 246ms/step - loss: 0.0025 - val_loss: 4.7823e-04\n",
            "Epoch 30/100\n",
            "12/12 [==============================] - 2s 199ms/step - loss: 0.0024 - val_loss: 2.7269e-04\n",
            "Epoch 31/100\n",
            "12/12 [==============================] - 2s 199ms/step - loss: 0.0024 - val_loss: 3.0985e-04\n",
            "Epoch 32/100\n",
            "12/12 [==============================] - 2s 202ms/step - loss: 0.0027 - val_loss: 1.9775e-04\n",
            "Epoch 33/100\n",
            "12/12 [==============================] - 2s 197ms/step - loss: 0.0025 - val_loss: 1.9214e-04\n",
            "Epoch 34/100\n",
            "12/12 [==============================] - 2s 196ms/step - loss: 0.0022 - val_loss: 2.1203e-04\n",
            "Epoch 35/100\n",
            "12/12 [==============================] - 2s 198ms/step - loss: 0.0020 - val_loss: 3.0463e-04\n",
            "Epoch 36/100\n",
            "12/12 [==============================] - 2s 197ms/step - loss: 0.0023 - val_loss: 2.4992e-04\n",
            "Epoch 37/100\n",
            "12/12 [==============================] - 2s 199ms/step - loss: 0.0021 - val_loss: 2.7811e-04\n",
            "Epoch 38/100\n",
            "12/12 [==============================] - 2s 196ms/step - loss: 0.0056 - val_loss: 2.0956e-04\n",
            "Epoch 39/100\n",
            "12/12 [==============================] - 2s 196ms/step - loss: 0.0036 - val_loss: 2.3539e-04\n",
            "Epoch 40/100\n",
            "12/12 [==============================] - 3s 236ms/step - loss: 0.0023 - val_loss: 2.2342e-04\n",
            "Epoch 41/100\n",
            "12/12 [==============================] - 2s 196ms/step - loss: 0.0024 - val_loss: 3.0160e-04\n",
            "Epoch 42/100\n",
            "12/12 [==============================] - 2s 198ms/step - loss: 0.0023 - val_loss: 2.0212e-04\n",
            "Epoch 43/100\n",
            "12/12 [==============================] - 2s 197ms/step - loss: 0.0018 - val_loss: 1.8931e-04\n",
            "Epoch 44/100\n",
            "12/12 [==============================] - 2s 202ms/step - loss: 0.0030 - val_loss: 2.5860e-04\n",
            "Epoch 45/100\n",
            "12/12 [==============================] - 2s 204ms/step - loss: 0.0028 - val_loss: 3.1694e-04\n",
            "Epoch 46/100\n",
            "12/12 [==============================] - 2s 199ms/step - loss: 0.0022 - val_loss: 2.6859e-04\n",
            "Epoch 47/100\n",
            "12/12 [==============================] - 2s 201ms/step - loss: 0.0020 - val_loss: 2.1649e-04\n",
            "Epoch 48/100\n",
            "12/12 [==============================] - 2s 200ms/step - loss: 0.0033 - val_loss: 2.7423e-04\n",
            "Epoch 49/100\n",
            "12/12 [==============================] - 2s 200ms/step - loss: 0.0027 - val_loss: 5.1761e-04\n",
            "Epoch 50/100\n",
            "12/12 [==============================] - 2s 202ms/step - loss: 0.0018 - val_loss: 2.2159e-04\n",
            "Epoch 51/100\n",
            "12/12 [==============================] - 2s 204ms/step - loss: 0.0019 - val_loss: 2.9490e-04\n",
            "Epoch 52/100\n",
            "12/12 [==============================] - 2s 199ms/step - loss: 0.0023 - val_loss: 2.4894e-04\n",
            "Epoch 53/100\n",
            "12/12 [==============================] - 2s 201ms/step - loss: 0.0026 - val_loss: 4.0491e-04\n",
            "Epoch 54/100\n",
            "12/12 [==============================] - 2s 197ms/step - loss: 0.0021 - val_loss: 1.9582e-04\n",
            "Epoch 55/100\n",
            "12/12 [==============================] - 2s 200ms/step - loss: 0.0018 - val_loss: 1.8773e-04\n",
            "Epoch 56/100\n",
            "12/12 [==============================] - 2s 198ms/step - loss: 0.0017 - val_loss: 1.8936e-04\n",
            "Epoch 57/100\n",
            "12/12 [==============================] - 2s 198ms/step - loss: 0.0018 - val_loss: 3.1893e-04\n",
            "Epoch 58/100\n",
            "12/12 [==============================] - 2s 200ms/step - loss: 0.0018 - val_loss: 2.2301e-04\n",
            "Epoch 59/100\n",
            "12/12 [==============================] - 2s 201ms/step - loss: 0.0022 - val_loss: 3.1763e-04\n",
            "Epoch 60/100\n",
            "12/12 [==============================] - 2s 204ms/step - loss: 0.0015 - val_loss: 2.1244e-04\n",
            "Epoch 61/100\n",
            "12/12 [==============================] - 2s 200ms/step - loss: 0.0017 - val_loss: 2.0845e-04\n",
            "Epoch 62/100\n",
            "12/12 [==============================] - 2s 200ms/step - loss: 0.0016 - val_loss: 1.9970e-04\n",
            "Epoch 63/100\n",
            "12/12 [==============================] - 2s 202ms/step - loss: 0.0016 - val_loss: 2.2726e-04\n",
            "Epoch 64/100\n",
            "12/12 [==============================] - 2s 195ms/step - loss: 0.0014 - val_loss: 2.0436e-04\n",
            "Epoch 65/100\n",
            "12/12 [==============================] - 2s 193ms/step - loss: 0.0014 - val_loss: 3.0267e-04\n",
            "Epoch 66/100\n",
            "12/12 [==============================] - 2s 193ms/step - loss: 0.0016 - val_loss: 1.9437e-04\n",
            "Epoch 67/100\n",
            "12/12 [==============================] - 2s 199ms/step - loss: 0.0018 - val_loss: 5.4199e-04\n",
            "Epoch 68/100\n",
            "12/12 [==============================] - 2s 202ms/step - loss: 0.0017 - val_loss: 2.2113e-04\n",
            "Epoch 69/100\n",
            "12/12 [==============================] - 2s 197ms/step - loss: 0.0013 - val_loss: 2.1454e-04\n",
            "Epoch 70/100\n",
            "12/12 [==============================] - 2s 196ms/step - loss: 0.0013 - val_loss: 3.0183e-04\n",
            "Epoch 71/100\n",
            "12/12 [==============================] - 2s 197ms/step - loss: 0.0018 - val_loss: 3.7743e-04\n",
            "Epoch 72/100\n",
            "12/12 [==============================] - 2s 194ms/step - loss: 0.0016 - val_loss: 6.0278e-04\n",
            "Epoch 73/100\n",
            "12/12 [==============================] - 2s 201ms/step - loss: 0.0020 - val_loss: 1.9442e-04\n",
            "Epoch 74/100\n",
            "12/12 [==============================] - 2s 195ms/step - loss: 0.0023 - val_loss: 0.0011\n",
            "Epoch 75/100\n",
            "12/12 [==============================] - 2s 194ms/step - loss: 0.0032 - val_loss: 0.0011\n",
            "Epoch 76/100\n",
            "12/12 [==============================] - 2s 199ms/step - loss: 0.0020 - val_loss: 2.7060e-04\n",
            "Epoch 77/100\n",
            "12/12 [==============================] - 2s 198ms/step - loss: 0.0028 - val_loss: 2.0675e-04\n",
            "Epoch 78/100\n",
            "12/12 [==============================] - 2s 198ms/step - loss: 0.0017 - val_loss: 2.1214e-04\n",
            "Epoch 79/100\n",
            "12/12 [==============================] - 2s 197ms/step - loss: 0.0097 - val_loss: 1.8462e-04\n",
            "Epoch 80/100\n",
            "12/12 [==============================] - 2s 199ms/step - loss: 0.0046 - val_loss: 4.1094e-04\n",
            "Epoch 81/100\n",
            "12/12 [==============================] - 2s 198ms/step - loss: 0.0034 - val_loss: 1.8246e-04\n",
            "Epoch 82/100\n",
            "12/12 [==============================] - 2s 199ms/step - loss: 0.0027 - val_loss: 5.8283e-04\n",
            "Epoch 83/100\n",
            "12/12 [==============================] - 2s 198ms/step - loss: 0.0023 - val_loss: 2.2154e-04\n",
            "Epoch 84/100\n",
            "12/12 [==============================] - 2s 196ms/step - loss: 0.0023 - val_loss: 3.6996e-04\n",
            "Epoch 85/100\n",
            "12/12 [==============================] - 2s 195ms/step - loss: 0.0020 - val_loss: 1.8162e-04\n",
            "Epoch 86/100\n",
            "12/12 [==============================] - 2s 201ms/step - loss: 0.0017 - val_loss: 2.0088e-04\n",
            "Epoch 87/100\n",
            "12/12 [==============================] - 2s 197ms/step - loss: 0.0016 - val_loss: 7.0707e-04\n",
            "Epoch 88/100\n",
            "12/12 [==============================] - 2s 199ms/step - loss: 0.0013 - val_loss: 2.4488e-04\n",
            "Epoch 89/100\n",
            "12/12 [==============================] - 2s 198ms/step - loss: 0.0012 - val_loss: 4.1906e-04\n",
            "Epoch 90/100\n",
            "12/12 [==============================] - 2s 199ms/step - loss: 0.0017 - val_loss: 2.3462e-04\n",
            "Epoch 91/100\n",
            "12/12 [==============================] - 2s 201ms/step - loss: 0.0012 - val_loss: 2.7181e-04\n",
            "Epoch 92/100\n",
            "12/12 [==============================] - 2s 204ms/step - loss: 0.0012 - val_loss: 2.0906e-04\n",
            "Epoch 93/100\n",
            "12/12 [==============================] - 2s 206ms/step - loss: 0.0020 - val_loss: 0.0013\n",
            "Epoch 94/100\n",
            "12/12 [==============================] - 2s 202ms/step - loss: 0.0013 - val_loss: 2.8076e-04\n",
            "Epoch 95/100\n",
            "12/12 [==============================] - 2s 202ms/step - loss: 0.0015 - val_loss: 1.9387e-04\n",
            "Epoch 96/100\n",
            "12/12 [==============================] - 2s 200ms/step - loss: 0.0024 - val_loss: 0.0022\n",
            "Epoch 97/100\n",
            "12/12 [==============================] - 2s 199ms/step - loss: 0.0018 - val_loss: 1.7467e-04\n",
            "Epoch 98/100\n",
            "12/12 [==============================] - 2s 202ms/step - loss: 0.0013 - val_loss: 3.3328e-04\n",
            "Epoch 99/100\n",
            "12/12 [==============================] - 2s 200ms/step - loss: 0.0038 - val_loss: 4.9378e-04\n",
            "Epoch 100/100\n",
            "12/12 [==============================] - 2s 200ms/step - loss: 0.0030 - val_loss: 1.8925e-04\n"
          ]
        },
        {
          "output_type": "execute_result",
          "data": {
            "text/plain": [
              "<keras.callbacks.History at 0x7f0ef4a68bd0>"
            ]
          },
          "metadata": {},
          "execution_count": 18
        }
      ]
    },
    {
      "cell_type": "code",
      "source": [
        "### now predicting on train and test data \n",
        "\n",
        "train_predict = model.predict(X_train)\n",
        "test_predict = model.predict(X_test)"
      ],
      "metadata": {
        "id": "Oir-SgHSHFP_"
      },
      "execution_count": 19,
      "outputs": []
    },
    {
      "cell_type": "code",
      "source": [
        "### transforming back to original form \n",
        "\n",
        "\n",
        "train_predict = scaler.inverse_transform(train_predict)\n",
        "test_predict = scaler.inverse_transform(test_predict)\n"
      ],
      "metadata": {
        "id": "MooX_GOhHyyv"
      },
      "execution_count": 20,
      "outputs": []
    },
    {
      "cell_type": "code",
      "source": [
        "## calculting the Root mean squared error performance metrics\n",
        "\n",
        "from sklearn.metrics import mean_squared_error\n",
        "math.sqrt(mean_squared_error(Y_train, train_predict))"
      ],
      "metadata": {
        "colab": {
          "base_uri": "https://localhost:8080/"
        },
        "id": "tEN0RpOGOSJS",
        "outputId": "251e7026-27ea-4fb4-98cc-f4f54e6b911c"
      },
      "execution_count": 21,
      "outputs": [
        {
          "output_type": "execute_result",
          "data": {
            "text/plain": [
              "236.40877030128075"
            ]
          },
          "metadata": {},
          "execution_count": 21
        }
      ]
    },
    {
      "cell_type": "code",
      "source": [
        "## for the test data\n",
        "\n",
        "math.sqrt(mean_squared_error(Y_test, test_predict))"
      ],
      "metadata": {
        "colab": {
          "base_uri": "https://localhost:8080/"
        },
        "id": "-UCkZAdLO6bO",
        "outputId": "a93b2159-6988-495c-e944-7f6d400cfb46"
      },
      "execution_count": 22,
      "outputs": [
        {
          "output_type": "execute_result",
          "data": {
            "text/plain": [
              "147.18142348494274"
            ]
          },
          "metadata": {},
          "execution_count": 22
        }
      ]
    },
    {
      "cell_type": "code",
      "source": [
        "### Plotting \n",
        "# shift train predictions for plotting\n",
        "look_back=100\n",
        "trainPredictPlot = np.empty_like(df1)\n",
        "trainPredictPlot[:, :] = np.nan\n",
        "trainPredictPlot[look_back:len(train_predict)+look_back, :] = train_predict\n",
        "\n",
        "\n",
        "# shift test predictions for plotting\n",
        "testPredictPlot = np.empty_like(df1)\n",
        "testPredictPlot[:, :] = np.nan\n",
        "testPredictPlot[len(train_predict)+(look_back*2)+1:len(df1)-1, :] = test_predict\n",
        "\n",
        "\n",
        "# plot baseline and predictions\n",
        "plt.plot(scaler.inverse_transform(df1))\n",
        "plt.plot(trainPredictPlot)\n",
        "plt.plot(testPredictPlot)\n",
        "plt.show()"
      ],
      "metadata": {
        "colab": {
          "base_uri": "https://localhost:8080/",
          "height": 265
        },
        "id": "VLsN7aI3PxTN",
        "outputId": "9afc59d2-490c-4294-84a9-54dc8f21888d"
      },
      "execution_count": 24,
      "outputs": [
        {
          "output_type": "display_data",
          "data": {
            "text/plain": [
              "<Figure size 432x288 with 1 Axes>"
            ],
            "image/png": "[encoded data removed]"
          },
          "metadata": {
            "needs_background": "light"
          }
        }
      ]
    },
    {
      "cell_type": "code",
      "source": [
        "### Now lets use this weapon to predict the future of the stock and trade \n",
        "### why stop at next day when we can use it to predict for the whole next month \n",
        "\n",
        "len(test_data) # comes out to be 441 so for the last 100 days -> 341 : \n",
        "x_input=test_data[ 341:].reshape(1,-1)\n",
        "x_input.shape"
      ],
      "metadata": {
        "colab": {
          "base_uri": "https://localhost:8080/"
        },
        "id": "GzlnoW3EQswK",
        "outputId": "0ad1eb7d-cd72-411e-891f-8ef76359c1d5"
      },
      "execution_count": 26,
      "outputs": [
        {
          "output_type": "execute_result",
          "data": {
            "text/plain": [
              "(1, 100)"
            ]
          },
          "metadata": {},
          "execution_count": 26
        }
      ]
    },
    {
      "cell_type": "code",
      "source": [
        "temp_input=list(x_input)\n",
        "temp_input=temp_input[0].tolist()"
      ],
      "metadata": {
        "id": "wXpNdDyCRnFb"
      },
      "execution_count": 28,
      "outputs": []
    },
    {
      "cell_type": "code",
      "source": [
        "#  prediction for next 30 days\n",
        "from numpy import array\n",
        "\n",
        "lst_output=[]\n",
        "n_steps=100\n",
        "i=0\n",
        "while(i<30):\n",
        "    \n",
        "    if(len(temp_input)>100):\n",
        "        #print(temp_input)\n",
        "        x_input=np.array(temp_input[1:])\n",
        "        print(\"{} day input {}\".format(i,x_input))\n",
        "        x_input=x_input.reshape(1,-1)\n",
        "        x_input = x_input.reshape((1, n_steps, 1))\n",
        "        #print(x_input)\n",
        "        yhat = model.predict(x_input, verbose=0)\n",
        "        print(\"{} day output {}\".format(i,yhat))\n",
        "        temp_input.extend(yhat[0].tolist())\n",
        "        temp_input=temp_input[1:]\n",
        "        #print(temp_input)\n",
        "        lst_output.extend(yhat.tolist())\n",
        "        i=i+1\n",
        "    else:\n",
        "        x_input = x_input.reshape((1, n_steps,1))\n",
        "        yhat = model.predict(x_input, verbose=0)\n",
        "        print(yhat[0])\n",
        "        temp_input.extend(yhat[0].tolist())\n",
        "        print(len(temp_input))\n",
        "        lst_output.extend(yhat.tolist())\n",
        "        i=i+1\n",
        "    \n",
        "    "
      ],
      "metadata": {
        "colab": {
          "base_uri": "https://localhost:8080/"
        },
        "id": "siU60rq7Rt1J",
        "outputId": "ac726828-d46c-40b7-8f81-ad51aa7fefd9"
      },
      "execution_count": 29,
      "outputs": [
        {
          "output_type": "stream",
          "name": "stdout",
          "text": [
            "[0.08685008]\n",
            "101\n",
            "1 day input [0.13720726 0.13259862 0.1323732  0.13119599 0.15902317 0.17016907\n",
            " 0.16974327 0.17282405 0.16546024 0.16418284 0.16235441 0.1702943\n",
            " 0.17392611 0.16350657 0.15479023 0.15539136 0.16518472 0.16458359\n",
            " 0.15539136 0.15143394 0.14396994 0.13332498 0.14001252 0.14529743\n",
            " 0.1459737  0.14116468 0.14958046 0.14875391 0.14108954 0.13139637\n",
            " 0.12673763 0.14053851 0.12944271 0.11994991 0.1096556  0.1208516\n",
            " 0.13212273 0.13470257 0.14311835 0.14662492 0.15524108 0.1587226\n",
            " 0.16839073 0.17001879 0.17222292 0.1806387  0.17765811 0.16974327\n",
            " 0.16899186 0.17933626 0.17087038 0.16278021 0.16355667 0.15842204\n",
            " 0.14755166 0.15233563 0.1591985  0.1463995  0.14584847 0.15168441\n",
            " 0.15125861 0.14922981 0.13763306 0.14036318 0.12513463 0.12455855\n",
            " 0.14226675 0.12726362 0.12804008 0.13184721 0.14822793 0.12505949\n",
            " 0.12633688 0.11326237 0.11939887 0.09933626 0.08946775 0.10086412\n",
            " 0.09693175 0.10619912 0.08510958 0.07641828 0.07701941 0.09084534\n",
            " 0.08395742 0.08435817 0.09252348 0.107201   0.10519724 0.10487163\n",
            " 0.11113338 0.096531   0.09843456 0.10487163 0.10299311 0.08966813\n",
            " 0.07586725 0.0627176  0.06492173 0.08685008]\n",
            "1 day output [[0.08295497]]\n",
            "2 day input [0.13259862 0.1323732  0.13119599 0.15902317 0.17016907 0.16974327\n",
            " 0.17282405 0.16546024 0.16418284 0.16235441 0.1702943  0.17392611\n",
            " 0.16350657 0.15479023 0.15539136 0.16518472 0.16458359 0.15539136\n",
            " 0.15143394 0.14396994 0.13332498 0.14001252 0.14529743 0.1459737\n",
            " 0.14116468 0.14958046 0.14875391 0.14108954 0.13139637 0.12673763\n",
            " 0.14053851 0.12944271 0.11994991 0.1096556  0.1208516  0.13212273\n",
            " 0.13470257 0.14311835 0.14662492 0.15524108 0.1587226  0.16839073\n",
            " 0.17001879 0.17222292 0.1806387  0.17765811 0.16974327 0.16899186\n",
            " 0.17933626 0.17087038 0.16278021 0.16355667 0.15842204 0.14755166\n",
            " 0.15233563 0.1591985  0.1463995  0.14584847 0.15168441 0.15125861\n",
            " 0.14922981 0.13763306 0.14036318 0.12513463 0.12455855 0.14226675\n",
            " 0.12726362 0.12804008 0.13184721 0.14822793 0.12505949 0.12633688\n",
            " 0.11326237 0.11939887 0.09933626 0.08946775 0.10086412 0.09693175\n",
            " 0.10619912 0.08510958 0.07641828 0.07701941 0.09084534 0.08395742\n",
            " 0.08435817 0.09252348 0.107201   0.10519724 0.10487163 0.11113338\n",
            " 0.096531   0.09843456 0.10487163 0.10299311 0.08966813 0.07586725\n",
            " 0.0627176  0.06492173 0.08685008 0.08295497]\n",
            "2 day output [[0.07999164]]\n",
            "3 day input [0.1323732  0.13119599 0.15902317 0.17016907 0.16974327 0.17282405\n",
            " 0.16546024 0.16418284 0.16235441 0.1702943  0.17392611 0.16350657\n",
            " 0.15479023 0.15539136 0.16518472 0.16458359 0.15539136 0.15143394\n",
            " 0.14396994 0.13332498 0.14001252 0.14529743 0.1459737  0.14116468\n",
            " 0.14958046 0.14875391 0.14108954 0.13139637 0.12673763 0.14053851\n",
            " 0.12944271 0.11994991 0.1096556  0.1208516  0.13212273 0.13470257\n",
            " 0.14311835 0.14662492 0.15524108 0.1587226  0.16839073 0.17001879\n",
            " 0.17222292 0.1806387  0.17765811 0.16974327 0.16899186 0.17933626\n",
            " 0.17087038 0.16278021 0.16355667 0.15842204 0.14755166 0.15233563\n",
            " 0.1591985  0.1463995  0.14584847 0.15168441 0.15125861 0.14922981\n",
            " 0.13763306 0.14036318 0.12513463 0.12455855 0.14226675 0.12726362\n",
            " 0.12804008 0.13184721 0.14822793 0.12505949 0.12633688 0.11326237\n",
            " 0.11939887 0.09933626 0.08946775 0.10086412 0.09693175 0.10619912\n",
            " 0.08510958 0.07641828 0.07701941 0.09084534 0.08395742 0.08435817\n",
            " 0.09252348 0.107201   0.10519724 0.10487163 0.11113338 0.096531\n",
            " 0.09843456 0.10487163 0.10299311 0.08966813 0.07586725 0.0627176\n",
            " 0.06492173 0.08685008 0.08295497 0.07999164]\n",
            "3 day output [[0.07784189]]\n",
            "4 day input [0.13119599 0.15902317 0.17016907 0.16974327 0.17282405 0.16546024\n",
            " 0.16418284 0.16235441 0.1702943  0.17392611 0.16350657 0.15479023\n",
            " 0.15539136 0.16518472 0.16458359 0.15539136 0.15143394 0.14396994\n",
            " 0.13332498 0.14001252 0.14529743 0.1459737  0.14116468 0.14958046\n",
            " 0.14875391 0.14108954 0.13139637 0.12673763 0.14053851 0.12944271\n",
            " 0.11994991 0.1096556  0.1208516  0.13212273 0.13470257 0.14311835\n",
            " 0.14662492 0.15524108 0.1587226  0.16839073 0.17001879 0.17222292\n",
            " 0.1806387  0.17765811 0.16974327 0.16899186 0.17933626 0.17087038\n",
            " 0.16278021 0.16355667 0.15842204 0.14755166 0.15233563 0.1591985\n",
            " 0.1463995  0.14584847 0.15168441 0.15125861 0.14922981 0.13763306\n",
            " 0.14036318 0.12513463 0.12455855 0.14226675 0.12726362 0.12804008\n",
            " 0.13184721 0.14822793 0.12505949 0.12633688 0.11326237 0.11939887\n",
            " 0.09933626 0.08946775 0.10086412 0.09693175 0.10619912 0.08510958\n",
            " 0.07641828 0.07701941 0.09084534 0.08395742 0.08435817 0.09252348\n",
            " 0.107201   0.10519724 0.10487163 0.11113338 0.096531   0.09843456\n",
            " 0.10487163 0.10299311 0.08966813 0.07586725 0.0627176  0.06492173\n",
            " 0.08685008 0.08295497 0.07999164 0.07784189]\n",
            "4 day output [[0.07626825]]\n",
            "5 day input [0.15902317 0.17016907 0.16974327 0.17282405 0.16546024 0.16418284\n",
            " 0.16235441 0.1702943  0.17392611 0.16350657 0.15479023 0.15539136\n",
            " 0.16518472 0.16458359 0.15539136 0.15143394 0.14396994 0.13332498\n",
            " 0.14001252 0.14529743 0.1459737  0.14116468 0.14958046 0.14875391\n",
            " 0.14108954 0.13139637 0.12673763 0.14053851 0.12944271 0.11994991\n",
            " 0.1096556  0.1208516  0.13212273 0.13470257 0.14311835 0.14662492\n",
            " 0.15524108 0.1587226  0.16839073 0.17001879 0.17222292 0.1806387\n",
            " 0.17765811 0.16974327 0.16899186 0.17933626 0.17087038 0.16278021\n",
            " 0.16355667 0.15842204 0.14755166 0.15233563 0.1591985  0.1463995\n",
            " 0.14584847 0.15168441 0.15125861 0.14922981 0.13763306 0.14036318\n",
            " 0.12513463 0.12455855 0.14226675 0.12726362 0.12804008 0.13184721\n",
            " 0.14822793 0.12505949 0.12633688 0.11326237 0.11939887 0.09933626\n",
            " 0.08946775 0.10086412 0.09693175 0.10619912 0.08510958 0.07641828\n",
            " 0.07701941 0.09084534 0.08395742 0.08435817 0.09252348 0.107201\n",
            " 0.10519724 0.10487163 0.11113338 0.096531   0.09843456 0.10487163\n",
            " 0.10299311 0.08966813 0.07586725 0.0627176  0.06492173 0.08685008\n",
            " 0.08295497 0.07999164 0.07784189 0.07626825]\n",
            "5 day output [[0.07506041]]\n",
            "6 day input [0.17016907 0.16974327 0.17282405 0.16546024 0.16418284 0.16235441\n",
            " 0.1702943  0.17392611 0.16350657 0.15479023 0.15539136 0.16518472\n",
            " 0.16458359 0.15539136 0.15143394 0.14396994 0.13332498 0.14001252\n",
            " 0.14529743 0.1459737  0.14116468 0.14958046 0.14875391 0.14108954\n",
            " 0.13139637 0.12673763 0.14053851 0.12944271 0.11994991 0.1096556\n",
            " 0.1208516  0.13212273 0.13470257 0.14311835 0.14662492 0.15524108\n",
            " 0.1587226  0.16839073 0.17001879 0.17222292 0.1806387  0.17765811\n",
            " 0.16974327 0.16899186 0.17933626 0.17087038 0.16278021 0.16355667\n",
            " 0.15842204 0.14755166 0.15233563 0.1591985  0.1463995  0.14584847\n",
            " 0.15168441 0.15125861 0.14922981 0.13763306 0.14036318 0.12513463\n",
            " 0.12455855 0.14226675 0.12726362 0.12804008 0.13184721 0.14822793\n",
            " 0.12505949 0.12633688 0.11326237 0.11939887 0.09933626 0.08946775\n",
            " 0.10086412 0.09693175 0.10619912 0.08510958 0.07641828 0.07701941\n",
            " 0.09084534 0.08395742 0.08435817 0.09252348 0.107201   0.10519724\n",
            " 0.10487163 0.11113338 0.096531   0.09843456 0.10487163 0.10299311\n",
            " 0.08966813 0.07586725 0.0627176  0.06492173 0.08685008 0.08295497\n",
            " 0.07999164 0.07784189 0.07626825 0.07506041]\n",
            "6 day output [[0.07407072]]\n",
            "7 day input [0.16974327 0.17282405 0.16546024 0.16418284 0.16235441 0.1702943\n",
            " 0.17392611 0.16350657 0.15479023 0.15539136 0.16518472 0.16458359\n",
            " 0.15539136 0.15143394 0.14396994 0.13332498 0.14001252 0.14529743\n",
            " 0.1459737  0.14116468 0.14958046 0.14875391 0.14108954 0.13139637\n",
            " 0.12673763 0.14053851 0.12944271 0.11994991 0.1096556  0.1208516\n",
            " 0.13212273 0.13470257 0.14311835 0.14662492 0.15524108 0.1587226\n",
            " 0.16839073 0.17001879 0.17222292 0.1806387  0.17765811 0.16974327\n",
            " 0.16899186 0.17933626 0.17087038 0.16278021 0.16355667 0.15842204\n",
            " 0.14755166 0.15233563 0.1591985  0.1463995  0.14584847 0.15168441\n",
            " 0.15125861 0.14922981 0.13763306 0.14036318 0.12513463 0.12455855\n",
            " 0.14226675 0.12726362 0.12804008 0.13184721 0.14822793 0.12505949\n",
            " 0.12633688 0.11326237 0.11939887 0.09933626 0.08946775 0.10086412\n",
            " 0.09693175 0.10619912 0.08510958 0.07641828 0.07701941 0.09084534\n",
            " 0.08395742 0.08435817 0.09252348 0.107201   0.10519724 0.10487163\n",
            " 0.11113338 0.096531   0.09843456 0.10487163 0.10299311 0.08966813\n",
            " 0.07586725 0.0627176  0.06492173 0.08685008 0.08295497 0.07999164\n",
            " 0.07784189 0.07626825 0.07506041 0.07407072]\n",
            "7 day output [[0.07320751]]\n",
            "8 day input [0.17282405 0.16546024 0.16418284 0.16235441 0.1702943  0.17392611\n",
            " 0.16350657 0.15479023 0.15539136 0.16518472 0.16458359 0.15539136\n",
            " 0.15143394 0.14396994 0.13332498 0.14001252 0.14529743 0.1459737\n",
            " 0.14116468 0.14958046 0.14875391 0.14108954 0.13139637 0.12673763\n",
            " 0.14053851 0.12944271 0.11994991 0.1096556  0.1208516  0.13212273\n",
            " 0.13470257 0.14311835 0.14662492 0.15524108 0.1587226  0.16839073\n",
            " 0.17001879 0.17222292 0.1806387  0.17765811 0.16974327 0.16899186\n",
            " 0.17933626 0.17087038 0.16278021 0.16355667 0.15842204 0.14755166\n",
            " 0.15233563 0.1591985  0.1463995  0.14584847 0.15168441 0.15125861\n",
            " 0.14922981 0.13763306 0.14036318 0.12513463 0.12455855 0.14226675\n",
            " 0.12726362 0.12804008 0.13184721 0.14822793 0.12505949 0.12633688\n",
            " 0.11326237 0.11939887 0.09933626 0.08946775 0.10086412 0.09693175\n",
            " 0.10619912 0.08510958 0.07641828 0.07701941 0.09084534 0.08395742\n",
            " 0.08435817 0.09252348 0.107201   0.10519724 0.10487163 0.11113338\n",
            " 0.096531   0.09843456 0.10487163 0.10299311 0.08966813 0.07586725\n",
            " 0.0627176  0.06492173 0.08685008 0.08295497 0.07999164 0.07784189\n",
            " 0.07626825 0.07506041 0.07407072 0.07320751]\n",
            "8 day output [[0.07241797]]\n",
            "9 day input [0.16546024 0.16418284 0.16235441 0.1702943  0.17392611 0.16350657\n",
            " 0.15479023 0.15539136 0.16518472 0.16458359 0.15539136 0.15143394\n",
            " 0.14396994 0.13332498 0.14001252 0.14529743 0.1459737  0.14116468\n",
            " 0.14958046 0.14875391 0.14108954 0.13139637 0.12673763 0.14053851\n",
            " 0.12944271 0.11994991 0.1096556  0.1208516  0.13212273 0.13470257\n",
            " 0.14311835 0.14662492 0.15524108 0.1587226  0.16839073 0.17001879\n",
            " 0.17222292 0.1806387  0.17765811 0.16974327 0.16899186 0.17933626\n",
            " 0.17087038 0.16278021 0.16355667 0.15842204 0.14755166 0.15233563\n",
            " 0.1591985  0.1463995  0.14584847 0.15168441 0.15125861 0.14922981\n",
            " 0.13763306 0.14036318 0.12513463 0.12455855 0.14226675 0.12726362\n",
            " 0.12804008 0.13184721 0.14822793 0.12505949 0.12633688 0.11326237\n",
            " 0.11939887 0.09933626 0.08946775 0.10086412 0.09693175 0.10619912\n",
            " 0.08510958 0.07641828 0.07701941 0.09084534 0.08395742 0.08435817\n",
            " 0.09252348 0.107201   0.10519724 0.10487163 0.11113338 0.096531\n",
            " 0.09843456 0.10487163 0.10299311 0.08966813 0.07586725 0.0627176\n",
            " 0.06492173 0.08685008 0.08295497 0.07999164 0.07784189 0.07626825\n",
            " 0.07506041 0.07407072 0.07320751 0.07241797]\n",
            "9 day output [[0.07167267]]\n",
            "10 day input [0.16418284 0.16235441 0.1702943  0.17392611 0.16350657 0.15479023\n",
            " 0.15539136 0.16518472 0.16458359 0.15539136 0.15143394 0.14396994\n",
            " 0.13332498 0.14001252 0.14529743 0.1459737  0.14116468 0.14958046\n",
            " 0.14875391 0.14108954 0.13139637 0.12673763 0.14053851 0.12944271\n",
            " 0.11994991 0.1096556  0.1208516  0.13212273 0.13470257 0.14311835\n",
            " 0.14662492 0.15524108 0.1587226  0.16839073 0.17001879 0.17222292\n",
            " 0.1806387  0.17765811 0.16974327 0.16899186 0.17933626 0.17087038\n",
            " 0.16278021 0.16355667 0.15842204 0.14755166 0.15233563 0.1591985\n",
            " 0.1463995  0.14584847 0.15168441 0.15125861 0.14922981 0.13763306\n",
            " 0.14036318 0.12513463 0.12455855 0.14226675 0.12726362 0.12804008\n",
            " 0.13184721 0.14822793 0.12505949 0.12633688 0.11326237 0.11939887\n",
            " 0.09933626 0.08946775 0.10086412 0.09693175 0.10619912 0.08510958\n",
            " 0.07641828 0.07701941 0.09084534 0.08395742 0.08435817 0.09252348\n",
            " 0.107201   0.10519724 0.10487163 0.11113338 0.096531   0.09843456\n",
            " 0.10487163 0.10299311 0.08966813 0.07586725 0.0627176  0.06492173\n",
            " 0.08685008 0.08295497 0.07999164 0.07784189 0.07626825 0.07506041\n",
            " 0.07407072 0.07320751 0.07241797 0.07167267]\n",
            "10 day output [[0.07095505]]\n",
            "11 day input [0.16235441 0.1702943  0.17392611 0.16350657 0.15479023 0.15539136\n",
            " 0.16518472 0.16458359 0.15539136 0.15143394 0.14396994 0.13332498\n",
            " 0.14001252 0.14529743 0.1459737  0.14116468 0.14958046 0.14875391\n",
            " 0.14108954 0.13139637 0.12673763 0.14053851 0.12944271 0.11994991\n",
            " 0.1096556  0.1208516  0.13212273 0.13470257 0.14311835 0.14662492\n",
            " 0.15524108 0.1587226  0.16839073 0.17001879 0.17222292 0.1806387\n",
            " 0.17765811 0.16974327 0.16899186 0.17933626 0.17087038 0.16278021\n",
            " 0.16355667 0.15842204 0.14755166 0.15233563 0.1591985  0.1463995\n",
            " 0.14584847 0.15168441 0.15125861 0.14922981 0.13763306 0.14036318\n",
            " 0.12513463 0.12455855 0.14226675 0.12726362 0.12804008 0.13184721\n",
            " 0.14822793 0.12505949 0.12633688 0.11326237 0.11939887 0.09933626\n",
            " 0.08946775 0.10086412 0.09693175 0.10619912 0.08510958 0.07641828\n",
            " 0.07701941 0.09084534 0.08395742 0.08435817 0.09252348 0.107201\n",
            " 0.10519724 0.10487163 0.11113338 0.096531   0.09843456 0.10487163\n",
            " 0.10299311 0.08966813 0.07586725 0.0627176  0.06492173 0.08685008\n",
            " 0.08295497 0.07999164 0.07784189 0.07626825 0.07506041 0.07407072\n",
            " 0.07320751 0.07241797 0.07167267 0.07095505]\n",
            "11 day output [[0.07025506]]\n",
            "12 day input [0.1702943  0.17392611 0.16350657 0.15479023 0.15539136 0.16518472\n",
            " 0.16458359 0.15539136 0.15143394 0.14396994 0.13332498 0.14001252\n",
            " 0.14529743 0.1459737  0.14116468 0.14958046 0.14875391 0.14108954\n",
            " 0.13139637 0.12673763 0.14053851 0.12944271 0.11994991 0.1096556\n",
            " 0.1208516  0.13212273 0.13470257 0.14311835 0.14662492 0.15524108\n",
            " 0.1587226  0.16839073 0.17001879 0.17222292 0.1806387  0.17765811\n",
            " 0.16974327 0.16899186 0.17933626 0.17087038 0.16278021 0.16355667\n",
            " 0.15842204 0.14755166 0.15233563 0.1591985  0.1463995  0.14584847\n",
            " 0.15168441 0.15125861 0.14922981 0.13763306 0.14036318 0.12513463\n",
            " 0.12455855 0.14226675 0.12726362 0.12804008 0.13184721 0.14822793\n",
            " 0.12505949 0.12633688 0.11326237 0.11939887 0.09933626 0.08946775\n",
            " 0.10086412 0.09693175 0.10619912 0.08510958 0.07641828 0.07701941\n",
            " 0.09084534 0.08395742 0.08435817 0.09252348 0.107201   0.10519724\n",
            " 0.10487163 0.11113338 0.096531   0.09843456 0.10487163 0.10299311\n",
            " 0.08966813 0.07586725 0.0627176  0.06492173 0.08685008 0.08295497\n",
            " 0.07999164 0.07784189 0.07626825 0.07506041 0.07407072 0.07320751\n",
            " 0.07241797 0.07167267 0.07095505 0.07025506]\n",
            "12 day output [[0.06956605]]\n",
            "13 day input [0.17392611 0.16350657 0.15479023 0.15539136 0.16518472 0.16458359\n",
            " 0.15539136 0.15143394 0.14396994 0.13332498 0.14001252 0.14529743\n",
            " 0.1459737  0.14116468 0.14958046 0.14875391 0.14108954 0.13139637\n",
            " 0.12673763 0.14053851 0.12944271 0.11994991 0.1096556  0.1208516\n",
            " 0.13212273 0.13470257 0.14311835 0.14662492 0.15524108 0.1587226\n",
            " 0.16839073 0.17001879 0.17222292 0.1806387  0.17765811 0.16974327\n",
            " 0.16899186 0.17933626 0.17087038 0.16278021 0.16355667 0.15842204\n",
            " 0.14755166 0.15233563 0.1591985  0.1463995  0.14584847 0.15168441\n",
            " 0.15125861 0.14922981 0.13763306 0.14036318 0.12513463 0.12455855\n",
            " 0.14226675 0.12726362 0.12804008 0.13184721 0.14822793 0.12505949\n",
            " 0.12633688 0.11326237 0.11939887 0.09933626 0.08946775 0.10086412\n",
            " 0.09693175 0.10619912 0.08510958 0.07641828 0.07701941 0.09084534\n",
            " 0.08395742 0.08435817 0.09252348 0.107201   0.10519724 0.10487163\n",
            " 0.11113338 0.096531   0.09843456 0.10487163 0.10299311 0.08966813\n",
            " 0.07586725 0.0627176  0.06492173 0.08685008 0.08295497 0.07999164\n",
            " 0.07784189 0.07626825 0.07506041 0.07407072 0.07320751 0.07241797\n",
            " 0.07167267 0.07095505 0.07025506 0.06956605]\n",
            "13 day output [[0.06888313]]\n",
            "14 day input [0.16350657 0.15479023 0.15539136 0.16518472 0.16458359 0.15539136\n",
            " 0.15143394 0.14396994 0.13332498 0.14001252 0.14529743 0.1459737\n",
            " 0.14116468 0.14958046 0.14875391 0.14108954 0.13139637 0.12673763\n",
            " 0.14053851 0.12944271 0.11994991 0.1096556  0.1208516  0.13212273\n",
            " 0.13470257 0.14311835 0.14662492 0.15524108 0.1587226  0.16839073\n",
            " 0.17001879 0.17222292 0.1806387  0.17765811 0.16974327 0.16899186\n",
            " 0.17933626 0.17087038 0.16278021 0.16355667 0.15842204 0.14755166\n",
            " 0.15233563 0.1591985  0.1463995  0.14584847 0.15168441 0.15125861\n",
            " 0.14922981 0.13763306 0.14036318 0.12513463 0.12455855 0.14226675\n",
            " 0.12726362 0.12804008 0.13184721 0.14822793 0.12505949 0.12633688\n",
            " 0.11326237 0.11939887 0.09933626 0.08946775 0.10086412 0.09693175\n",
            " 0.10619912 0.08510958 0.07641828 0.07701941 0.09084534 0.08395742\n",
            " 0.08435817 0.09252348 0.107201   0.10519724 0.10487163 0.11113338\n",
            " 0.096531   0.09843456 0.10487163 0.10299311 0.08966813 0.07586725\n",
            " 0.0627176  0.06492173 0.08685008 0.08295497 0.07999164 0.07784189\n",
            " 0.07626825 0.07506041 0.07407072 0.07320751 0.07241797 0.07167267\n",
            " 0.07095505 0.07025506 0.06956605 0.06888313]\n",
            "14 day output [[0.06820268]]\n",
            "15 day input [0.15479023 0.15539136 0.16518472 0.16458359 0.15539136 0.15143394\n",
            " 0.14396994 0.13332498 0.14001252 0.14529743 0.1459737  0.14116468\n",
            " 0.14958046 0.14875391 0.14108954 0.13139637 0.12673763 0.14053851\n",
            " 0.12944271 0.11994991 0.1096556  0.1208516  0.13212273 0.13470257\n",
            " 0.14311835 0.14662492 0.15524108 0.1587226  0.16839073 0.17001879\n",
            " 0.17222292 0.1806387  0.17765811 0.16974327 0.16899186 0.17933626\n",
            " 0.17087038 0.16278021 0.16355667 0.15842204 0.14755166 0.15233563\n",
            " 0.1591985  0.1463995  0.14584847 0.15168441 0.15125861 0.14922981\n",
            " 0.13763306 0.14036318 0.12513463 0.12455855 0.14226675 0.12726362\n",
            " 0.12804008 0.13184721 0.14822793 0.12505949 0.12633688 0.11326237\n",
            " 0.11939887 0.09933626 0.08946775 0.10086412 0.09693175 0.10619912\n",
            " 0.08510958 0.07641828 0.07701941 0.09084534 0.08395742 0.08435817\n",
            " 0.09252348 0.107201   0.10519724 0.10487163 0.11113338 0.096531\n",
            " 0.09843456 0.10487163 0.10299311 0.08966813 0.07586725 0.0627176\n",
            " 0.06492173 0.08685008 0.08295497 0.07999164 0.07784189 0.07626825\n",
            " 0.07506041 0.07407072 0.07320751 0.07241797 0.07167267 0.07095505\n",
            " 0.07025506 0.06956605 0.06888313 0.06820268]\n",
            "15 day output [[0.0675221]]\n",
            "16 day input [0.15539136 0.16518472 0.16458359 0.15539136 0.15143394 0.14396994\n",
            " 0.13332498 0.14001252 0.14529743 0.1459737  0.14116468 0.14958046\n",
            " 0.14875391 0.14108954 0.13139637 0.12673763 0.14053851 0.12944271\n",
            " 0.11994991 0.1096556  0.1208516  0.13212273 0.13470257 0.14311835\n",
            " 0.14662492 0.15524108 0.1587226  0.16839073 0.17001879 0.17222292\n",
            " 0.1806387  0.17765811 0.16974327 0.16899186 0.17933626 0.17087038\n",
            " 0.16278021 0.16355667 0.15842204 0.14755166 0.15233563 0.1591985\n",
            " 0.1463995  0.14584847 0.15168441 0.15125861 0.14922981 0.13763306\n",
            " 0.14036318 0.12513463 0.12455855 0.14226675 0.12726362 0.12804008\n",
            " 0.13184721 0.14822793 0.12505949 0.12633688 0.11326237 0.11939887\n",
            " 0.09933626 0.08946775 0.10086412 0.09693175 0.10619912 0.08510958\n",
            " 0.07641828 0.07701941 0.09084534 0.08395742 0.08435817 0.09252348\n",
            " 0.107201   0.10519724 0.10487163 0.11113338 0.096531   0.09843456\n",
            " 0.10487163 0.10299311 0.08966813 0.07586725 0.0627176  0.06492173\n",
            " 0.08685008 0.08295497 0.07999164 0.07784189 0.07626825 0.07506041\n",
            " 0.07407072 0.07320751 0.07241797 0.07167267 0.07095505 0.07025506\n",
            " 0.06956605 0.06888313 0.06820268 0.0675221 ]\n",
            "16 day output [[0.06683971]]\n",
            "17 day input [0.16518472 0.16458359 0.15539136 0.15143394 0.14396994 0.13332498\n",
            " 0.14001252 0.14529743 0.1459737  0.14116468 0.14958046 0.14875391\n",
            " 0.14108954 0.13139637 0.12673763 0.14053851 0.12944271 0.11994991\n",
            " 0.1096556  0.1208516  0.13212273 0.13470257 0.14311835 0.14662492\n",
            " 0.15524108 0.1587226  0.16839073 0.17001879 0.17222292 0.1806387\n",
            " 0.17765811 0.16974327 0.16899186 0.17933626 0.17087038 0.16278021\n",
            " 0.16355667 0.15842204 0.14755166 0.15233563 0.1591985  0.1463995\n",
            " 0.14584847 0.15168441 0.15125861 0.14922981 0.13763306 0.14036318\n",
            " 0.12513463 0.12455855 0.14226675 0.12726362 0.12804008 0.13184721\n",
            " 0.14822793 0.12505949 0.12633688 0.11326237 0.11939887 0.09933626\n",
            " 0.08946775 0.10086412 0.09693175 0.10619912 0.08510958 0.07641828\n",
            " 0.07701941 0.09084534 0.08395742 0.08435817 0.09252348 0.107201\n",
            " 0.10519724 0.10487163 0.11113338 0.096531   0.09843456 0.10487163\n",
            " 0.10299311 0.08966813 0.07586725 0.0627176  0.06492173 0.08685008\n",
            " 0.08295497 0.07999164 0.07784189 0.07626825 0.07506041 0.07407072\n",
            " 0.07320751 0.07241797 0.07167267 0.07095505 0.07025506 0.06956605\n",
            " 0.06888313 0.06820268 0.0675221  0.06683971]\n",
            "17 day output [[0.06615464]]\n",
            "18 day input [0.16458359 0.15539136 0.15143394 0.14396994 0.13332498 0.14001252\n",
            " 0.14529743 0.1459737  0.14116468 0.14958046 0.14875391 0.14108954\n",
            " 0.13139637 0.12673763 0.14053851 0.12944271 0.11994991 0.1096556\n",
            " 0.1208516  0.13212273 0.13470257 0.14311835 0.14662492 0.15524108\n",
            " 0.1587226  0.16839073 0.17001879 0.17222292 0.1806387  0.17765811\n",
            " 0.16974327 0.16899186 0.17933626 0.17087038 0.16278021 0.16355667\n",
            " 0.15842204 0.14755166 0.15233563 0.1591985  0.1463995  0.14584847\n",
            " 0.15168441 0.15125861 0.14922981 0.13763306 0.14036318 0.12513463\n",
            " 0.12455855 0.14226675 0.12726362 0.12804008 0.13184721 0.14822793\n",
            " 0.12505949 0.12633688 0.11326237 0.11939887 0.09933626 0.08946775\n",
            " 0.10086412 0.09693175 0.10619912 0.08510958 0.07641828 0.07701941\n",
            " 0.09084534 0.08395742 0.08435817 0.09252348 0.107201   0.10519724\n",
            " 0.10487163 0.11113338 0.096531   0.09843456 0.10487163 0.10299311\n",
            " 0.08966813 0.07586725 0.0627176  0.06492173 0.08685008 0.08295497\n",
            " 0.07999164 0.07784189 0.07626825 0.07506041 0.07407072 0.07320751\n",
            " 0.07241797 0.07167267 0.07095505 0.07025506 0.06956605 0.06888313\n",
            " 0.06820268 0.0675221  0.06683971 0.06615464]\n",
            "18 day output [[0.06546672]]\n",
            "19 day input [0.15539136 0.15143394 0.14396994 0.13332498 0.14001252 0.14529743\n",
            " 0.1459737  0.14116468 0.14958046 0.14875391 0.14108954 0.13139637\n",
            " 0.12673763 0.14053851 0.12944271 0.11994991 0.1096556  0.1208516\n",
            " 0.13212273 0.13470257 0.14311835 0.14662492 0.15524108 0.1587226\n",
            " 0.16839073 0.17001879 0.17222292 0.1806387  0.17765811 0.16974327\n",
            " 0.16899186 0.17933626 0.17087038 0.16278021 0.16355667 0.15842204\n",
            " 0.14755166 0.15233563 0.1591985  0.1463995  0.14584847 0.15168441\n",
            " 0.15125861 0.14922981 0.13763306 0.14036318 0.12513463 0.12455855\n",
            " 0.14226675 0.12726362 0.12804008 0.13184721 0.14822793 0.12505949\n",
            " 0.12633688 0.11326237 0.11939887 0.09933626 0.08946775 0.10086412\n",
            " 0.09693175 0.10619912 0.08510958 0.07641828 0.07701941 0.09084534\n",
            " 0.08395742 0.08435817 0.09252348 0.107201   0.10519724 0.10487163\n",
            " 0.11113338 0.096531   0.09843456 0.10487163 0.10299311 0.08966813\n",
            " 0.07586725 0.0627176  0.06492173 0.08685008 0.08295497 0.07999164\n",
            " 0.07784189 0.07626825 0.07506041 0.07407072 0.07320751 0.07241797\n",
            " 0.07167267 0.07095505 0.07025506 0.06956605 0.06888313 0.06820268\n",
            " 0.0675221  0.06683971 0.06615464 0.06546672]\n",
            "19 day output [[0.06477641]]\n",
            "20 day input [0.15143394 0.14396994 0.13332498 0.14001252 0.14529743 0.1459737\n",
            " 0.14116468 0.14958046 0.14875391 0.14108954 0.13139637 0.12673763\n",
            " 0.14053851 0.12944271 0.11994991 0.1096556  0.1208516  0.13212273\n",
            " 0.13470257 0.14311835 0.14662492 0.15524108 0.1587226  0.16839073\n",
            " 0.17001879 0.17222292 0.1806387  0.17765811 0.16974327 0.16899186\n",
            " 0.17933626 0.17087038 0.16278021 0.16355667 0.15842204 0.14755166\n",
            " 0.15233563 0.1591985  0.1463995  0.14584847 0.15168441 0.15125861\n",
            " 0.14922981 0.13763306 0.14036318 0.12513463 0.12455855 0.14226675\n",
            " 0.12726362 0.12804008 0.13184721 0.14822793 0.12505949 0.12633688\n",
            " 0.11326237 0.11939887 0.09933626 0.08946775 0.10086412 0.09693175\n",
            " 0.10619912 0.08510958 0.07641828 0.07701941 0.09084534 0.08395742\n",
            " 0.08435817 0.09252348 0.107201   0.10519724 0.10487163 0.11113338\n",
            " 0.096531   0.09843456 0.10487163 0.10299311 0.08966813 0.07586725\n",
            " 0.0627176  0.06492173 0.08685008 0.08295497 0.07999164 0.07784189\n",
            " 0.07626825 0.07506041 0.07407072 0.07320751 0.07241797 0.07167267\n",
            " 0.07095505 0.07025506 0.06956605 0.06888313 0.06820268 0.0675221\n",
            " 0.06683971 0.06615464 0.06546672 0.06477641]\n",
            "20 day output [[0.06408456]]\n",
            "21 day input [0.14396994 0.13332498 0.14001252 0.14529743 0.1459737  0.14116468\n",
            " 0.14958046 0.14875391 0.14108954 0.13139637 0.12673763 0.14053851\n",
            " 0.12944271 0.11994991 0.1096556  0.1208516  0.13212273 0.13470257\n",
            " 0.14311835 0.14662492 0.15524108 0.1587226  0.16839073 0.17001879\n",
            " 0.17222292 0.1806387  0.17765811 0.16974327 0.16899186 0.17933626\n",
            " 0.17087038 0.16278021 0.16355667 0.15842204 0.14755166 0.15233563\n",
            " 0.1591985  0.1463995  0.14584847 0.15168441 0.15125861 0.14922981\n",
            " 0.13763306 0.14036318 0.12513463 0.12455855 0.14226675 0.12726362\n",
            " 0.12804008 0.13184721 0.14822793 0.12505949 0.12633688 0.11326237\n",
            " 0.11939887 0.09933626 0.08946775 0.10086412 0.09693175 0.10619912\n",
            " 0.08510958 0.07641828 0.07701941 0.09084534 0.08395742 0.08435817\n",
            " 0.09252348 0.107201   0.10519724 0.10487163 0.11113338 0.096531\n",
            " 0.09843456 0.10487163 0.10299311 0.08966813 0.07586725 0.0627176\n",
            " 0.06492173 0.08685008 0.08295497 0.07999164 0.07784189 0.07626825\n",
            " 0.07506041 0.07407072 0.07320751 0.07241797 0.07167267 0.07095505\n",
            " 0.07025506 0.06956605 0.06888313 0.06820268 0.0675221  0.06683971\n",
            " 0.06615464 0.06546672 0.06477641 0.06408456]\n",
            "21 day output [[0.06339233]]\n",
            "22 day input [0.13332498 0.14001252 0.14529743 0.1459737  0.14116468 0.14958046\n",
            " 0.14875391 0.14108954 0.13139637 0.12673763 0.14053851 0.12944271\n",
            " 0.11994991 0.1096556  0.1208516  0.13212273 0.13470257 0.14311835\n",
            " 0.14662492 0.15524108 0.1587226  0.16839073 0.17001879 0.17222292\n",
            " 0.1806387  0.17765811 0.16974327 0.16899186 0.17933626 0.17087038\n",
            " 0.16278021 0.16355667 0.15842204 0.14755166 0.15233563 0.1591985\n",
            " 0.1463995  0.14584847 0.15168441 0.15125861 0.14922981 0.13763306\n",
            " 0.14036318 0.12513463 0.12455855 0.14226675 0.12726362 0.12804008\n",
            " 0.13184721 0.14822793 0.12505949 0.12633688 0.11326237 0.11939887\n",
            " 0.09933626 0.08946775 0.10086412 0.09693175 0.10619912 0.08510958\n",
            " 0.07641828 0.07701941 0.09084534 0.08395742 0.08435817 0.09252348\n",
            " 0.107201   0.10519724 0.10487163 0.11113338 0.096531   0.09843456\n",
            " 0.10487163 0.10299311 0.08966813 0.07586725 0.0627176  0.06492173\n",
            " 0.08685008 0.08295497 0.07999164 0.07784189 0.07626825 0.07506041\n",
            " 0.07407072 0.07320751 0.07241797 0.07167267 0.07095505 0.07025506\n",
            " 0.06956605 0.06888313 0.06820268 0.0675221  0.06683971 0.06615464\n",
            " 0.06546672 0.06477641 0.06408456 0.06339233]\n",
            "22 day output [[0.06270102]]\n",
            "23 day input [0.14001252 0.14529743 0.1459737  0.14116468 0.14958046 0.14875391\n",
            " 0.14108954 0.13139637 0.12673763 0.14053851 0.12944271 0.11994991\n",
            " 0.1096556  0.1208516  0.13212273 0.13470257 0.14311835 0.14662492\n",
            " 0.15524108 0.1587226  0.16839073 0.17001879 0.17222292 0.1806387\n",
            " 0.17765811 0.16974327 0.16899186 0.17933626 0.17087038 0.16278021\n",
            " 0.16355667 0.15842204 0.14755166 0.15233563 0.1591985  0.1463995\n",
            " 0.14584847 0.15168441 0.15125861 0.14922981 0.13763306 0.14036318\n",
            " 0.12513463 0.12455855 0.14226675 0.12726362 0.12804008 0.13184721\n",
            " 0.14822793 0.12505949 0.12633688 0.11326237 0.11939887 0.09933626\n",
            " 0.08946775 0.10086412 0.09693175 0.10619912 0.08510958 0.07641828\n",
            " 0.07701941 0.09084534 0.08395742 0.08435817 0.09252348 0.107201\n",
            " 0.10519724 0.10487163 0.11113338 0.096531   0.09843456 0.10487163\n",
            " 0.10299311 0.08966813 0.07586725 0.0627176  0.06492173 0.08685008\n",
            " 0.08295497 0.07999164 0.07784189 0.07626825 0.07506041 0.07407072\n",
            " 0.07320751 0.07241797 0.07167267 0.07095505 0.07025506 0.06956605\n",
            " 0.06888313 0.06820268 0.0675221  0.06683971 0.06615464 0.06546672\n",
            " 0.06477641 0.06408456 0.06339233 0.06270102]\n",
            "23 day output [[0.06201196]]\n",
            "24 day input [0.14529743 0.1459737  0.14116468 0.14958046 0.14875391 0.14108954\n",
            " 0.13139637 0.12673763 0.14053851 0.12944271 0.11994991 0.1096556\n",
            " 0.1208516  0.13212273 0.13470257 0.14311835 0.14662492 0.15524108\n",
            " 0.1587226  0.16839073 0.17001879 0.17222292 0.1806387  0.17765811\n",
            " 0.16974327 0.16899186 0.17933626 0.17087038 0.16278021 0.16355667\n",
            " 0.15842204 0.14755166 0.15233563 0.1591985  0.1463995  0.14584847\n",
            " 0.15168441 0.15125861 0.14922981 0.13763306 0.14036318 0.12513463\n",
            " 0.12455855 0.14226675 0.12726362 0.12804008 0.13184721 0.14822793\n",
            " 0.12505949 0.12633688 0.11326237 0.11939887 0.09933626 0.08946775\n",
            " 0.10086412 0.09693175 0.10619912 0.08510958 0.07641828 0.07701941\n",
            " 0.09084534 0.08395742 0.08435817 0.09252348 0.107201   0.10519724\n",
            " 0.10487163 0.11113338 0.096531   0.09843456 0.10487163 0.10299311\n",
            " 0.08966813 0.07586725 0.0627176  0.06492173 0.08685008 0.08295497\n",
            " 0.07999164 0.07784189 0.07626825 0.07506041 0.07407072 0.07320751\n",
            " 0.07241797 0.07167267 0.07095505 0.07025506 0.06956605 0.06888313\n",
            " 0.06820268 0.0675221  0.06683971 0.06615464 0.06546672 0.06477641\n",
            " 0.06408456 0.06339233 0.06270102 0.06201196]\n",
            "24 day output [[0.06132646]]\n",
            "25 day input [0.1459737  0.14116468 0.14958046 0.14875391 0.14108954 0.13139637\n",
            " 0.12673763 0.14053851 0.12944271 0.11994991 0.1096556  0.1208516\n",
            " 0.13212273 0.13470257 0.14311835 0.14662492 0.15524108 0.1587226\n",
            " 0.16839073 0.17001879 0.17222292 0.1806387  0.17765811 0.16974327\n",
            " 0.16899186 0.17933626 0.17087038 0.16278021 0.16355667 0.15842204\n",
            " 0.14755166 0.15233563 0.1591985  0.1463995  0.14584847 0.15168441\n",
            " 0.15125861 0.14922981 0.13763306 0.14036318 0.12513463 0.12455855\n",
            " 0.14226675 0.12726362 0.12804008 0.13184721 0.14822793 0.12505949\n",
            " 0.12633688 0.11326237 0.11939887 0.09933626 0.08946775 0.10086412\n",
            " 0.09693175 0.10619912 0.08510958 0.07641828 0.07701941 0.09084534\n",
            " 0.08395742 0.08435817 0.09252348 0.107201   0.10519724 0.10487163\n",
            " 0.11113338 0.096531   0.09843456 0.10487163 0.10299311 0.08966813\n",
            " 0.07586725 0.0627176  0.06492173 0.08685008 0.08295497 0.07999164\n",
            " 0.07784189 0.07626825 0.07506041 0.07407072 0.07320751 0.07241797\n",
            " 0.07167267 0.07095505 0.07025506 0.06956605 0.06888313 0.06820268\n",
            " 0.0675221  0.06683971 0.06615464 0.06546672 0.06477641 0.06408456\n",
            " 0.06339233 0.06270102 0.06201196 0.06132646]\n",
            "25 day output [[0.06064569]]\n",
            "26 day input [0.14116468 0.14958046 0.14875391 0.14108954 0.13139637 0.12673763\n",
            " 0.14053851 0.12944271 0.11994991 0.1096556  0.1208516  0.13212273\n",
            " 0.13470257 0.14311835 0.14662492 0.15524108 0.1587226  0.16839073\n",
            " 0.17001879 0.17222292 0.1806387  0.17765811 0.16974327 0.16899186\n",
            " 0.17933626 0.17087038 0.16278021 0.16355667 0.15842204 0.14755166\n",
            " 0.15233563 0.1591985  0.1463995  0.14584847 0.15168441 0.15125861\n",
            " 0.14922981 0.13763306 0.14036318 0.12513463 0.12455855 0.14226675\n",
            " 0.12726362 0.12804008 0.13184721 0.14822793 0.12505949 0.12633688\n",
            " 0.11326237 0.11939887 0.09933626 0.08946775 0.10086412 0.09693175\n",
            " 0.10619912 0.08510958 0.07641828 0.07701941 0.09084534 0.08395742\n",
            " 0.08435817 0.09252348 0.107201   0.10519724 0.10487163 0.11113338\n",
            " 0.096531   0.09843456 0.10487163 0.10299311 0.08966813 0.07586725\n",
            " 0.0627176  0.06492173 0.08685008 0.08295497 0.07999164 0.07784189\n",
            " 0.07626825 0.07506041 0.07407072 0.07320751 0.07241797 0.07167267\n",
            " 0.07095505 0.07025506 0.06956605 0.06888313 0.06820268 0.0675221\n",
            " 0.06683971 0.06615464 0.06546672 0.06477641 0.06408456 0.06339233\n",
            " 0.06270102 0.06201196 0.06132646 0.06064569]\n",
            "26 day output [[0.05997068]]\n",
            "27 day input [0.14958046 0.14875391 0.14108954 0.13139637 0.12673763 0.14053851\n",
            " 0.12944271 0.11994991 0.1096556  0.1208516  0.13212273 0.13470257\n",
            " 0.14311835 0.14662492 0.15524108 0.1587226  0.16839073 0.17001879\n",
            " 0.17222292 0.1806387  0.17765811 0.16974327 0.16899186 0.17933626\n",
            " 0.17087038 0.16278021 0.16355667 0.15842204 0.14755166 0.15233563\n",
            " 0.1591985  0.1463995  0.14584847 0.15168441 0.15125861 0.14922981\n",
            " 0.13763306 0.14036318 0.12513463 0.12455855 0.14226675 0.12726362\n",
            " 0.12804008 0.13184721 0.14822793 0.12505949 0.12633688 0.11326237\n",
            " 0.11939887 0.09933626 0.08946775 0.10086412 0.09693175 0.10619912\n",
            " 0.08510958 0.07641828 0.07701941 0.09084534 0.08395742 0.08435817\n",
            " 0.09252348 0.107201   0.10519724 0.10487163 0.11113338 0.096531\n",
            " 0.09843456 0.10487163 0.10299311 0.08966813 0.07586725 0.0627176\n",
            " 0.06492173 0.08685008 0.08295497 0.07999164 0.07784189 0.07626825\n",
            " 0.07506041 0.07407072 0.07320751 0.07241797 0.07167267 0.07095505\n",
            " 0.07025506 0.06956605 0.06888313 0.06820268 0.0675221  0.06683971\n",
            " 0.06615464 0.06546672 0.06477641 0.06408456 0.06339233 0.06270102\n",
            " 0.06201196 0.06132646 0.06064569 0.05997068]\n",
            "27 day output [[0.05930229]]\n",
            "28 day input [0.14875391 0.14108954 0.13139637 0.12673763 0.14053851 0.12944271\n",
            " 0.11994991 0.1096556  0.1208516  0.13212273 0.13470257 0.14311835\n",
            " 0.14662492 0.15524108 0.1587226  0.16839073 0.17001879 0.17222292\n",
            " 0.1806387  0.17765811 0.16974327 0.16899186 0.17933626 0.17087038\n",
            " 0.16278021 0.16355667 0.15842204 0.14755166 0.15233563 0.1591985\n",
            " 0.1463995  0.14584847 0.15168441 0.15125861 0.14922981 0.13763306\n",
            " 0.14036318 0.12513463 0.12455855 0.14226675 0.12726362 0.12804008\n",
            " 0.13184721 0.14822793 0.12505949 0.12633688 0.11326237 0.11939887\n",
            " 0.09933626 0.08946775 0.10086412 0.09693175 0.10619912 0.08510958\n",
            " 0.07641828 0.07701941 0.09084534 0.08395742 0.08435817 0.09252348\n",
            " 0.107201   0.10519724 0.10487163 0.11113338 0.096531   0.09843456\n",
            " 0.10487163 0.10299311 0.08966813 0.07586725 0.0627176  0.06492173\n",
            " 0.08685008 0.08295497 0.07999164 0.07784189 0.07626825 0.07506041\n",
            " 0.07407072 0.07320751 0.07241797 0.07167267 0.07095505 0.07025506\n",
            " 0.06956605 0.06888313 0.06820268 0.0675221  0.06683971 0.06615464\n",
            " 0.06546672 0.06477641 0.06408456 0.06339233 0.06270102 0.06201196\n",
            " 0.06132646 0.06064569 0.05997068 0.05930229]\n",
            "28 day output [[0.05864111]]\n",
            "29 day input [0.14108954 0.13139637 0.12673763 0.14053851 0.12944271 0.11994991\n",
            " 0.1096556  0.1208516  0.13212273 0.13470257 0.14311835 0.14662492\n",
            " 0.15524108 0.1587226  0.16839073 0.17001879 0.17222292 0.1806387\n",
            " 0.17765811 0.16974327 0.16899186 0.17933626 0.17087038 0.16278021\n",
            " 0.16355667 0.15842204 0.14755166 0.15233563 0.1591985  0.1463995\n",
            " 0.14584847 0.15168441 0.15125861 0.14922981 0.13763306 0.14036318\n",
            " 0.12513463 0.12455855 0.14226675 0.12726362 0.12804008 0.13184721\n",
            " 0.14822793 0.12505949 0.12633688 0.11326237 0.11939887 0.09933626\n",
            " 0.08946775 0.10086412 0.09693175 0.10619912 0.08510958 0.07641828\n",
            " 0.07701941 0.09084534 0.08395742 0.08435817 0.09252348 0.107201\n",
            " 0.10519724 0.10487163 0.11113338 0.096531   0.09843456 0.10487163\n",
            " 0.10299311 0.08966813 0.07586725 0.0627176  0.06492173 0.08685008\n",
            " 0.08295497 0.07999164 0.07784189 0.07626825 0.07506041 0.07407072\n",
            " 0.07320751 0.07241797 0.07167267 0.07095505 0.07025506 0.06956605\n",
            " 0.06888313 0.06820268 0.0675221  0.06683971 0.06615464 0.06546672\n",
            " 0.06477641 0.06408456 0.06339233 0.06270102 0.06201196 0.06132646\n",
            " 0.06064569 0.05997068 0.05930229 0.05864111]\n",
            "29 day output [[0.05798768]]\n"
          ]
        }
      ]
    },
    {
      "cell_type": "code",
      "source": [
        "# plotting the actual data, and the next 30 days' prediction \n",
        "\n",
        "day_new=np.arange(1,101)\n",
        "day_pred=np.arange(101,131)"
      ],
      "metadata": {
        "id": "0kTQKiJnR71p"
      },
      "execution_count": 30,
      "outputs": []
    },
    {
      "cell_type": "code",
      "source": [
        "plt.plot(day_new,scaler.inverse_transform(df1[1158:]))\n",
        "plt.plot(day_pred,scaler.inverse_transform(lst_output))\n"
      ],
      "metadata": {
        "id": "e_XGobY4SEE3",
        "colab": {
          "base_uri": "https://localhost:8080/",
          "height": 283
        },
        "outputId": "56c87b8f-5643-44ca-9e23-8f5096ded0e1"
      },
      "execution_count": 31,
      "outputs": [
        {
          "output_type": "execute_result",
          "data": {
            "text/plain": [
              "[<matplotlib.lines.Line2D at 0x7f0ef4444850>]"
            ]
          },
          "metadata": {},
          "execution_count": 31
        },
        {
          "output_type": "display_data",
          "data": {
            "text/plain": [
              "<Figure size 432x288 with 1 Axes>"
            ],
            "image/png": "[encoded data removed]"
          },
          "metadata": {
            "needs_background": "light"
          }
        }
      ]
    },
    {
      "cell_type": "code",
      "source": [
        "## lets see the combined output also \n",
        "df3=df1.tolist()\n",
        "df3.extend(lst_output)\n",
        "plt.plot(df3[1200:])"
      ],
      "metadata": {
        "id": "7KCqymOuS6W7",
        "colab": {
          "base_uri": "https://localhost:8080/",
          "height": 283
        },
        "outputId": "3da661cd-f52b-421c-a328-ff0de2ef4a67"
      },
      "execution_count": 32,
      "outputs": [
        {
          "output_type": "execute_result",
          "data": {
            "text/plain": [
              "[<matplotlib.lines.Line2D at 0x7f0ef29ae7d0>]"
            ]
          },
          "metadata": {},
          "execution_count": 32
        },
        {
          "output_type": "display_data",
          "data": {
            "text/plain": [
              "<Figure size 432x288 with 1 Axes>"
            ],
            "image/png": "[encoded data removed]"
          },
          "metadata": {
            "needs_background": "light"
          }
        }
      ]
    },
    {
      "cell_type": "code",
      "source": [
        "df3=scaler.inverse_transform(df3).tolist()\n",
        "plt.plot(df3)\n",
        "\n",
        "## here is the whole complete graph "
      ],
      "metadata": {
        "colab": {
          "base_uri": "https://localhost:8080/",
          "height": 283
        },
        "id": "BZauzjxZBP20",
        "outputId": "2e237049-a84d-4c51-a748-e2136b8500e4"
      },
      "execution_count": 33,
      "outputs": [
        {
          "output_type": "execute_result",
          "data": {
            "text/plain": [
              "[<matplotlib.lines.Line2D at 0x7f0ef4524590>]"
            ]
          },
          "metadata": {},
          "execution_count": 33
        },
        {
          "output_type": "display_data",
          "data": {
            "text/plain": [
              "<Figure size 432x288 with 1 Axes>"
            ],
            "image/png": "[encoded data removed]"
          },
          "metadata": {
            "needs_background": "light"
          }
        }
      ]
    }
  ]
}