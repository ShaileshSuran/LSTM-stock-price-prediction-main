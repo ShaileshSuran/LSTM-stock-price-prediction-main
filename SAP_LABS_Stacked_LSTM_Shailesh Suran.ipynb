{
  "nbformat": 4,
  "nbformat_minor": 0,
  "metadata": {
    "colab": {
      "name": "SAP LABS Stacked LSTM Shailesh Suran.ipynb",
      "provenance": [],
      "collapsed_sections": [],
      "include_colab_link": true
    },
    "kernelspec": {
      "name": "python3",
      "display_name": "Python 3"
    },
    "language_info": {
      "name": "python"
    }
  },
  "cells": [
    {
      "cell_type": "markdown",
      "metadata": {
        "id": "view-in-github",
        "colab_type": "text"
      },
      
    },
    {
      "cell_type": "code",
      "source": [
        "### Shailesh Suran|| ss812050@student.nitw.ac.in || shaileshsuran@gmail.com || +91 8106714553\n",
        "\n",
        "import pandas as pd\n",
        "import matplotlib.pyplot as plt\n",
        "import numpy as np\n",
        "import math\n"
      ],
      "metadata": {
        "id": "tMhpLLih38YF"
      },
      "execution_count": 1,
      "outputs": []
    },
    {
      "cell_type": "code",
      "source": [
        "### Data Collection using TIINGO ( this was a good resource i found, i was having some problem with Investing.com) to collect past data of the stock \n",
        "import pandas_datareader as pdr\n",
        "key=\"8f291cc13ac10b56a0b393bba2debea47ca99268\""
      ],
      "metadata": {
        "id": "WhE-cjl-yhli"
      },
      "execution_count": 2,
      "outputs": []
    },
    {
      "cell_type": "code",
      "source": [
        "df = pdr.get_data_tiingo('SAP', api_key=key)\n"
      ],
      "metadata": {
        "colab": {
          "base_uri": "https://localhost:8080/"
        },
        "id": "xNqJtFWt2Bsd",
        "outputId": "a18fd17e-e791-4bcd-a740-1643712db150"
      },
      "execution_count": 3,
      "outputs": [
        {
          "output_type": "stream",
          "name": "stderr",
          "text": [
            "/usr/local/lib/python3.7/dist-packages/pandas_datareader/tiingo.py:234: FutureWarning: In a future version of pandas all arguments of concat except for the argument 'objs' will be keyword-only\n",
            "  return pd.concat(dfs, self._concat_axis)\n"
          ]
        }
      ]
    },
    {
      "cell_type": "code",
      "source": [
        "df.to_csv('SAP.csv')\n"
      ],
      "metadata": {
        "id": "at7KKgoy2EkG"
      },
      "execution_count": 4,
      "outputs": []
    },
    {
      "cell_type": "code",
      "source": [
        "df = pd.read_csv('SAP.csv')"
      ],
      "metadata": {
        "id": "bByeHVWD3_in"
      },
      "execution_count": 5,
      "outputs": []
    },
    {
      "cell_type": "code",
      "source": [
        "### since we are going to precdict the closing price of the stock the next day, we will only be using the close price of the stock \n",
        "\n",
        "df1 = df.reset_index()['close']"
      ],
      "metadata": {
        "id": "uH2ZKmm84NGg"
      },
      "execution_count": 6,
      "outputs": []
    },
    {
      "cell_type": "code",
      "source": [
        "#plotting the data for a better visual \n",
        "\n",
        "plt.plot(df1)"
      ],
      "metadata": {
        "colab": {
          "base_uri": "https://localhost:8080/",
          "height": 283
        },
        "id": "kFhFvfbi40jD",
        "outputId": "47c7ad39-521d-4a06-96aa-f43a5c49cfcc"
      },
      "execution_count": 7,
      "outputs": [
        {
          "output_type": "execute_result",
          "data": {
            "text/plain": [
              "[<matplotlib.lines.Line2D at 0x7f3ac4886310>]"
            ]
          },
          "metadata": {},
          "execution_count": 7
        },
        {
          "output_type": "display_data",
          "data": {
            "text/plain": [
              "<Figure size 432x288 with 1 Axes>"
            ],
            "image/png": "iVBORw0KGgoAAAANSUhEUgAAAXcAAAD4CAYAAAAXUaZHAAAABHNCSVQICAgIfAhkiAAAAAlwSFlzAAALEgAACxIB0t1+/AAAADh0RVh0U29mdHdhcmUAbWF0cGxvdGxpYiB2ZXJzaW9uMy4yLjIsIGh0dHA6Ly9tYXRwbG90bGliLm9yZy+WH4yJAAAgAElEQVR4nO2dd3gc1bn/v2e7erPcZcsd94JtbCBgQrOBACGEGnpCKLnJ5ab8aEkgDQJcSAiEkkCAXEogBHAIYMA2HYwLNm7YlrvcJEtWl7ae3x8zZ/bM7OxqtbuzTe/nefx4dmZ29szu6DvvvOctjHMOgiAIIr+wZXoABEEQROohcScIgshDSNwJgiDyEBJ3giCIPITEnSAIIg9xZHoAADBgwABeW1ub6WEQBEHkFKtXrz7MOa8225YV4l5bW4tVq1ZlehgEQRA5BWNsd7Rt5JYhCILIQ0jcCYIg8hASd4IgiDyExJ0gCCIPIXEnCILIQ0jcCYIg8hASd4IgiDyExJ0gspRXvqhHpzeQ6WEQOQqJO0FkGZxzLNl4EDf9Yx3u/PfGTA+HyFFI3Akiy/i/FXvw/b+vBgA0dfgyPBoiVyFxJ4gs4/0tjdqy005/okRi0JVDEFkGY+Flp4P+RInEoCuHILIMSdvhtLOo+xFELEjcCSLLkC13N1nuRILQlUMQWYyLfO5EgtCVQxBZBufh5YoiV+YGQuQ0JO4EkWVUSoJuY+RzJxKDxJ0gMsgzn+7ChY99ilAobK639fhR7FaapAWl9QTRF0jcCSJDfLL9MH7x2kas2NmMJz/eqa1v7wlg3KBi2G2MxJ1IGBJ3gsgQdy7epC1vPdSuLbd1+1HqccLOGAIk7kSCkLgTRIYIhEKm6zu8ARS57arlbr4PQfQGiTtBZAgzqzwQDGF7YyfcDjscNoYgaTuRII5MD4Ag+iuBYFjcGRg+29GEh5bVAQA+39kMu53hcIcXnHMwipoh+giJO0FkCHmydMmmg/jHqr3a6y5fAC1dfixetx/zx1Th4rkjMjFEIochtwxBZAEtXX7d62JP2O5a9lVDuodD5AEk7gSRIWJ5WjwOu7ZM4ZBEIvQq7oyxJxljDYyxDYb1/8UY+4oxtpExdo+0/hbGWB1jbAtj7HQrBk0Q+Y4s59Rqj0iEeCz3pwAslFcwxk4CcA6A6ZzzyQDuU9dPAnARgMnqe/7MGLODIIgIYk2RyhmrK3Y244mPdsbYmyAi6VXcOecfAGg2rL4ewN2cc6+6j3AKngPgBc65l3O+E0AdgLkpHC9B5A2xImCOGV2pc9v8+vVNOsEniN5I1Oc+HsDXGGMrGGPvM8bmqOuHAdgr7VevrouAMXYtY2wVY2xVY2Oj2S4E0S956br5uPPsKShy6YPZuv3BDI2IyEUSFXcHgEoA8wD8FMCLrI+BuJzzxznnsznns6urqxMcBkHkLiEeaYmPrCrEnNpKuBw2uAyNOnwBymgi4idRca8H8C+u8DmAEIABAPYBqJH2G66uIwjCgFcS6x+cNBYAcP2JY7R1dpveXvKr6aob97fi1S/oz4qITaJJTK8COAnAcsbYeAAuAIcBLAbwHGPsfgBDAYwD8HkqBkoQ+UaP6maZUVOOn5w+AT85fYJuu9D2waUeHGzrgU8V9zMf/AgAcO5MU48nQQCILxTyeQCfApjAGKtnjF0D4EkAo9XwyBcAXKFa8RsBvAhgE4C3ANzIOSdHIUGY4A2EcNGcGrxw7TzT7aJRxxlThwAA/EGaUCXip1fLnXN+cZRN34my/28B/DaZQRFEvuMPhhAMcQwtL4DHaR4tLMS9wGXT3iNzuMOLAcVuawdK5CyUoUoQGUD42z3O6H+CIkRBZKue9sAHurrvN7/8pXUDJHIeEneCyABr97QAANyO6Dl+wnKXw9tPe+ADbbmx3WvN4Ii8gMSdIDLAd55YASC25S4mVKPFt88dVZnycRH5A4k7QWSQUo8z6jabqu7RujGVxHgvQZC4E0QGKXD17pY5Z4Z5yKM3QIFoRHRI3Akig8SKdhFuGYedmZYHfnj5dotGReQDJO4EkQEmDy0FY8CUYWVR95k0pBQAImrMEEQ80FVDEBkgxIGTjxoUc5+7zpuGi+aOQE1lYZpGReQTZLkTRJoJhTg2H2iLGSkDKP74eaOrAACixtioAUWYWxuOkgkEqZgYYQ6JO0GkmYeX1wEAdjd19fm9/2/hUXjxuvlYOHkwAKCLygATUSBxJ4g0867a8NpYTiAeRITMCeOVMtndPhJ3whwSd4JIM+09fgCA29H3P7+2buW9RW4lhJL6qxLRIHEniDTjUGMcE6nxaLcpf7KFagRNF1nuRBQoWoYg0oyYHDVpxBSVt286Ac+t2IMLZg8HABS5yHInYkPiThBpJqhWAuN9sN3HDyrBHWdP1l4XuslyJ2JDbhmCSDMDSpSsVNGEIxEKheXuI8udMIfEnSDSTEWhE8PKC3T9UvuKEPdcstyXbDyIj7Ydjrp9T1MXXly1F6EQdZxKBSTuBJFmgiGO8kInmFnBmDgRJQne3XQoVcOynO//fbVW6tiMG59bg5/980vc+e+NaRxV/kLiThBpxh/kWsRMohSqoZBvbzqE/S3dqRiWpXTF4T5av68VAPD0p7t73feP725D7c3/wXI1Z4CIhCZUCSLNBEIhOOzJ2VUu6f2hvoTdZAizbNynPt6JKcPKsGFfKz7e3tSn4z3w7lYAwIur9uKkowamZIz5Bok7QaSZQJDDnqTlLrt0XEneKNKBmbjf8e9NUffnnMd0W1UWudDc6UORmyQsGtl/VRBEnhEIcTjtyYl7rrG7qRNAeCI4GlVFLgCAr5fSDGOriwEAm/a3pWB0+QmJO0GkEV8ghNW7j2iZpqkg250ynHPc9eZXAJTonk5vIGo1yyHlHgBAjz+6uHd6A9jTrDwJdFASV1RI3AkijTy0bBsA4IOtjUkfa8owpZlHtrvcjZGNWw+1R236PaSsAADQE6Pa5Tf+9BEOtvUAiN48nCBxJ4i0IkQpFVx6zEgAfct0zQTG6pc9/lDUapYTBpWo+0QX7R2HO6VjkbhHg2YjCCKN2JKIbTeSK177oMF07wkEdRb3zBHl+MVZkxDiHE0dPgBAS5cfI6t6PzaJe3RI3AkijSSTuBSNbHTLrN59BANL3KipLETAIO5efxCHVREHgMMdXswcUQEgPEG6r6Ub02vKde+77ZX1qCh0aa9HVhVid1MX/MEQnDkQMZRuSNwJIo2ICMgkIyEBAOI+kYXajm898gkAYNfdZ2qTpyeOr8b7WxvR7Q+i/kg4NHJ/S9hVNaxC8bnvaOyIOOazK/boXlcVubC7qQtdviDKCkjcjdA3QhBpRLhl3I7YIYHxwFTHDM9G011CuGWmDS8DoPjcW7r82vbaqnAD8LICJwDgvre34kBrN1rV5iRm51hbVQQAOZGhmwlI3AkiA7gS6MIUQZY63Y2Fv/zq6xKP4ijo9Aa0apb/d80xeO5783T7jx2oxLDPv2sZpt/5tvIekwlYcbOoP0LibgaJO0GkERE5kgpxF9qeCcO9ob0HdQ2RrhMgsgxxMKgMsLLIjUKXHVsOtuOet7YAAI4bW4VBpR7d/nedNzXimF7DxOmiKYPxNbWPbDx1a/oj5HMniDQi2uOdN2tYhkeSOK+t3YcfvbAWALD1N4siblSdXr0Q+0PKDc1pZxhWXoCP68Jlf80mmKcPL49Y5w3owymvXzAmJ8sepxOy3AkijQhB+n+nH5X0sYQwpttyv+/tLdpyQ3tk3H6H1697LXzuDpsNbqcNR7r8Ee+RcTlsOGXiIN06n0Hci9wOFDhJ3GNB4k4QacQfDMHtsMGWgnAZzS2T5niZoWoWKRApugDQ3hN2kwSCIbz+5QEAgN3G4LDZtBj3SUNKo36G8M8Dys3BaLkXuRwoUG+UFOtuDok7QaQRXzCUsiqOFoTMx0WBVPzLrMCX7JZ57vM9eHCpUnLBYWO6gmlPXDk76mfI39GB1m54A3oBL3Lb4bLbYGPAn5Ztw9ZD7X0/kTyHxJ0g0kiPPwhPL5UR+0q63TKyG8TMcpfdMit2NmvLDrtiuQtilet1OsI3gfX1raaWO2MMIa6EVoq4eiIMiTtBpJEef0jzFSdLppKYunwBrZPUBY99iv+obpf3tjRg26F2/GlZnbbv5gPhkrwOmw0OyXIvjPE9tHWHXTv+EIfXUCXS6NYaVl4AIwdau1HX0B5R/qC/QNEyBJEGAkGl1G+nN5A6cc9QElOXL4jyQhcOd3jR4w/hj0u3osTjwJV/Wxmx747GcJGvaTVlWpkAt8MWsxvVka5weYJAMBRRfMzIiMrCiHXz71oGQMlkXf3zU2OfVB7Sq+XOGHuSMdbAGNtgsu3HjDHOGBugvmaMsQcZY3WMsS8ZY7OsGDRB5Br3vr0FFz7+GT7d0QSPM7d97l3eIMoLndrrxnYvdkqVGqNR6nFqFn9xLx2UAkGuWzbWpxEs/fGJKPE4tExWgXzDa+r0Gd/WL4jnKnsKwELjSsZYDYDTAMgFHxYBGKf+uxbAI8kPkchXOrwBNKSwBG42s3ZPCwAlksSTIstdkAm3jCzOgSCPOxxRWO6iwXc0gpI4+4IhBEPmlvuY6mLMqCmPmNht69EnNh3u8EZtEJKv9CrunPMPADSbbHoAwM+gv7bOAfAMV/gMQDljbEhKRkrkHWc++CHm/m5pRsew7VA7bn1lfcRjf7R644ki/5H0ZrX2+dgZmFCVLWN/KITfv/VVzPf864ZjAUDzuRe5Yn8Hsp88EAxFtdwB5YZh/P0a272617N/8y5+uXhjzM/MNxJ6PmSMnQNgH+d8nWHTMAB7pdf16jqzY1zLGFvFGFvV2Jh8Vxoi9zBrmmwldQ0dESnzv3/rKzy3Yg/+8O5Wbd1ra/dh4i/eQl1D6sLrZDGcUROZgZkI4ezO9Kl7XUM7AiGO2bWV2jp/MPLzL55bg1vPUBK1zps5DLPUkr6iMXhvja1lcfcHecxJUYeN6dw4QLhnq8wb6w/E/Mx8o8/izhgrBHArgF8k88Gc88c557M557Orq6uTORSR46RrQvCU+9/HKfe/r1s3Tu388/Dy7do43t3cAADYmMLmy/IpDq+MjOxIhEy43C987DMA+htzMMQxflCxbr//PmU8qorcEe//15p9AMxL+sqI6pCA8mQgxH3y0FJcd+IY3b5mlvs+tVLkE1eEY+mNfvl8JxHLfQyAUQDWMcZ2ARgOYA1jbDCAfQBqpH2Hq+sIQocs6JlMH5cj6kQZWhGtl8oQupB0vqUeZ4w940cLhUyjW0b4ym85Q18+YeshvVgXuR1wqjVn3NIcQ1WR0myjtwbh/3vBdNx+5kQA+gnVxy47Gjcv0n+20850Tw/+YAi/eE1xwchFyfpbRGSfxZ1zvp5zPpBzXss5r4XiepnFOT8IYDGAy9WomXkAWjnn/etZiIgL2Yr6+asRgVgpx0yoP9zWiIeXb9deewNKb89X1+4HgIhH/WSQP162SpNBC4VMydHiwxcI4cLZNRhTXRxzv0KnHYumDMb3TxyNmxeGxXjZTxbg5KMG4udnTYz5/gHFblxz/Cgwpoi1XJ/GiMNu002WTvz5W9qy8bvuTzHvvc7sMMaeB7AAwADGWD2AX3LOn4iy+xsAzgBQB6ALwFUpGieRZ8jFo7am0LcdjQ5vZFnYP7y7Tfe6yxfAi6vCU0Zm70kU+UmlNEXiHj52Sg8Xky5vMGqkS4HTrtWNsdkYbGC4ZZFexMsKnHjiyjlxfRZjDE6bDX7Jcjcz+J12ptWMP9Lp002+Fhqygb2BoFaZM9/p9Sw55xf3sr1WWuYAbkx+WES+096jiHtlkQtfHWhHly9g6R+d+DyZkEEV3918CPe/E55YTaWPVv6klFnuWoZqetSdc45OXyBqpEu3P4h/Xjcf6+pbU/aZLocN3kBQawBiZrnLPvc9zfpJ+gKDuHf7+o+4U/kBIiN0qHHIZ04dgkCI49uPfpqyY7d2+7HNUEiq3RD3/On2Jnyhxp4LfveGPpwvFeLe5QugudNnjc89JUeJH28ghBCPHqM+p7YCs2srcc3xo1L2mWUFTrR2+TVr3G5STdNhs0V1oXkM7QxlN1y+Q+JOZASRZDJnlBJSl8rIlIV/+ACnPvCBbp3sYtnb3IWL//JZzGPUVBakRNzP+/Mn+Pr/vqebNE51hmq63DLiHITlXmIIZ3z8suhVHhOlqtiFpk6flsTkMBF3p51pSUzGeHibjWkhmQDw5Mc7Uz7GbIXEncgIwk0yY3g5qopcWDh5cMqOfaBVyXr1BoLo9gXxyfbDOreM0Zc+a0Rk3HmB0x5RZrav+AIhfHWwHS1dfjS2hZNqzLoPJUO6xL1T/d6Eq+ODn52EX50zGQAwdVgZKtRImFRSWeTC+1sbtWgYM8vdKU2oyrXdT5ukNPy49oQxEe/pD/QP5xORdQg3SYnHgRFVhRF9N1PBhNvDURPfmjXcdJ9bFh2F0yYPxkn3vadb77Tb4Askp5r7W8KNm7tU0Tl+7ICkjqlHRMukR92NlntFkQtj1aiZ3gp7JYpoyXfvEqX7k5m4F3scCHGgtcuvyyx+7LKjI/aV68nnO2S5ExlBWM/FHgeK3Y4In3iiRLO2X15TH/HZgBK5YoyoAMwTY/pKs1TZMBjiOG5sFR6/PFJwEiXdhcNEI2rZ515VrCQqxSoPkAzG7Fe7yUkfNVhJRPvqYJt2E/3G9KG6J6RNvzod1xw/CiGe/iqamYLEnUg7H25r1KJSnHYbSgucKYtMeX9L7FIWDhvTTd6WeBwRERVnThsCVwrEvdXQK3RObWVKIzW04gMJaFVrtx9zf/suVu8+Evd7jJY7AIwfVIzL54/U3DOpxthL1aw9ociEbe32axP1/2/hBN0+hS4HBpa4EQzFX+Qs1yFxJ9LOZU98rns9tMyD/S3dKbGorv37at3rBy6crntttDBLPE5d04hZI8rx0MUz4XSwpMW9pVtfaramIrLmeDIk47tft7cFDe1eXU2d3hA+d/lJhzGGX50zBceOSaW7Kcxd503tdR/Rb7Wp04dbX1mvjjHyJlqiRiml6ikx2yFxJzLOwBIPvIEQ2lOYNDSsvAD3nD8Ng0uVOi6Th5biByeNjdivxOOAw27TenYOKS9QkmfsNviSzFA91KavTFhj0lAiFSRyTxS+677cwL46qISXmrmxrELOCVh/x2mm+whx3yXVlDdriCL2azPJechHaEKVyBgirM2l1iBJNt1ftvw//NlJsNkYlm4+BEDxDQ8q80S8x6kmxXicNviCIc2Kd9hs8Jv0B+0LxoSamhQVDBMk43IX4t6XdHzhSuutomMqEdcGELa8jYj1+1vDvQHcjki7VWQGmyW05SMk7kTGKC8URaQUoQlEacgQL79+fTMAxWoXvtmZIyowoNiF/zl1fESzht99cyqmDCsFoDzGt/UENKvUlQK3jNHnblYlMRmSyVANf+fxvTcYI6XfahZMqEZ5jKxecQMQkTWAuW8+bLn3D7cMiTuRdhw2hkCI4zfnKpNwiViRMq1dflz99EptcvDKY2u1bZVFLqy6/VTt+N8+ejgumjsCR4+s0B1DCFaB6qtNRbSMHHOtHDO14S3JJDGJ9wRDHJxzvLe1ESeOqzYVRUB/LulO33/qqrlx7dfcSzu9UlXcyedOEBbAOUeIc/zgpLFYOEVp0qVZkQm6ZZZ+dUgX9XF6lIQou43h3m9PjxB2QO4QpIi8Iu7JuYm8BrdOqpOXBImMUjzFfFnfilG3vIGr/rYST3wUPXtTPhezWPNs4q+Xm2fKirIPH287bLo93yBxJ9LKkS4/Qlxf0MmRpOVuzIwcUdX3iUvhnhCP7sqEamot91TDkvC6+02+6892NEXd/x8rlWqZl88fmfBnposxA83LEVeXuOG0M5pQJQgrWKNa2CLxBOi7/9eILHHnzTTt6hj3MYpV685lT97n7g2E4HbYIiz4lKG5ZeL/3lq7/LDbmWmz6Fi5BqJH6kyTUg3ZhstkMhVQnpzGVBf3m5ruJO5EWhFCJ4cFijKuxhK88eJTj7n4B8dh2vDExKeq2I3tjZ1aCJ3Tnny0TI8/iCK3A95AbF9wovSlg+rSzYcQ4sD3nlmFUo8D95w/PWKfeOrXux3pnUxNBBHWaoaNsYSvs1yDxJ1IK6I8gByqlqzPXdwwzGKb4+XiuTX4fGczhlco4YpOR2p87oUuO5ojezWnBOHDj0errnl6lbbc1hMwjUzqjsONZBZimG24Y1TdtNtYv7Hcs/+XIvIKIcSyBZisz91ncsy+8s2Zw7Hm56dieo1i+QufezJZs12+IIrTEhPe9zGa3UhtcUz4Zqvlfv2CcOXH2JZ7/+mlSuJOpI0Hl27DCnXSTme525OLcxc3jGi+1niplCZmXfbk5gEAoMPr155KzCJ0kiWZmBWz+YR4gnmS/Y6tYoTk5ov1dGGz9R+3THb+UkRO0trtx4sr9+Kgmim4t7kLa/YoE6icc9z/zlat+bT86Jy85a64E1IpPE7V+kt0UjUQDKHHH8JYNXLDiiiTvsS5yxPYALBTStWfNrwMQDhbNxapahGYauSs01ghp3bWf9wy5HMnUsZDy7bhLx8qsdK77j4TX7tnOQDgH9fO09wdAvnROdlomac/3Q0AKIrS/i0RNHEPcCCBHhSdXuWGM3VYGe4+b1pE5clUwLR67tHhnGPp5oaIsExRJwYAbjplPF5avRdvrD+IUIhHTWQCgIqi7BT3Dm98YadkuRNEAuw8HK6l0ilFXlz4+GcR4YAOu2y5K8uJWlTCCk2lP9ipPgUkGusuKkKalRRONbG0avmWBnz3mVXY1dSFc2YM1dxD9UfCv5XbYcMb6w8CAP65ut70OILygtR3W0oF4n502bzYT0g2BiRZ5SJnIMudSBmlBeHLqaFdXxHRGyMSIxnLXVikqWzKDIR97om6ZTbsU3rCThxSmrIxGYnHRy6n2rvsNjx8ySzMu2spth7q0NbLLrJ6qXuUEZfdlrU+9++fMAZ2xnDdgtgt9ew2hh5/EMEQz/pM22TJzl+KyElKpap9n27XZzvuPdJl3F1D/JFd8eTn2CK5C+LhiNrtaGyUrMRE8ahhlV0Jtv8TPuDqktQWC5MJN+uIflOUG2s4HTaUF0a6VeQnHl+U2P7KIhcunFOT2EDTQIHLjv86eZzmTouGjTGs3duCS3ppkJ4PkLgTKUN2P4imCYI7Fm8CANywYAzevukE3Ta5oNbPX93Qp88UxaIqClPrLhhSpsS772/p6WVPc4TF35vYJIVWFTI68hyp08a0m5aMbI2LcXsDQZ1rzR8M5YWlK8I9V+xszvvSvyTuOU5DWw8eXl6XFREAsXy/op7HjJpyjB+kj9yQBefzXc19+swjncpxK4tSLe5K7XdRU6WviEYfVoq7NqEa43uXLXHjWISoy5L97IrdCIU4zvvzJ5j8yyXa+mCI50VzafkGdeFj+W29k7jnOA+8uxX3LtmCd9WmFJkklntACItZKJ0xs7QviUOvrd0HAKhMcRRHmeq++M/6A6hr6Ohl70iEBRwroSYdyBPZDsNYRAlcjrD7qMcfwuvrD2Dj/jbdvoEghz2OUMlsR07U2nSgLaobKh/I/V+rnyO6y/TVV20FsULM6ho6UOx2YIZJ4Smjq6AvESovqdEdA0sjuywlQ7Hkq97RmIC4q6LhsNDajadZhyzuQwydqB75ztE4YXw1aquK8PJ1x2rrtxzUCzugJJg58sAtY+Rga2Jut1yAxD3HqVLdEYfaMn+RhjhQ7HZgYZR66uMGFZuGKxot975UUVw4eTAGFLt0k7mpQI71NjbdjgdhuVspiNqR43TLXHrMCN22ObWVeObquXA5bLoyyQ8v367bLxjiCHGL5w/ShDH6yZ/HcZG5/2v1c8S1mg2tw0KcgyF6Wdhohb2M6eJef/x/cCHOMaDYuoiURPEFOVx2m2UNOgCpcFiscajifs6MoRFumXgIhbgWbuqJUZArVzC6Ybp91tbczyS5/2v1c4QlYlafO91wrrgKZDfLL78xSVuOVi/cmBHZF7dMiMdX8Crd+IOhtE1AmnnD3lh/ALU3/0cLQb3n/GnatsU/OA73fTuy5K9ZiQRvICSJe3YWDesLRsvd6oYqmYTEPccRF2s2XKScK6nrsnVUJVnVsSJ6/nr5bPz09AkAYic8mX9mAoO1mEAwpGW5WkWse9ozn+4CALy4ci9cDpvOHTZteDnOP3p4xHtuWDA2Yl2PP4ge9ffMC8vdIO7xlDnOVXL/1+rniIu1KwseL4UVLfv/HTaGX5+jNMKOlYF6yqRBGD2gCEDffO5BzjNmuXPOoza48AW55T7qcLOOyO9VfHanL6hFxfSGmXg/v3JPXlnu5JYhcgZ/QPnDXrGzOem2cMkS4hw2Bl2RMLuNYZwa196b60ikwW83iU759qOf4PnP95h8pnVume+qJQ2OHVMVsa2504dRt7yBKb9cgv0mKfuN7V6UW1xBMVZVyG1SeYF4a8qbTUrf89YWHFATubK1lntfEMbQKRMHASDLnchiZEH/97r9GRyJIrSMMZw1bQj+88PjcfHcEThpwkAMUsMUe7P8RJbpQ8vqdOs551i56whu+df6iPeEQhxWBaTcftYkzKk1r8P++c5wstWm/ZGhgzsPd2B0dZE1A9Mwn1BtaOvBwQSip2w2hr9dNSdi/XeeWAEgT9wyquV+1rQhALLDnWkVuf9r9SM45/ik7rDOdy2L+/+8uC4Tw9LgquXOGMPkoWW467ypcDlsGDWgCDcvOgq//9a0mO+fUVOOQaXuCN98LDdNiFtbAMppt5k+ETV1ek2XBc2dPkvrysSixTBx3Zd2gQvGV0fdVhKneyebEb+lqLFDbhkibQRDHDe//KXW5ELm853NuOSvK3Duwx9r67LJ8lBCIc2F9roTx0TUdDfCGMMJ46oj/NixzjEY4paGGyrt9iLFsbkj3PTa6BYJhThau/2WN7YIu2X0A2g3hMX25eYX67usLMq+kNO+ImoGibDcriz6+0k1JO4ZZF9LN1Yaaqmsq2/BCyv34q43NkfsLyogrt/XCs45/vPlAXy6owkLJlTjlIkD0+AGiI3i/07uGBVFLhxo7cH9b8uxkWoAACAASURBVG8B5xyhENdNFhutes6V7jpWsae5C+v2tkQI6OGOsLVu9Pl3+AIIcetrn4cnVPWIm+N/nzJOHV/fjvt/1xyDN374Ndx4kr58bqrr92SCR79zNK48thaz1Lr2Pf3ZcmeMPckYa2CMbZDW3csY+4ox9iVj7BXGWLm07RbGWB1jbAtj7HSrBp4P/OC5Nfj2o59qlQ0BoP6IMjlXZWIltXSFH7f//eUB3PjcGhxq82JkZSEqCl0Zf8TkPLblFw/ConpwWR0eXFqH0be+gV1SSzhjmYWQxaGQohGI/BsBQLv0dGEsu9CldgUqTGFnKDNYuP6AfmyGcsN9TV46ftwATBpaip+cNkFLSPvauAFxR91kM4PLPLjj7Mlw2m0ocNrx2Y5mhLKg6J4VxPOrPwVgoWHdOwCmcM6nAdgK4BYAYIxNAnARgMnqe/7MGMv9KXaL+GJPCwCl16igQZ0IM2tnJvtSl2w4qC2XFbpQ6LJnPBwyFTHn8qTrA+9uBaA8qQjOePBD3f5Wh0L++NTx2ufokF76DeKQlnK/MRDJYsPKFRfEmVOHJHQcxhh+e+5UXDZvJJ66aq6l7q9M0O0P4vNdzXhpdWKVP7OdXm/FnPMPGGO1hnVvSy8/A3C+unwOgBc4514AOxljdQDmAvg0JaPNI+RJuuausFUohN4ssuSIvJ/U/KKswAlfIJRwY4lUEUqB0JpFZBgnCAPBkGaNWp2hKpKwjNoui33QMOH6fbUWjdUZqsY49/9+4Qt4nHbUVCp1YuaNrsJ/fng8JiXRDWrS0FL8+twpyQ41q2loi5wQzwdSYVpcDeBNdXkYAPk2WK+uIwx8sLVRWz6iPvK3dPm0Zs91DR14d5O+jG+r5JaRu9dXFjlR5LLDH+QZjXVPhdCa3dQeeU9fyGrsbW9qy1aGQgJhf7XR1y8nZBmTszYdUEIjHRanzhrj3F9dux8vrNyL1m4/PE4bPE47Jg8tyzuLO9WUmXSnygeSuvoYY7cBCAB4NoH3XssYW8UYW9XY2Nj7G/IMuceo8Oee/VA4CubDbYfx3WdW6RJ/ZMtdjogYWlagdUF6f0vmvssQ53H19YxFvLHUu5s6tc+0MhRS1L0xintQiqDxBkKmVTmtt9zDzTrk6Kojnb6sbWSdjfRnn7spjLErAZwF4FIeDiXYB0ButDhcXRcB5/xxzvlszvns6urosbX5ilxES4j2nubIPqNighUA1uxp0UXEnDF1MB68eCbmjqrUxP27z6yyasi9wjmiBELGjydGFuT80eFMUfHkY3UopIjEMbplZGv93iVbcMzvluqerABY3txCnk9dtrlBW9/U6TPtlUqY092HKqS5REJXH2NsIYCfATibcy4r0mIAFzHG3IyxUQDGAfg8+WHmH63dfq3Wt7F+tozwN3d6A2hs9+LrEwZq2waXFuDs6UPBGIsaX55OUuFzl/uwGiktCE8RfbZDCSG1OhRS6LNxQjVgUge8zlA2wcpGHUbkp5dlXzWQuPeBfC1BEE8o5PNQJkQnMMbqGWPXAHgIQAmAdxhjaxljjwIA53wjgBcBbALwFoAbOef5+c0lSUuXkuQisv6i+cq71JC7RtWNM3ZgsbZNTpKJ1QUpXfAU+NzNQkAFsqth88E2tPf4LQ+FFOcjh2MCyhOD0R3UYHDNONNUrpKbuKbILdM7Rw1Wah5lUyJgKun16uOcX8w5H8I5d3LOh3POn+Ccj+Wc13DOZ6j/rpP2/y3nfAznfALn/M1Yx+7PtKkZjHedNxWAYm2ZIcIbRTjguEFhcZetMznJJlNRM6nwuUezOFfcerJu4mtHYydOuf99BLnFbhlVNK96aqVufSDIcfTICl2npdZuP7yBsFBYbbnLbhnjtINZKC2h5/X/Oh6lHkfG80OsgjJUM0Rrtx9lhU4cN2YAAGDfkW6UehyYMKgEYyS/eqcq1Bv2t8Jlt2FGTbiQlWy5l0rL0+6QI1XTRyqiZYaVF+A78/Tt4M6dMRSDSj1aJT/BoTav9W6ZKMcOhjgcNqbzvT+7Yg9eWxsu3pbOCVVjw5OmDp/ZWwgJh92GEo8z4/khVkHingH8wRA+qjuM8gInygqcsDGlB2qHN4DTpwzWxd2KC6++uRvDKgp0j9+yJfuNaUO15Vh1060kFUlMNhvDb86dqiXgfPHzU/GHi2YCAOaOqsTOu87Av25QmjmXehwIWh4KaX7wQCgU4QpZv68Vn25v0l5bHQopEzTUv5HLIxDRKXDZ+69bJl94b0uDFhseCnHc8OxqfFx3OGK/bl8Qd725OaWPap9ub8Kxdy3V4tlFx/UZNRWw2RgqCl1Yu7cFIQ6MHlCkc20IX3v9kS4MryjQHVe23G02hpFSk+N0cfPLX+K5FUqd9VRMqAr+cvls/OHCGagw1DNhjGHWiApcfdwohLgoP2C9W8aIsNyNvPJFODgsXW4ZgKPDF4DTzvDP6+Zj4eTBvVbgJBQKnPb+O6GaL1z5t5U46b73ACgx4m+sP4hL/6rUqfYFQrhj8UY0tPXgqU924bH3d+Bvn+xM2Wc//cku7G/twVLVr97Qroj79JoyAEqxLJH4MqTMg79fcwx+tnAChpR5cP87W7Hojx9i84H2CHEfYJh8tDLe24ymDi9eWLkXt76i1FkX9dxTwaShpTh3ZvT8N7fThg5vAPVHujMS2+8Pcl2o4wkmpXKt7lwkJzEdau1BeaELs2sr8ehlR2sNUojYFDjtOkOOcx4xMZ6r9AtxN1b0a+vRxyN/vrMZT32yC7e+sl67i3tTGPsqJreE5X5IdbuIJhaVRS4tKamyyIXpNeW4YcFYnDxRCXvcfKANvmAoolPOgBK9VWtmSVrJCyv1NTmUkr/pwSXVbWnqtM6/bLx2vIEgOOcRlvsgQ+32X35jktY20CqEz33D/la8una/9pRHxE+By64r+/uvNfsw93dL8WV9SwZHlRr6hbjLTXF7/EF8z5DoI/5G97f0mPcsSxLRLEF0xxHZjELcqyTXg9xQ+odfH6c7jlu1BOfUVmBAsRuFLn1pINmSNIqSFcgVGkWUSLruL+k4P0BfcNEbCGLC7W/h7je/QiAUgsPOtE5NxnK4580cbnnavzj8rsORyW9EfBS67Fi3twUfbVNctOtUUf9sR1Ost+UE/ULcO73hO/OPXvgCX0miFAxxtPVEhg6KuPFPth/GDpOenn1h9W4lNfyJj3aixx/EoTYvnHaGCnVCVBR2KvE4dCIxsNSD5753jPZapOa/cO18vP/TBRGfIwurMV0+lfT4g3jli3pt7gAA/vrhTgSC6WtWfViy1v940QzLPke+ifSoT3PPrdgDf1Cx3B+6ZBbu+MakiFr6Tof134PIkRChr7efOdHyz8w3RNKcaCUo8k0+3HYYU365BJ1RGqDnAv1C3OUIhiUb9cW4uv1BtKlZoHYbQ6eITjnSjb98sAOX/GUFvv6/7yf82T3+oK7I1+2vbsD6fS0YWOLRLDsxaXiWFPEimCmFPorUfLuNocik6fFGqZdnRInaFLJk40Hc9I91+FxqNFJa4ERDew8GFKenW4/sJx1aXhBjz+SQv0Zx3wpxDm8gCI/TjkGlHlx53CitN6cgHeV+B5d6UOJ2aPM1x40dYPln5huFhoxoEZ324bbD6PAGTJu15wq5X30/Dm58bk3UbV2+ALYcUiz5Irdda4ixt7kL729NfqLutbX60jr/XF0PAJg1ItxyTsRDm2Wpuh1hkehLeJtJdnzKkEM1R1cXYUdjJ5w2hgOtPaYTi1YgJ2rJ31GqkR+ARIGpIOfwBkK6CVNjn9d0zH8wxuB22tGhPnla+T3kK0bXppFcTnDK66vBHwzp/OsXz62J2GfjvjbN7dLtC2rNjpu7fLruO4n+yGLydOqwMt164W8HwlZewETc5TC/I4bCVLGw0nJvlyakRTx6U6cPXb6g9tpqvilF0lgZJSSXdRCurhBXnshkMfUZfrt0ldl1SE+bboujc/IR2XLv8gUi3JnGfr65RN6KO+cc7246hHfUmug3LBiD8sKwP/uK+SMBAHf8eyP2tSiVF9fVt+I9Naxup6GWyC9e24BEONTWg8oiF1678Tjd+oFSdMW04YoVf9rkwTGPdfJRA2Nul7HS5y5Hp/zirEkAwvHdogGx1SycMgTThis3TKNLJJXI36K4YfoCIXgDIZ24T8hQ6KF8Y/OQ5d5nZHG/4dk1EddSXwyqbCNvr4Zfvb4J1z8bdsdMHlqmTWACwI9OUdqn7W7qwtZDHRgv1WwBIoNmdhjEPl4OtXkxsMQNm41h452no0i9mIZXhBOOxg4sxtbfLMIZUdqhzamtwP+cOh6nTBpkul3w6HeO1patqlHNOcezatISEI7uqWtQnn6GlHtM32cFv/vmVMwbXYmJSXQa6g15QlV2dXGut5RPnjgI7/90AVbcejJW3naKZeMxIidKkeXedwokt8wndU0RT2B3LN6YtsisVJOX4t7jD+LpT3bp1k0bXoZvH624ZW4/cyIqi1xaM2YA+NnpR2nLg0ojJwUT7XDU0N6juWCK3A4UqhOhU4fr3TSuGFbXS9cdix+ePC7qdsHCKYPxq3MmA7DOLWN8TC02TOwOT5NbBgCmDCvDC9fOtzRZSP4ae/tOR1YVYVCpR2tMnQ5k374rQz1bc5lC6drxBUO6JvSAcr3vb83NpKa8nFBt7vTpJsKOG1ul9ZXc/rsztEdZOe14/pgqbPvtIvgCITy3Yg9++8ZmAEr4YY8/pE1a9YVObwBbDrbjkmPChbDETUIuHZBKRCiiVZZ7j98YFaL3LacrWiZdcMiWu/47zYakIVG/xsasL1SWjzgNRtXavZHJS1056nfPy1t9syFj8Ykr5mjLso9y8lDlcX7xD45DkdsBp92GIrcDbqnVm3CfJFI57nvPrII3EMLc2kptnV/16Rkt3lQhzs8qy10UWZo4pBTnzRwWMXFoZZ2XTDB1WDiqyTiPcfHcEcbd0474vd0OO/VKTYB4jLZc9bvnneUeDHGc9aePAACPXDoLxR5H1Mf2p66ai5fX1GPyUL2LRJ4oG1LmQV1DR4QvLh4+UePr5eqNIlvVLE49FYjyt1ZNqIpM1OsXjMHZ0/Vx+bcsOsrsLTnN2IHFWDRlMLYeao+4YRpjpDOB8Lm74+w9S+iJZ47IaCzmCnlxRdQ1dGD17mZc9sQKvLymXlu/aOoQfG1c9Ljr6hI3rjtxTEQonVtNFho3sFirrmcMZYwH0elljmy5q7NyVgmDsJytinMXbhmzyIzvnzjGmg/NMA67DZxHumXSXajNjLDlnhd/ymnnpAkDccyoypj7tHTlprjnheV+yv3hDNIPt0WW8e0rIhxqwuASDC0vwOyRFQlNqLodNiyYUK3LVrz3/Ol4cOk2y/4YxUdZ7ZaRn4Z+evoEzKgpj/aWnMfGlHh343ea7kJtZjgktwyRGNNryrFiZ3PE+kcunYXrn11DbplswxhX3hfEJNr8MVUAFCHr7EPrurqGDqzZfQSHO3wYU60PsTz/6OE4/+jhCY+tN2wGt8wzn+7CmOrilKWma5a7JO43njQ2JcfOVmyMIahWgpTJBstdTKiS5Z44xqmKObUVWLnrCI4eWQGP05azjU9yXtzNYlCddpaQG0XwrVnDUVbgxOlqUpHHaUNTZ6Tlftcbm1Fe6ML1C/TuiO89s0pLghpUlr64byAsODsPd2LswGL84rWNAIBdd5+ZkuOLWvTGKoj5jI0xhEKRrq50dlqKBvnck2fcQH0C2mXza/Hi9+eDMYZRA4q1HI5cI+evCJF6PWVYKW47Q6mKV+JxJhW14bDbsHDKEC36wOO0w2vSreWxD3bg9299pZXwFaSrqJUZog69saxxsnDO4QuEsLupC4wBNZXpPa9MEs0tY8+C0MNdTYoRQTHuifOtWcN0c2CFznDk0fhBxdh2qD3aW7OanL8iRAOMS+aOxDC1U1GRO7X+x8MdXuw43IklGw9q61q7w364M/74oW7/g5LYTx+e+BNEInRFaRmWTOnSn7+6AaNueQPjb38TK3Y2YUipp1/5eLc3duBAa4+uuiiQHT73vc1K6Qz5eiT6BmMMx6ouWCBcBhhQgir2t/boCtXlCjkv7mv2KLXSpwwr1TJBRa2WVLH1kPJYJld4XF/fqi3LtVYeXl6ne69VyUrR6JGeGvarNXMAoCGJhJu/f7ZbW/5sR3POZuwlypo9SmLL61/u163PBp97iRpSa0wuI/qGbKzIT97CYDyQg9d8zou7SBceVl6AWSPK8dAlM3HXeVNT+hki809OEmmOEh5175ItutcFaY6FlrNuj717mbZsT2GCi3GOob9gTB1I5XeaKI+o9YTytclzupDLf0waGq5VNLhUEfdDJO7pR9Q6KXI7wBjDWdOGRvQaTRYRyij/MQsLed7oSs06N5vcLUhzMadoTSICcQa+c85xx+KN2LBPeTLZauJvvCQLMjMzgfH3zYZs3HI1QS4X3QbZhHCx3XTKeN08meh29coX+/BBCvo7pJO8EHennVkaCibu6nIoXI+aqXnU4FK0dvvhDQS1EgVy9cl0i/vVx9dqlSdl4s1Y3d/ag6c+2YVrnl6J1m4/fv36JgDAmVLFylTfPHOFbCwOKLp4kVsmOYSLzWGYJBdlQl5aXY/Ln/w87eNKhpwX905vAMWq1W4VIhJBLkEg/HKiIFlThw/tap2Kn0oVJh1pjmJwO+y4cE7Ysl6ohnMG4hR3UQzrUJsX0+98G0e6fDhqcAkevnQWvn/CaABAsSfnI2gToikL09BlQ4JIHKEfxknywhQHZ6STnBf3li4/Siy2JE+ZqNRR7/YF8dKqvQDCltIwtTZFc6cPR1Q/fLHHgfNmDcPcXtKarUK+PkWtczHxHIu6hg6c+/DHunU7Gjsxa6TSx/XmRUeh7reLsmIiMRNkYzKLeDLM5wzhdCBKSxjLghgL/FnZBCfV5LQJdqTTh8Xr9ve+Y5LcdOp4PLS8Dh/VHcZHdYdx2ysbMKjMDZfdppW4fXPDATz2/g4AQHmBE/dfMMPycUVDjseuLFYe2297ZQMWTBiIh5bVwWFj+PW5UyLeZ4wGAZRqmOMGKlm2jLGIx1YiszDGsPTHJ+o6exF9J1o+mtGt2uULWG5Mpoqcttw/3p58HZl4sNuY7vHXFwxhb3M3SgucWqbmw8u3a66PeaOrTI+TLmTf8AApk/R3b2zG85/v0YU2RnufTKZayGUjhS47bCw7wiAFY6qLc0ZwshVRGXZEVZFuPWMMtVXhrmm5FJWU05b7rBEVKPE48HO1j6eVKHGw+kSRiUNKMGqA/mIocTtidlVKB3JTZ/mP/j9fHoj5vmjtxMaRuGvYGcPHN38dnn6UxNUfuPSYEZgyrMzUvVVZ5MKupi4A+hj4bCenxX1oeQHW33F6Wj7LrHZHeaErYiK3NM1JS2bIfsG+uFGiuRMHFPefOjJmMBZ+qrHbWdqagBPpgzEWdd5Cbr3X1p07Iac57ZZJJ2ahlmJmvUSadMkGcRci/Ztzp0RNkb9vyRatuBmgZLPubIpsAl7oog4/8tlnQ+ISkV7uOHsyRqqumS/29h6YkC2QuMeJWS0V4XeVQwMvmG1dOd94OWuaEpM+b3RlVN/wQ8vrdE3Ej717WYTbptTjwP999xjLxpmLZJOvnUgPJ4yvxts3nQAAWrhzLkDiHieiMNO5M4biv76u1C+3S1UjAeAb04fiymNrMzI+mePGDsCuu8/E2IElWn13M46YlFCQQ7/e/+lJmDWiwpIx5hLykwuJe/9E5Lrcu2QL7l3yVdT5qWyCxD1O9jQrEyrnH12jibnojXrx3BoAwJ1nT846F0as3q9ipPKF2uEN4MpjazG6ukjLfuzv6NwyJO79Evnv+uHl23Wdmw60duOlVXu1UijZQk5PqGaCyUNL0dajWPGiTOj3vjYal8+vjdqIO5OIloGx6JQiAAaVunHH2ZNzwjJJF/L9msSdAACv9Hd1wWOfYm9zN+5YvBEbf7Uwg6PSQ5Z7nFw4uwaDSt2oKHJh0ZTBeO8nC7BgwkAAyl09G4XdDDlMU2TZyg2Az1BryGTbE0gmEaWkARJ3QkG+DERN/c4sC5PsVdwZY08yxhoYYxukdZWMsXcYY9vU/yvU9Ywx9iBjrI4x9iVjbJaVg08nvz9/Gj675WQAamKDIb49W5k/ugo/WzhBey0mW4FwRU051Gs8xbRH8PTVc7VlipYhgHCv4ve2NGR4JNGJx3J/CoDxWeNmAEs55+MALFVfA8AiAOPUf9cCeCQ1w8wOctGatdkYblgQbmB9y6KJ2nK7Ku5isvi2Mybiojk16R1gDjCkjCx3Qo9fncva3hgZPpwt9CrunPMPADQbVp8D4Gl1+WkA50rrn+EKnwEoZ4wNAZE1VJe48dktJ2P8oGKs29uCl1fXa5b7iROqc/IGZjU2ipYhDAiXpjeQXa4YmUQnVAdxzkVQ9EEAg9TlYQD2SvvVq+si8t4ZY9dCse4xYkT/bP6QTi6aU4N9atu9wWUerXXg3z/brVkh6W4JmCvI4p4NfVOJzOMNBLFubwvueSvcea0yy6LLkp5Q5UpYRZ9DKzjnj3POZ3POZ1dXVyc7DKIX7v7WNPz9mnBC0hNXzAYArN3bgo372wBk38WZLch6ng3dl4jMcOWxtVpnJm8ghL99vFO3PdvqziQq7oeEu0X9X8wq7AMgO22Hq+uILOPkiYMw3VBLI1qLvv6O7Iohy73/csfZk7HsxwsAAH94ZyteXRsukX30yAp0+4NZFUKc6F/zYgBXqMtXAHhNWn+5GjUzD0Cr5L4hsgxvDpUvzSTyPESsjF8i/xEFBPcbGmYfP3YAAMWi/8lL6/DkRzsj3ptuevW5M8aeB7AAwADGWD2AXwK4G8CLjLFrAOwGcIG6+xsAzgBQB6ALwFUWjJlIEdmWUZcLULOS/k20Xs0VWqPyIP65uh4AcPXxo9I2LjN6FXfO+cVRNp1ssi8HcGOygyLSQxY9QeYMLnJd9WtcdpuuBLSgQG3Pl03NPOhK7cdkk38wV8h0IxYiszDGIm7wNhYuHphNk6p0pfZjSNrj5yenjQcAMJBbpr/jNdRr2vSrhVqvVRJ3Iisgwz1+hGUWpC+NMOBx2rXro0dKagpFaW22fEsDWrv8pttSCYl7P4ayLeNH/PFG+4Ml+jfi+uiUghQ6fZEBC9sbO3DV31Zi+q/eRo/F/nkS935MiYcqPscLWe6E4JUbjo1Y51FDJOVOTW2Grk2cc/x5+Xbt9X41Y9wqSNz7MbVVSmXLH586Hu//dEFmB5PlCJ8qGe7EzBEVWHGrPlhQ3Px14t6td73UH+nGy2vqtddHLHbNkOnWj/n9+dMwZ1Qlrj6ulgqG9YKwzMgtQwDAwBK37rXHIcQ9LNjGfqvGImOt3ZFtLlMJiXs/pqzAiWsynGiRK4jSDNR6kAAiy3+Lm/+zK/Zo64yWu9FNc6STLHeCyDhzR1XiRyePw9XH0c2QiMStumVEr2UAaPcq4r1hXyvO+tNHEe8xa1CfSsjnThBx4HHacdOp47Wm6AQhIyx3IFxczqvWfH9zg7681nUnjoGNhZvkWAVZ7gRBEAlwxzcmaZVV5azVgDovI5KdXHZ9f+WL5tTgpVV7cbjDa+n4yHInCIJIgCuPG4WZIyoA6H3w918wHQC0OPYH3t2qe1+R24EJg0u0PgpWQeJOEASRQr42Tmk+5A2EEDSJrip2OzCmuhi7m7oitqUSEneCIIgUUuS2w2Fj8AaCWgtLGY/ThmEVBWjt9ltadpvEnSAIIoV4HHa4HTb0+EPwmYg7Y0zLDu/osU7caUKVIAgihdhsDB6nHU98tDOiucs/rp0HIJz0ZExsSuk4LDsyQRBEP6JcCpMVy4+9v0O3zzGjqwCE2/UZywenErLcCYIgUsCyHy/AgValGNjQ8gJsb+zUtrnsNjx/7THaa7dquVtZGZLEnSAIIgVUFrlQqZanMJYeuO+C6Th6ZKX22pMGy53cMgRBECnm5ImDdK9dBt+7sNxFFqsVkLgTBEGkmB+cNFZXh8hp6LsqLHcr3TIk7gRBECnGZmMYXlGgvTaKe5Fb8Yh/95lVlkXMkLgTBEFYQLE7PKU5fXi5bptcD96qptok7gRBEBZQ6A4XDDNWE5WF3yzRKRWQuBMEQVhAkTt6MCJjDFcdVwsA8FkUMUPiThAEYQHFMcQdCLtqSNwJgiByiGHlBTG3i0lWf9Cavrwk7gRBEBYwtBdxdzkU+bXKcqcMVYIgCIu48thare2eEU3cg9ZEy5C4EwRBWMQdZ0+Ous2pZq2+tna/rjRBqiC3DEEQRAYQ7pj9LT2WHJ8sd4IgiAwwb3QVvnv8KNx40lhLjk/iThAEkQE8TjtuP2uSZccntwxBEEQeQuJOEASRh5C4EwRB5CEk7gRBEHkIiTtBEEQeQuJOEASRh5C4EwRB5CEk7gRBEHkI49yacpN9GgRjjQB2J/j2AQAOp3A4mSDXzyHXxw/k/jnk+viB3D+HTIx/JOe82mxDVoh7MjDGVnHOZ2d6HMmQ6+eQ6+MHcv8ccn38QO6fQ7aNn9wyBEEQeQiJO0EQRB6SD+L+eKYHkAJy/RxyffxA7p9Dro8fyP1zyKrx57zPnSAIgogkHyx3giAIwgCJO0EQRB6S0+LOGFvIGNvCGKtjjN2c6fGYwRirYYwtZ4xtYoxtZIz9SF1fyRh7hzG2Tf2/Ql3PGGMPquf0JWNsVmbPQIExZmeMfcEYe119PYoxtkId5z8YYy51vVt9Xadur83kuAWMsXLG2D8ZY18xxjYzxubn4G9wk3oNbWCMPc8Y82Tz78AYe5Ix1sAY2yCt6/N3zhi7Qt1/G2Psiiw4h3vV6+hLxtgrjLFyadst6jlsYYydLq1Pv1ZxznPyHwA7gO0ARgNwAVgHYFKmx2UyziEAZqnLJQC2ApgE4B4AN6vrbwbwe3X5DABvAmAA5gFYkelzuewuAgAAA7dJREFUUMf1PwCeA/C6+vpFABepy48CuF5dvgHAo+ryRQD+kemxq2N5GsB31WUXgPJc+g0ADAOwE0CB9P1fmc2/A4ATAMwCsEFa16fvHEAlgB3q/xXqckWGz+E0AA51+ffSOUxSdcgNYJSqT/ZMaVVGL9gkv/T5AJZIr28BcEumxxXHuF8DcCqALQCGqOuGANiiLj8G4GJpf22/DI55OIClAL4O4HX1D/CwdIFrvwWAJQDmq8sOdT+W4fGXqcLIDOtz6TcYBmCvKnIO9Xc4Pdt/BwC1BmHs03cO4GIAj0nrdftl4hwM274J4Fl1WadB4jfIlFblsltGXOyCenVd1qI+Gs8EsALAIM75AXXTQQCD1OVsPK8/APgZgJD6ugpAC+c8oL6Wx6iNX93equ6fSUYBaATwN9W19FfGWBFy6DfgnO8DcB+APQAOQPleVyO3fgeg79951v0WBq6G8sQBZNk55LK45xSMsWIALwP4b855m7yNK7fzrIxJZYydBaCBc74602NJAgeUR+tHOOczAXRCcQloZPNvAACqb/ocKDeqoQCKACzM6KCSJNu/895gjN0GIADg2UyPxYxcFvd9AGqk18PVdVkHY8wJRdif5Zz/S119iDE2RN0+BECDuj7bzus4AGczxnYBeAGKa+aPAMoZYw51H3mM2vjV7WUAmtI5YBPqAdRzzleor/8JRexz5TcAgFMA7OScN3LO/QD+BeW3yaXfAej7d56NvwUYY1cCOAvApepNCsiyc8hlcV8JYJwaLeCCMmm0OMNjioAxxgA8AWAz5/x+adNiAGLm/woovnix/nI1emAegFbpMTbtcM5v4ZwP55zXQvmOl3HOLwWwHMD56m7G8YvzOl/dP6PWGef8IIC9jLEJ6qqTAWxCjvwGKnsAzGOMFarXlDiHnPkdVPr6nS8BcBpjrEJ9ejlNXZcxGGMLobgpz+acd0mbFgO4SI1UGgVgHIDPkSmtSufEhAUTHWdAiT7ZDuC2TI8nyhiPh/Lo+SWAteq/M6D4P5cC2AbgXQCV6v4MwMPqOa0HMDvT5yCdywKEo2VGQ7lw6wC8BMCtrveor+vU7aMzPW51XDMArFJ/h1ehRF7k1G8A4E4AXwHYAODvUKIysvZ3APA8lPkBP5Snp2sS+c6h+LXr1H9XZcE51EHxoYu/50el/W9Tz2ELgEXS+rRrFZUfIAiCyENy2S1DEARBRIHEnSAIIg8hcScIgshDSNwJgiDyEBJ3giCIPITEnSAIIg8hcScIgshD/j/z2KRNacJB8AAAAABJRU5ErkJggg==\n"
          },
          "metadata": {
            "needs_background": "light"
          }
        }
      ]
    },
    {
      "cell_type": "code",
      "source": [
        "df1.shape\n"
      ],
      "metadata": {
        "colab": {
          "base_uri": "https://localhost:8080/"
        },
        "id": "5Vo6k7X1SlWH",
        "outputId": "a383c5fb-af07-4af0-d4cd-37e408a30b7b"
      },
      "execution_count": 8,
      "outputs": [
        {
          "output_type": "execute_result",
          "data": {
            "text/plain": [
              "(1257,)"
            ]
          },
          "metadata": {},
          "execution_count": 8
        }
      ]
    },
    {
      "cell_type": "code",
      "source": [
        "### scaling the values if important since LSTM can be sensitive, so using the MinMax scaler and scaling it between 0 and 1  \n",
        "\n",
        "from sklearn.preprocessing import MinMaxScaler\n",
        "scaler = MinMaxScaler(feature_range=(0,1))\n",
        "df1 = scaler.fit_transform(np.array(df1).reshape(-1,1))\n",
        "\n",
        "## so here we have completed collecting the data "
      ],
      "metadata": {
        "id": "MqwD67yr5Qub"
      },
      "execution_count": 9,
      "outputs": []
    },
    {
      "cell_type": "code",
      "source": [
        "## now moving onto preprocessing the data \n",
        "## to make the test - train split, since it is a time series data we cannot use cross validation or random seed\n",
        "## so here i will take a 65 - 35 % train - test split here \n",
        "\n",
        "training_size = int (len(df1)*0.65)\n",
        "test_size = len(df1) - training_size\n",
        "\n",
        "train_data= df1[0 : training_size , :] \n",
        "test_data = df1[training_size : len(df1) , :] \n",
        "\n",
        "\n",
        "\n"
      ],
      "metadata": {
        "id": "ceSDejo26ceA"
      },
      "execution_count": 10,
      "outputs": []
    },
    {
      "cell_type": "code",
      "source": [
        "### Now doing the actual preprocessing\n",
        "### so now we will be creating timesteps of length 100 \n",
        "\n",
        "def create_dataset ( dataset , time_step = 1):\n",
        "  dataX , dataY = [] , []\n",
        "  for i in range (len(dataset) - time_step - 1 ):\n",
        "    row = dataset[i : (i + time_step) ,  0 ]\n",
        "    dataX.append(row)\n",
        "    dataY.append(dataset[i + time_step , 0])\n",
        "  \n",
        "  return np.array(dataX) , np.array(dataY)\n",
        "\n"
      ],
      "metadata": {
        "id": "orjdsaAy-UKl"
      },
      "execution_count": 11,
      "outputs": []
    },
    {
      "cell_type": "code",
      "source": [
        "time_step = 100; \n",
        "\n",
        "X_train , Y_train = create_dataset( train_data , time_step)\n",
        "X_test , Y_test = create_dataset(test_data, time_step)\n"
      ],
      "metadata": {
        "id": "EyzlGMIJhO1d"
      },
      "execution_count": 12,
      "outputs": []
    },
    {
      "cell_type": "code",
      "source": [
        "### Now creating the LSTM model \n",
        "\n",
        "## since LSTM needs another dimension to the input data set, adding it \n",
        "\n",
        "X_train = X_train.reshape(X_train.shape[0], X_train.shape[1], 1)\n",
        "X_test = X_test.reshape(X_test.shape[0], X_test.shape[1], 1)"
      ],
      "metadata": {
        "id": "vxORGMiSiMH9"
      },
      "execution_count": 13,
      "outputs": []
    },
    {
      "cell_type": "code",
      "source": [
        "### importing dependencies\n",
        "\n",
        "from tensorflow.keras.models import Sequential\n",
        "from tensorflow.keras.layers import Dense \n",
        "from tensorflow.keras.layers import LSTM"
      ],
      "metadata": {
        "id": "DjQzggFREWRN"
      },
      "execution_count": 14,
      "outputs": []
    },
    {
      "cell_type": "code",
      "source": [
        "### creating the LSTM model \n",
        "\n",
        "model = Sequential()\n",
        "\n",
        "model.add(LSTM(50, return_sequences = True , input_shape = (time_step , 1)))\n",
        "model.add(LSTM(50 , return_sequences = True))\n",
        "model.add(LSTM(50))\n",
        "model.add(Dense(1))\n",
        "model.compile( loss = 'mean_squared_error' , optimizer = 'adam')"
      ],
      "metadata": {
        "id": "gJVPxOrEFCyM"
      },
      "execution_count": 15,
      "outputs": []
    },
    {
      "cell_type": "code",
      "source": [
        "model.summary()"
      ],
      "metadata": {
        "colab": {
          "base_uri": "https://localhost:8080/"
        },
        "id": "8QOu43lwGS7t",
        "outputId": "8b915bfc-8a3e-4d6e-86f6-ce852d031dcf"
      },
      "execution_count": 16,
      "outputs": [
        {
          "output_type": "stream",
          "name": "stdout",
          "text": [
            "Model: \"sequential\"\n",
            "_________________________________________________________________\n",
            " Layer (type)                Output Shape              Param #   \n",
            "=================================================================\n",
            " lstm (LSTM)                 (None, 100, 50)           10400     \n",
            "                                                                 \n",
            " lstm_1 (LSTM)               (None, 100, 50)           20200     \n",
            "                                                                 \n",
            " lstm_2 (LSTM)               (None, 50)                20200     \n",
            "                                                                 \n",
            " dense (Dense)               (None, 1)                 51        \n",
            "                                                                 \n",
            "=================================================================\n",
            "Total params: 50,851\n",
            "Trainable params: 50,851\n",
            "Non-trainable params: 0\n",
            "_________________________________________________________________\n"
          ]
        }
      ]
    },
    {
      "cell_type": "code",
      "source": [
        "### training the model \n",
        "\n",
        "model.fit(X_train , Y_train, validation_data = (X_test , Y_test), epochs = 100, batch_size = 64, verbose = 1)"
      ],
      "metadata": {
        "colab": {
          "base_uri": "https://localhost:8080/"
        },
        "id": "Fl3sb0i1GdBv",
        "outputId": "2f251422-aa00-4400-bec3-e478ac926227"
      },
      "execution_count": 17,
      "outputs": [
        {
          "output_type": "stream",
          "name": "stdout",
          "text": [
            "Epoch 1/100\n",
            "12/12 [==============================] - 20s 445ms/step - loss: 0.0671 - val_loss: 0.0147\n",
            "Epoch 2/100\n",
            "12/12 [==============================] - 2s 193ms/step - loss: 0.0153 - val_loss: 0.0134\n",
            "Epoch 3/100\n",
            "12/12 [==============================] - 2s 195ms/step - loss: 0.0108 - val_loss: 0.0081\n",
            "Epoch 4/100\n",
            "12/12 [==============================] - 2s 195ms/step - loss: 0.0083 - val_loss: 0.0052\n",
            "Epoch 5/100\n",
            "12/12 [==============================] - 2s 192ms/step - loss: 0.0072 - val_loss: 0.0044\n",
            "Epoch 6/100\n",
            "12/12 [==============================] - 2s 194ms/step - loss: 0.0068 - val_loss: 0.0041\n",
            "Epoch 7/100\n",
            "12/12 [==============================] - 2s 192ms/step - loss: 0.0061 - val_loss: 0.0049\n",
            "Epoch 8/100\n",
            "12/12 [==============================] - 2s 191ms/step - loss: 0.0061 - val_loss: 0.0046\n",
            "Epoch 9/100\n",
            "12/12 [==============================] - 2s 207ms/step - loss: 0.0057 - val_loss: 0.0071\n",
            "Epoch 10/100\n",
            "12/12 [==============================] - 2s 194ms/step - loss: 0.0060 - val_loss: 0.0063\n",
            "Epoch 11/100\n",
            "12/12 [==============================] - 3s 232ms/step - loss: 0.0064 - val_loss: 0.0058\n",
            "Epoch 12/100\n",
            "12/12 [==============================] - 3s 221ms/step - loss: 0.0054 - val_loss: 0.0038\n",
            "Epoch 13/100\n",
            "12/12 [==============================] - 2s 190ms/step - loss: 0.0049 - val_loss: 0.0034\n",
            "Epoch 14/100\n",
            "12/12 [==============================] - 2s 189ms/step - loss: 0.0047 - val_loss: 0.0036\n",
            "Epoch 15/100\n",
            "12/12 [==============================] - 2s 188ms/step - loss: 0.0045 - val_loss: 0.0031\n",
            "Epoch 16/100\n",
            "12/12 [==============================] - 2s 191ms/step - loss: 0.0043 - val_loss: 0.0029\n",
            "Epoch 17/100\n",
            "12/12 [==============================] - 2s 189ms/step - loss: 0.0041 - val_loss: 0.0030\n",
            "Epoch 18/100\n",
            "12/12 [==============================] - 2s 191ms/step - loss: 0.0039 - val_loss: 0.0026\n",
            "Epoch 19/100\n",
            "12/12 [==============================] - 2s 187ms/step - loss: 0.0037 - val_loss: 0.0025\n",
            "Epoch 20/100\n",
            "12/12 [==============================] - 2s 188ms/step - loss: 0.0035 - val_loss: 0.0025\n",
            "Epoch 21/100\n",
            "12/12 [==============================] - 2s 188ms/step - loss: 0.0035 - val_loss: 0.0024\n",
            "Epoch 22/100\n",
            "12/12 [==============================] - 2s 189ms/step - loss: 0.0034 - val_loss: 0.0025\n",
            "Epoch 23/100\n",
            "12/12 [==============================] - 2s 188ms/step - loss: 0.0031 - val_loss: 0.0023\n",
            "Epoch 24/100\n",
            "12/12 [==============================] - 2s 188ms/step - loss: 0.0031 - val_loss: 0.0025\n",
            "Epoch 25/100\n",
            "12/12 [==============================] - 3s 280ms/step - loss: 0.0028 - val_loss: 0.0026\n",
            "Epoch 26/100\n",
            "12/12 [==============================] - 2s 193ms/step - loss: 0.0027 - val_loss: 0.0031\n",
            "Epoch 27/100\n",
            "12/12 [==============================] - 2s 190ms/step - loss: 0.0027 - val_loss: 0.0047\n",
            "Epoch 28/100\n",
            "12/12 [==============================] - 2s 191ms/step - loss: 0.0031 - val_loss: 0.0041\n",
            "Epoch 29/100\n",
            "12/12 [==============================] - 2s 195ms/step - loss: 0.0035 - val_loss: 0.0028\n",
            "Epoch 30/100\n",
            "12/12 [==============================] - 2s 194ms/step - loss: 0.0028 - val_loss: 0.0023\n",
            "Epoch 31/100\n",
            "12/12 [==============================] - 2s 197ms/step - loss: 0.0025 - val_loss: 0.0022\n",
            "Epoch 32/100\n",
            "12/12 [==============================] - 2s 193ms/step - loss: 0.0023 - val_loss: 0.0021\n",
            "Epoch 33/100\n",
            "12/12 [==============================] - 2s 197ms/step - loss: 0.0024 - val_loss: 0.0027\n",
            "Epoch 34/100\n",
            "12/12 [==============================] - 2s 195ms/step - loss: 0.0025 - val_loss: 0.0029\n",
            "Epoch 35/100\n",
            "12/12 [==============================] - 3s 282ms/step - loss: 0.0024 - val_loss: 0.0020\n",
            "Epoch 36/100\n",
            "12/12 [==============================] - 3s 238ms/step - loss: 0.0022 - val_loss: 0.0021\n",
            "Epoch 37/100\n",
            "12/12 [==============================] - 2s 198ms/step - loss: 0.0023 - val_loss: 0.0020\n",
            "Epoch 38/100\n",
            "12/12 [==============================] - 2s 197ms/step - loss: 0.0023 - val_loss: 0.0025\n",
            "Epoch 39/100\n",
            "12/12 [==============================] - 2s 193ms/step - loss: 0.0027 - val_loss: 0.0018\n",
            "Epoch 40/100\n",
            "12/12 [==============================] - 2s 192ms/step - loss: 0.0023 - val_loss: 0.0022\n",
            "Epoch 41/100\n",
            "12/12 [==============================] - 2s 193ms/step - loss: 0.0025 - val_loss: 0.0023\n",
            "Epoch 42/100\n",
            "12/12 [==============================] - 2s 204ms/step - loss: 0.0021 - val_loss: 0.0018\n",
            "Epoch 43/100\n",
            "12/12 [==============================] - 2s 193ms/step - loss: 0.0021 - val_loss: 0.0021\n",
            "Epoch 44/100\n",
            "12/12 [==============================] - 3s 211ms/step - loss: 0.0020 - val_loss: 0.0018\n",
            "Epoch 45/100\n",
            "12/12 [==============================] - 2s 194ms/step - loss: 0.0020 - val_loss: 0.0017\n",
            "Epoch 46/100\n",
            "12/12 [==============================] - 2s 192ms/step - loss: 0.0021 - val_loss: 0.0037\n",
            "Epoch 47/100\n",
            "12/12 [==============================] - 2s 193ms/step - loss: 0.0023 - val_loss: 0.0017\n",
            "Epoch 48/100\n",
            "12/12 [==============================] - 2s 191ms/step - loss: 0.0020 - val_loss: 0.0031\n",
            "Epoch 49/100\n",
            "12/12 [==============================] - 2s 195ms/step - loss: 0.0022 - val_loss: 0.0019\n",
            "Epoch 50/100\n",
            "12/12 [==============================] - 2s 192ms/step - loss: 0.0021 - val_loss: 0.0023\n",
            "Epoch 51/100\n",
            "12/12 [==============================] - 2s 199ms/step - loss: 0.0021 - val_loss: 0.0018\n",
            "Epoch 52/100\n",
            "12/12 [==============================] - 2s 194ms/step - loss: 0.0019 - val_loss: 0.0021\n",
            "Epoch 53/100\n",
            "12/12 [==============================] - 2s 193ms/step - loss: 0.0019 - val_loss: 0.0015\n",
            "Epoch 54/100\n",
            "12/12 [==============================] - 2s 194ms/step - loss: 0.0018 - val_loss: 0.0016\n",
            "Epoch 55/100\n",
            "12/12 [==============================] - 2s 188ms/step - loss: 0.0020 - val_loss: 0.0024\n",
            "Epoch 56/100\n",
            "12/12 [==============================] - 2s 192ms/step - loss: 0.0023 - val_loss: 0.0019\n",
            "Epoch 57/100\n",
            "12/12 [==============================] - 2s 194ms/step - loss: 0.0018 - val_loss: 0.0014\n",
            "Epoch 58/100\n",
            "12/12 [==============================] - 2s 192ms/step - loss: 0.0017 - val_loss: 0.0014\n",
            "Epoch 59/100\n",
            "12/12 [==============================] - 2s 191ms/step - loss: 0.0019 - val_loss: 0.0018\n",
            "Epoch 60/100\n",
            "12/12 [==============================] - 2s 194ms/step - loss: 0.0020 - val_loss: 0.0014\n",
            "Epoch 61/100\n",
            "12/12 [==============================] - 2s 195ms/step - loss: 0.0019 - val_loss: 0.0027\n",
            "Epoch 62/100\n",
            "12/12 [==============================] - 2s 194ms/step - loss: 0.0018 - val_loss: 0.0014\n",
            "Epoch 63/100\n",
            "12/12 [==============================] - 2s 196ms/step - loss: 0.0016 - val_loss: 0.0013\n",
            "Epoch 64/100\n",
            "12/12 [==============================] - 2s 194ms/step - loss: 0.0016 - val_loss: 0.0022\n",
            "Epoch 65/100\n",
            "12/12 [==============================] - 2s 192ms/step - loss: 0.0016 - val_loss: 0.0016\n",
            "Epoch 66/100\n",
            "12/12 [==============================] - 2s 188ms/step - loss: 0.0015 - val_loss: 0.0020\n",
            "Epoch 67/100\n",
            "12/12 [==============================] - 2s 192ms/step - loss: 0.0017 - val_loss: 0.0023\n",
            "Epoch 68/100\n",
            "12/12 [==============================] - 2s 191ms/step - loss: 0.0017 - val_loss: 0.0012\n",
            "Epoch 69/100\n",
            "12/12 [==============================] - 2s 193ms/step - loss: 0.0015 - val_loss: 0.0013\n",
            "Epoch 70/100\n",
            "12/12 [==============================] - 2s 193ms/step - loss: 0.0015 - val_loss: 0.0017\n",
            "Epoch 71/100\n",
            "12/12 [==============================] - 2s 195ms/step - loss: 0.0018 - val_loss: 0.0015\n",
            "Epoch 72/100\n",
            "12/12 [==============================] - 2s 194ms/step - loss: 0.0015 - val_loss: 0.0012\n",
            "Epoch 73/100\n",
            "12/12 [==============================] - 2s 192ms/step - loss: 0.0014 - val_loss: 0.0012\n",
            "Epoch 74/100\n",
            "12/12 [==============================] - 2s 194ms/step - loss: 0.0013 - val_loss: 0.0013\n",
            "Epoch 75/100\n",
            "12/12 [==============================] - 2s 194ms/step - loss: 0.0013 - val_loss: 0.0019\n",
            "Epoch 76/100\n",
            "12/12 [==============================] - 2s 195ms/step - loss: 0.0014 - val_loss: 0.0013\n",
            "Epoch 77/100\n",
            "12/12 [==============================] - 2s 191ms/step - loss: 0.0013 - val_loss: 0.0032\n",
            "Epoch 78/100\n",
            "12/12 [==============================] - 3s 216ms/step - loss: 0.0027 - val_loss: 0.0026\n",
            "Epoch 79/100\n",
            "12/12 [==============================] - 3s 237ms/step - loss: 0.0017 - val_loss: 0.0019\n",
            "Epoch 80/100\n",
            "12/12 [==============================] - 2s 192ms/step - loss: 0.0017 - val_loss: 0.0012\n",
            "Epoch 81/100\n",
            "12/12 [==============================] - 2s 196ms/step - loss: 0.0014 - val_loss: 0.0015\n",
            "Epoch 82/100\n",
            "12/12 [==============================] - 2s 190ms/step - loss: 0.0014 - val_loss: 0.0012\n",
            "Epoch 83/100\n",
            "12/12 [==============================] - 2s 199ms/step - loss: 0.0015 - val_loss: 0.0011\n",
            "Epoch 84/100\n",
            "12/12 [==============================] - 2s 199ms/step - loss: 0.0012 - val_loss: 0.0011\n",
            "Epoch 85/100\n",
            "12/12 [==============================] - 2s 197ms/step - loss: 0.0012 - val_loss: 0.0011\n",
            "Epoch 86/100\n",
            "12/12 [==============================] - 2s 193ms/step - loss: 0.0012 - val_loss: 0.0011\n",
            "Epoch 87/100\n",
            "12/12 [==============================] - 2s 197ms/step - loss: 0.0012 - val_loss: 0.0012\n",
            "Epoch 88/100\n",
            "12/12 [==============================] - 2s 195ms/step - loss: 0.0013 - val_loss: 0.0022\n",
            "Epoch 89/100\n",
            "12/12 [==============================] - 2s 192ms/step - loss: 0.0013 - val_loss: 0.0011\n",
            "Epoch 90/100\n",
            "12/12 [==============================] - 2s 197ms/step - loss: 0.0014 - val_loss: 0.0016\n",
            "Epoch 91/100\n",
            "12/12 [==============================] - 2s 198ms/step - loss: 0.0016 - val_loss: 0.0012\n",
            "Epoch 92/100\n",
            "12/12 [==============================] - 2s 192ms/step - loss: 0.0012 - val_loss: 0.0013\n",
            "Epoch 93/100\n",
            "12/12 [==============================] - 2s 193ms/step - loss: 0.0013 - val_loss: 0.0011\n",
            "Epoch 94/100\n",
            "12/12 [==============================] - 2s 189ms/step - loss: 0.0011 - val_loss: 9.9423e-04\n",
            "Epoch 95/100\n",
            "12/12 [==============================] - 2s 193ms/step - loss: 0.0011 - val_loss: 0.0010\n",
            "Epoch 96/100\n",
            "12/12 [==============================] - 2s 193ms/step - loss: 0.0012 - val_loss: 0.0010\n",
            "Epoch 97/100\n",
            "12/12 [==============================] - 2s 195ms/step - loss: 0.0011 - val_loss: 0.0025\n",
            "Epoch 98/100\n",
            "12/12 [==============================] - 2s 195ms/step - loss: 0.0019 - val_loss: 0.0029\n",
            "Epoch 99/100\n",
            "12/12 [==============================] - 2s 191ms/step - loss: 0.0018 - val_loss: 0.0017\n",
            "Epoch 100/100\n",
            "12/12 [==============================] - 2s 190ms/step - loss: 0.0014 - val_loss: 0.0017\n"
          ]
        },
        {
          "output_type": "execute_result",
          "data": {
            "text/plain": [
              "<keras.callbacks.History at 0x7f3ac492ee90>"
            ]
          },
          "metadata": {},
          "execution_count": 17
        }
      ]
    },
    {
      "cell_type": "code",
      "source": [
        "### now predicting on train and test data \n",
        "\n",
        "train_predict = model.predict(X_train)\n",
        "test_predict = model.predict(X_test)"
      ],
      "metadata": {
        "id": "Oir-SgHSHFP_"
      },
      "execution_count": 18,
      "outputs": []
    },
    {
      "cell_type": "code",
      "source": [
        "### transforming back to original form \n",
        "\n",
        "\n",
        "train_predict = scaler.inverse_transform(train_predict)\n",
        "test_predict = scaler.inverse_transform(test_predict)\n"
      ],
      "metadata": {
        "id": "MooX_GOhHyyv"
      },
      "execution_count": 19,
      "outputs": []
    },
    {
      "cell_type": "code",
      "source": [
        "## calculting the Root mean squared error performance metrics\n",
        "\n",
        "from sklearn.metrics import mean_squared_error\n",
        "math.sqrt(mean_squared_error(Y_train, train_predict))"
      ],
      "metadata": {
        "colab": {
          "base_uri": "https://localhost:8080/"
        },
        "id": "tEN0RpOGOSJS",
        "outputId": "e9860e64-819d-4479-c916-532d0bdb48b3"
      },
      "execution_count": 20,
      "outputs": [
        {
          "output_type": "execute_result",
          "data": {
            "text/plain": [
              "125.28088638413129"
            ]
          },
          "metadata": {},
          "execution_count": 20
        }
      ]
    },
    {
      "cell_type": "code",
      "source": [
        "## for the test data\n",
        "\n",
        "math.sqrt(mean_squared_error(Y_test, test_predict))"
      ],
      "metadata": {
        "colab": {
          "base_uri": "https://localhost:8080/"
        },
        "id": "-UCkZAdLO6bO",
        "outputId": "bf585bb4-ba78-4219-cea4-19427fc58da5"
      },
      "execution_count": 21,
      "outputs": [
        {
          "output_type": "execute_result",
          "data": {
            "text/plain": [
              "128.1580972859662"
            ]
          },
          "metadata": {},
          "execution_count": 21
        }
      ]
    },
    {
      "cell_type": "code",
      "source": [
        "### Plotting \n",
        "# shift train predictions for plotting\n",
        "look_back=100\n",
        "trainPredictPlot = np.empty_like(df1)\n",
        "trainPredictPlot[:, :] = np.nan\n",
        "trainPredictPlot[look_back:len(train_predict)+look_back, :] = train_predict\n",
        "\n",
        "\n",
        "# shift test predictions for plotting\n",
        "testPredictPlot = np.empty_like(df1)\n",
        "testPredictPlot[:, :] = np.nan\n",
        "testPredictPlot[len(train_predict)+(look_back*2)+1:len(df1)-1, :] = test_predict\n",
        "\n",
        "\n",
        "# plot baseline and predictions\n",
        "plt.plot(scaler.inverse_transform(df1))\n",
        "plt.plot(trainPredictPlot)\n",
        "plt.plot(testPredictPlot)\n",
        "plt.show()"
      ],
      "metadata": {
        "colab": {
          "base_uri": "https://localhost:8080/",
          "height": 265
        },
        "id": "VLsN7aI3PxTN",
        "outputId": "dfb8e29e-cb68-43f0-a3ea-689a9b360f99"
      },
      "execution_count": 22,
      "outputs": [
        {
          "output_type": "display_data",
          "data": {
            "text/plain": [
              "<Figure size 432x288 with 1 Axes>"
            ],
            "image/png": "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\n"
          },
          "metadata": {
            "needs_background": "light"
          }
        }
      ]
    },
    {
      "cell_type": "code",
      "source": [
        "### Now lets use this weapon to predict the future of the stock and trade \n",
        "### why stop at next day when we can use it to predict for the whole next month \n",
        "\n",
        "len(test_data) # comes out to be 441 so for the last 100 days -> 341 : \n",
        "x_input=test_data[ 340:].reshape(1,-1)\n",
        "x_input.shape"
      ],
      "metadata": {
        "colab": {
          "base_uri": "https://localhost:8080/"
        },
        "id": "GzlnoW3EQswK",
        "outputId": "44edffc3-6cb8-4906-c0c7-e81e9ecfa4a7"
      },
      "execution_count": 23,
      "outputs": [
        {
          "output_type": "execute_result",
          "data": {
            "text/plain": [
              "(1, 100)"
            ]
          },
          "metadata": {},
          "execution_count": 23
        }
      ]
    },
    {
      "cell_type": "code",
      "source": [
        "temp_input=list(x_input)\n",
        "temp_input=temp_input[0].tolist()"
      ],
      "metadata": {
        "id": "wXpNdDyCRnFb"
      },
      "execution_count": 24,
      "outputs": []
    },
    {
      "cell_type": "code",
      "source": [
        "#  prediction for next 30 days\n",
        "from numpy import array\n",
        "\n",
        "lst_output=[]\n",
        "n_steps=99\n",
        "i=0\n",
        "while(i<31):\n",
        "    \n",
        "    if(len(temp_input)>100):\n",
        "        #print(temp_input)\n",
        "        x_input=np.array(temp_input[1:])\n",
        "        print(\"{} day input {}\".format(i,x_input))\n",
        "        x_input=x_input.reshape(1,-1)\n",
        "        x_input = x_input.reshape((1, 100, 1))\n",
        "        #print(x_input)\n",
        "        yhat = model.predict(x_input, verbose=0)\n",
        "        print(\"{} day output {}\".format(i,yhat))\n",
        "        temp_input.extend(yhat[0].tolist())\n",
        "        temp_input=temp_input[1:]\n",
        "        #print(temp_input)\n",
        "        lst_output.extend(yhat.tolist())\n",
        "        i=i+1\n",
        "    else:\n",
        "        x_input = x_input.reshape((1, 100, 1))\n",
        "        yhat = model.predict(x_input, verbose=0)\n",
        "        print(yhat[0])\n",
        "        temp_input.extend(yhat[0].tolist())\n",
        "        print(len(temp_input))\n",
        "        lst_output.extend(yhat.tolist())\n",
        "        i=i+1\n",
        "    \n",
        "    "
      ],
      "metadata": {
        "colab": {
          "base_uri": "https://localhost:8080/"
        },
        "id": "siU60rq7Rt1J",
        "outputId": "5d85983f-7834-4808-ebea-99aa29709365"
      },
      "execution_count": 25,
      "outputs": [
        {
          "output_type": "stream",
          "name": "stdout",
          "text": [
            "[0.07106366]\n",
            "101\n",
            "1 day input [0.29417315 0.28579854 0.27506487 0.24982307 0.25572069 0.23177636\n",
            " 0.23566879 0.24769993 0.26704411 0.26067469 0.23130455 0.22988912\n",
            " 0.1834159  0.18034914 0.21785799 0.19532909 0.21431941 0.1858929\n",
            " 0.2160887  0.18376976 0.14036329 0.13847606 0.14850201 0.13387591\n",
            " 0.15015334 0.17067705 0.15687662 0.17480538 0.10615711 0.13104506\n",
            " 0.15557915 0.18388771 0.17055909 0.15428167 0.16784619 0.19945742\n",
            " 0.18400566 0.17799009 0.2108988  0.19096485 0.1960368  0.20936542\n",
            " 0.18424157 0.1480302  0.11712668 0.07761264 0.07230479 0.10686483\n",
            " 0.1004954  0.10332626 0.11618306 0.11512149 0.11795235 0.16713848\n",
            " 0.15404577 0.13246049 0.11429582 0.07643312 0.07619722 0.05803255\n",
            " 0.06628922 0.07631517 0.07489974 0.04812456 0.02488795 0.02016985\n",
            " 0.01391838 0.04435008 0.04541165 0.0955414  0.09542345 0.07136117\n",
            " 0.11217268 0.09117716 0.07136117 0.08339231 0.08881812 0.10580326\n",
            " 0.11264449 0.08197688 0.10910592 0.13033734 0.12172682 0.11901392\n",
            " 0.11229063 0.13953763 0.12974758 0.1381222  0.13647087 0.11748054\n",
            " 0.10273649 0.09695683 0.08704883 0.04942203 0.03691908 0.03750885\n",
            " 0.04670913 0.         0.00401038 0.07106366]\n",
            "1 day output [[0.07169396]]\n",
            "2 day input [0.28579854 0.27506487 0.24982307 0.25572069 0.23177636 0.23566879\n",
            " 0.24769993 0.26704411 0.26067469 0.23130455 0.22988912 0.1834159\n",
            " 0.18034914 0.21785799 0.19532909 0.21431941 0.1858929  0.2160887\n",
            " 0.18376976 0.14036329 0.13847606 0.14850201 0.13387591 0.15015334\n",
            " 0.17067705 0.15687662 0.17480538 0.10615711 0.13104506 0.15557915\n",
            " 0.18388771 0.17055909 0.15428167 0.16784619 0.19945742 0.18400566\n",
            " 0.17799009 0.2108988  0.19096485 0.1960368  0.20936542 0.18424157\n",
            " 0.1480302  0.11712668 0.07761264 0.07230479 0.10686483 0.1004954\n",
            " 0.10332626 0.11618306 0.11512149 0.11795235 0.16713848 0.15404577\n",
            " 0.13246049 0.11429582 0.07643312 0.07619722 0.05803255 0.06628922\n",
            " 0.07631517 0.07489974 0.04812456 0.02488795 0.02016985 0.01391838\n",
            " 0.04435008 0.04541165 0.0955414  0.09542345 0.07136117 0.11217268\n",
            " 0.09117716 0.07136117 0.08339231 0.08881812 0.10580326 0.11264449\n",
            " 0.08197688 0.10910592 0.13033734 0.12172682 0.11901392 0.11229063\n",
            " 0.13953763 0.12974758 0.1381222  0.13647087 0.11748054 0.10273649\n",
            " 0.09695683 0.08704883 0.04942203 0.03691908 0.03750885 0.04670913\n",
            " 0.         0.00401038 0.07106366 0.07169396]\n",
            "2 day output [[0.0785177]]\n",
            "3 day input [0.27506487 0.24982307 0.25572069 0.23177636 0.23566879 0.24769993\n",
            " 0.26704411 0.26067469 0.23130455 0.22988912 0.1834159  0.18034914\n",
            " 0.21785799 0.19532909 0.21431941 0.1858929  0.2160887  0.18376976\n",
            " 0.14036329 0.13847606 0.14850201 0.13387591 0.15015334 0.17067705\n",
            " 0.15687662 0.17480538 0.10615711 0.13104506 0.15557915 0.18388771\n",
            " 0.17055909 0.15428167 0.16784619 0.19945742 0.18400566 0.17799009\n",
            " 0.2108988  0.19096485 0.1960368  0.20936542 0.18424157 0.1480302\n",
            " 0.11712668 0.07761264 0.07230479 0.10686483 0.1004954  0.10332626\n",
            " 0.11618306 0.11512149 0.11795235 0.16713848 0.15404577 0.13246049\n",
            " 0.11429582 0.07643312 0.07619722 0.05803255 0.06628922 0.07631517\n",
            " 0.07489974 0.04812456 0.02488795 0.02016985 0.01391838 0.04435008\n",
            " 0.04541165 0.0955414  0.09542345 0.07136117 0.11217268 0.09117716\n",
            " 0.07136117 0.08339231 0.08881812 0.10580326 0.11264449 0.08197688\n",
            " 0.10910592 0.13033734 0.12172682 0.11901392 0.11229063 0.13953763\n",
            " 0.12974758 0.1381222  0.13647087 0.11748054 0.10273649 0.09695683\n",
            " 0.08704883 0.04942203 0.03691908 0.03750885 0.04670913 0.\n",
            " 0.00401038 0.07106366 0.07169396 0.0785177 ]\n",
            "3 day output [[0.08812728]]\n",
            "4 day input [0.24982307 0.25572069 0.23177636 0.23566879 0.24769993 0.26704411\n",
            " 0.26067469 0.23130455 0.22988912 0.1834159  0.18034914 0.21785799\n",
            " 0.19532909 0.21431941 0.1858929  0.2160887  0.18376976 0.14036329\n",
            " 0.13847606 0.14850201 0.13387591 0.15015334 0.17067705 0.15687662\n",
            " 0.17480538 0.10615711 0.13104506 0.15557915 0.18388771 0.17055909\n",
            " 0.15428167 0.16784619 0.19945742 0.18400566 0.17799009 0.2108988\n",
            " 0.19096485 0.1960368  0.20936542 0.18424157 0.1480302  0.11712668\n",
            " 0.07761264 0.07230479 0.10686483 0.1004954  0.10332626 0.11618306\n",
            " 0.11512149 0.11795235 0.16713848 0.15404577 0.13246049 0.11429582\n",
            " 0.07643312 0.07619722 0.05803255 0.06628922 0.07631517 0.07489974\n",
            " 0.04812456 0.02488795 0.02016985 0.01391838 0.04435008 0.04541165\n",
            " 0.0955414  0.09542345 0.07136117 0.11217268 0.09117716 0.07136117\n",
            " 0.08339231 0.08881812 0.10580326 0.11264449 0.08197688 0.10910592\n",
            " 0.13033734 0.12172682 0.11901392 0.11229063 0.13953763 0.12974758\n",
            " 0.1381222  0.13647087 0.11748054 0.10273649 0.09695683 0.08704883\n",
            " 0.04942203 0.03691908 0.03750885 0.04670913 0.         0.00401038\n",
            " 0.07106366 0.07169396 0.0785177  0.08812728]\n",
            "4 day output [[0.09842321]]\n",
            "5 day input [0.25572069 0.23177636 0.23566879 0.24769993 0.26704411 0.26067469\n",
            " 0.23130455 0.22988912 0.1834159  0.18034914 0.21785799 0.19532909\n",
            " 0.21431941 0.1858929  0.2160887  0.18376976 0.14036329 0.13847606\n",
            " 0.14850201 0.13387591 0.15015334 0.17067705 0.15687662 0.17480538\n",
            " 0.10615711 0.13104506 0.15557915 0.18388771 0.17055909 0.15428167\n",
            " 0.16784619 0.19945742 0.18400566 0.17799009 0.2108988  0.19096485\n",
            " 0.1960368  0.20936542 0.18424157 0.1480302  0.11712668 0.07761264\n",
            " 0.07230479 0.10686483 0.1004954  0.10332626 0.11618306 0.11512149\n",
            " 0.11795235 0.16713848 0.15404577 0.13246049 0.11429582 0.07643312\n",
            " 0.07619722 0.05803255 0.06628922 0.07631517 0.07489974 0.04812456\n",
            " 0.02488795 0.02016985 0.01391838 0.04435008 0.04541165 0.0955414\n",
            " 0.09542345 0.07136117 0.11217268 0.09117716 0.07136117 0.08339231\n",
            " 0.08881812 0.10580326 0.11264449 0.08197688 0.10910592 0.13033734\n",
            " 0.12172682 0.11901392 0.11229063 0.13953763 0.12974758 0.1381222\n",
            " 0.13647087 0.11748054 0.10273649 0.09695683 0.08704883 0.04942203\n",
            " 0.03691908 0.03750885 0.04670913 0.         0.00401038 0.07106366\n",
            " 0.07169396 0.0785177  0.08812728 0.09842321]\n",
            "5 day output [[0.10844547]]\n",
            "6 day input [0.23177636 0.23566879 0.24769993 0.26704411 0.26067469 0.23130455\n",
            " 0.22988912 0.1834159  0.18034914 0.21785799 0.19532909 0.21431941\n",
            " 0.1858929  0.2160887  0.18376976 0.14036329 0.13847606 0.14850201\n",
            " 0.13387591 0.15015334 0.17067705 0.15687662 0.17480538 0.10615711\n",
            " 0.13104506 0.15557915 0.18388771 0.17055909 0.15428167 0.16784619\n",
            " 0.19945742 0.18400566 0.17799009 0.2108988  0.19096485 0.1960368\n",
            " 0.20936542 0.18424157 0.1480302  0.11712668 0.07761264 0.07230479\n",
            " 0.10686483 0.1004954  0.10332626 0.11618306 0.11512149 0.11795235\n",
            " 0.16713848 0.15404577 0.13246049 0.11429582 0.07643312 0.07619722\n",
            " 0.05803255 0.06628922 0.07631517 0.07489974 0.04812456 0.02488795\n",
            " 0.02016985 0.01391838 0.04435008 0.04541165 0.0955414  0.09542345\n",
            " 0.07136117 0.11217268 0.09117716 0.07136117 0.08339231 0.08881812\n",
            " 0.10580326 0.11264449 0.08197688 0.10910592 0.13033734 0.12172682\n",
            " 0.11901392 0.11229063 0.13953763 0.12974758 0.1381222  0.13647087\n",
            " 0.11748054 0.10273649 0.09695683 0.08704883 0.04942203 0.03691908\n",
            " 0.03750885 0.04670913 0.         0.00401038 0.07106366 0.07169396\n",
            " 0.0785177  0.08812728 0.09842321 0.10844547]\n",
            "6 day output [[0.1178866]]\n",
            "7 day input [0.23566879 0.24769993 0.26704411 0.26067469 0.23130455 0.22988912\n",
            " 0.1834159  0.18034914 0.21785799 0.19532909 0.21431941 0.1858929\n",
            " 0.2160887  0.18376976 0.14036329 0.13847606 0.14850201 0.13387591\n",
            " 0.15015334 0.17067705 0.15687662 0.17480538 0.10615711 0.13104506\n",
            " 0.15557915 0.18388771 0.17055909 0.15428167 0.16784619 0.19945742\n",
            " 0.18400566 0.17799009 0.2108988  0.19096485 0.1960368  0.20936542\n",
            " 0.18424157 0.1480302  0.11712668 0.07761264 0.07230479 0.10686483\n",
            " 0.1004954  0.10332626 0.11618306 0.11512149 0.11795235 0.16713848\n",
            " 0.15404577 0.13246049 0.11429582 0.07643312 0.07619722 0.05803255\n",
            " 0.06628922 0.07631517 0.07489974 0.04812456 0.02488795 0.02016985\n",
            " 0.01391838 0.04435008 0.04541165 0.0955414  0.09542345 0.07136117\n",
            " 0.11217268 0.09117716 0.07136117 0.08339231 0.08881812 0.10580326\n",
            " 0.11264449 0.08197688 0.10910592 0.13033734 0.12172682 0.11901392\n",
            " 0.11229063 0.13953763 0.12974758 0.1381222  0.13647087 0.11748054\n",
            " 0.10273649 0.09695683 0.08704883 0.04942203 0.03691908 0.03750885\n",
            " 0.04670913 0.         0.00401038 0.07106366 0.07169396 0.0785177\n",
            " 0.08812728 0.09842321 0.10844547 0.1178866 ]\n",
            "7 day output [[0.1267295]]\n",
            "8 day input [0.24769993 0.26704411 0.26067469 0.23130455 0.22988912 0.1834159\n",
            " 0.18034914 0.21785799 0.19532909 0.21431941 0.1858929  0.2160887\n",
            " 0.18376976 0.14036329 0.13847606 0.14850201 0.13387591 0.15015334\n",
            " 0.17067705 0.15687662 0.17480538 0.10615711 0.13104506 0.15557915\n",
            " 0.18388771 0.17055909 0.15428167 0.16784619 0.19945742 0.18400566\n",
            " 0.17799009 0.2108988  0.19096485 0.1960368  0.20936542 0.18424157\n",
            " 0.1480302  0.11712668 0.07761264 0.07230479 0.10686483 0.1004954\n",
            " 0.10332626 0.11618306 0.11512149 0.11795235 0.16713848 0.15404577\n",
            " 0.13246049 0.11429582 0.07643312 0.07619722 0.05803255 0.06628922\n",
            " 0.07631517 0.07489974 0.04812456 0.02488795 0.02016985 0.01391838\n",
            " 0.04435008 0.04541165 0.0955414  0.09542345 0.07136117 0.11217268\n",
            " 0.09117716 0.07136117 0.08339231 0.08881812 0.10580326 0.11264449\n",
            " 0.08197688 0.10910592 0.13033734 0.12172682 0.11901392 0.11229063\n",
            " 0.13953763 0.12974758 0.1381222  0.13647087 0.11748054 0.10273649\n",
            " 0.09695683 0.08704883 0.04942203 0.03691908 0.03750885 0.04670913\n",
            " 0.         0.00401038 0.07106366 0.07169396 0.0785177  0.08812728\n",
            " 0.09842321 0.10844547 0.1178866  0.1267295 ]\n",
            "8 day output [[0.13505496]]\n",
            "9 day input [0.26704411 0.26067469 0.23130455 0.22988912 0.1834159  0.18034914\n",
            " 0.21785799 0.19532909 0.21431941 0.1858929  0.2160887  0.18376976\n",
            " 0.14036329 0.13847606 0.14850201 0.13387591 0.15015334 0.17067705\n",
            " 0.15687662 0.17480538 0.10615711 0.13104506 0.15557915 0.18388771\n",
            " 0.17055909 0.15428167 0.16784619 0.19945742 0.18400566 0.17799009\n",
            " 0.2108988  0.19096485 0.1960368  0.20936542 0.18424157 0.1480302\n",
            " 0.11712668 0.07761264 0.07230479 0.10686483 0.1004954  0.10332626\n",
            " 0.11618306 0.11512149 0.11795235 0.16713848 0.15404577 0.13246049\n",
            " 0.11429582 0.07643312 0.07619722 0.05803255 0.06628922 0.07631517\n",
            " 0.07489974 0.04812456 0.02488795 0.02016985 0.01391838 0.04435008\n",
            " 0.04541165 0.0955414  0.09542345 0.07136117 0.11217268 0.09117716\n",
            " 0.07136117 0.08339231 0.08881812 0.10580326 0.11264449 0.08197688\n",
            " 0.10910592 0.13033734 0.12172682 0.11901392 0.11229063 0.13953763\n",
            " 0.12974758 0.1381222  0.13647087 0.11748054 0.10273649 0.09695683\n",
            " 0.08704883 0.04942203 0.03691908 0.03750885 0.04670913 0.\n",
            " 0.00401038 0.07106366 0.07169396 0.0785177  0.08812728 0.09842321\n",
            " 0.10844547 0.1178866  0.1267295  0.13505496]\n",
            "9 day output [[0.1429613]]\n",
            "10 day input [0.26067469 0.23130455 0.22988912 0.1834159  0.18034914 0.21785799\n",
            " 0.19532909 0.21431941 0.1858929  0.2160887  0.18376976 0.14036329\n",
            " 0.13847606 0.14850201 0.13387591 0.15015334 0.17067705 0.15687662\n",
            " 0.17480538 0.10615711 0.13104506 0.15557915 0.18388771 0.17055909\n",
            " 0.15428167 0.16784619 0.19945742 0.18400566 0.17799009 0.2108988\n",
            " 0.19096485 0.1960368  0.20936542 0.18424157 0.1480302  0.11712668\n",
            " 0.07761264 0.07230479 0.10686483 0.1004954  0.10332626 0.11618306\n",
            " 0.11512149 0.11795235 0.16713848 0.15404577 0.13246049 0.11429582\n",
            " 0.07643312 0.07619722 0.05803255 0.06628922 0.07631517 0.07489974\n",
            " 0.04812456 0.02488795 0.02016985 0.01391838 0.04435008 0.04541165\n",
            " 0.0955414  0.09542345 0.07136117 0.11217268 0.09117716 0.07136117\n",
            " 0.08339231 0.08881812 0.10580326 0.11264449 0.08197688 0.10910592\n",
            " 0.13033734 0.12172682 0.11901392 0.11229063 0.13953763 0.12974758\n",
            " 0.1381222  0.13647087 0.11748054 0.10273649 0.09695683 0.08704883\n",
            " 0.04942203 0.03691908 0.03750885 0.04670913 0.         0.00401038\n",
            " 0.07106366 0.07169396 0.0785177  0.08812728 0.09842321 0.10844547\n",
            " 0.1178866  0.1267295  0.13505496 0.14296129]\n",
            "10 day output [[0.15053853]]\n",
            "11 day input [0.23130455 0.22988912 0.1834159  0.18034914 0.21785799 0.19532909\n",
            " 0.21431941 0.1858929  0.2160887  0.18376976 0.14036329 0.13847606\n",
            " 0.14850201 0.13387591 0.15015334 0.17067705 0.15687662 0.17480538\n",
            " 0.10615711 0.13104506 0.15557915 0.18388771 0.17055909 0.15428167\n",
            " 0.16784619 0.19945742 0.18400566 0.17799009 0.2108988  0.19096485\n",
            " 0.1960368  0.20936542 0.18424157 0.1480302  0.11712668 0.07761264\n",
            " 0.07230479 0.10686483 0.1004954  0.10332626 0.11618306 0.11512149\n",
            " 0.11795235 0.16713848 0.15404577 0.13246049 0.11429582 0.07643312\n",
            " 0.07619722 0.05803255 0.06628922 0.07631517 0.07489974 0.04812456\n",
            " 0.02488795 0.02016985 0.01391838 0.04435008 0.04541165 0.0955414\n",
            " 0.09542345 0.07136117 0.11217268 0.09117716 0.07136117 0.08339231\n",
            " 0.08881812 0.10580326 0.11264449 0.08197688 0.10910592 0.13033734\n",
            " 0.12172682 0.11901392 0.11229063 0.13953763 0.12974758 0.1381222\n",
            " 0.13647087 0.11748054 0.10273649 0.09695683 0.08704883 0.04942203\n",
            " 0.03691908 0.03750885 0.04670913 0.         0.00401038 0.07106366\n",
            " 0.07169396 0.0785177  0.08812728 0.09842321 0.10844547 0.1178866\n",
            " 0.1267295  0.13505496 0.14296129 0.15053853]\n",
            "11 day output [[0.15786304]]\n",
            "12 day input [0.22988912 0.1834159  0.18034914 0.21785799 0.19532909 0.21431941\n",
            " 0.1858929  0.2160887  0.18376976 0.14036329 0.13847606 0.14850201\n",
            " 0.13387591 0.15015334 0.17067705 0.15687662 0.17480538 0.10615711\n",
            " 0.13104506 0.15557915 0.18388771 0.17055909 0.15428167 0.16784619\n",
            " 0.19945742 0.18400566 0.17799009 0.2108988  0.19096485 0.1960368\n",
            " 0.20936542 0.18424157 0.1480302  0.11712668 0.07761264 0.07230479\n",
            " 0.10686483 0.1004954  0.10332626 0.11618306 0.11512149 0.11795235\n",
            " 0.16713848 0.15404577 0.13246049 0.11429582 0.07643312 0.07619722\n",
            " 0.05803255 0.06628922 0.07631517 0.07489974 0.04812456 0.02488795\n",
            " 0.02016985 0.01391838 0.04435008 0.04541165 0.0955414  0.09542345\n",
            " 0.07136117 0.11217268 0.09117716 0.07136117 0.08339231 0.08881812\n",
            " 0.10580326 0.11264449 0.08197688 0.10910592 0.13033734 0.12172682\n",
            " 0.11901392 0.11229063 0.13953763 0.12974758 0.1381222  0.13647087\n",
            " 0.11748054 0.10273649 0.09695683 0.08704883 0.04942203 0.03691908\n",
            " 0.03750885 0.04670913 0.         0.00401038 0.07106366 0.07169396\n",
            " 0.0785177  0.08812728 0.09842321 0.10844547 0.1178866  0.1267295\n",
            " 0.13505496 0.14296129 0.15053853 0.15786304]\n",
            "12 day output [[0.16499762]]\n",
            "13 day input [0.1834159  0.18034914 0.21785799 0.19532909 0.21431941 0.1858929\n",
            " 0.2160887  0.18376976 0.14036329 0.13847606 0.14850201 0.13387591\n",
            " 0.15015334 0.17067705 0.15687662 0.17480538 0.10615711 0.13104506\n",
            " 0.15557915 0.18388771 0.17055909 0.15428167 0.16784619 0.19945742\n",
            " 0.18400566 0.17799009 0.2108988  0.19096485 0.1960368  0.20936542\n",
            " 0.18424157 0.1480302  0.11712668 0.07761264 0.07230479 0.10686483\n",
            " 0.1004954  0.10332626 0.11618306 0.11512149 0.11795235 0.16713848\n",
            " 0.15404577 0.13246049 0.11429582 0.07643312 0.07619722 0.05803255\n",
            " 0.06628922 0.07631517 0.07489974 0.04812456 0.02488795 0.02016985\n",
            " 0.01391838 0.04435008 0.04541165 0.0955414  0.09542345 0.07136117\n",
            " 0.11217268 0.09117716 0.07136117 0.08339231 0.08881812 0.10580326\n",
            " 0.11264449 0.08197688 0.10910592 0.13033734 0.12172682 0.11901392\n",
            " 0.11229063 0.13953763 0.12974758 0.1381222  0.13647087 0.11748054\n",
            " 0.10273649 0.09695683 0.08704883 0.04942203 0.03691908 0.03750885\n",
            " 0.04670913 0.         0.00401038 0.07106366 0.07169396 0.0785177\n",
            " 0.08812728 0.09842321 0.10844547 0.1178866  0.1267295  0.13505496\n",
            " 0.14296129 0.15053853 0.15786304 0.16499762]\n",
            "13 day output [[0.1719926]]\n",
            "14 day input [0.18034914 0.21785799 0.19532909 0.21431941 0.1858929  0.2160887\n",
            " 0.18376976 0.14036329 0.13847606 0.14850201 0.13387591 0.15015334\n",
            " 0.17067705 0.15687662 0.17480538 0.10615711 0.13104506 0.15557915\n",
            " 0.18388771 0.17055909 0.15428167 0.16784619 0.19945742 0.18400566\n",
            " 0.17799009 0.2108988  0.19096485 0.1960368  0.20936542 0.18424157\n",
            " 0.1480302  0.11712668 0.07761264 0.07230479 0.10686483 0.1004954\n",
            " 0.10332626 0.11618306 0.11512149 0.11795235 0.16713848 0.15404577\n",
            " 0.13246049 0.11429582 0.07643312 0.07619722 0.05803255 0.06628922\n",
            " 0.07631517 0.07489974 0.04812456 0.02488795 0.02016985 0.01391838\n",
            " 0.04435008 0.04541165 0.0955414  0.09542345 0.07136117 0.11217268\n",
            " 0.09117716 0.07136117 0.08339231 0.08881812 0.10580326 0.11264449\n",
            " 0.08197688 0.10910592 0.13033734 0.12172682 0.11901392 0.11229063\n",
            " 0.13953763 0.12974758 0.1381222  0.13647087 0.11748054 0.10273649\n",
            " 0.09695683 0.08704883 0.04942203 0.03691908 0.03750885 0.04670913\n",
            " 0.         0.00401038 0.07106366 0.07169396 0.0785177  0.08812728\n",
            " 0.09842321 0.10844547 0.1178866  0.1267295  0.13505496 0.14296129\n",
            " 0.15053853 0.15786304 0.16499762 0.1719926 ]\n",
            "14 day output [[0.1788865]]\n",
            "15 day input [0.21785799 0.19532909 0.21431941 0.1858929  0.2160887  0.18376976\n",
            " 0.14036329 0.13847606 0.14850201 0.13387591 0.15015334 0.17067705\n",
            " 0.15687662 0.17480538 0.10615711 0.13104506 0.15557915 0.18388771\n",
            " 0.17055909 0.15428167 0.16784619 0.19945742 0.18400566 0.17799009\n",
            " 0.2108988  0.19096485 0.1960368  0.20936542 0.18424157 0.1480302\n",
            " 0.11712668 0.07761264 0.07230479 0.10686483 0.1004954  0.10332626\n",
            " 0.11618306 0.11512149 0.11795235 0.16713848 0.15404577 0.13246049\n",
            " 0.11429582 0.07643312 0.07619722 0.05803255 0.06628922 0.07631517\n",
            " 0.07489974 0.04812456 0.02488795 0.02016985 0.01391838 0.04435008\n",
            " 0.04541165 0.0955414  0.09542345 0.07136117 0.11217268 0.09117716\n",
            " 0.07136117 0.08339231 0.08881812 0.10580326 0.11264449 0.08197688\n",
            " 0.10910592 0.13033734 0.12172682 0.11901392 0.11229063 0.13953763\n",
            " 0.12974758 0.1381222  0.13647087 0.11748054 0.10273649 0.09695683\n",
            " 0.08704883 0.04942203 0.03691908 0.03750885 0.04670913 0.\n",
            " 0.00401038 0.07106366 0.07169396 0.0785177  0.08812728 0.09842321\n",
            " 0.10844547 0.1178866  0.1267295  0.13505496 0.14296129 0.15053853\n",
            " 0.15786304 0.16499762 0.1719926  0.1788865 ]\n",
            "15 day output [[0.18570785]]\n",
            "16 day input [0.19532909 0.21431941 0.1858929  0.2160887  0.18376976 0.14036329\n",
            " 0.13847606 0.14850201 0.13387591 0.15015334 0.17067705 0.15687662\n",
            " 0.17480538 0.10615711 0.13104506 0.15557915 0.18388771 0.17055909\n",
            " 0.15428167 0.16784619 0.19945742 0.18400566 0.17799009 0.2108988\n",
            " 0.19096485 0.1960368  0.20936542 0.18424157 0.1480302  0.11712668\n",
            " 0.07761264 0.07230479 0.10686483 0.1004954  0.10332626 0.11618306\n",
            " 0.11512149 0.11795235 0.16713848 0.15404577 0.13246049 0.11429582\n",
            " 0.07643312 0.07619722 0.05803255 0.06628922 0.07631517 0.07489974\n",
            " 0.04812456 0.02488795 0.02016985 0.01391838 0.04435008 0.04541165\n",
            " 0.0955414  0.09542345 0.07136117 0.11217268 0.09117716 0.07136117\n",
            " 0.08339231 0.08881812 0.10580326 0.11264449 0.08197688 0.10910592\n",
            " 0.13033734 0.12172682 0.11901392 0.11229063 0.13953763 0.12974758\n",
            " 0.1381222  0.13647087 0.11748054 0.10273649 0.09695683 0.08704883\n",
            " 0.04942203 0.03691908 0.03750885 0.04670913 0.         0.00401038\n",
            " 0.07106366 0.07169396 0.0785177  0.08812728 0.09842321 0.10844547\n",
            " 0.1178866  0.1267295  0.13505496 0.14296129 0.15053853 0.15786304\n",
            " 0.16499762 0.1719926  0.1788865  0.18570785]\n",
            "16 day output [[0.19247651]]\n",
            "17 day input [0.21431941 0.1858929  0.2160887  0.18376976 0.14036329 0.13847606\n",
            " 0.14850201 0.13387591 0.15015334 0.17067705 0.15687662 0.17480538\n",
            " 0.10615711 0.13104506 0.15557915 0.18388771 0.17055909 0.15428167\n",
            " 0.16784619 0.19945742 0.18400566 0.17799009 0.2108988  0.19096485\n",
            " 0.1960368  0.20936542 0.18424157 0.1480302  0.11712668 0.07761264\n",
            " 0.07230479 0.10686483 0.1004954  0.10332626 0.11618306 0.11512149\n",
            " 0.11795235 0.16713848 0.15404577 0.13246049 0.11429582 0.07643312\n",
            " 0.07619722 0.05803255 0.06628922 0.07631517 0.07489974 0.04812456\n",
            " 0.02488795 0.02016985 0.01391838 0.04435008 0.04541165 0.0955414\n",
            " 0.09542345 0.07136117 0.11217268 0.09117716 0.07136117 0.08339231\n",
            " 0.08881812 0.10580326 0.11264449 0.08197688 0.10910592 0.13033734\n",
            " 0.12172682 0.11901392 0.11229063 0.13953763 0.12974758 0.1381222\n",
            " 0.13647087 0.11748054 0.10273649 0.09695683 0.08704883 0.04942203\n",
            " 0.03691908 0.03750885 0.04670913 0.         0.00401038 0.07106366\n",
            " 0.07169396 0.0785177  0.08812728 0.09842321 0.10844547 0.1178866\n",
            " 0.1267295  0.13505496 0.14296129 0.15053853 0.15786304 0.16499762\n",
            " 0.1719926  0.1788865  0.18570785 0.19247651]\n",
            "17 day output [[0.19920588]]\n",
            "18 day input [0.1858929  0.2160887  0.18376976 0.14036329 0.13847606 0.14850201\n",
            " 0.13387591 0.15015334 0.17067705 0.15687662 0.17480538 0.10615711\n",
            " 0.13104506 0.15557915 0.18388771 0.17055909 0.15428167 0.16784619\n",
            " 0.19945742 0.18400566 0.17799009 0.2108988  0.19096485 0.1960368\n",
            " 0.20936542 0.18424157 0.1480302  0.11712668 0.07761264 0.07230479\n",
            " 0.10686483 0.1004954  0.10332626 0.11618306 0.11512149 0.11795235\n",
            " 0.16713848 0.15404577 0.13246049 0.11429582 0.07643312 0.07619722\n",
            " 0.05803255 0.06628922 0.07631517 0.07489974 0.04812456 0.02488795\n",
            " 0.02016985 0.01391838 0.04435008 0.04541165 0.0955414  0.09542345\n",
            " 0.07136117 0.11217268 0.09117716 0.07136117 0.08339231 0.08881812\n",
            " 0.10580326 0.11264449 0.08197688 0.10910592 0.13033734 0.12172682\n",
            " 0.11901392 0.11229063 0.13953763 0.12974758 0.1381222  0.13647087\n",
            " 0.11748054 0.10273649 0.09695683 0.08704883 0.04942203 0.03691908\n",
            " 0.03750885 0.04670913 0.         0.00401038 0.07106366 0.07169396\n",
            " 0.0785177  0.08812728 0.09842321 0.10844547 0.1178866  0.1267295\n",
            " 0.13505496 0.14296129 0.15053853 0.15786304 0.16499762 0.1719926\n",
            " 0.1788865  0.18570785 0.19247651 0.19920588]\n",
            "18 day output [[0.20590487]]\n",
            "19 day input [0.2160887  0.18376976 0.14036329 0.13847606 0.14850201 0.13387591\n",
            " 0.15015334 0.17067705 0.15687662 0.17480538 0.10615711 0.13104506\n",
            " 0.15557915 0.18388771 0.17055909 0.15428167 0.16784619 0.19945742\n",
            " 0.18400566 0.17799009 0.2108988  0.19096485 0.1960368  0.20936542\n",
            " 0.18424157 0.1480302  0.11712668 0.07761264 0.07230479 0.10686483\n",
            " 0.1004954  0.10332626 0.11618306 0.11512149 0.11795235 0.16713848\n",
            " 0.15404577 0.13246049 0.11429582 0.07643312 0.07619722 0.05803255\n",
            " 0.06628922 0.07631517 0.07489974 0.04812456 0.02488795 0.02016985\n",
            " 0.01391838 0.04435008 0.04541165 0.0955414  0.09542345 0.07136117\n",
            " 0.11217268 0.09117716 0.07136117 0.08339231 0.08881812 0.10580326\n",
            " 0.11264449 0.08197688 0.10910592 0.13033734 0.12172682 0.11901392\n",
            " 0.11229063 0.13953763 0.12974758 0.1381222  0.13647087 0.11748054\n",
            " 0.10273649 0.09695683 0.08704883 0.04942203 0.03691908 0.03750885\n",
            " 0.04670913 0.         0.00401038 0.07106366 0.07169396 0.0785177\n",
            " 0.08812728 0.09842321 0.10844547 0.1178866  0.1267295  0.13505496\n",
            " 0.14296129 0.15053853 0.15786304 0.16499762 0.1719926  0.1788865\n",
            " 0.18570785 0.19247651 0.19920588 0.20590487]\n",
            "19 day output [[0.21257995]]\n",
            "20 day input [0.18376976 0.14036329 0.13847606 0.14850201 0.13387591 0.15015334\n",
            " 0.17067705 0.15687662 0.17480538 0.10615711 0.13104506 0.15557915\n",
            " 0.18388771 0.17055909 0.15428167 0.16784619 0.19945742 0.18400566\n",
            " 0.17799009 0.2108988  0.19096485 0.1960368  0.20936542 0.18424157\n",
            " 0.1480302  0.11712668 0.07761264 0.07230479 0.10686483 0.1004954\n",
            " 0.10332626 0.11618306 0.11512149 0.11795235 0.16713848 0.15404577\n",
            " 0.13246049 0.11429582 0.07643312 0.07619722 0.05803255 0.06628922\n",
            " 0.07631517 0.07489974 0.04812456 0.02488795 0.02016985 0.01391838\n",
            " 0.04435008 0.04541165 0.0955414  0.09542345 0.07136117 0.11217268\n",
            " 0.09117716 0.07136117 0.08339231 0.08881812 0.10580326 0.11264449\n",
            " 0.08197688 0.10910592 0.13033734 0.12172682 0.11901392 0.11229063\n",
            " 0.13953763 0.12974758 0.1381222  0.13647087 0.11748054 0.10273649\n",
            " 0.09695683 0.08704883 0.04942203 0.03691908 0.03750885 0.04670913\n",
            " 0.         0.00401038 0.07106366 0.07169396 0.0785177  0.08812728\n",
            " 0.09842321 0.10844547 0.1178866  0.1267295  0.13505496 0.14296129\n",
            " 0.15053853 0.15786304 0.16499762 0.1719926  0.1788865  0.18570785\n",
            " 0.19247651 0.19920588 0.20590487 0.21257995]\n",
            "20 day output [[0.21923634]]\n",
            "21 day input [0.14036329 0.13847606 0.14850201 0.13387591 0.15015334 0.17067705\n",
            " 0.15687662 0.17480538 0.10615711 0.13104506 0.15557915 0.18388771\n",
            " 0.17055909 0.15428167 0.16784619 0.19945742 0.18400566 0.17799009\n",
            " 0.2108988  0.19096485 0.1960368  0.20936542 0.18424157 0.1480302\n",
            " 0.11712668 0.07761264 0.07230479 0.10686483 0.1004954  0.10332626\n",
            " 0.11618306 0.11512149 0.11795235 0.16713848 0.15404577 0.13246049\n",
            " 0.11429582 0.07643312 0.07619722 0.05803255 0.06628922 0.07631517\n",
            " 0.07489974 0.04812456 0.02488795 0.02016985 0.01391838 0.04435008\n",
            " 0.04541165 0.0955414  0.09542345 0.07136117 0.11217268 0.09117716\n",
            " 0.07136117 0.08339231 0.08881812 0.10580326 0.11264449 0.08197688\n",
            " 0.10910592 0.13033734 0.12172682 0.11901392 0.11229063 0.13953763\n",
            " 0.12974758 0.1381222  0.13647087 0.11748054 0.10273649 0.09695683\n",
            " 0.08704883 0.04942203 0.03691908 0.03750885 0.04670913 0.\n",
            " 0.00401038 0.07106366 0.07169396 0.0785177  0.08812728 0.09842321\n",
            " 0.10844547 0.1178866  0.1267295  0.13505496 0.14296129 0.15053853\n",
            " 0.15786304 0.16499762 0.1719926  0.1788865  0.18570785 0.19247651\n",
            " 0.19920588 0.20590487 0.21257995 0.21923634]\n",
            "21 day output [[0.22587927]]\n",
            "22 day input [0.13847606 0.14850201 0.13387591 0.15015334 0.17067705 0.15687662\n",
            " 0.17480538 0.10615711 0.13104506 0.15557915 0.18388771 0.17055909\n",
            " 0.15428167 0.16784619 0.19945742 0.18400566 0.17799009 0.2108988\n",
            " 0.19096485 0.1960368  0.20936542 0.18424157 0.1480302  0.11712668\n",
            " 0.07761264 0.07230479 0.10686483 0.1004954  0.10332626 0.11618306\n",
            " 0.11512149 0.11795235 0.16713848 0.15404577 0.13246049 0.11429582\n",
            " 0.07643312 0.07619722 0.05803255 0.06628922 0.07631517 0.07489974\n",
            " 0.04812456 0.02488795 0.02016985 0.01391838 0.04435008 0.04541165\n",
            " 0.0955414  0.09542345 0.07136117 0.11217268 0.09117716 0.07136117\n",
            " 0.08339231 0.08881812 0.10580326 0.11264449 0.08197688 0.10910592\n",
            " 0.13033734 0.12172682 0.11901392 0.11229063 0.13953763 0.12974758\n",
            " 0.1381222  0.13647087 0.11748054 0.10273649 0.09695683 0.08704883\n",
            " 0.04942203 0.03691908 0.03750885 0.04670913 0.         0.00401038\n",
            " 0.07106366 0.07169396 0.0785177  0.08812728 0.09842321 0.10844547\n",
            " 0.1178866  0.1267295  0.13505496 0.14296129 0.15053853 0.15786304\n",
            " 0.16499762 0.1719926  0.1788865  0.18570785 0.19247651 0.19920588\n",
            " 0.20590487 0.21257995 0.21923634 0.22587927]\n",
            "22 day output [[0.23251523]]\n",
            "23 day input [0.14850201 0.13387591 0.15015334 0.17067705 0.15687662 0.17480538\n",
            " 0.10615711 0.13104506 0.15557915 0.18388771 0.17055909 0.15428167\n",
            " 0.16784619 0.19945742 0.18400566 0.17799009 0.2108988  0.19096485\n",
            " 0.1960368  0.20936542 0.18424157 0.1480302  0.11712668 0.07761264\n",
            " 0.07230479 0.10686483 0.1004954  0.10332626 0.11618306 0.11512149\n",
            " 0.11795235 0.16713848 0.15404577 0.13246049 0.11429582 0.07643312\n",
            " 0.07619722 0.05803255 0.06628922 0.07631517 0.07489974 0.04812456\n",
            " 0.02488795 0.02016985 0.01391838 0.04435008 0.04541165 0.0955414\n",
            " 0.09542345 0.07136117 0.11217268 0.09117716 0.07136117 0.08339231\n",
            " 0.08881812 0.10580326 0.11264449 0.08197688 0.10910592 0.13033734\n",
            " 0.12172682 0.11901392 0.11229063 0.13953763 0.12974758 0.1381222\n",
            " 0.13647087 0.11748054 0.10273649 0.09695683 0.08704883 0.04942203\n",
            " 0.03691908 0.03750885 0.04670913 0.         0.00401038 0.07106366\n",
            " 0.07169396 0.0785177  0.08812728 0.09842321 0.10844547 0.1178866\n",
            " 0.1267295  0.13505496 0.14296129 0.15053853 0.15786304 0.16499762\n",
            " 0.1719926  0.1788865  0.18570785 0.19247651 0.19920588 0.20590487\n",
            " 0.21257995 0.21923634 0.22587927 0.23251523]\n",
            "23 day output [[0.2391517]]\n",
            "24 day input [0.13387591 0.15015334 0.17067705 0.15687662 0.17480538 0.10615711\n",
            " 0.13104506 0.15557915 0.18388771 0.17055909 0.15428167 0.16784619\n",
            " 0.19945742 0.18400566 0.17799009 0.2108988  0.19096485 0.1960368\n",
            " 0.20936542 0.18424157 0.1480302  0.11712668 0.07761264 0.07230479\n",
            " 0.10686483 0.1004954  0.10332626 0.11618306 0.11512149 0.11795235\n",
            " 0.16713848 0.15404577 0.13246049 0.11429582 0.07643312 0.07619722\n",
            " 0.05803255 0.06628922 0.07631517 0.07489974 0.04812456 0.02488795\n",
            " 0.02016985 0.01391838 0.04435008 0.04541165 0.0955414  0.09542345\n",
            " 0.07136117 0.11217268 0.09117716 0.07136117 0.08339231 0.08881812\n",
            " 0.10580326 0.11264449 0.08197688 0.10910592 0.13033734 0.12172682\n",
            " 0.11901392 0.11229063 0.13953763 0.12974758 0.1381222  0.13647087\n",
            " 0.11748054 0.10273649 0.09695683 0.08704883 0.04942203 0.03691908\n",
            " 0.03750885 0.04670913 0.         0.00401038 0.07106366 0.07169396\n",
            " 0.0785177  0.08812728 0.09842321 0.10844547 0.1178866  0.1267295\n",
            " 0.13505496 0.14296129 0.15053853 0.15786304 0.16499762 0.1719926\n",
            " 0.1788865  0.18570785 0.19247651 0.19920588 0.20590487 0.21257995\n",
            " 0.21923634 0.22587927 0.23251523 0.2391517 ]\n",
            "24 day output [[0.24579796]]\n",
            "25 day input [0.15015334 0.17067705 0.15687662 0.17480538 0.10615711 0.13104506\n",
            " 0.15557915 0.18388771 0.17055909 0.15428167 0.16784619 0.19945742\n",
            " 0.18400566 0.17799009 0.2108988  0.19096485 0.1960368  0.20936542\n",
            " 0.18424157 0.1480302  0.11712668 0.07761264 0.07230479 0.10686483\n",
            " 0.1004954  0.10332626 0.11618306 0.11512149 0.11795235 0.16713848\n",
            " 0.15404577 0.13246049 0.11429582 0.07643312 0.07619722 0.05803255\n",
            " 0.06628922 0.07631517 0.07489974 0.04812456 0.02488795 0.02016985\n",
            " 0.01391838 0.04435008 0.04541165 0.0955414  0.09542345 0.07136117\n",
            " 0.11217268 0.09117716 0.07136117 0.08339231 0.08881812 0.10580326\n",
            " 0.11264449 0.08197688 0.10910592 0.13033734 0.12172682 0.11901392\n",
            " 0.11229063 0.13953763 0.12974758 0.1381222  0.13647087 0.11748054\n",
            " 0.10273649 0.09695683 0.08704883 0.04942203 0.03691908 0.03750885\n",
            " 0.04670913 0.         0.00401038 0.07106366 0.07169396 0.0785177\n",
            " 0.08812728 0.09842321 0.10844547 0.1178866  0.1267295  0.13505496\n",
            " 0.14296129 0.15053853 0.15786304 0.16499762 0.1719926  0.1788865\n",
            " 0.18570785 0.19247651 0.19920588 0.20590487 0.21257995 0.21923634\n",
            " 0.22587927 0.23251523 0.2391517  0.24579796]\n",
            "25 day output [[0.25246438]]\n",
            "26 day input [0.17067705 0.15687662 0.17480538 0.10615711 0.13104506 0.15557915\n",
            " 0.18388771 0.17055909 0.15428167 0.16784619 0.19945742 0.18400566\n",
            " 0.17799009 0.2108988  0.19096485 0.1960368  0.20936542 0.18424157\n",
            " 0.1480302  0.11712668 0.07761264 0.07230479 0.10686483 0.1004954\n",
            " 0.10332626 0.11618306 0.11512149 0.11795235 0.16713848 0.15404577\n",
            " 0.13246049 0.11429582 0.07643312 0.07619722 0.05803255 0.06628922\n",
            " 0.07631517 0.07489974 0.04812456 0.02488795 0.02016985 0.01391838\n",
            " 0.04435008 0.04541165 0.0955414  0.09542345 0.07136117 0.11217268\n",
            " 0.09117716 0.07136117 0.08339231 0.08881812 0.10580326 0.11264449\n",
            " 0.08197688 0.10910592 0.13033734 0.12172682 0.11901392 0.11229063\n",
            " 0.13953763 0.12974758 0.1381222  0.13647087 0.11748054 0.10273649\n",
            " 0.09695683 0.08704883 0.04942203 0.03691908 0.03750885 0.04670913\n",
            " 0.         0.00401038 0.07106366 0.07169396 0.0785177  0.08812728\n",
            " 0.09842321 0.10844547 0.1178866  0.1267295  0.13505496 0.14296129\n",
            " 0.15053853 0.15786304 0.16499762 0.1719926  0.1788865  0.18570785\n",
            " 0.19247651 0.19920588 0.20590487 0.21257995 0.21923634 0.22587927\n",
            " 0.23251523 0.2391517  0.24579796 0.25246438]\n",
            "26 day output [[0.25916275]]\n",
            "27 day input [0.15687662 0.17480538 0.10615711 0.13104506 0.15557915 0.18388771\n",
            " 0.17055909 0.15428167 0.16784619 0.19945742 0.18400566 0.17799009\n",
            " 0.2108988  0.19096485 0.1960368  0.20936542 0.18424157 0.1480302\n",
            " 0.11712668 0.07761264 0.07230479 0.10686483 0.1004954  0.10332626\n",
            " 0.11618306 0.11512149 0.11795235 0.16713848 0.15404577 0.13246049\n",
            " 0.11429582 0.07643312 0.07619722 0.05803255 0.06628922 0.07631517\n",
            " 0.07489974 0.04812456 0.02488795 0.02016985 0.01391838 0.04435008\n",
            " 0.04541165 0.0955414  0.09542345 0.07136117 0.11217268 0.09117716\n",
            " 0.07136117 0.08339231 0.08881812 0.10580326 0.11264449 0.08197688\n",
            " 0.10910592 0.13033734 0.12172682 0.11901392 0.11229063 0.13953763\n",
            " 0.12974758 0.1381222  0.13647087 0.11748054 0.10273649 0.09695683\n",
            " 0.08704883 0.04942203 0.03691908 0.03750885 0.04670913 0.\n",
            " 0.00401038 0.07106366 0.07169396 0.0785177  0.08812728 0.09842321\n",
            " 0.10844547 0.1178866  0.1267295  0.13505496 0.14296129 0.15053853\n",
            " 0.15786304 0.16499762 0.1719926  0.1788865  0.18570785 0.19247651\n",
            " 0.19920588 0.20590487 0.21257995 0.21923634 0.22587927 0.23251523\n",
            " 0.2391517  0.24579796 0.25246438 0.25916275]\n",
            "27 day output [[0.26590592]]\n",
            "28 day input [0.17480538 0.10615711 0.13104506 0.15557915 0.18388771 0.17055909\n",
            " 0.15428167 0.16784619 0.19945742 0.18400566 0.17799009 0.2108988\n",
            " 0.19096485 0.1960368  0.20936542 0.18424157 0.1480302  0.11712668\n",
            " 0.07761264 0.07230479 0.10686483 0.1004954  0.10332626 0.11618306\n",
            " 0.11512149 0.11795235 0.16713848 0.15404577 0.13246049 0.11429582\n",
            " 0.07643312 0.07619722 0.05803255 0.06628922 0.07631517 0.07489974\n",
            " 0.04812456 0.02488795 0.02016985 0.01391838 0.04435008 0.04541165\n",
            " 0.0955414  0.09542345 0.07136117 0.11217268 0.09117716 0.07136117\n",
            " 0.08339231 0.08881812 0.10580326 0.11264449 0.08197688 0.10910592\n",
            " 0.13033734 0.12172682 0.11901392 0.11229063 0.13953763 0.12974758\n",
            " 0.1381222  0.13647087 0.11748054 0.10273649 0.09695683 0.08704883\n",
            " 0.04942203 0.03691908 0.03750885 0.04670913 0.         0.00401038\n",
            " 0.07106366 0.07169396 0.0785177  0.08812728 0.09842321 0.10844547\n",
            " 0.1178866  0.1267295  0.13505496 0.14296129 0.15053853 0.15786304\n",
            " 0.16499762 0.1719926  0.1788865  0.18570785 0.19247651 0.19920588\n",
            " 0.20590487 0.21257995 0.21923634 0.22587927 0.23251523 0.2391517\n",
            " 0.24579796 0.25246438 0.25916275 0.26590592]\n",
            "28 day output [[0.2727071]]\n",
            "29 day input [0.10615711 0.13104506 0.15557915 0.18388771 0.17055909 0.15428167\n",
            " 0.16784619 0.19945742 0.18400566 0.17799009 0.2108988  0.19096485\n",
            " 0.1960368  0.20936542 0.18424157 0.1480302  0.11712668 0.07761264\n",
            " 0.07230479 0.10686483 0.1004954  0.10332626 0.11618306 0.11512149\n",
            " 0.11795235 0.16713848 0.15404577 0.13246049 0.11429582 0.07643312\n",
            " 0.07619722 0.05803255 0.06628922 0.07631517 0.07489974 0.04812456\n",
            " 0.02488795 0.02016985 0.01391838 0.04435008 0.04541165 0.0955414\n",
            " 0.09542345 0.07136117 0.11217268 0.09117716 0.07136117 0.08339231\n",
            " 0.08881812 0.10580326 0.11264449 0.08197688 0.10910592 0.13033734\n",
            " 0.12172682 0.11901392 0.11229063 0.13953763 0.12974758 0.1381222\n",
            " 0.13647087 0.11748054 0.10273649 0.09695683 0.08704883 0.04942203\n",
            " 0.03691908 0.03750885 0.04670913 0.         0.00401038 0.07106366\n",
            " 0.07169396 0.0785177  0.08812728 0.09842321 0.10844547 0.1178866\n",
            " 0.1267295  0.13505496 0.14296129 0.15053853 0.15786304 0.16499762\n",
            " 0.1719926  0.1788865  0.18570785 0.19247651 0.19920588 0.20590487\n",
            " 0.21257995 0.21923634 0.22587927 0.23251523 0.2391517  0.24579796\n",
            " 0.25246438 0.25916275 0.26590592 0.2727071 ]\n",
            "29 day output [[0.27958027]]\n",
            "30 day input [0.13104506 0.15557915 0.18388771 0.17055909 0.15428167 0.16784619\n",
            " 0.19945742 0.18400566 0.17799009 0.2108988  0.19096485 0.1960368\n",
            " 0.20936542 0.18424157 0.1480302  0.11712668 0.07761264 0.07230479\n",
            " 0.10686483 0.1004954  0.10332626 0.11618306 0.11512149 0.11795235\n",
            " 0.16713848 0.15404577 0.13246049 0.11429582 0.07643312 0.07619722\n",
            " 0.05803255 0.06628922 0.07631517 0.07489974 0.04812456 0.02488795\n",
            " 0.02016985 0.01391838 0.04435008 0.04541165 0.0955414  0.09542345\n",
            " 0.07136117 0.11217268 0.09117716 0.07136117 0.08339231 0.08881812\n",
            " 0.10580326 0.11264449 0.08197688 0.10910592 0.13033734 0.12172682\n",
            " 0.11901392 0.11229063 0.13953763 0.12974758 0.1381222  0.13647087\n",
            " 0.11748054 0.10273649 0.09695683 0.08704883 0.04942203 0.03691908\n",
            " 0.03750885 0.04670913 0.         0.00401038 0.07106366 0.07169396\n",
            " 0.0785177  0.08812728 0.09842321 0.10844547 0.1178866  0.1267295\n",
            " 0.13505496 0.14296129 0.15053853 0.15786304 0.16499762 0.1719926\n",
            " 0.1788865  0.18570785 0.19247651 0.19920588 0.20590487 0.21257995\n",
            " 0.21923634 0.22587927 0.23251523 0.2391517  0.24579796 0.25246438\n",
            " 0.25916275 0.26590592 0.2727071  0.27958027]\n",
            "30 day output [[0.28653932]]\n"
          ]
        }
      ]
    },
    {
      "cell_type": "code",
      "source": [
        "# plotting the actual data, and the next 30 days' prediction \n",
        "\n",
        "day_new=np.arange(1,100)\n",
        "day_pred=np.arange(100,131)"
      ],
      "metadata": {
        "id": "0kTQKiJnR71p"
      },
      "execution_count": 26,
      "outputs": []
    },
    {
      "cell_type": "code",
      "source": [
        "plt.plot(day_new,scaler.inverse_transform(df1[1158:]))\n",
        "plt.plot(day_pred,scaler.inverse_transform(lst_output))\n"
      ],
      "metadata": {
        "id": "e_XGobY4SEE3",
        "colab": {
          "base_uri": "https://localhost:8080/",
          "height": 284
        },
        "outputId": "b35e2bb1-4ea0-46ac-fa51-79ef64ab476f"
      },
      "execution_count": 27,
      "outputs": [
        {
          "output_type": "execute_result",
          "data": {
            "text/plain": [
              "[<matplotlib.lines.Line2D at 0x7f3a541a3210>]"
            ]
          },
          "metadata": {},
          "execution_count": 27
        },
        {
          "output_type": "display_data",
          "data": {
            "text/plain": [
              "<Figure size 432x288 with 1 Axes>"
            ],
            "image/png": "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\n"
          },
          "metadata": {
            "needs_background": "light"
          }
        }
      ]
    },
    {
      "cell_type": "code",
      "source": [
        "## lets see the combined output also \n",
        "df3=df1.tolist()\n",
        "df3.extend(lst_output)\n",
        "plt.plot(df3[1200:])"
      ],
      "metadata": {
        "id": "7KCqymOuS6W7",
        "colab": {
          "base_uri": "https://localhost:8080/",
          "height": 287
        },
        "outputId": "41ce5a09-0031-46cf-e825-3d8a56710355"
      },
      "execution_count": 28,
      "outputs": [
        {
          "output_type": "execute_result",
          "data": {
            "text/plain": [
              "[<matplotlib.lines.Line2D at 0x7f3a540ea4d0>]"
            ]
          },
          "metadata": {},
          "execution_count": 28
        },
        {
          "output_type": "display_data",
          "data": {
            "text/plain": [
              "<Figure size 432x288 with 1 Axes>"
            ],
            "image/png": "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\n"
          },
          "metadata": {
            "needs_background": "light"
          }
        }
      ]
    },
    {
      "cell_type": "code",
      "source": [
        "df3=scaler.inverse_transform(df3).tolist()\n",
        "plt.plot(df3)\n",
        "\n",
        "## here is the whole complete graph "
      ],
      "metadata": {
        "colab": {
          "base_uri": "https://localhost:8080/",
          "height": 283
        },
        "id": "BZauzjxZBP20",
        "outputId": "98fb9125-b4cf-46e4-9134-3b3c4d882fd6"
      },
      "execution_count": 29,
      "outputs": [
        {
          "output_type": "execute_result",
          "data": {
            "text/plain": [
              "[<matplotlib.lines.Line2D at 0x7f3a54113550>]"
            ]
          },
          "metadata": {},
          "execution_count": 29
        },
        {
          "output_type": "display_data",
          "data": {
            "text/plain": [
              "<Figure size 432x288 with 1 Axes>"
            ],
            "image/png": "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\n"
          },
          "metadata": {
            "needs_background": "light"
          }
        }
      ]
    }
  ]
}