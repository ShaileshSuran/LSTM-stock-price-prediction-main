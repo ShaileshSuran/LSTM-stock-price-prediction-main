{
  "nbformat": 4,
  "nbformat_minor": 0,
  "metadata": {
    "colab": {
      "name": "Procter And Gamble Stacked LSTM Karthik Gowda.ipynb",
      "provenance": [],
      "collapsed_sections": [],
      "include_colab_link": true
    },
    "kernelspec": {
      "name": "python3",
      "display_name": "Python 3"
    },
    "language_info": {
      "name": "python"
    }
  },
  "cells": [
    {
      "cell_type": "markdown",
      "metadata": {
        "id": "view-in-github",
        "colab_type": "text"
      },
      
    },
    {
      "cell_type": "code",
      "source": [
        "### Shailesh Suran || ss812050@student.nitw.ac.in || shaileshsuran@gmail.com || +91 8106714553\n",
        "\n",
        "import pandas as pd\n",
        "import matplotlib.pyplot as plt\n",
        "import numpy as np\n",
        "import math\n"
      ],
      "metadata": {
        "id": "tMhpLLih38YF"
      },
      "execution_count": 1,
      "outputs": []
    },
    {
      "cell_type": "code",
      "source": [
        "### Data Collection using TIINGO ( this was a good resource i found, i was having some problem with Investing.com) to collect past data of the stock \n",
        "import pandas_datareader as pdr\n",
        "key=\"8f291cc13ac10b56a0b393bba2debea47ca99268\""
      ],
      "metadata": {
        "id": "WhE-cjl-yhli"
      },
      "execution_count": 2,
      "outputs": []
    },
    {
      "cell_type": "code",
      "source": [
        "df = pdr.get_data_tiingo('PG', api_key=key)\n"
      ],
      "metadata": {
        "colab": {
          "base_uri": "https://localhost:8080/"
        },
        "id": "xNqJtFWt2Bsd",
        "outputId": "4be59730-eb24-4cab-ea3a-72572ed4a928"
      },
      "execution_count": 3,
      "outputs": [
        {
          "output_type": "stream",
          "name": "stderr",
          "text": [
            "/usr/local/lib/python3.7/dist-packages/pandas_datareader/tiingo.py:234: FutureWarning: In a future version of pandas all arguments of concat except for the argument 'objs' will be keyword-only\n",
            "  return pd.concat(dfs, self._concat_axis)\n"
          ]
        }
      ]
    },
    {
      "cell_type": "code",
      "source": [
        "df.to_csv('PG.csv')\n"
      ],
      "metadata": {
        "id": "at7KKgoy2EkG"
      },
      "execution_count": 4,
      "outputs": []
    },
    {
      "cell_type": "code",
      "source": [
        "df = pd.read_csv('PG.csv')"
      ],
      "metadata": {
        "id": "bByeHVWD3_in"
      },
      "execution_count": 5,
      "outputs": []
    },
    {
      "cell_type": "code",
      "source": [
        "### since we are going to precdict the closing price of the stock the next day, we will only be using the close price of the stock \n",
        "\n",
        "df1 = df.reset_index()['close']"
      ],
      "metadata": {
        "id": "uH2ZKmm84NGg"
      },
      "execution_count": 6,
      "outputs": []
    },
    {
      "cell_type": "code",
      "source": [
        "#plotting the data for a better visual \n",
        "\n",
        "plt.plot(df1)"
      ],
      "metadata": {
        "colab": {
          "base_uri": "https://localhost:8080/",
          "height": 283
        },
        "id": "kFhFvfbi40jD",
        "outputId": "ebf59abf-1c19-40f1-b50b-a08f71b72892"
      },
      "execution_count": 7,
      "outputs": [
        {
          "output_type": "execute_result",
          "data": {
            "text/plain": [
              "[<matplotlib.lines.Line2D at 0x7efde10024d0>]"
            ]
          },
          "metadata": {},
          "execution_count": 7
        },
        {
          "output_type": "display_data",
          "data": {
            "text/plain": [
              "<Figure size 432x288 with 1 Axes>"
            ],
            "image/png": "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\n"
          },
          "metadata": {
            "needs_background": "light"
          }
        }
      ]
    },
    {
      "cell_type": "code",
      "source": [
        "df1.shape\n"
      ],
      "metadata": {
        "colab": {
          "base_uri": "https://localhost:8080/"
        },
        "id": "5Vo6k7X1SlWH",
        "outputId": "7231656c-dbc6-46d4-f19f-ff3f765281ce"
      },
      "execution_count": 8,
      "outputs": [
        {
          "output_type": "execute_result",
          "data": {
            "text/plain": [
              "(1258,)"
            ]
          },
          "metadata": {},
          "execution_count": 8
        }
      ]
    },
    {
      "cell_type": "code",
      "source": [
        "### scaling the values if important since LSTM can be sensitive, so using the MinMax scaler and scaling it between 0 and 1  \n",
        "\n",
        "from sklearn.preprocessing import MinMaxScaler\n",
        "scaler = MinMaxScaler(feature_range=(0,1))\n",
        "df1 = scaler.fit_transform(np.array(df1).reshape(-1,1))\n",
        "\n",
        "## so here we have completed collecting the data "
      ],
      "metadata": {
        "id": "MqwD67yr5Qub"
      },
      "execution_count": 9,
      "outputs": []
    },
    {
      "cell_type": "code",
      "source": [
        "## now moving onto preprocessing the data \n",
        "## to make the test - train split, since it is a time series data we cannot use cross validation or random seed\n",
        "## so here i will take a 65 - 35 % train - test split here \n",
        "\n",
        "training_size = int (len(df1)*0.65)\n",
        "test_size = len(df1) - training_size\n",
        "\n",
        "train_data= df1[0 : training_size , :] \n",
        "test_data = df1[training_size : len(df1) , :] \n",
        "\n",
        "\n",
        "\n"
      ],
      "metadata": {
        "id": "ceSDejo26ceA"
      },
      "execution_count": 10,
      "outputs": []
    },
    {
      "cell_type": "code",
      "source": [
        "### Now doing the actual preprocessing\n",
        "### so now we will be creating timesteps of length 100 \n",
        "\n",
        "def create_dataset ( dataset , time_step = 1):\n",
        "  dataX , dataY = [] , []\n",
        "  for i in range (len(dataset) - time_step - 1 ):\n",
        "    row = dataset[i : (i + time_step) ,  0 ]\n",
        "    dataX.append(row)\n",
        "    dataY.append(dataset[i + time_step , 0])\n",
        "  \n",
        "  return np.array(dataX) , np.array(dataY)\n",
        "\n"
      ],
      "metadata": {
        "id": "orjdsaAy-UKl"
      },
      "execution_count": 11,
      "outputs": []
    },
    {
      "cell_type": "code",
      "source": [
        "time_step = 100; \n",
        "\n",
        "X_train , Y_train = create_dataset( train_data , time_step)\n",
        "X_test , Y_test = create_dataset(test_data, time_step)\n"
      ],
      "metadata": {
        "id": "EyzlGMIJhO1d"
      },
      "execution_count": 12,
      "outputs": []
    },
    {
      "cell_type": "code",
      "source": [
        "### Now creating the LSTM model \n",
        "\n",
        "## since LSTM needs another dimension to the input data set, adding it \n",
        "\n",
        "X_train = X_train.reshape(X_train.shape[0], X_train.shape[1], 1)\n",
        "X_test = X_test.reshape(X_test.shape[0], X_test.shape[1], 1)"
      ],
      "metadata": {
        "id": "vxORGMiSiMH9"
      },
      "execution_count": 13,
      "outputs": []
    },
    {
      "cell_type": "code",
      "source": [
        "### importing dependencies\n",
        "\n",
        "from tensorflow.keras.models import Sequential\n",
        "from tensorflow.keras.layers import Dense \n",
        "from tensorflow.keras.layers import LSTM"
      ],
      "metadata": {
        "id": "DjQzggFREWRN"
      },
      "execution_count": 14,
      "outputs": []
    },
    {
      "cell_type": "code",
      "source": [
        "### creating the LSTM model \n",
        "\n",
        "model = Sequential()\n",
        "\n",
        "model.add(LSTM(50, return_sequences = True , input_shape = (time_step , 1)))\n",
        "model.add(LSTM(50 , return_sequences = True))\n",
        "model.add(LSTM(50))\n",
        "model.add(Dense(1))\n",
        "model.compile( loss = 'mean_squared_error' , optimizer = 'adam')"
      ],
      "metadata": {
        "id": "gJVPxOrEFCyM"
      },
      "execution_count": 15,
      "outputs": []
    },
    {
      "cell_type": "code",
      "source": [
        "model.summary()"
      ],
      "metadata": {
        "colab": {
          "base_uri": "https://localhost:8080/"
        },
        "id": "8QOu43lwGS7t",
        "outputId": "646c9e8f-3fd4-41c5-e42c-3ddb8f64aa58"
      },
      "execution_count": 16,
      "outputs": [
        {
          "output_type": "stream",
          "name": "stdout",
          "text": [
            "Model: \"sequential\"\n",
            "_________________________________________________________________\n",
            " Layer (type)                Output Shape              Param #   \n",
            "=================================================================\n",
            " lstm (LSTM)                 (None, 100, 50)           10400     \n",
            "                                                                 \n",
            " lstm_1 (LSTM)               (None, 100, 50)           20200     \n",
            "                                                                 \n",
            " lstm_2 (LSTM)               (None, 50)                20200     \n",
            "                                                                 \n",
            " dense (Dense)               (None, 1)                 51        \n",
            "                                                                 \n",
            "=================================================================\n",
            "Total params: 50,851\n",
            "Trainable params: 50,851\n",
            "Non-trainable params: 0\n",
            "_________________________________________________________________\n"
          ]
        }
      ]
    },
    {
      "cell_type": "code",
      "source": [
        "### training the model \n",
        "\n",
        "model.fit(X_train , Y_train, validation_data = (X_test , Y_test), epochs = 100, batch_size = 64, verbose = 1)"
      ],
      "metadata": {
        "colab": {
          "base_uri": "https://localhost:8080/"
        },
        "id": "Fl3sb0i1GdBv",
        "outputId": "df3df36b-8ac7-4c0e-dc2b-8962f5581878"
      },
      "execution_count": 42,
      "outputs": [
        {
          "output_type": "stream",
          "name": "stdout",
          "text": [
            "Epoch 1/100\n",
            "12/12 [==============================] - 3s 210ms/step - loss: 7.0387e-04 - val_loss: 0.0017\n",
            "Epoch 2/100\n",
            "12/12 [==============================] - 2s 205ms/step - loss: 7.2185e-04 - val_loss: 8.1932e-04\n",
            "Epoch 3/100\n",
            "12/12 [==============================] - 3s 251ms/step - loss: 6.4533e-04 - val_loss: 7.1439e-04\n",
            "Epoch 4/100\n",
            "12/12 [==============================] - 5s 413ms/step - loss: 6.3078e-04 - val_loss: 0.0013\n",
            "Epoch 5/100\n",
            "12/12 [==============================] - 3s 241ms/step - loss: 7.2070e-04 - val_loss: 0.0018\n",
            "Epoch 6/100\n",
            "12/12 [==============================] - 2s 204ms/step - loss: 7.2691e-04 - val_loss: 8.4775e-04\n",
            "Epoch 7/100\n",
            "12/12 [==============================] - 2s 205ms/step - loss: 6.6577e-04 - val_loss: 9.0023e-04\n",
            "Epoch 8/100\n",
            "12/12 [==============================] - 2s 206ms/step - loss: 6.1308e-04 - val_loss: 7.2949e-04\n",
            "Epoch 9/100\n",
            "12/12 [==============================] - 2s 205ms/step - loss: 5.8145e-04 - val_loss: 7.3937e-04\n",
            "Epoch 10/100\n",
            "12/12 [==============================] - 2s 204ms/step - loss: 6.3697e-04 - val_loss: 7.3847e-04\n",
            "Epoch 11/100\n",
            "12/12 [==============================] - 2s 210ms/step - loss: 6.7578e-04 - val_loss: 9.9124e-04\n",
            "Epoch 12/100\n",
            "12/12 [==============================] - 2s 204ms/step - loss: 6.3651e-04 - val_loss: 7.4040e-04\n",
            "Epoch 13/100\n",
            "12/12 [==============================] - 2s 208ms/step - loss: 6.3566e-04 - val_loss: 0.0011\n",
            "Epoch 14/100\n",
            "12/12 [==============================] - 2s 206ms/step - loss: 6.3894e-04 - val_loss: 7.3693e-04\n",
            "Epoch 15/100\n",
            "12/12 [==============================] - 2s 202ms/step - loss: 5.8939e-04 - val_loss: 7.3089e-04\n",
            "Epoch 16/100\n",
            "12/12 [==============================] - 2s 201ms/step - loss: 5.6171e-04 - val_loss: 8.6476e-04\n",
            "Epoch 17/100\n",
            "12/12 [==============================] - 2s 202ms/step - loss: 5.7499e-04 - val_loss: 6.8669e-04\n",
            "Epoch 18/100\n",
            "12/12 [==============================] - 2s 205ms/step - loss: 5.8517e-04 - val_loss: 0.0010\n",
            "Epoch 19/100\n",
            "12/12 [==============================] - 2s 207ms/step - loss: 6.2709e-04 - val_loss: 9.9660e-04\n",
            "Epoch 20/100\n",
            "12/12 [==============================] - 2s 210ms/step - loss: 5.7915e-04 - val_loss: 7.1817e-04\n",
            "Epoch 21/100\n",
            "12/12 [==============================] - 3s 283ms/step - loss: 5.4298e-04 - val_loss: 7.5876e-04\n",
            "Epoch 22/100\n",
            "12/12 [==============================] - 2s 200ms/step - loss: 5.7602e-04 - val_loss: 6.3241e-04\n",
            "Epoch 23/100\n",
            "12/12 [==============================] - 2s 201ms/step - loss: 6.1724e-04 - val_loss: 0.0013\n",
            "Epoch 24/100\n",
            "12/12 [==============================] - 2s 203ms/step - loss: 7.6427e-04 - val_loss: 0.0022\n",
            "Epoch 25/100\n",
            "12/12 [==============================] - 2s 206ms/step - loss: 5.7784e-04 - val_loss: 6.7060e-04\n",
            "Epoch 26/100\n",
            "12/12 [==============================] - 2s 204ms/step - loss: 5.6860e-04 - val_loss: 0.0013\n",
            "Epoch 27/100\n",
            "12/12 [==============================] - 2s 201ms/step - loss: 6.6737e-04 - val_loss: 7.8590e-04\n",
            "Epoch 28/100\n",
            "12/12 [==============================] - 2s 199ms/step - loss: 5.5930e-04 - val_loss: 6.0589e-04\n",
            "Epoch 29/100\n",
            "12/12 [==============================] - 2s 205ms/step - loss: 5.2904e-04 - val_loss: 7.0872e-04\n",
            "Epoch 30/100\n",
            "12/12 [==============================] - 2s 202ms/step - loss: 5.4558e-04 - val_loss: 7.3343e-04\n",
            "Epoch 31/100\n",
            "12/12 [==============================] - 3s 211ms/step - loss: 5.9157e-04 - val_loss: 7.1152e-04\n",
            "Epoch 32/100\n",
            "12/12 [==============================] - 2s 204ms/step - loss: 5.4907e-04 - val_loss: 0.0013\n",
            "Epoch 33/100\n",
            "12/12 [==============================] - 2s 203ms/step - loss: 6.1713e-04 - val_loss: 5.9193e-04\n",
            "Epoch 34/100\n",
            "12/12 [==============================] - 3s 254ms/step - loss: 5.5973e-04 - val_loss: 0.0016\n",
            "Epoch 35/100\n",
            "12/12 [==============================] - 2s 203ms/step - loss: 6.1429e-04 - val_loss: 6.6256e-04\n",
            "Epoch 36/100\n",
            "12/12 [==============================] - 2s 205ms/step - loss: 6.1275e-04 - val_loss: 5.8428e-04\n",
            "Epoch 37/100\n",
            "12/12 [==============================] - 2s 207ms/step - loss: 5.1414e-04 - val_loss: 6.0077e-04\n",
            "Epoch 38/100\n",
            "12/12 [==============================] - 2s 205ms/step - loss: 4.9555e-04 - val_loss: 7.7318e-04\n",
            "Epoch 39/100\n",
            "12/12 [==============================] - 3s 208ms/step - loss: 5.1383e-04 - val_loss: 6.9998e-04\n",
            "Epoch 40/100\n",
            "12/12 [==============================] - 2s 202ms/step - loss: 5.2208e-04 - val_loss: 8.3664e-04\n",
            "Epoch 41/100\n",
            "12/12 [==============================] - 2s 204ms/step - loss: 5.6205e-04 - val_loss: 0.0018\n",
            "Epoch 42/100\n",
            "12/12 [==============================] - 2s 204ms/step - loss: 5.9254e-04 - val_loss: 6.0440e-04\n",
            "Epoch 43/100\n",
            "12/12 [==============================] - 2s 207ms/step - loss: 5.4084e-04 - val_loss: 5.9484e-04\n",
            "Epoch 44/100\n",
            "12/12 [==============================] - 2s 199ms/step - loss: 5.5661e-04 - val_loss: 6.2062e-04\n",
            "Epoch 45/100\n",
            "12/12 [==============================] - 2s 203ms/step - loss: 4.9314e-04 - val_loss: 6.2654e-04\n",
            "Epoch 46/100\n",
            "12/12 [==============================] - 2s 204ms/step - loss: 4.8347e-04 - val_loss: 8.7359e-04\n",
            "Epoch 47/100\n",
            "12/12 [==============================] - 2s 202ms/step - loss: 5.2197e-04 - val_loss: 6.1402e-04\n",
            "Epoch 48/100\n",
            "12/12 [==============================] - 2s 207ms/step - loss: 5.0053e-04 - val_loss: 8.9651e-04\n",
            "Epoch 49/100\n",
            "12/12 [==============================] - 2s 205ms/step - loss: 4.9006e-04 - val_loss: 6.9748e-04\n",
            "Epoch 50/100\n",
            "12/12 [==============================] - 2s 205ms/step - loss: 4.7134e-04 - val_loss: 5.9087e-04\n",
            "Epoch 51/100\n",
            "12/12 [==============================] - 2s 204ms/step - loss: 5.0643e-04 - val_loss: 0.0010\n",
            "Epoch 52/100\n",
            "12/12 [==============================] - 2s 206ms/step - loss: 5.2169e-04 - val_loss: 5.2558e-04\n",
            "Epoch 53/100\n",
            "12/12 [==============================] - 2s 207ms/step - loss: 4.4682e-04 - val_loss: 8.4751e-04\n",
            "Epoch 54/100\n",
            "12/12 [==============================] - 2s 208ms/step - loss: 4.8001e-04 - val_loss: 7.5682e-04\n",
            "Epoch 55/100\n",
            "12/12 [==============================] - 2s 207ms/step - loss: 4.7441e-04 - val_loss: 6.0222e-04\n",
            "Epoch 56/100\n",
            "12/12 [==============================] - 2s 208ms/step - loss: 4.6319e-04 - val_loss: 5.0870e-04\n",
            "Epoch 57/100\n",
            "12/12 [==============================] - 2s 208ms/step - loss: 4.9830e-04 - val_loss: 6.2237e-04\n",
            "Epoch 58/100\n",
            "12/12 [==============================] - 3s 210ms/step - loss: 5.2147e-04 - val_loss: 0.0012\n",
            "Epoch 59/100\n",
            "12/12 [==============================] - 2s 204ms/step - loss: 6.4765e-04 - val_loss: 0.0014\n",
            "Epoch 60/100\n",
            "12/12 [==============================] - 2s 201ms/step - loss: 6.1559e-04 - val_loss: 8.7106e-04\n",
            "Epoch 61/100\n",
            "12/12 [==============================] - 2s 206ms/step - loss: 5.1765e-04 - val_loss: 5.2907e-04\n",
            "Epoch 62/100\n",
            "12/12 [==============================] - 2s 204ms/step - loss: 5.1478e-04 - val_loss: 6.0585e-04\n",
            "Epoch 63/100\n",
            "12/12 [==============================] - 2s 206ms/step - loss: 5.2359e-04 - val_loss: 7.2899e-04\n",
            "Epoch 64/100\n",
            "12/12 [==============================] - 2s 209ms/step - loss: 4.6302e-04 - val_loss: 4.8235e-04\n",
            "Epoch 65/100\n",
            "12/12 [==============================] - 3s 287ms/step - loss: 4.3479e-04 - val_loss: 4.8174e-04\n",
            "Epoch 66/100\n",
            "12/12 [==============================] - 2s 204ms/step - loss: 4.1524e-04 - val_loss: 5.3422e-04\n",
            "Epoch 67/100\n",
            "12/12 [==============================] - 2s 208ms/step - loss: 4.1434e-04 - val_loss: 4.5606e-04\n",
            "Epoch 68/100\n",
            "12/12 [==============================] - 2s 204ms/step - loss: 4.1711e-04 - val_loss: 6.2994e-04\n",
            "Epoch 69/100\n",
            "12/12 [==============================] - 2s 205ms/step - loss: 4.1913e-04 - val_loss: 5.2018e-04\n",
            "Epoch 70/100\n",
            "12/12 [==============================] - 2s 203ms/step - loss: 4.3922e-04 - val_loss: 4.9727e-04\n",
            "Epoch 71/100\n",
            "12/12 [==============================] - 2s 201ms/step - loss: 4.0301e-04 - val_loss: 4.5768e-04\n",
            "Epoch 72/100\n",
            "12/12 [==============================] - 2s 197ms/step - loss: 3.9271e-04 - val_loss: 5.0801e-04\n",
            "Epoch 73/100\n",
            "12/12 [==============================] - 2s 205ms/step - loss: 4.0100e-04 - val_loss: 5.6491e-04\n",
            "Epoch 74/100\n",
            "12/12 [==============================] - 2s 201ms/step - loss: 3.9024e-04 - val_loss: 7.5831e-04\n",
            "Epoch 75/100\n",
            "12/12 [==============================] - 2s 202ms/step - loss: 4.0575e-04 - val_loss: 4.3557e-04\n",
            "Epoch 76/100\n",
            "12/12 [==============================] - 2s 203ms/step - loss: 3.8373e-04 - val_loss: 5.0796e-04\n",
            "Epoch 77/100\n",
            "12/12 [==============================] - 3s 246ms/step - loss: 4.1471e-04 - val_loss: 4.3181e-04\n",
            "Epoch 78/100\n",
            "12/12 [==============================] - 2s 200ms/step - loss: 3.9986e-04 - val_loss: 8.6801e-04\n",
            "Epoch 79/100\n",
            "12/12 [==============================] - 2s 204ms/step - loss: 4.3625e-04 - val_loss: 6.4432e-04\n",
            "Epoch 80/100\n",
            "12/12 [==============================] - 2s 204ms/step - loss: 3.8408e-04 - val_loss: 4.7254e-04\n",
            "Epoch 81/100\n",
            "12/12 [==============================] - 2s 203ms/step - loss: 3.8246e-04 - val_loss: 4.4824e-04\n",
            "Epoch 82/100\n",
            "12/12 [==============================] - 3s 211ms/step - loss: 3.6822e-04 - val_loss: 4.2161e-04\n",
            "Epoch 83/100\n",
            "12/12 [==============================] - 3s 210ms/step - loss: 3.7249e-04 - val_loss: 4.7381e-04\n",
            "Epoch 84/100\n",
            "12/12 [==============================] - 2s 200ms/step - loss: 3.8907e-04 - val_loss: 6.0372e-04\n",
            "Epoch 85/100\n",
            "12/12 [==============================] - 2s 206ms/step - loss: 3.7312e-04 - val_loss: 4.0785e-04\n",
            "Epoch 86/100\n",
            "12/12 [==============================] - 2s 207ms/step - loss: 4.0832e-04 - val_loss: 4.0707e-04\n",
            "Epoch 87/100\n",
            "12/12 [==============================] - 2s 204ms/step - loss: 3.5777e-04 - val_loss: 4.1306e-04\n",
            "Epoch 88/100\n",
            "12/12 [==============================] - 2s 202ms/step - loss: 3.8806e-04 - val_loss: 0.0011\n",
            "Epoch 89/100\n",
            "12/12 [==============================] - 2s 202ms/step - loss: 5.5153e-04 - val_loss: 5.1105e-04\n",
            "Epoch 90/100\n",
            "12/12 [==============================] - 2s 201ms/step - loss: 3.9201e-04 - val_loss: 0.0012\n",
            "Epoch 91/100\n",
            "12/12 [==============================] - 2s 201ms/step - loss: 5.3117e-04 - val_loss: 4.4106e-04\n",
            "Epoch 92/100\n",
            "12/12 [==============================] - 2s 201ms/step - loss: 3.5636e-04 - val_loss: 4.6956e-04\n",
            "Epoch 93/100\n",
            "12/12 [==============================] - 2s 202ms/step - loss: 3.6487e-04 - val_loss: 4.1955e-04\n",
            "Epoch 94/100\n",
            "12/12 [==============================] - 2s 202ms/step - loss: 3.6339e-04 - val_loss: 4.3333e-04\n",
            "Epoch 95/100\n",
            "12/12 [==============================] - 2s 205ms/step - loss: 4.0121e-04 - val_loss: 5.6792e-04\n",
            "Epoch 96/100\n",
            "12/12 [==============================] - 2s 203ms/step - loss: 4.1128e-04 - val_loss: 8.8425e-04\n",
            "Epoch 97/100\n",
            "12/12 [==============================] - 2s 203ms/step - loss: 3.6432e-04 - val_loss: 3.9824e-04\n",
            "Epoch 98/100\n",
            "12/12 [==============================] - 2s 204ms/step - loss: 3.4662e-04 - val_loss: 4.0178e-04\n",
            "Epoch 99/100\n",
            "12/12 [==============================] - 2s 207ms/step - loss: 3.4308e-04 - val_loss: 6.2352e-04\n",
            "Epoch 100/100\n",
            "12/12 [==============================] - 3s 211ms/step - loss: 3.5248e-04 - val_loss: 4.1297e-04\n"
          ]
        },
        {
          "output_type": "execute_result",
          "data": {
            "text/plain": [
              "<keras.callbacks.History at 0x7efd707015d0>"
            ]
          },
          "metadata": {},
          "execution_count": 42
        }
      ]
    },
    {
      "cell_type": "code",
      "source": [
        "### now predicting on train and test data \n",
        "\n",
        "train_predict = model.predict(X_train)\n",
        "test_predict = model.predict(X_test)"
      ],
      "metadata": {
        "id": "Oir-SgHSHFP_"
      },
      "execution_count": 43,
      "outputs": []
    },
    {
      "cell_type": "code",
      "source": [
        "### transforming back to original form \n",
        "\n",
        "\n",
        "train_predict = scaler.inverse_transform(train_predict)\n",
        "test_predict = scaler.inverse_transform(test_predict)\n"
      ],
      "metadata": {
        "id": "MooX_GOhHyyv"
      },
      "execution_count": 44,
      "outputs": []
    },
    {
      "cell_type": "code",
      "source": [
        "## calculting the Root mean squared error performance metrics\n",
        "\n",
        "from sklearn.metrics import mean_squared_error\n",
        "math.sqrt(mean_squared_error(Y_train, train_predict))"
      ],
      "metadata": {
        "colab": {
          "base_uri": "https://localhost:8080/"
        },
        "id": "tEN0RpOGOSJS",
        "outputId": "cd392d3e-1c77-44e8-8680-1c1a6307f9d3"
      },
      "execution_count": 45,
      "outputs": [
        {
          "output_type": "execute_result",
          "data": {
            "text/plain": [
              "107.25439658972826"
            ]
          },
          "metadata": {},
          "execution_count": 45
        }
      ]
    },
    {
      "cell_type": "code",
      "source": [
        "## for the test data\n",
        "\n",
        "math.sqrt(mean_squared_error(Y_test, test_predict))"
      ],
      "metadata": {
        "colab": {
          "base_uri": "https://localhost:8080/"
        },
        "id": "-UCkZAdLO6bO",
        "outputId": "db1efd12-ee86-45b7-f0dd-c9efba005016"
      },
      "execution_count": 46,
      "outputs": [
        {
          "output_type": "execute_result",
          "data": {
            "text/plain": [
              "145.6104856229056"
            ]
          },
          "metadata": {},
          "execution_count": 46
        }
      ]
    },
    {
      "cell_type": "code",
      "source": [
        "### Plotting \n",
        "# shift train predictions for plotting\n",
        "look_back=100\n",
        "trainPredictPlot = np.empty_like(df1)\n",
        "trainPredictPlot[:, :] = np.nan\n",
        "trainPredictPlot[look_back:len(train_predict)+look_back, :] = train_predict\n",
        "\n",
        "\n",
        "# shift test predictions for plotting\n",
        "testPredictPlot = np.empty_like(df1)\n",
        "testPredictPlot[:, :] = np.nan\n",
        "testPredictPlot[len(train_predict)+(look_back*2)+1:len(df1)-1, :] = test_predict\n",
        "\n",
        "\n",
        "# plot baseline and predictions\n",
        "plt.plot(scaler.inverse_transform(df1))\n",
        "plt.plot(trainPredictPlot)\n",
        "plt.plot(testPredictPlot)\n",
        "plt.show()"
      ],
      "metadata": {
        "colab": {
          "base_uri": "https://localhost:8080/",
          "height": 265
        },
        "id": "VLsN7aI3PxTN",
        "outputId": "624530ce-06b7-445e-be0d-42052ac0b13f"
      },
      "execution_count": 47,
      "outputs": [
        {
          "output_type": "display_data",
          "data": {
            "text/plain": [
              "<Figure size 432x288 with 1 Axes>"
            ],
            "image/png": "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\n"
          },
          "metadata": {
            "needs_background": "light"
          }
        }
      ]
    },
    {
      "cell_type": "code",
      "source": [
        "### Now lets use this weapon to predict the future of the stock and trade \n",
        "### why stop at next day when we can use it to predict for the whole next month \n",
        "\n",
        "len(test_data) # comes out to be 441 so for the last 100 days -> 341 : \n",
        "x_input=test_data[ 341:].reshape(1,-1)\n",
        "x_input.shape"
      ],
      "metadata": {
        "colab": {
          "base_uri": "https://localhost:8080/"
        },
        "id": "GzlnoW3EQswK",
        "outputId": "04a1fc8a-b469-407e-9b5c-e7b9d3105ca4"
      },
      "execution_count": 48,
      "outputs": [
        {
          "output_type": "execute_result",
          "data": {
            "text/plain": [
              "(1, 100)"
            ]
          },
          "metadata": {},
          "execution_count": 48
        }
      ]
    },
    {
      "cell_type": "code",
      "source": [
        "temp_input=list(x_input)\n",
        "temp_input=temp_input[0].tolist()"
      ],
      "metadata": {
        "id": "wXpNdDyCRnFb"
      },
      "execution_count": 49,
      "outputs": []
    },
    {
      "cell_type": "code",
      "source": [
        "#  prediction for next 30 days\n",
        "from numpy import array\n",
        "\n",
        "lst_output=[]\n",
        "n_steps=99\n",
        "i=0\n",
        "while(i<31):\n",
        "    \n",
        "    if(len(temp_input)>100):\n",
        "        #print(temp_input)\n",
        "        x_input=np.array(temp_input[1:])\n",
        "        print(\"{} day input {}\".format(i,x_input))\n",
        "        x_input=x_input.reshape(1,-1)\n",
        "        x_input = x_input.reshape((1, 100, 1))\n",
        "        #print(x_input)\n",
        "        yhat = model.predict(x_input, verbose=0)\n",
        "        print(\"{} day output {}\".format(i,yhat))\n",
        "        temp_input.extend(yhat[0].tolist())\n",
        "        temp_input=temp_input[1:]\n",
        "        #print(temp_input)\n",
        "        lst_output.extend(yhat.tolist())\n",
        "        i=i+1\n",
        "    else:\n",
        "        x_input = x_input.reshape((1, 100,1))\n",
        "        yhat = model.predict(x_input, verbose=0)\n",
        "        print(yhat[0])\n",
        "        temp_input.extend(yhat[0].tolist())\n",
        "        print(len(temp_input))\n",
        "        lst_output.extend(yhat.tolist())\n",
        "        i=i+1\n",
        "    \n",
        "    "
      ],
      "metadata": {
        "colab": {
          "base_uri": "https://localhost:8080/"
        },
        "id": "siU60rq7Rt1J",
        "outputId": "2697a041-b47c-4df3-ffc5-360628a3e1a1"
      },
      "execution_count": 50,
      "outputs": [
        {
          "output_type": "stream",
          "name": "stdout",
          "text": [
            "[0.832202]\n",
            "101\n",
            "1 day input [0.90618634 0.89471427 0.87766699 0.90221936 0.89139059 0.89718023\n",
            " 0.92087488 0.94263965 0.95593438 0.94939423 0.94424788 0.94907258\n",
            " 0.9395304  0.92334084 0.94853651 0.99399593 0.9828455  0.96826418\n",
            " 0.98220221 0.9526107  0.94800043 0.99142275 0.96075909 0.9374933\n",
            " 0.91422751 0.92655731 0.89546478 0.91197598 0.90779457 0.89900289\n",
            " 0.87562989 0.86898252 0.88645867 0.90254101 0.89782352 0.79446767\n",
            " 0.75865766 0.7596226  0.79457489 0.82223652 0.79629034 0.80990672\n",
            " 0.83392302 0.82491691 0.80090061 0.81773346 0.803581   0.79746971\n",
            " 0.81483864 0.79521818 0.76712769 0.76133805 0.72059612 0.67438619\n",
            " 0.66012651 0.66881098 0.65851828 0.70151174 0.72434867 0.7650906\n",
            " 0.7870698  0.77527608 0.75029484 0.76401844 0.78106572 0.80593974\n",
            " 0.79082234 0.80529645 0.80476037 0.79425324 0.80518924 0.79135842\n",
            " 0.8015439  0.79693363 0.79478932 0.77591937 0.78374611 0.75704943\n",
            " 0.74868661 0.77281012 0.78321004 0.78621207 0.80090061 0.82684679\n",
            " 0.72874451 0.77152353 0.76133805 0.79275222 0.79028627 0.79103677\n",
            " 0.79693363 0.7932883  0.80797684 0.79682642 0.81194382 0.83220757\n",
            " 0.84689611 0.83949823 0.84518066 0.83220202]\n",
            "1 day output [[0.8238589]]\n",
            "2 day input [0.89471427 0.87766699 0.90221936 0.89139059 0.89718023 0.92087488\n",
            " 0.94263965 0.95593438 0.94939423 0.94424788 0.94907258 0.9395304\n",
            " 0.92334084 0.94853651 0.99399593 0.9828455  0.96826418 0.98220221\n",
            " 0.9526107  0.94800043 0.99142275 0.96075909 0.9374933  0.91422751\n",
            " 0.92655731 0.89546478 0.91197598 0.90779457 0.89900289 0.87562989\n",
            " 0.86898252 0.88645867 0.90254101 0.89782352 0.79446767 0.75865766\n",
            " 0.7596226  0.79457489 0.82223652 0.79629034 0.80990672 0.83392302\n",
            " 0.82491691 0.80090061 0.81773346 0.803581   0.79746971 0.81483864\n",
            " 0.79521818 0.76712769 0.76133805 0.72059612 0.67438619 0.66012651\n",
            " 0.66881098 0.65851828 0.70151174 0.72434867 0.7650906  0.7870698\n",
            " 0.77527608 0.75029484 0.76401844 0.78106572 0.80593974 0.79082234\n",
            " 0.80529645 0.80476037 0.79425324 0.80518924 0.79135842 0.8015439\n",
            " 0.79693363 0.79478932 0.77591937 0.78374611 0.75704943 0.74868661\n",
            " 0.77281012 0.78321004 0.78621207 0.80090061 0.82684679 0.72874451\n",
            " 0.77152353 0.76133805 0.79275222 0.79028627 0.79103677 0.79693363\n",
            " 0.7932883  0.80797684 0.79682642 0.81194382 0.83220757 0.84689611\n",
            " 0.83949823 0.84518066 0.83220202 0.82385892]\n",
            "2 day output [[0.8188397]]\n",
            "3 day input [0.87766699 0.90221936 0.89139059 0.89718023 0.92087488 0.94263965\n",
            " 0.95593438 0.94939423 0.94424788 0.94907258 0.9395304  0.92334084\n",
            " 0.94853651 0.99399593 0.9828455  0.96826418 0.98220221 0.9526107\n",
            " 0.94800043 0.99142275 0.96075909 0.9374933  0.91422751 0.92655731\n",
            " 0.89546478 0.91197598 0.90779457 0.89900289 0.87562989 0.86898252\n",
            " 0.88645867 0.90254101 0.89782352 0.79446767 0.75865766 0.7596226\n",
            " 0.79457489 0.82223652 0.79629034 0.80990672 0.83392302 0.82491691\n",
            " 0.80090061 0.81773346 0.803581   0.79746971 0.81483864 0.79521818\n",
            " 0.76712769 0.76133805 0.72059612 0.67438619 0.66012651 0.66881098\n",
            " 0.65851828 0.70151174 0.72434867 0.7650906  0.7870698  0.77527608\n",
            " 0.75029484 0.76401844 0.78106572 0.80593974 0.79082234 0.80529645\n",
            " 0.80476037 0.79425324 0.80518924 0.79135842 0.8015439  0.79693363\n",
            " 0.79478932 0.77591937 0.78374611 0.75704943 0.74868661 0.77281012\n",
            " 0.78321004 0.78621207 0.80090061 0.82684679 0.72874451 0.77152353\n",
            " 0.76133805 0.79275222 0.79028627 0.79103677 0.79693363 0.7932883\n",
            " 0.80797684 0.79682642 0.81194382 0.83220757 0.84689611 0.83949823\n",
            " 0.84518066 0.83220202 0.82385892 0.81883973]\n",
            "3 day output [[0.8174884]]\n",
            "4 day input [0.90221936 0.89139059 0.89718023 0.92087488 0.94263965 0.95593438\n",
            " 0.94939423 0.94424788 0.94907258 0.9395304  0.92334084 0.94853651\n",
            " 0.99399593 0.9828455  0.96826418 0.98220221 0.9526107  0.94800043\n",
            " 0.99142275 0.96075909 0.9374933  0.91422751 0.92655731 0.89546478\n",
            " 0.91197598 0.90779457 0.89900289 0.87562989 0.86898252 0.88645867\n",
            " 0.90254101 0.89782352 0.79446767 0.75865766 0.7596226  0.79457489\n",
            " 0.82223652 0.79629034 0.80990672 0.83392302 0.82491691 0.80090061\n",
            " 0.81773346 0.803581   0.79746971 0.81483864 0.79521818 0.76712769\n",
            " 0.76133805 0.72059612 0.67438619 0.66012651 0.66881098 0.65851828\n",
            " 0.70151174 0.72434867 0.7650906  0.7870698  0.77527608 0.75029484\n",
            " 0.76401844 0.78106572 0.80593974 0.79082234 0.80529645 0.80476037\n",
            " 0.79425324 0.80518924 0.79135842 0.8015439  0.79693363 0.79478932\n",
            " 0.77591937 0.78374611 0.75704943 0.74868661 0.77281012 0.78321004\n",
            " 0.78621207 0.80090061 0.82684679 0.72874451 0.77152353 0.76133805\n",
            " 0.79275222 0.79028627 0.79103677 0.79693363 0.7932883  0.80797684\n",
            " 0.79682642 0.81194382 0.83220757 0.84689611 0.83949823 0.84518066\n",
            " 0.83220202 0.82385892 0.81883973 0.81748837]\n",
            "4 day output [[0.81810945]]\n",
            "5 day input [0.89139059 0.89718023 0.92087488 0.94263965 0.95593438 0.94939423\n",
            " 0.94424788 0.94907258 0.9395304  0.92334084 0.94853651 0.99399593\n",
            " 0.9828455  0.96826418 0.98220221 0.9526107  0.94800043 0.99142275\n",
            " 0.96075909 0.9374933  0.91422751 0.92655731 0.89546478 0.91197598\n",
            " 0.90779457 0.89900289 0.87562989 0.86898252 0.88645867 0.90254101\n",
            " 0.89782352 0.79446767 0.75865766 0.7596226  0.79457489 0.82223652\n",
            " 0.79629034 0.80990672 0.83392302 0.82491691 0.80090061 0.81773346\n",
            " 0.803581   0.79746971 0.81483864 0.79521818 0.76712769 0.76133805\n",
            " 0.72059612 0.67438619 0.66012651 0.66881098 0.65851828 0.70151174\n",
            " 0.72434867 0.7650906  0.7870698  0.77527608 0.75029484 0.76401844\n",
            " 0.78106572 0.80593974 0.79082234 0.80529645 0.80476037 0.79425324\n",
            " 0.80518924 0.79135842 0.8015439  0.79693363 0.79478932 0.77591937\n",
            " 0.78374611 0.75704943 0.74868661 0.77281012 0.78321004 0.78621207\n",
            " 0.80090061 0.82684679 0.72874451 0.77152353 0.76133805 0.79275222\n",
            " 0.79028627 0.79103677 0.79693363 0.7932883  0.80797684 0.79682642\n",
            " 0.81194382 0.83220757 0.84689611 0.83949823 0.84518066 0.83220202\n",
            " 0.82385892 0.81883973 0.81748837 0.81810945]\n",
            "5 day output [[0.8191306]]\n",
            "6 day input [0.89718023 0.92087488 0.94263965 0.95593438 0.94939423 0.94424788\n",
            " 0.94907258 0.9395304  0.92334084 0.94853651 0.99399593 0.9828455\n",
            " 0.96826418 0.98220221 0.9526107  0.94800043 0.99142275 0.96075909\n",
            " 0.9374933  0.91422751 0.92655731 0.89546478 0.91197598 0.90779457\n",
            " 0.89900289 0.87562989 0.86898252 0.88645867 0.90254101 0.89782352\n",
            " 0.79446767 0.75865766 0.7596226  0.79457489 0.82223652 0.79629034\n",
            " 0.80990672 0.83392302 0.82491691 0.80090061 0.81773346 0.803581\n",
            " 0.79746971 0.81483864 0.79521818 0.76712769 0.76133805 0.72059612\n",
            " 0.67438619 0.66012651 0.66881098 0.65851828 0.70151174 0.72434867\n",
            " 0.7650906  0.7870698  0.77527608 0.75029484 0.76401844 0.78106572\n",
            " 0.80593974 0.79082234 0.80529645 0.80476037 0.79425324 0.80518924\n",
            " 0.79135842 0.8015439  0.79693363 0.79478932 0.77591937 0.78374611\n",
            " 0.75704943 0.74868661 0.77281012 0.78321004 0.78621207 0.80090061\n",
            " 0.82684679 0.72874451 0.77152353 0.76133805 0.79275222 0.79028627\n",
            " 0.79103677 0.79693363 0.7932883  0.80797684 0.79682642 0.81194382\n",
            " 0.83220757 0.84689611 0.83949823 0.84518066 0.83220202 0.82385892\n",
            " 0.81883973 0.81748837 0.81810945 0.8191306 ]\n",
            "6 day output [[0.81960523]]\n",
            "7 day input [0.92087488 0.94263965 0.95593438 0.94939423 0.94424788 0.94907258\n",
            " 0.9395304  0.92334084 0.94853651 0.99399593 0.9828455  0.96826418\n",
            " 0.98220221 0.9526107  0.94800043 0.99142275 0.96075909 0.9374933\n",
            " 0.91422751 0.92655731 0.89546478 0.91197598 0.90779457 0.89900289\n",
            " 0.87562989 0.86898252 0.88645867 0.90254101 0.89782352 0.79446767\n",
            " 0.75865766 0.7596226  0.79457489 0.82223652 0.79629034 0.80990672\n",
            " 0.83392302 0.82491691 0.80090061 0.81773346 0.803581   0.79746971\n",
            " 0.81483864 0.79521818 0.76712769 0.76133805 0.72059612 0.67438619\n",
            " 0.66012651 0.66881098 0.65851828 0.70151174 0.72434867 0.7650906\n",
            " 0.7870698  0.77527608 0.75029484 0.76401844 0.78106572 0.80593974\n",
            " 0.79082234 0.80529645 0.80476037 0.79425324 0.80518924 0.79135842\n",
            " 0.8015439  0.79693363 0.79478932 0.77591937 0.78374611 0.75704943\n",
            " 0.74868661 0.77281012 0.78321004 0.78621207 0.80090061 0.82684679\n",
            " 0.72874451 0.77152353 0.76133805 0.79275222 0.79028627 0.79103677\n",
            " 0.79693363 0.7932883  0.80797684 0.79682642 0.81194382 0.83220757\n",
            " 0.84689611 0.83949823 0.84518066 0.83220202 0.82385892 0.81883973\n",
            " 0.81748837 0.81810945 0.8191306  0.81960523]\n",
            "7 day output [[0.8192486]]\n",
            "8 day input [0.94263965 0.95593438 0.94939423 0.94424788 0.94907258 0.9395304\n",
            " 0.92334084 0.94853651 0.99399593 0.9828455  0.96826418 0.98220221\n",
            " 0.9526107  0.94800043 0.99142275 0.96075909 0.9374933  0.91422751\n",
            " 0.92655731 0.89546478 0.91197598 0.90779457 0.89900289 0.87562989\n",
            " 0.86898252 0.88645867 0.90254101 0.89782352 0.79446767 0.75865766\n",
            " 0.7596226  0.79457489 0.82223652 0.79629034 0.80990672 0.83392302\n",
            " 0.82491691 0.80090061 0.81773346 0.803581   0.79746971 0.81483864\n",
            " 0.79521818 0.76712769 0.76133805 0.72059612 0.67438619 0.66012651\n",
            " 0.66881098 0.65851828 0.70151174 0.72434867 0.7650906  0.7870698\n",
            " 0.77527608 0.75029484 0.76401844 0.78106572 0.80593974 0.79082234\n",
            " 0.80529645 0.80476037 0.79425324 0.80518924 0.79135842 0.8015439\n",
            " 0.79693363 0.79478932 0.77591937 0.78374611 0.75704943 0.74868661\n",
            " 0.77281012 0.78321004 0.78621207 0.80090061 0.82684679 0.72874451\n",
            " 0.77152353 0.76133805 0.79275222 0.79028627 0.79103677 0.79693363\n",
            " 0.7932883  0.80797684 0.79682642 0.81194382 0.83220757 0.84689611\n",
            " 0.83949823 0.84518066 0.83220202 0.82385892 0.81883973 0.81748837\n",
            " 0.81810945 0.8191306  0.81960523 0.81924862]\n",
            "8 day output [[0.81821746]]\n",
            "9 day input [0.95593438 0.94939423 0.94424788 0.94907258 0.9395304  0.92334084\n",
            " 0.94853651 0.99399593 0.9828455  0.96826418 0.98220221 0.9526107\n",
            " 0.94800043 0.99142275 0.96075909 0.9374933  0.91422751 0.92655731\n",
            " 0.89546478 0.91197598 0.90779457 0.89900289 0.87562989 0.86898252\n",
            " 0.88645867 0.90254101 0.89782352 0.79446767 0.75865766 0.7596226\n",
            " 0.79457489 0.82223652 0.79629034 0.80990672 0.83392302 0.82491691\n",
            " 0.80090061 0.81773346 0.803581   0.79746971 0.81483864 0.79521818\n",
            " 0.76712769 0.76133805 0.72059612 0.67438619 0.66012651 0.66881098\n",
            " 0.65851828 0.70151174 0.72434867 0.7650906  0.7870698  0.77527608\n",
            " 0.75029484 0.76401844 0.78106572 0.80593974 0.79082234 0.80529645\n",
            " 0.80476037 0.79425324 0.80518924 0.79135842 0.8015439  0.79693363\n",
            " 0.79478932 0.77591937 0.78374611 0.75704943 0.74868661 0.77281012\n",
            " 0.78321004 0.78621207 0.80090061 0.82684679 0.72874451 0.77152353\n",
            " 0.76133805 0.79275222 0.79028627 0.79103677 0.79693363 0.7932883\n",
            " 0.80797684 0.79682642 0.81194382 0.83220757 0.84689611 0.83949823\n",
            " 0.84518066 0.83220202 0.82385892 0.81883973 0.81748837 0.81810945\n",
            " 0.8191306  0.81960523 0.81924862 0.81821746]\n",
            "9 day output [[0.81684077]]\n",
            "10 day input [0.94939423 0.94424788 0.94907258 0.9395304  0.92334084 0.94853651\n",
            " 0.99399593 0.9828455  0.96826418 0.98220221 0.9526107  0.94800043\n",
            " 0.99142275 0.96075909 0.9374933  0.91422751 0.92655731 0.89546478\n",
            " 0.91197598 0.90779457 0.89900289 0.87562989 0.86898252 0.88645867\n",
            " 0.90254101 0.89782352 0.79446767 0.75865766 0.7596226  0.79457489\n",
            " 0.82223652 0.79629034 0.80990672 0.83392302 0.82491691 0.80090061\n",
            " 0.81773346 0.803581   0.79746971 0.81483864 0.79521818 0.76712769\n",
            " 0.76133805 0.72059612 0.67438619 0.66012651 0.66881098 0.65851828\n",
            " 0.70151174 0.72434867 0.7650906  0.7870698  0.77527608 0.75029484\n",
            " 0.76401844 0.78106572 0.80593974 0.79082234 0.80529645 0.80476037\n",
            " 0.79425324 0.80518924 0.79135842 0.8015439  0.79693363 0.79478932\n",
            " 0.77591937 0.78374611 0.75704943 0.74868661 0.77281012 0.78321004\n",
            " 0.78621207 0.80090061 0.82684679 0.72874451 0.77152353 0.76133805\n",
            " 0.79275222 0.79028627 0.79103677 0.79693363 0.7932883  0.80797684\n",
            " 0.79682642 0.81194382 0.83220757 0.84689611 0.83949823 0.84518066\n",
            " 0.83220202 0.82385892 0.81883973 0.81748837 0.81810945 0.8191306\n",
            " 0.81960523 0.81924862 0.81821746 0.81684077]\n",
            "10 day output [[0.8154203]]\n",
            "11 day input [0.94424788 0.94907258 0.9395304  0.92334084 0.94853651 0.99399593\n",
            " 0.9828455  0.96826418 0.98220221 0.9526107  0.94800043 0.99142275\n",
            " 0.96075909 0.9374933  0.91422751 0.92655731 0.89546478 0.91197598\n",
            " 0.90779457 0.89900289 0.87562989 0.86898252 0.88645867 0.90254101\n",
            " 0.89782352 0.79446767 0.75865766 0.7596226  0.79457489 0.82223652\n",
            " 0.79629034 0.80990672 0.83392302 0.82491691 0.80090061 0.81773346\n",
            " 0.803581   0.79746971 0.81483864 0.79521818 0.76712769 0.76133805\n",
            " 0.72059612 0.67438619 0.66012651 0.66881098 0.65851828 0.70151174\n",
            " 0.72434867 0.7650906  0.7870698  0.77527608 0.75029484 0.76401844\n",
            " 0.78106572 0.80593974 0.79082234 0.80529645 0.80476037 0.79425324\n",
            " 0.80518924 0.79135842 0.8015439  0.79693363 0.79478932 0.77591937\n",
            " 0.78374611 0.75704943 0.74868661 0.77281012 0.78321004 0.78621207\n",
            " 0.80090061 0.82684679 0.72874451 0.77152353 0.76133805 0.79275222\n",
            " 0.79028627 0.79103677 0.79693363 0.7932883  0.80797684 0.79682642\n",
            " 0.81194382 0.83220757 0.84689611 0.83949823 0.84518066 0.83220202\n",
            " 0.82385892 0.81883973 0.81748837 0.81810945 0.8191306  0.81960523\n",
            " 0.81924862 0.81821746 0.81684077 0.81542033]\n",
            "11 day output [[0.8141386]]\n",
            "12 day input [0.94907258 0.9395304  0.92334084 0.94853651 0.99399593 0.9828455\n",
            " 0.96826418 0.98220221 0.9526107  0.94800043 0.99142275 0.96075909\n",
            " 0.9374933  0.91422751 0.92655731 0.89546478 0.91197598 0.90779457\n",
            " 0.89900289 0.87562989 0.86898252 0.88645867 0.90254101 0.89782352\n",
            " 0.79446767 0.75865766 0.7596226  0.79457489 0.82223652 0.79629034\n",
            " 0.80990672 0.83392302 0.82491691 0.80090061 0.81773346 0.803581\n",
            " 0.79746971 0.81483864 0.79521818 0.76712769 0.76133805 0.72059612\n",
            " 0.67438619 0.66012651 0.66881098 0.65851828 0.70151174 0.72434867\n",
            " 0.7650906  0.7870698  0.77527608 0.75029484 0.76401844 0.78106572\n",
            " 0.80593974 0.79082234 0.80529645 0.80476037 0.79425324 0.80518924\n",
            " 0.79135842 0.8015439  0.79693363 0.79478932 0.77591937 0.78374611\n",
            " 0.75704943 0.74868661 0.77281012 0.78321004 0.78621207 0.80090061\n",
            " 0.82684679 0.72874451 0.77152353 0.76133805 0.79275222 0.79028627\n",
            " 0.79103677 0.79693363 0.7932883  0.80797684 0.79682642 0.81194382\n",
            " 0.83220757 0.84689611 0.83949823 0.84518066 0.83220202 0.82385892\n",
            " 0.81883973 0.81748837 0.81810945 0.8191306  0.81960523 0.81924862\n",
            " 0.81821746 0.81684077 0.81542033 0.81413859]\n",
            "12 day output [[0.8130521]]\n",
            "13 day input [0.9395304  0.92334084 0.94853651 0.99399593 0.9828455  0.96826418\n",
            " 0.98220221 0.9526107  0.94800043 0.99142275 0.96075909 0.9374933\n",
            " 0.91422751 0.92655731 0.89546478 0.91197598 0.90779457 0.89900289\n",
            " 0.87562989 0.86898252 0.88645867 0.90254101 0.89782352 0.79446767\n",
            " 0.75865766 0.7596226  0.79457489 0.82223652 0.79629034 0.80990672\n",
            " 0.83392302 0.82491691 0.80090061 0.81773346 0.803581   0.79746971\n",
            " 0.81483864 0.79521818 0.76712769 0.76133805 0.72059612 0.67438619\n",
            " 0.66012651 0.66881098 0.65851828 0.70151174 0.72434867 0.7650906\n",
            " 0.7870698  0.77527608 0.75029484 0.76401844 0.78106572 0.80593974\n",
            " 0.79082234 0.80529645 0.80476037 0.79425324 0.80518924 0.79135842\n",
            " 0.8015439  0.79693363 0.79478932 0.77591937 0.78374611 0.75704943\n",
            " 0.74868661 0.77281012 0.78321004 0.78621207 0.80090061 0.82684679\n",
            " 0.72874451 0.77152353 0.76133805 0.79275222 0.79028627 0.79103677\n",
            " 0.79693363 0.7932883  0.80797684 0.79682642 0.81194382 0.83220757\n",
            " 0.84689611 0.83949823 0.84518066 0.83220202 0.82385892 0.81883973\n",
            " 0.81748837 0.81810945 0.8191306  0.81960523 0.81924862 0.81821746\n",
            " 0.81684077 0.81542033 0.81413859 0.81305212]\n",
            "13 day output [[0.81213546]]\n",
            "14 day input [0.92334084 0.94853651 0.99399593 0.9828455  0.96826418 0.98220221\n",
            " 0.9526107  0.94800043 0.99142275 0.96075909 0.9374933  0.91422751\n",
            " 0.92655731 0.89546478 0.91197598 0.90779457 0.89900289 0.87562989\n",
            " 0.86898252 0.88645867 0.90254101 0.89782352 0.79446767 0.75865766\n",
            " 0.7596226  0.79457489 0.82223652 0.79629034 0.80990672 0.83392302\n",
            " 0.82491691 0.80090061 0.81773346 0.803581   0.79746971 0.81483864\n",
            " 0.79521818 0.76712769 0.76133805 0.72059612 0.67438619 0.66012651\n",
            " 0.66881098 0.65851828 0.70151174 0.72434867 0.7650906  0.7870698\n",
            " 0.77527608 0.75029484 0.76401844 0.78106572 0.80593974 0.79082234\n",
            " 0.80529645 0.80476037 0.79425324 0.80518924 0.79135842 0.8015439\n",
            " 0.79693363 0.79478932 0.77591937 0.78374611 0.75704943 0.74868661\n",
            " 0.77281012 0.78321004 0.78621207 0.80090061 0.82684679 0.72874451\n",
            " 0.77152353 0.76133805 0.79275222 0.79028627 0.79103677 0.79693363\n",
            " 0.7932883  0.80797684 0.79682642 0.81194382 0.83220757 0.84689611\n",
            " 0.83949823 0.84518066 0.83220202 0.82385892 0.81883973 0.81748837\n",
            " 0.81810945 0.8191306  0.81960523 0.81924862 0.81821746 0.81684077\n",
            " 0.81542033 0.81413859 0.81305212 0.81213546]\n",
            "14 day output [[0.81132823]]\n",
            "15 day input [0.94853651 0.99399593 0.9828455  0.96826418 0.98220221 0.9526107\n",
            " 0.94800043 0.99142275 0.96075909 0.9374933  0.91422751 0.92655731\n",
            " 0.89546478 0.91197598 0.90779457 0.89900289 0.87562989 0.86898252\n",
            " 0.88645867 0.90254101 0.89782352 0.79446767 0.75865766 0.7596226\n",
            " 0.79457489 0.82223652 0.79629034 0.80990672 0.83392302 0.82491691\n",
            " 0.80090061 0.81773346 0.803581   0.79746971 0.81483864 0.79521818\n",
            " 0.76712769 0.76133805 0.72059612 0.67438619 0.66012651 0.66881098\n",
            " 0.65851828 0.70151174 0.72434867 0.7650906  0.7870698  0.77527608\n",
            " 0.75029484 0.76401844 0.78106572 0.80593974 0.79082234 0.80529645\n",
            " 0.80476037 0.79425324 0.80518924 0.79135842 0.8015439  0.79693363\n",
            " 0.79478932 0.77591937 0.78374611 0.75704943 0.74868661 0.77281012\n",
            " 0.78321004 0.78621207 0.80090061 0.82684679 0.72874451 0.77152353\n",
            " 0.76133805 0.79275222 0.79028627 0.79103677 0.79693363 0.7932883\n",
            " 0.80797684 0.79682642 0.81194382 0.83220757 0.84689611 0.83949823\n",
            " 0.84518066 0.83220202 0.82385892 0.81883973 0.81748837 0.81810945\n",
            " 0.8191306  0.81960523 0.81924862 0.81821746 0.81684077 0.81542033\n",
            " 0.81413859 0.81305212 0.81213546 0.81132823]\n",
            "15 day output [[0.8105748]]\n",
            "16 day input [0.99399593 0.9828455  0.96826418 0.98220221 0.9526107  0.94800043\n",
            " 0.99142275 0.96075909 0.9374933  0.91422751 0.92655731 0.89546478\n",
            " 0.91197598 0.90779457 0.89900289 0.87562989 0.86898252 0.88645867\n",
            " 0.90254101 0.89782352 0.79446767 0.75865766 0.7596226  0.79457489\n",
            " 0.82223652 0.79629034 0.80990672 0.83392302 0.82491691 0.80090061\n",
            " 0.81773346 0.803581   0.79746971 0.81483864 0.79521818 0.76712769\n",
            " 0.76133805 0.72059612 0.67438619 0.66012651 0.66881098 0.65851828\n",
            " 0.70151174 0.72434867 0.7650906  0.7870698  0.77527608 0.75029484\n",
            " 0.76401844 0.78106572 0.80593974 0.79082234 0.80529645 0.80476037\n",
            " 0.79425324 0.80518924 0.79135842 0.8015439  0.79693363 0.79478932\n",
            " 0.77591937 0.78374611 0.75704943 0.74868661 0.77281012 0.78321004\n",
            " 0.78621207 0.80090061 0.82684679 0.72874451 0.77152353 0.76133805\n",
            " 0.79275222 0.79028627 0.79103677 0.79693363 0.7932883  0.80797684\n",
            " 0.79682642 0.81194382 0.83220757 0.84689611 0.83949823 0.84518066\n",
            " 0.83220202 0.82385892 0.81883973 0.81748837 0.81810945 0.8191306\n",
            " 0.81960523 0.81924862 0.81821746 0.81684077 0.81542033 0.81413859\n",
            " 0.81305212 0.81213546 0.81132823 0.81057483]\n",
            "16 day output [[0.80983984]]\n",
            "17 day input [0.9828455  0.96826418 0.98220221 0.9526107  0.94800043 0.99142275\n",
            " 0.96075909 0.9374933  0.91422751 0.92655731 0.89546478 0.91197598\n",
            " 0.90779457 0.89900289 0.87562989 0.86898252 0.88645867 0.90254101\n",
            " 0.89782352 0.79446767 0.75865766 0.7596226  0.79457489 0.82223652\n",
            " 0.79629034 0.80990672 0.83392302 0.82491691 0.80090061 0.81773346\n",
            " 0.803581   0.79746971 0.81483864 0.79521818 0.76712769 0.76133805\n",
            " 0.72059612 0.67438619 0.66012651 0.66881098 0.65851828 0.70151174\n",
            " 0.72434867 0.7650906  0.7870698  0.77527608 0.75029484 0.76401844\n",
            " 0.78106572 0.80593974 0.79082234 0.80529645 0.80476037 0.79425324\n",
            " 0.80518924 0.79135842 0.8015439  0.79693363 0.79478932 0.77591937\n",
            " 0.78374611 0.75704943 0.74868661 0.77281012 0.78321004 0.78621207\n",
            " 0.80090061 0.82684679 0.72874451 0.77152353 0.76133805 0.79275222\n",
            " 0.79028627 0.79103677 0.79693363 0.7932883  0.80797684 0.79682642\n",
            " 0.81194382 0.83220757 0.84689611 0.83949823 0.84518066 0.83220202\n",
            " 0.82385892 0.81883973 0.81748837 0.81810945 0.8191306  0.81960523\n",
            " 0.81924862 0.81821746 0.81684077 0.81542033 0.81413859 0.81305212\n",
            " 0.81213546 0.81132823 0.81057483 0.80983984]\n",
            "17 day output [[0.8091099]]\n",
            "18 day input [0.96826418 0.98220221 0.9526107  0.94800043 0.99142275 0.96075909\n",
            " 0.9374933  0.91422751 0.92655731 0.89546478 0.91197598 0.90779457\n",
            " 0.89900289 0.87562989 0.86898252 0.88645867 0.90254101 0.89782352\n",
            " 0.79446767 0.75865766 0.7596226  0.79457489 0.82223652 0.79629034\n",
            " 0.80990672 0.83392302 0.82491691 0.80090061 0.81773346 0.803581\n",
            " 0.79746971 0.81483864 0.79521818 0.76712769 0.76133805 0.72059612\n",
            " 0.67438619 0.66012651 0.66881098 0.65851828 0.70151174 0.72434867\n",
            " 0.7650906  0.7870698  0.77527608 0.75029484 0.76401844 0.78106572\n",
            " 0.80593974 0.79082234 0.80529645 0.80476037 0.79425324 0.80518924\n",
            " 0.79135842 0.8015439  0.79693363 0.79478932 0.77591937 0.78374611\n",
            " 0.75704943 0.74868661 0.77281012 0.78321004 0.78621207 0.80090061\n",
            " 0.82684679 0.72874451 0.77152353 0.76133805 0.79275222 0.79028627\n",
            " 0.79103677 0.79693363 0.7932883  0.80797684 0.79682642 0.81194382\n",
            " 0.83220757 0.84689611 0.83949823 0.84518066 0.83220202 0.82385892\n",
            " 0.81883973 0.81748837 0.81810945 0.8191306  0.81960523 0.81924862\n",
            " 0.81821746 0.81684077 0.81542033 0.81413859 0.81305212 0.81213546\n",
            " 0.81132823 0.81057483 0.80983984 0.80910993]\n",
            "18 day output [[0.8083869]]\n",
            "19 day input [0.98220221 0.9526107  0.94800043 0.99142275 0.96075909 0.9374933\n",
            " 0.91422751 0.92655731 0.89546478 0.91197598 0.90779457 0.89900289\n",
            " 0.87562989 0.86898252 0.88645867 0.90254101 0.89782352 0.79446767\n",
            " 0.75865766 0.7596226  0.79457489 0.82223652 0.79629034 0.80990672\n",
            " 0.83392302 0.82491691 0.80090061 0.81773346 0.803581   0.79746971\n",
            " 0.81483864 0.79521818 0.76712769 0.76133805 0.72059612 0.67438619\n",
            " 0.66012651 0.66881098 0.65851828 0.70151174 0.72434867 0.7650906\n",
            " 0.7870698  0.77527608 0.75029484 0.76401844 0.78106572 0.80593974\n",
            " 0.79082234 0.80529645 0.80476037 0.79425324 0.80518924 0.79135842\n",
            " 0.8015439  0.79693363 0.79478932 0.77591937 0.78374611 0.75704943\n",
            " 0.74868661 0.77281012 0.78321004 0.78621207 0.80090061 0.82684679\n",
            " 0.72874451 0.77152353 0.76133805 0.79275222 0.79028627 0.79103677\n",
            " 0.79693363 0.7932883  0.80797684 0.79682642 0.81194382 0.83220757\n",
            " 0.84689611 0.83949823 0.84518066 0.83220202 0.82385892 0.81883973\n",
            " 0.81748837 0.81810945 0.8191306  0.81960523 0.81924862 0.81821746\n",
            " 0.81684077 0.81542033 0.81413859 0.81305212 0.81213546 0.81132823\n",
            " 0.81057483 0.80983984 0.80910993 0.80838692]\n",
            "19 day output [[0.8076777]]\n",
            "20 day input [0.9526107  0.94800043 0.99142275 0.96075909 0.9374933  0.91422751\n",
            " 0.92655731 0.89546478 0.91197598 0.90779457 0.89900289 0.87562989\n",
            " 0.86898252 0.88645867 0.90254101 0.89782352 0.79446767 0.75865766\n",
            " 0.7596226  0.79457489 0.82223652 0.79629034 0.80990672 0.83392302\n",
            " 0.82491691 0.80090061 0.81773346 0.803581   0.79746971 0.81483864\n",
            " 0.79521818 0.76712769 0.76133805 0.72059612 0.67438619 0.66012651\n",
            " 0.66881098 0.65851828 0.70151174 0.72434867 0.7650906  0.7870698\n",
            " 0.77527608 0.75029484 0.76401844 0.78106572 0.80593974 0.79082234\n",
            " 0.80529645 0.80476037 0.79425324 0.80518924 0.79135842 0.8015439\n",
            " 0.79693363 0.79478932 0.77591937 0.78374611 0.75704943 0.74868661\n",
            " 0.77281012 0.78321004 0.78621207 0.80090061 0.82684679 0.72874451\n",
            " 0.77152353 0.76133805 0.79275222 0.79028627 0.79103677 0.79693363\n",
            " 0.7932883  0.80797684 0.79682642 0.81194382 0.83220757 0.84689611\n",
            " 0.83949823 0.84518066 0.83220202 0.82385892 0.81883973 0.81748837\n",
            " 0.81810945 0.8191306  0.81960523 0.81924862 0.81821746 0.81684077\n",
            " 0.81542033 0.81413859 0.81305212 0.81213546 0.81132823 0.81057483\n",
            " 0.80983984 0.80910993 0.80838692 0.80767769]\n",
            "20 day output [[0.80698925]]\n",
            "21 day input [0.94800043 0.99142275 0.96075909 0.9374933  0.91422751 0.92655731\n",
            " 0.89546478 0.91197598 0.90779457 0.89900289 0.87562989 0.86898252\n",
            " 0.88645867 0.90254101 0.89782352 0.79446767 0.75865766 0.7596226\n",
            " 0.79457489 0.82223652 0.79629034 0.80990672 0.83392302 0.82491691\n",
            " 0.80090061 0.81773346 0.803581   0.79746971 0.81483864 0.79521818\n",
            " 0.76712769 0.76133805 0.72059612 0.67438619 0.66012651 0.66881098\n",
            " 0.65851828 0.70151174 0.72434867 0.7650906  0.7870698  0.77527608\n",
            " 0.75029484 0.76401844 0.78106572 0.80593974 0.79082234 0.80529645\n",
            " 0.80476037 0.79425324 0.80518924 0.79135842 0.8015439  0.79693363\n",
            " 0.79478932 0.77591937 0.78374611 0.75704943 0.74868661 0.77281012\n",
            " 0.78321004 0.78621207 0.80090061 0.82684679 0.72874451 0.77152353\n",
            " 0.76133805 0.79275222 0.79028627 0.79103677 0.79693363 0.7932883\n",
            " 0.80797684 0.79682642 0.81194382 0.83220757 0.84689611 0.83949823\n",
            " 0.84518066 0.83220202 0.82385892 0.81883973 0.81748837 0.81810945\n",
            " 0.8191306  0.81960523 0.81924862 0.81821746 0.81684077 0.81542033\n",
            " 0.81413859 0.81305212 0.81213546 0.81132823 0.81057483 0.80983984\n",
            " 0.80910993 0.80838692 0.80767769 0.80698925]\n",
            "21 day output [[0.80632484]]\n",
            "22 day input [0.99142275 0.96075909 0.9374933  0.91422751 0.92655731 0.89546478\n",
            " 0.91197598 0.90779457 0.89900289 0.87562989 0.86898252 0.88645867\n",
            " 0.90254101 0.89782352 0.79446767 0.75865766 0.7596226  0.79457489\n",
            " 0.82223652 0.79629034 0.80990672 0.83392302 0.82491691 0.80090061\n",
            " 0.81773346 0.803581   0.79746971 0.81483864 0.79521818 0.76712769\n",
            " 0.76133805 0.72059612 0.67438619 0.66012651 0.66881098 0.65851828\n",
            " 0.70151174 0.72434867 0.7650906  0.7870698  0.77527608 0.75029484\n",
            " 0.76401844 0.78106572 0.80593974 0.79082234 0.80529645 0.80476037\n",
            " 0.79425324 0.80518924 0.79135842 0.8015439  0.79693363 0.79478932\n",
            " 0.77591937 0.78374611 0.75704943 0.74868661 0.77281012 0.78321004\n",
            " 0.78621207 0.80090061 0.82684679 0.72874451 0.77152353 0.76133805\n",
            " 0.79275222 0.79028627 0.79103677 0.79693363 0.7932883  0.80797684\n",
            " 0.79682642 0.81194382 0.83220757 0.84689611 0.83949823 0.84518066\n",
            " 0.83220202 0.82385892 0.81883973 0.81748837 0.81810945 0.8191306\n",
            " 0.81960523 0.81924862 0.81821746 0.81684077 0.81542033 0.81413859\n",
            " 0.81305212 0.81213546 0.81132823 0.81057483 0.80983984 0.80910993\n",
            " 0.80838692 0.80767769 0.80698925 0.80632484]\n",
            "22 day output [[0.80568343]]\n",
            "23 day input [0.96075909 0.9374933  0.91422751 0.92655731 0.89546478 0.91197598\n",
            " 0.90779457 0.89900289 0.87562989 0.86898252 0.88645867 0.90254101\n",
            " 0.89782352 0.79446767 0.75865766 0.7596226  0.79457489 0.82223652\n",
            " 0.79629034 0.80990672 0.83392302 0.82491691 0.80090061 0.81773346\n",
            " 0.803581   0.79746971 0.81483864 0.79521818 0.76712769 0.76133805\n",
            " 0.72059612 0.67438619 0.66012651 0.66881098 0.65851828 0.70151174\n",
            " 0.72434867 0.7650906  0.7870698  0.77527608 0.75029484 0.76401844\n",
            " 0.78106572 0.80593974 0.79082234 0.80529645 0.80476037 0.79425324\n",
            " 0.80518924 0.79135842 0.8015439  0.79693363 0.79478932 0.77591937\n",
            " 0.78374611 0.75704943 0.74868661 0.77281012 0.78321004 0.78621207\n",
            " 0.80090061 0.82684679 0.72874451 0.77152353 0.76133805 0.79275222\n",
            " 0.79028627 0.79103677 0.79693363 0.7932883  0.80797684 0.79682642\n",
            " 0.81194382 0.83220757 0.84689611 0.83949823 0.84518066 0.83220202\n",
            " 0.82385892 0.81883973 0.81748837 0.81810945 0.8191306  0.81960523\n",
            " 0.81924862 0.81821746 0.81684077 0.81542033 0.81413859 0.81305212\n",
            " 0.81213546 0.81132823 0.81057483 0.80983984 0.80910993 0.80838692\n",
            " 0.80767769 0.80698925 0.80632484 0.80568343]\n",
            "23 day output [[0.80506194]]\n",
            "24 day input [0.9374933  0.91422751 0.92655731 0.89546478 0.91197598 0.90779457\n",
            " 0.89900289 0.87562989 0.86898252 0.88645867 0.90254101 0.89782352\n",
            " 0.79446767 0.75865766 0.7596226  0.79457489 0.82223652 0.79629034\n",
            " 0.80990672 0.83392302 0.82491691 0.80090061 0.81773346 0.803581\n",
            " 0.79746971 0.81483864 0.79521818 0.76712769 0.76133805 0.72059612\n",
            " 0.67438619 0.66012651 0.66881098 0.65851828 0.70151174 0.72434867\n",
            " 0.7650906  0.7870698  0.77527608 0.75029484 0.76401844 0.78106572\n",
            " 0.80593974 0.79082234 0.80529645 0.80476037 0.79425324 0.80518924\n",
            " 0.79135842 0.8015439  0.79693363 0.79478932 0.77591937 0.78374611\n",
            " 0.75704943 0.74868661 0.77281012 0.78321004 0.78621207 0.80090061\n",
            " 0.82684679 0.72874451 0.77152353 0.76133805 0.79275222 0.79028627\n",
            " 0.79103677 0.79693363 0.7932883  0.80797684 0.79682642 0.81194382\n",
            " 0.83220757 0.84689611 0.83949823 0.84518066 0.83220202 0.82385892\n",
            " 0.81883973 0.81748837 0.81810945 0.8191306  0.81960523 0.81924862\n",
            " 0.81821746 0.81684077 0.81542033 0.81413859 0.81305212 0.81213546\n",
            " 0.81132823 0.81057483 0.80983984 0.80910993 0.80838692 0.80767769\n",
            " 0.80698925 0.80632484 0.80568343 0.80506194]\n",
            "24 day output [[0.80445623]]\n",
            "25 day input [0.91422751 0.92655731 0.89546478 0.91197598 0.90779457 0.89900289\n",
            " 0.87562989 0.86898252 0.88645867 0.90254101 0.89782352 0.79446767\n",
            " 0.75865766 0.7596226  0.79457489 0.82223652 0.79629034 0.80990672\n",
            " 0.83392302 0.82491691 0.80090061 0.81773346 0.803581   0.79746971\n",
            " 0.81483864 0.79521818 0.76712769 0.76133805 0.72059612 0.67438619\n",
            " 0.66012651 0.66881098 0.65851828 0.70151174 0.72434867 0.7650906\n",
            " 0.7870698  0.77527608 0.75029484 0.76401844 0.78106572 0.80593974\n",
            " 0.79082234 0.80529645 0.80476037 0.79425324 0.80518924 0.79135842\n",
            " 0.8015439  0.79693363 0.79478932 0.77591937 0.78374611 0.75704943\n",
            " 0.74868661 0.77281012 0.78321004 0.78621207 0.80090061 0.82684679\n",
            " 0.72874451 0.77152353 0.76133805 0.79275222 0.79028627 0.79103677\n",
            " 0.79693363 0.7932883  0.80797684 0.79682642 0.81194382 0.83220757\n",
            " 0.84689611 0.83949823 0.84518066 0.83220202 0.82385892 0.81883973\n",
            " 0.81748837 0.81810945 0.8191306  0.81960523 0.81924862 0.81821746\n",
            " 0.81684077 0.81542033 0.81413859 0.81305212 0.81213546 0.81132823\n",
            " 0.81057483 0.80983984 0.80910993 0.80838692 0.80767769 0.80698925\n",
            " 0.80632484 0.80568343 0.80506194 0.80445623]\n",
            "25 day output [[0.80386317]]\n",
            "26 day input [0.92655731 0.89546478 0.91197598 0.90779457 0.89900289 0.87562989\n",
            " 0.86898252 0.88645867 0.90254101 0.89782352 0.79446767 0.75865766\n",
            " 0.7596226  0.79457489 0.82223652 0.79629034 0.80990672 0.83392302\n",
            " 0.82491691 0.80090061 0.81773346 0.803581   0.79746971 0.81483864\n",
            " 0.79521818 0.76712769 0.76133805 0.72059612 0.67438619 0.66012651\n",
            " 0.66881098 0.65851828 0.70151174 0.72434867 0.7650906  0.7870698\n",
            " 0.77527608 0.75029484 0.76401844 0.78106572 0.80593974 0.79082234\n",
            " 0.80529645 0.80476037 0.79425324 0.80518924 0.79135842 0.8015439\n",
            " 0.79693363 0.79478932 0.77591937 0.78374611 0.75704943 0.74868661\n",
            " 0.77281012 0.78321004 0.78621207 0.80090061 0.82684679 0.72874451\n",
            " 0.77152353 0.76133805 0.79275222 0.79028627 0.79103677 0.79693363\n",
            " 0.7932883  0.80797684 0.79682642 0.81194382 0.83220757 0.84689611\n",
            " 0.83949823 0.84518066 0.83220202 0.82385892 0.81883973 0.81748837\n",
            " 0.81810945 0.8191306  0.81960523 0.81924862 0.81821746 0.81684077\n",
            " 0.81542033 0.81413859 0.81305212 0.81213546 0.81132823 0.81057483\n",
            " 0.80983984 0.80910993 0.80838692 0.80767769 0.80698925 0.80632484\n",
            " 0.80568343 0.80506194 0.80445623 0.80386317]\n",
            "26 day output [[0.80327994]]\n",
            "27 day input [0.89546478 0.91197598 0.90779457 0.89900289 0.87562989 0.86898252\n",
            " 0.88645867 0.90254101 0.89782352 0.79446767 0.75865766 0.7596226\n",
            " 0.79457489 0.82223652 0.79629034 0.80990672 0.83392302 0.82491691\n",
            " 0.80090061 0.81773346 0.803581   0.79746971 0.81483864 0.79521818\n",
            " 0.76712769 0.76133805 0.72059612 0.67438619 0.66012651 0.66881098\n",
            " 0.65851828 0.70151174 0.72434867 0.7650906  0.7870698  0.77527608\n",
            " 0.75029484 0.76401844 0.78106572 0.80593974 0.79082234 0.80529645\n",
            " 0.80476037 0.79425324 0.80518924 0.79135842 0.8015439  0.79693363\n",
            " 0.79478932 0.77591937 0.78374611 0.75704943 0.74868661 0.77281012\n",
            " 0.78321004 0.78621207 0.80090061 0.82684679 0.72874451 0.77152353\n",
            " 0.76133805 0.79275222 0.79028627 0.79103677 0.79693363 0.7932883\n",
            " 0.80797684 0.79682642 0.81194382 0.83220757 0.84689611 0.83949823\n",
            " 0.84518066 0.83220202 0.82385892 0.81883973 0.81748837 0.81810945\n",
            " 0.8191306  0.81960523 0.81924862 0.81821746 0.81684077 0.81542033\n",
            " 0.81413859 0.81305212 0.81213546 0.81132823 0.81057483 0.80983984\n",
            " 0.80910993 0.80838692 0.80767769 0.80698925 0.80632484 0.80568343\n",
            " 0.80506194 0.80445623 0.80386317 0.80327994]\n",
            "27 day output [[0.802705]]\n",
            "28 day input [0.91197598 0.90779457 0.89900289 0.87562989 0.86898252 0.88645867\n",
            " 0.90254101 0.89782352 0.79446767 0.75865766 0.7596226  0.79457489\n",
            " 0.82223652 0.79629034 0.80990672 0.83392302 0.82491691 0.80090061\n",
            " 0.81773346 0.803581   0.79746971 0.81483864 0.79521818 0.76712769\n",
            " 0.76133805 0.72059612 0.67438619 0.66012651 0.66881098 0.65851828\n",
            " 0.70151174 0.72434867 0.7650906  0.7870698  0.77527608 0.75029484\n",
            " 0.76401844 0.78106572 0.80593974 0.79082234 0.80529645 0.80476037\n",
            " 0.79425324 0.80518924 0.79135842 0.8015439  0.79693363 0.79478932\n",
            " 0.77591937 0.78374611 0.75704943 0.74868661 0.77281012 0.78321004\n",
            " 0.78621207 0.80090061 0.82684679 0.72874451 0.77152353 0.76133805\n",
            " 0.79275222 0.79028627 0.79103677 0.79693363 0.7932883  0.80797684\n",
            " 0.79682642 0.81194382 0.83220757 0.84689611 0.83949823 0.84518066\n",
            " 0.83220202 0.82385892 0.81883973 0.81748837 0.81810945 0.8191306\n",
            " 0.81960523 0.81924862 0.81821746 0.81684077 0.81542033 0.81413859\n",
            " 0.81305212 0.81213546 0.81132823 0.81057483 0.80983984 0.80910993\n",
            " 0.80838692 0.80767769 0.80698925 0.80632484 0.80568343 0.80506194\n",
            " 0.80445623 0.80386317 0.80327994 0.80270499]\n",
            "28 day output [[0.80213743]]\n",
            "29 day input [0.90779457 0.89900289 0.87562989 0.86898252 0.88645867 0.90254101\n",
            " 0.89782352 0.79446767 0.75865766 0.7596226  0.79457489 0.82223652\n",
            " 0.79629034 0.80990672 0.83392302 0.82491691 0.80090061 0.81773346\n",
            " 0.803581   0.79746971 0.81483864 0.79521818 0.76712769 0.76133805\n",
            " 0.72059612 0.67438619 0.66012651 0.66881098 0.65851828 0.70151174\n",
            " 0.72434867 0.7650906  0.7870698  0.77527608 0.75029484 0.76401844\n",
            " 0.78106572 0.80593974 0.79082234 0.80529645 0.80476037 0.79425324\n",
            " 0.80518924 0.79135842 0.8015439  0.79693363 0.79478932 0.77591937\n",
            " 0.78374611 0.75704943 0.74868661 0.77281012 0.78321004 0.78621207\n",
            " 0.80090061 0.82684679 0.72874451 0.77152353 0.76133805 0.79275222\n",
            " 0.79028627 0.79103677 0.79693363 0.7932883  0.80797684 0.79682642\n",
            " 0.81194382 0.83220757 0.84689611 0.83949823 0.84518066 0.83220202\n",
            " 0.82385892 0.81883973 0.81748837 0.81810945 0.8191306  0.81960523\n",
            " 0.81924862 0.81821746 0.81684077 0.81542033 0.81413859 0.81305212\n",
            " 0.81213546 0.81132823 0.81057483 0.80983984 0.80910993 0.80838692\n",
            " 0.80767769 0.80698925 0.80632484 0.80568343 0.80506194 0.80445623\n",
            " 0.80386317 0.80327994 0.80270499 0.80213743]\n",
            "29 day output [[0.8015767]]\n",
            "30 day input [0.89900289 0.87562989 0.86898252 0.88645867 0.90254101 0.89782352\n",
            " 0.79446767 0.75865766 0.7596226  0.79457489 0.82223652 0.79629034\n",
            " 0.80990672 0.83392302 0.82491691 0.80090061 0.81773346 0.803581\n",
            " 0.79746971 0.81483864 0.79521818 0.76712769 0.76133805 0.72059612\n",
            " 0.67438619 0.66012651 0.66881098 0.65851828 0.70151174 0.72434867\n",
            " 0.7650906  0.7870698  0.77527608 0.75029484 0.76401844 0.78106572\n",
            " 0.80593974 0.79082234 0.80529645 0.80476037 0.79425324 0.80518924\n",
            " 0.79135842 0.8015439  0.79693363 0.79478932 0.77591937 0.78374611\n",
            " 0.75704943 0.74868661 0.77281012 0.78321004 0.78621207 0.80090061\n",
            " 0.82684679 0.72874451 0.77152353 0.76133805 0.79275222 0.79028627\n",
            " 0.79103677 0.79693363 0.7932883  0.80797684 0.79682642 0.81194382\n",
            " 0.83220757 0.84689611 0.83949823 0.84518066 0.83220202 0.82385892\n",
            " 0.81883973 0.81748837 0.81810945 0.8191306  0.81960523 0.81924862\n",
            " 0.81821746 0.81684077 0.81542033 0.81413859 0.81305212 0.81213546\n",
            " 0.81132823 0.81057483 0.80983984 0.80910993 0.80838692 0.80767769\n",
            " 0.80698925 0.80632484 0.80568343 0.80506194 0.80445623 0.80386317\n",
            " 0.80327994 0.80270499 0.80213743 0.80157667]\n",
            "30 day output [[0.8010227]]\n"
          ]
        }
      ]
    },
    {
      "cell_type": "code",
      "source": [
        "# plotting the actual data, and the next 30 days' prediction \n",
        "\n",
        "day_new=np.arange(1,100)\n",
        "day_pred=np.arange(100,131)"
      ],
      "metadata": {
        "id": "0kTQKiJnR71p"
      },
      "execution_count": 51,
      "outputs": []
    },
    {
      "cell_type": "code",
      "source": [
        "plt.plot(day_new,scaler.inverse_transform(df1[1159:]))\n",
        "plt.plot(day_pred,scaler.inverse_transform(lst_output))\n"
      ],
      "metadata": {
        "id": "e_XGobY4SEE3",
        "colab": {
          "base_uri": "https://localhost:8080/",
          "height": 286
        },
        "outputId": "4dd8a6b9-7133-43ad-e736-c56227444659"
      },
      "execution_count": 52,
      "outputs": [
        {
          "output_type": "execute_result",
          "data": {
            "text/plain": [
              "[<matplotlib.lines.Line2D at 0x7efd709595d0>]"
            ]
          },
          "metadata": {},
          "execution_count": 52
        },
        {
          "output_type": "display_data",
          "data": {
            "text/plain": [
              "<Figure size 432x288 with 1 Axes>"
            ],
            "image/png": "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\n"
          },
          "metadata": {
            "needs_background": "light"
          }
        }
      ]
    },
    {
      "cell_type": "code",
      "source": [
        "## lets see the combined output also \n",
        "df3=df1.tolist()\n",
        "df3.extend(lst_output)\n",
        "plt.plot(df3[1200:])"
      ],
      "metadata": {
        "id": "7KCqymOuS6W7",
        "colab": {
          "base_uri": "https://localhost:8080/",
          "height": 283
        },
        "outputId": "dc79e91b-d74e-492b-ec55-11b498a70b53"
      },
      "execution_count": 53,
      "outputs": [
        {
          "output_type": "execute_result",
          "data": {
            "text/plain": [
              "[<matplotlib.lines.Line2D at 0x7efd6d8f8c90>]"
            ]
          },
          "metadata": {},
          "execution_count": 53
        },
        {
          "output_type": "display_data",
          "data": {
            "text/plain": [
              "<Figure size 432x288 with 1 Axes>"
            ],
            "image/png": "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\n"
          },
          "metadata": {
            "needs_background": "light"
          }
        }
      ]
    },
    {
      "cell_type": "code",
      "source": [
        "df3=scaler.inverse_transform(df3).tolist()\n",
        "plt.plot(df3)\n",
        "\n",
        "## here is the whole complete graph "
      ],
      "metadata": {
        "colab": {
          "base_uri": "https://localhost:8080/",
          "height": 283
        },
        "id": "BZauzjxZBP20",
        "outputId": "a7e4afc8-f421-4dcf-a1c1-58b271074d58"
      },
      "execution_count": 54,
      "outputs": [
        {
          "output_type": "execute_result",
          "data": {
            "text/plain": [
              "[<matplotlib.lines.Line2D at 0x7efd6d930110>]"
            ]
          },
          "metadata": {},
          "execution_count": 54
        },
        {
          "output_type": "display_data",
          "data": {
            "text/plain": [
              "<Figure size 432x288 with 1 Axes>"
            ],
            "image/png": "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\n"
          },
          "metadata": {
            "needs_background": "light"
          }
        }
      ]
    }
  ]
}