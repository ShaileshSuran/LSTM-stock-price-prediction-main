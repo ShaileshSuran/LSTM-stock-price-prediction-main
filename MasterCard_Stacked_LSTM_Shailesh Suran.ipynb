{
  "nbformat": 4,
  "nbformat_minor": 0,
  "metadata": {
    "colab": {
      "provenance": [],
      "include_colab_link": true
    },
    "kernelspec": {
      "name": "python3",
      "display_name": "Python 3"
    },
    "language_info": {
      "name": "python"
    }
  },
  "cells": [
    {
      "cell_type": "markdown",
      "metadata": {
        "id": "view-in-github",
        "colab_type": "text"
      },
      
      ]
    },
    {
      "cell_type": "code",
      "source": [
        "### Shailesh Suran || ss812050@student.nitw.ac.in || shaileshsuran@gmail.com || +91 8106714553\n",
        "\n",
        "import pandas as pd\n",
        "import matplotlib.pyplot as plt\n",
        "import numpy as np\n",
        "import math\n"
      ],
      "metadata": {
        "id": "tMhpLLih38YF"
      },
      "execution_count": 1,
      "outputs": []
    },
    {
      "cell_type": "code",
      "source": [
        "### Data Collection using TIINGO ( this was a good resource i found, i was having some problem with Investing.com) to collect past data of the stock\n",
        "import pandas_datareader as pdr\n",
        "key=\"8f291cc13ac10b56a0b393bba2debea47ca99268\""
      ],
      "metadata": {
        "id": "WhE-cjl-yhli"
      },
      "execution_count": 2,
      "outputs": []
    },
    {
      "cell_type": "code",
      "source": [
        "df = pdr.get_data_tiingo('MA', api_key=key)\n"
      ],
      "metadata": {
        "colab": {
          "base_uri": "https://localhost:8080/"
        },
        "id": "xNqJtFWt2Bsd",
        "outputId": "8dfd11cb-b07f-4f91-a056-87a971267362"
      },
      "execution_count": 3,
      "outputs": [
        {
          "output_type": "stream",
          "name": "stderr",
          "text": [
            "<ipython-input-3-54e42f60ebf8>:1: FutureWarning: In a future version of pandas all arguments of concat except for the argument 'objs' will be keyword-only.\n",
            "  df = pdr.get_data_tiingo('MA', api_key=key)\n"
          ]
        }
      ]
    },
    {
      "cell_type": "code",
      "source": [
        "df.to_csv('MA.csv')\n"
      ],
      "metadata": {
        "id": "at7KKgoy2EkG"
      },
      "execution_count": 5,
      "outputs": []
    },
    {
      "cell_type": "code",
      "source": [
        "df = pd.read_csv('MA.csv')"
      ],
      "metadata": {
        "id": "bByeHVWD3_in"
      },
      "execution_count": 6,
      "outputs": []
    },
    {
      "cell_type": "code",
      "source": [
        "df.head()"
      ],
      "metadata": {
        "colab": {
          "base_uri": "https://localhost:8080/",
          "height": 357
        },
        "id": "lgQcRsa740Dg",
        "outputId": "a7cde6db-dd86-4fd5-b8b7-047920d54f52"
      },
      "execution_count": 33,
      "outputs": [
        {
          "output_type": "execute_result",
          "data": {
            "text/plain": [
              "  symbol                       date   close    high     low    open   volume  \\\n",
              "0     MA  2018-08-10 00:00:00+00:00  202.65  203.91  202.16  202.97  2567077   \n",
              "1     MA  2018-08-13 00:00:00+00:00  202.31  204.34  201.89  202.65  2014044   \n",
              "2     MA  2018-08-14 00:00:00+00:00  203.88  204.05  201.39  202.81  2076568   \n",
              "3     MA  2018-08-15 00:00:00+00:00  200.24  203.05  199.50  202.65  2955677   \n",
              "4     MA  2018-08-16 00:00:00+00:00  203.60  204.23  200.82  201.94  2894010   \n",
              "\n",
              "     adjClose     adjHigh      adjLow     adjOpen  adjVolume  divCash  \\\n",
              "0  197.193564  198.419638  196.716758  197.504948    2567077      0.0   \n",
              "1  196.862719  198.838060  196.454028  197.193564    2014044      0.0   \n",
              "2  198.390446  198.555869  195.967490  197.349256    2076568      0.0   \n",
              "3  194.848455  197.582794  194.128379  197.193564    2955677      0.0   \n",
              "4  198.117985  198.731022  195.412838  196.502681    2894010      0.0   \n",
              "\n",
              "   splitFactor  \n",
              "0          1.0  \n",
              "1          1.0  \n",
              "2          1.0  \n",
              "3          1.0  \n",
              "4          1.0  "
            ],
            "text/html": [
              "\n",
              "\n",
              "  <div id=\"df-c4415253-dac1-421d-8e41-66f8998ccc60\">\n",
              "    <div class=\"colab-df-container\">\n",
              "      <div>\n",
              "<style scoped>\n",
              "    .dataframe tbody tr th:only-of-type {\n",
              "        vertical-align: middle;\n",
              "    }\n",
              "\n",
              "    .dataframe tbody tr th {\n",
              "        vertical-align: top;\n",
              "    }\n",
              "\n",
              "    .dataframe thead th {\n",
              "        text-align: right;\n",
              "    }\n",
              "</style>\n",
              "<table border=\"1\" class=\"dataframe\">\n",
              "  <thead>\n",
              "    <tr style=\"text-align: right;\">\n",
              "      <th></th>\n",
              "      <th>symbol</th>\n",
              "      <th>date</th>\n",
              "      <th>close</th>\n",
              "      <th>high</th>\n",
              "      <th>low</th>\n",
              "      <th>open</th>\n",
              "      <th>volume</th>\n",
              "      <th>adjClose</th>\n",
              "      <th>adjHigh</th>\n",
              "      <th>adjLow</th>\n",
              "      <th>adjOpen</th>\n",
              "      <th>adjVolume</th>\n",
              "      <th>divCash</th>\n",
              "      <th>splitFactor</th>\n",
              "    </tr>\n",
              "  </thead>\n",
              "  <tbody>\n",
              "    <tr>\n",
              "      <th>0</th>\n",
              "      <td>MA</td>\n",
              "      <td>2018-08-10 00:00:00+00:00</td>\n",
              "      <td>202.65</td>\n",
              "      <td>203.91</td>\n",
              "      <td>202.16</td>\n",
              "      <td>202.97</td>\n",
              "      <td>2567077</td>\n",
              "      <td>197.193564</td>\n",
              "      <td>198.419638</td>\n",
              "      <td>196.716758</td>\n",
              "      <td>197.504948</td>\n",
              "      <td>2567077</td>\n",
              "      <td>0.0</td>\n",
              "      <td>1.0</td>\n",
              "    </tr>\n",
              "    <tr>\n",
              "      <th>1</th>\n",
              "      <td>MA</td>\n",
              "      <td>2018-08-13 00:00:00+00:00</td>\n",
              "      <td>202.31</td>\n",
              "      <td>204.34</td>\n",
              "      <td>201.89</td>\n",
              "      <td>202.65</td>\n",
              "      <td>2014044</td>\n",
              "      <td>196.862719</td>\n",
              "      <td>198.838060</td>\n",
              "      <td>196.454028</td>\n",
              "      <td>197.193564</td>\n",
              "      <td>2014044</td>\n",
              "      <td>0.0</td>\n",
              "      <td>1.0</td>\n",
              "    </tr>\n",
              "    <tr>\n",
              "      <th>2</th>\n",
              "      <td>MA</td>\n",
              "      <td>2018-08-14 00:00:00+00:00</td>\n",
              "      <td>203.88</td>\n",
              "      <td>204.05</td>\n",
              "      <td>201.39</td>\n",
              "      <td>202.81</td>\n",
              "      <td>2076568</td>\n",
              "      <td>198.390446</td>\n",
              "      <td>198.555869</td>\n",
              "      <td>195.967490</td>\n",
              "      <td>197.349256</td>\n",
              "      <td>2076568</td>\n",
              "      <td>0.0</td>\n",
              "      <td>1.0</td>\n",
              "    </tr>\n",
              "    <tr>\n",
              "      <th>3</th>\n",
              "      <td>MA</td>\n",
              "      <td>2018-08-15 00:00:00+00:00</td>\n",
              "      <td>200.24</td>\n",
              "      <td>203.05</td>\n",
              "      <td>199.50</td>\n",
              "      <td>202.65</td>\n",
              "      <td>2955677</td>\n",
              "      <td>194.848455</td>\n",
              "      <td>197.582794</td>\n",
              "      <td>194.128379</td>\n",
              "      <td>197.193564</td>\n",
              "      <td>2955677</td>\n",
              "      <td>0.0</td>\n",
              "      <td>1.0</td>\n",
              "    </tr>\n",
              "    <tr>\n",
              "      <th>4</th>\n",
              "      <td>MA</td>\n",
              "      <td>2018-08-16 00:00:00+00:00</td>\n",
              "      <td>203.60</td>\n",
              "      <td>204.23</td>\n",
              "      <td>200.82</td>\n",
              "      <td>201.94</td>\n",
              "      <td>2894010</td>\n",
              "      <td>198.117985</td>\n",
              "      <td>198.731022</td>\n",
              "      <td>195.412838</td>\n",
              "      <td>196.502681</td>\n",
              "      <td>2894010</td>\n",
              "      <td>0.0</td>\n",
              "      <td>1.0</td>\n",
              "    </tr>\n",
              "  </tbody>\n",
              "</table>\n",
              "</div>\n",
              "      <button class=\"colab-df-convert\" onclick=\"convertToInteractive('df-c4415253-dac1-421d-8e41-66f8998ccc60')\"\n",
              "              title=\"Convert this dataframe to an interactive table.\"\n",
              "              style=\"display:none;\">\n",
              "\n",
              "  <svg xmlns=\"http://www.w3.org/2000/svg\" height=\"24px\"viewBox=\"0 0 24 24\"\n",
              "       width=\"24px\">\n",
              "    <path d=\"M0 0h24v24H0V0z\" fill=\"none\"/>\n",
              "    <path d=\"M18.56 5.44l.94 2.06.94-2.06 2.06-.94-2.06-.94-.94-2.06-.94 2.06-2.06.94zm-11 1L8.5 8.5l.94-2.06 2.06-.94-2.06-.94L8.5 2.5l-.94 2.06-2.06.94zm10 10l.94 2.06.94-2.06 2.06-.94-2.06-.94-.94-2.06-.94 2.06-2.06.94z\"/><path d=\"M17.41 7.96l-1.37-1.37c-.4-.4-.92-.59-1.43-.59-.52 0-1.04.2-1.43.59L10.3 9.45l-7.72 7.72c-.78.78-.78 2.05 0 2.83L4 21.41c.39.39.9.59 1.41.59.51 0 1.02-.2 1.41-.59l7.78-7.78 2.81-2.81c.8-.78.8-2.07 0-2.86zM5.41 20L4 18.59l7.72-7.72 1.47 1.35L5.41 20z\"/>\n",
              "  </svg>\n",
              "      </button>\n",
              "\n",
              "\n",
              "\n",
              "    <div id=\"df-bbd6d621-2deb-4b76-be70-4891e40880b6\">\n",
              "      <button class=\"colab-df-quickchart\" onclick=\"quickchart('df-bbd6d621-2deb-4b76-be70-4891e40880b6')\"\n",
              "              title=\"Suggest charts.\"\n",
              "              style=\"display:none;\">\n",
              "\n",
              "<svg xmlns=\"http://www.w3.org/2000/svg\" height=\"24px\"viewBox=\"0 0 24 24\"\n",
              "     width=\"24px\">\n",
              "    <g>\n",
              "        <path d=\"M19 3H5c-1.1 0-2 .9-2 2v14c0 1.1.9 2 2 2h14c1.1 0 2-.9 2-2V5c0-1.1-.9-2-2-2zM9 17H7v-7h2v7zm4 0h-2V7h2v10zm4 0h-2v-4h2v4z\"/>\n",
              "    </g>\n",
              "</svg>\n",
              "      </button>\n",
              "    </div>\n",
              "\n",
              "<style>\n",
              "  .colab-df-quickchart {\n",
              "    background-color: #E8F0FE;\n",
              "    border: none;\n",
              "    border-radius: 50%;\n",
              "    cursor: pointer;\n",
              "    display: none;\n",
              "    fill: #1967D2;\n",
              "    height: 32px;\n",
              "    padding: 0 0 0 0;\n",
              "    width: 32px;\n",
              "  }\n",
              "\n",
              "  .colab-df-quickchart:hover {\n",
              "    background-color: #E2EBFA;\n",
              "    box-shadow: 0px 1px 2px rgba(60, 64, 67, 0.3), 0px 1px 3px 1px rgba(60, 64, 67, 0.15);\n",
              "    fill: #174EA6;\n",
              "  }\n",
              "\n",
              "  [theme=dark] .colab-df-quickchart {\n",
              "    background-color: #3B4455;\n",
              "    fill: #D2E3FC;\n",
              "  }\n",
              "\n",
              "  [theme=dark] .colab-df-quickchart:hover {\n",
              "    background-color: #434B5C;\n",
              "    box-shadow: 0px 1px 3px 1px rgba(0, 0, 0, 0.15);\n",
              "    filter: drop-shadow(0px 1px 2px rgba(0, 0, 0, 0.3));\n",
              "    fill: #FFFFFF;\n",
              "  }\n",
              "</style>\n",
              "\n",
              "    <script>\n",
              "      async function quickchart(key) {\n",
              "        const containerElement = document.querySelector('#' + key);\n",
              "        const charts = await google.colab.kernel.invokeFunction(\n",
              "            'suggestCharts', [key], {});\n",
              "      }\n",
              "    </script>\n",
              "\n",
              "      <script>\n",
              "\n",
              "function displayQuickchartButton(domScope) {\n",
              "  let quickchartButtonEl =\n",
              "    domScope.querySelector('#df-bbd6d621-2deb-4b76-be70-4891e40880b6 button.colab-df-quickchart');\n",
              "  quickchartButtonEl.style.display =\n",
              "    google.colab.kernel.accessAllowed ? 'block' : 'none';\n",
              "}\n",
              "\n",
              "        displayQuickchartButton(document);\n",
              "      </script>\n",
              "      <style>\n",
              "    .colab-df-container {\n",
              "      display:flex;\n",
              "      flex-wrap:wrap;\n",
              "      gap: 12px;\n",
              "    }\n",
              "\n",
              "    .colab-df-convert {\n",
              "      background-color: #E8F0FE;\n",
              "      border: none;\n",
              "      border-radius: 50%;\n",
              "      cursor: pointer;\n",
              "      display: none;\n",
              "      fill: #1967D2;\n",
              "      height: 32px;\n",
              "      padding: 0 0 0 0;\n",
              "      width: 32px;\n",
              "    }\n",
              "\n",
              "    .colab-df-convert:hover {\n",
              "      background-color: #E2EBFA;\n",
              "      box-shadow: 0px 1px 2px rgba(60, 64, 67, 0.3), 0px 1px 3px 1px rgba(60, 64, 67, 0.15);\n",
              "      fill: #174EA6;\n",
              "    }\n",
              "\n",
              "    [theme=dark] .colab-df-convert {\n",
              "      background-color: #3B4455;\n",
              "      fill: #D2E3FC;\n",
              "    }\n",
              "\n",
              "    [theme=dark] .colab-df-convert:hover {\n",
              "      background-color: #434B5C;\n",
              "      box-shadow: 0px 1px 3px 1px rgba(0, 0, 0, 0.15);\n",
              "      filter: drop-shadow(0px 1px 2px rgba(0, 0, 0, 0.3));\n",
              "      fill: #FFFFFF;\n",
              "    }\n",
              "  </style>\n",
              "\n",
              "      <script>\n",
              "        const buttonEl =\n",
              "          document.querySelector('#df-c4415253-dac1-421d-8e41-66f8998ccc60 button.colab-df-convert');\n",
              "        buttonEl.style.display =\n",
              "          google.colab.kernel.accessAllowed ? 'block' : 'none';\n",
              "\n",
              "        async function convertToInteractive(key) {\n",
              "          const element = document.querySelector('#df-c4415253-dac1-421d-8e41-66f8998ccc60');\n",
              "          const dataTable =\n",
              "            await google.colab.kernel.invokeFunction('convertToInteractive',\n",
              "                                                     [key], {});\n",
              "          if (!dataTable) return;\n",
              "\n",
              "          const docLinkHtml = 'Like what you see? Visit the ' +\n",
              "            '<a target=\"_blank\" href=https://colab.research.google.com/notebooks/data_table.ipynb>data table notebook</a>'\n",
              "            + ' to learn more about interactive tables.';\n",
              "          element.innerHTML = '';\n",
              "          dataTable['output_type'] = 'display_data';\n",
              "          await google.colab.output.renderOutput(dataTable, element);\n",
              "          const docLink = document.createElement('div');\n",
              "          docLink.innerHTML = docLinkHtml;\n",
              "          element.appendChild(docLink);\n",
              "        }\n",
              "      </script>\n",
              "    </div>\n",
              "  </div>\n"
            ]
          },
          "metadata": {},
          "execution_count": 33
        }
      ]
    },
    {
      "cell_type": "code",
      "source": [
        "### since we are going to precdict the closing price of the stock the next day, we will only be using the close price of the stock\n",
        "\n",
        "df1 = df.reset_index()['close']"
      ],
      "metadata": {
        "id": "uH2ZKmm84NGg"
      },
      "execution_count": 7,
      "outputs": []
    },
    {
      "cell_type": "code",
      "source": [
        "#plotting the data for a better visual\n",
        "\n",
        "plt.plot(df1)"
      ],
      "metadata": {
        "colab": {
          "base_uri": "https://localhost:8080/",
          "height": 448
        },
        "id": "kFhFvfbi40jD",
        "outputId": "a86ec249-61d3-409e-e00c-ff19794b28c6"
      },
      "execution_count": 8,
      "outputs": [
        {
          "output_type": "execute_result",
          "data": {
            "text/plain": [
              "[<matplotlib.lines.Line2D at 0x7925d78b2ef0>]"
            ]
          },
          "metadata": {},
          "execution_count": 8
        },
        {
          "output_type": "display_data",
          "data": {
            "text/plain": [
              "<Figure size 640x480 with 1 Axes>"
            ],
            "image/png": "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\n"
          },
          "metadata": {}
        }
      ]
    },
    {
      "cell_type": "code",
      "source": [
        "df1.shape\n"
      ],
      "metadata": {
        "colab": {
          "base_uri": "https://localhost:8080/"
        },
        "id": "5Vo6k7X1SlWH",
        "outputId": "805f9c5d-b4ec-45dd-fa41-d431b134acf5"
      },
      "execution_count": 9,
      "outputs": [
        {
          "output_type": "execute_result",
          "data": {
            "text/plain": [
              "(1256,)"
            ]
          },
          "metadata": {},
          "execution_count": 9
        }
      ]
    },
    {
      "cell_type": "code",
      "source": [
        "### scaling the values if important since LSTM can be sensitive, so using the MinMax scaler and scaling it between 0 and 1\n",
        "\n",
        "from sklearn.preprocessing import MinMaxScaler\n",
        "scaler = MinMaxScaler(feature_range=(0,1))\n",
        "df1 = scaler.fit_transform(np.array(df1).reshape(-1,1))\n",
        "\n",
        "## so here we have completed collecting the data"
      ],
      "metadata": {
        "id": "MqwD67yr5Qub"
      },
      "execution_count": 10,
      "outputs": []
    },
    {
      "cell_type": "code",
      "source": [
        "## now moving onto preprocessing the data\n",
        "## to make the test - train split, since it is a time series data we cannot use cross validation or random seed\n",
        "## so here i will take a 65 - 35 % train - test split here\n",
        "\n",
        "training_size = int (len(df1)*0.65)\n",
        "test_size = len(df1) - training_size\n",
        "\n",
        "train_data= df1[0 : training_size , :]\n",
        "test_data = df1[training_size : len(df1) , :]\n",
        "\n",
        "\n",
        "\n"
      ],
      "metadata": {
        "id": "ceSDejo26ceA"
      },
      "execution_count": 11,
      "outputs": []
    },
    {
      "cell_type": "code",
      "source": [
        "### Now doing the actual preprocessing\n",
        "### so now we will be creating timesteps of length 100\n",
        "\n",
        "def create_dataset ( dataset , time_step = 1):\n",
        "  dataX , dataY = [] , []\n",
        "  for i in range (len(dataset) - time_step - 1 ):\n",
        "    row = dataset[i : (i + time_step) ,  0 ]\n",
        "    dataX.append(row)\n",
        "    dataY.append(dataset[i + time_step , 0])\n",
        "\n",
        "  return np.array(dataX) , np.array(dataY)\n",
        "\n"
      ],
      "metadata": {
        "id": "orjdsaAy-UKl"
      },
      "execution_count": 12,
      "outputs": []
    },
    {
      "cell_type": "code",
      "source": [
        "time_step = 100;\n",
        "\n",
        "X_train , Y_train = create_dataset( train_data , time_step)\n",
        "X_test , Y_test = create_dataset(test_data, time_step)\n"
      ],
      "metadata": {
        "id": "EyzlGMIJhO1d"
      },
      "execution_count": 13,
      "outputs": []
    },
    {
      "cell_type": "code",
      "source": [
        "### Now creating the LSTM model\n",
        "\n",
        "## since LSTM needs another dimension to the input data set, adding it\n",
        "\n",
        "X_train = X_train.reshape(X_train.shape[0], X_train.shape[1], 1)\n",
        "X_test = X_test.reshape(X_test.shape[0], X_test.shape[1], 1)"
      ],
      "metadata": {
        "id": "vxORGMiSiMH9"
      },
      "execution_count": 14,
      "outputs": []
    },
    {
      "cell_type": "code",
      "source": [
        "### importing dependencies\n",
        "\n",
        "from tensorflow.keras.models import Sequential\n",
        "from tensorflow.keras.layers import Dense\n",
        "from tensorflow.keras.layers import LSTM"
      ],
      "metadata": {
        "id": "DjQzggFREWRN"
      },
      "execution_count": 15,
      "outputs": []
    },
    {
      "cell_type": "code",
      "source": [
        "### creating the LSTM model\n",
        "\n",
        "model = Sequential()\n",
        "\n",
        "model.add(LSTM(50, return_sequences = True , input_shape = (time_step , 1)))\n",
        "model.add(LSTM(50 , return_sequences = True))\n",
        "model.add(LSTM(50))\n",
        "model.add(Dense(1))\n",
        "model.compile( loss = 'mean_squared_error' , optimizer = 'adam')"
      ],
      "metadata": {
        "id": "gJVPxOrEFCyM"
      },
      "execution_count": 16,
      "outputs": []
    },
    {
      "cell_type": "code",
      "source": [
        "model.summary()"
      ],
      "metadata": {
        "colab": {
          "base_uri": "https://localhost:8080/"
        },
        "id": "8QOu43lwGS7t",
        "outputId": "9900e10d-92b2-45dc-f1ab-05dd375c0e7c"
      },
      "execution_count": 17,
      "outputs": [
        {
          "output_type": "stream",
          "name": "stdout",
          "text": [
            "Model: \"sequential\"\n",
            "_________________________________________________________________\n",
            " Layer (type)                Output Shape              Param #   \n",
            "=================================================================\n",
            " lstm (LSTM)                 (None, 100, 50)           10400     \n",
            "                                                                 \n",
            " lstm_1 (LSTM)               (None, 100, 50)           20200     \n",
            "                                                                 \n",
            " lstm_2 (LSTM)               (None, 50)                20200     \n",
            "                                                                 \n",
            " dense (Dense)               (None, 1)                 51        \n",
            "                                                                 \n",
            "=================================================================\n",
            "Total params: 50,851\n",
            "Trainable params: 50,851\n",
            "Non-trainable params: 0\n",
            "_________________________________________________________________\n"
          ]
        }
      ]
    },
    {
      "cell_type": "code",
      "source": [
        "### training the model\n",
        "\n",
        "model.fit(X_train , Y_train, validation_data = (X_test , Y_test), epochs = 100, batch_size = 64, verbose = 1)"
      ],
      "metadata": {
        "colab": {
          "base_uri": "https://localhost:8080/"
        },
        "id": "Fl3sb0i1GdBv",
        "outputId": "6ae5e04a-0cb4-4ef8-b430-47d6d14129db"
      },
      "execution_count": 18,
      "outputs": [
        {
          "output_type": "stream",
          "name": "stdout",
          "text": [
            "Epoch 1/100\n",
            "12/12 [==============================] - 12s 368ms/step - loss: 0.0762 - val_loss: 0.0397\n",
            "Epoch 2/100\n",
            "12/12 [==============================] - 5s 398ms/step - loss: 0.0133 - val_loss: 0.0057\n",
            "Epoch 3/100\n",
            "12/12 [==============================] - 3s 253ms/step - loss: 0.0072 - val_loss: 0.0051\n",
            "Epoch 4/100\n",
            "12/12 [==============================] - 3s 227ms/step - loss: 0.0055 - val_loss: 0.0055\n",
            "Epoch 5/100\n",
            "12/12 [==============================] - 3s 256ms/step - loss: 0.0043 - val_loss: 0.0045\n",
            "Epoch 6/100\n",
            "12/12 [==============================] - 4s 362ms/step - loss: 0.0041 - val_loss: 0.0044\n",
            "Epoch 7/100\n",
            "12/12 [==============================] - 3s 235ms/step - loss: 0.0040 - val_loss: 0.0043\n",
            "Epoch 8/100\n",
            "12/12 [==============================] - 3s 221ms/step - loss: 0.0038 - val_loss: 0.0042\n",
            "Epoch 9/100\n",
            "12/12 [==============================] - 3s 229ms/step - loss: 0.0037 - val_loss: 0.0043\n",
            "Epoch 10/100\n",
            "12/12 [==============================] - 3s 300ms/step - loss: 0.0038 - val_loss: 0.0039\n",
            "Epoch 11/100\n",
            "12/12 [==============================] - 3s 254ms/step - loss: 0.0036 - val_loss: 0.0038\n",
            "Epoch 12/100\n",
            "12/12 [==============================] - 3s 228ms/step - loss: 0.0036 - val_loss: 0.0058\n",
            "Epoch 13/100\n",
            "12/12 [==============================] - 3s 223ms/step - loss: 0.0037 - val_loss: 0.0038\n",
            "Epoch 14/100\n",
            "12/12 [==============================] - 3s 253ms/step - loss: 0.0035 - val_loss: 0.0038\n",
            "Epoch 15/100\n",
            "12/12 [==============================] - 4s 335ms/step - loss: 0.0033 - val_loss: 0.0036\n",
            "Epoch 16/100\n",
            "12/12 [==============================] - 3s 228ms/step - loss: 0.0032 - val_loss: 0.0033\n",
            "Epoch 17/100\n",
            "12/12 [==============================] - 3s 226ms/step - loss: 0.0031 - val_loss: 0.0036\n",
            "Epoch 18/100\n",
            "12/12 [==============================] - 3s 234ms/step - loss: 0.0030 - val_loss: 0.0034\n",
            "Epoch 19/100\n",
            "12/12 [==============================] - 4s 367ms/step - loss: 0.0031 - val_loss: 0.0030\n",
            "Epoch 20/100\n",
            "12/12 [==============================] - 3s 232ms/step - loss: 0.0028 - val_loss: 0.0036\n",
            "Epoch 21/100\n",
            "12/12 [==============================] - 3s 227ms/step - loss: 0.0029 - val_loss: 0.0029\n",
            "Epoch 22/100\n",
            "12/12 [==============================] - 3s 252ms/step - loss: 0.0027 - val_loss: 0.0028\n",
            "Epoch 23/100\n",
            "12/12 [==============================] - 4s 349ms/step - loss: 0.0027 - val_loss: 0.0027\n",
            "Epoch 24/100\n",
            "12/12 [==============================] - 3s 222ms/step - loss: 0.0026 - val_loss: 0.0027\n",
            "Epoch 25/100\n",
            "12/12 [==============================] - 3s 225ms/step - loss: 0.0027 - val_loss: 0.0047\n",
            "Epoch 26/100\n",
            "12/12 [==============================] - 3s 230ms/step - loss: 0.0027 - val_loss: 0.0031\n",
            "Epoch 27/100\n",
            "12/12 [==============================] - 4s 318ms/step - loss: 0.0028 - val_loss: 0.0025\n",
            "Epoch 28/100\n",
            "12/12 [==============================] - 3s 238ms/step - loss: 0.0028 - val_loss: 0.0046\n",
            "Epoch 29/100\n",
            "12/12 [==============================] - 3s 234ms/step - loss: 0.0028 - val_loss: 0.0033\n",
            "Epoch 30/100\n",
            "12/12 [==============================] - 3s 223ms/step - loss: 0.0027 - val_loss: 0.0036\n",
            "Epoch 31/100\n",
            "12/12 [==============================] - 3s 274ms/step - loss: 0.0025 - val_loss: 0.0023\n",
            "Epoch 32/100\n",
            "12/12 [==============================] - 3s 275ms/step - loss: 0.0022 - val_loss: 0.0024\n",
            "Epoch 33/100\n",
            "12/12 [==============================] - 3s 226ms/step - loss: 0.0023 - val_loss: 0.0040\n",
            "Epoch 34/100\n",
            "12/12 [==============================] - 3s 218ms/step - loss: 0.0027 - val_loss: 0.0022\n",
            "Epoch 35/100\n",
            "12/12 [==============================] - 3s 221ms/step - loss: 0.0025 - val_loss: 0.0022\n",
            "Epoch 36/100\n",
            "12/12 [==============================] - 4s 333ms/step - loss: 0.0022 - val_loss: 0.0031\n",
            "Epoch 37/100\n",
            "12/12 [==============================] - 3s 227ms/step - loss: 0.0023 - val_loss: 0.0026\n",
            "Epoch 38/100\n",
            "12/12 [==============================] - 3s 226ms/step - loss: 0.0021 - val_loss: 0.0022\n",
            "Epoch 39/100\n",
            "12/12 [==============================] - 3s 225ms/step - loss: 0.0021 - val_loss: 0.0027\n",
            "Epoch 40/100\n",
            "12/12 [==============================] - 4s 307ms/step - loss: 0.0024 - val_loss: 0.0023\n",
            "Epoch 41/100\n",
            "12/12 [==============================] - 4s 371ms/step - loss: 0.0020 - val_loss: 0.0021\n",
            "Epoch 42/100\n",
            "12/12 [==============================] - 3s 220ms/step - loss: 0.0024 - val_loss: 0.0025\n",
            "Epoch 43/100\n",
            "12/12 [==============================] - 3s 255ms/step - loss: 0.0020 - val_loss: 0.0024\n",
            "Epoch 44/100\n",
            "12/12 [==============================] - 3s 229ms/step - loss: 0.0020 - val_loss: 0.0024\n",
            "Epoch 45/100\n",
            "12/12 [==============================] - 4s 331ms/step - loss: 0.0021 - val_loss: 0.0019\n",
            "Epoch 46/100\n",
            "12/12 [==============================] - 3s 240ms/step - loss: 0.0019 - val_loss: 0.0022\n",
            "Epoch 47/100\n",
            "12/12 [==============================] - 3s 273ms/step - loss: 0.0020 - val_loss: 0.0021\n",
            "Epoch 48/100\n",
            "12/12 [==============================] - 3s 228ms/step - loss: 0.0019 - val_loss: 0.0020\n",
            "Epoch 49/100\n",
            "12/12 [==============================] - 4s 319ms/step - loss: 0.0020 - val_loss: 0.0027\n",
            "Epoch 50/100\n",
            "12/12 [==============================] - 3s 254ms/step - loss: 0.0020 - val_loss: 0.0017\n",
            "Epoch 51/100\n",
            "12/12 [==============================] - 3s 236ms/step - loss: 0.0019 - val_loss: 0.0021\n",
            "Epoch 52/100\n",
            "12/12 [==============================] - 3s 252ms/step - loss: 0.0020 - val_loss: 0.0017\n",
            "Epoch 53/100\n",
            "12/12 [==============================] - 3s 288ms/step - loss: 0.0018 - val_loss: 0.0017\n",
            "Epoch 54/100\n",
            "12/12 [==============================] - 3s 253ms/step - loss: 0.0018 - val_loss: 0.0017\n",
            "Epoch 55/100\n",
            "12/12 [==============================] - 3s 228ms/step - loss: 0.0021 - val_loss: 0.0018\n",
            "Epoch 56/100\n",
            "12/12 [==============================] - 3s 247ms/step - loss: 0.0017 - val_loss: 0.0020\n",
            "Epoch 57/100\n",
            "12/12 [==============================] - 3s 248ms/step - loss: 0.0018 - val_loss: 0.0016\n",
            "Epoch 58/100\n",
            "12/12 [==============================] - 4s 296ms/step - loss: 0.0017 - val_loss: 0.0016\n",
            "Epoch 59/100\n",
            "12/12 [==============================] - 3s 216ms/step - loss: 0.0017 - val_loss: 0.0016\n",
            "Epoch 60/100\n",
            "12/12 [==============================] - 3s 222ms/step - loss: 0.0017 - val_loss: 0.0041\n",
            "Epoch 61/100\n",
            "12/12 [==============================] - 3s 251ms/step - loss: 0.0023 - val_loss: 0.0033\n",
            "Epoch 62/100\n",
            "12/12 [==============================] - 4s 344ms/step - loss: 0.0020 - val_loss: 0.0015\n",
            "Epoch 63/100\n",
            "12/12 [==============================] - 3s 257ms/step - loss: 0.0017 - val_loss: 0.0017\n",
            "Epoch 64/100\n",
            "12/12 [==============================] - 3s 253ms/step - loss: 0.0018 - val_loss: 0.0014\n",
            "Epoch 65/100\n",
            "12/12 [==============================] - 3s 224ms/step - loss: 0.0016 - val_loss: 0.0021\n",
            "Epoch 66/100\n",
            "12/12 [==============================] - 4s 335ms/step - loss: 0.0018 - val_loss: 0.0017\n",
            "Epoch 67/100\n",
            "12/12 [==============================] - 3s 232ms/step - loss: 0.0017 - val_loss: 0.0020\n",
            "Epoch 68/100\n",
            "12/12 [==============================] - 3s 246ms/step - loss: 0.0018 - val_loss: 0.0015\n",
            "Epoch 69/100\n",
            "12/12 [==============================] - 3s 251ms/step - loss: 0.0015 - val_loss: 0.0014\n",
            "Epoch 70/100\n",
            "12/12 [==============================] - 4s 319ms/step - loss: 0.0015 - val_loss: 0.0013\n",
            "Epoch 71/100\n",
            "12/12 [==============================] - 3s 230ms/step - loss: 0.0015 - val_loss: 0.0024\n",
            "Epoch 72/100\n",
            "12/12 [==============================] - 3s 250ms/step - loss: 0.0015 - val_loss: 0.0022\n",
            "Epoch 73/100\n",
            "12/12 [==============================] - 3s 229ms/step - loss: 0.0017 - val_loss: 0.0016\n",
            "Epoch 74/100\n",
            "12/12 [==============================] - 3s 283ms/step - loss: 0.0015 - val_loss: 0.0018\n",
            "Epoch 75/100\n",
            "12/12 [==============================] - 3s 286ms/step - loss: 0.0015 - val_loss: 0.0012\n",
            "Epoch 76/100\n",
            "12/12 [==============================] - 3s 259ms/step - loss: 0.0014 - val_loss: 0.0012\n",
            "Epoch 77/100\n",
            "12/12 [==============================] - 3s 221ms/step - loss: 0.0014 - val_loss: 0.0020\n",
            "Epoch 78/100\n",
            "12/12 [==============================] - 3s 252ms/step - loss: 0.0015 - val_loss: 0.0016\n",
            "Epoch 79/100\n",
            "12/12 [==============================] - 4s 292ms/step - loss: 0.0014 - val_loss: 0.0012\n",
            "Epoch 80/100\n",
            "12/12 [==============================] - 3s 242ms/step - loss: 0.0014 - val_loss: 0.0012\n",
            "Epoch 81/100\n",
            "12/12 [==============================] - 3s 233ms/step - loss: 0.0013 - val_loss: 0.0012\n",
            "Epoch 82/100\n",
            "12/12 [==============================] - 3s 221ms/step - loss: 0.0014 - val_loss: 0.0015\n",
            "Epoch 83/100\n",
            "12/12 [==============================] - 4s 335ms/step - loss: 0.0013 - val_loss: 0.0010\n",
            "Epoch 84/100\n",
            "12/12 [==============================] - 3s 231ms/step - loss: 0.0013 - val_loss: 0.0015\n",
            "Epoch 85/100\n",
            "12/12 [==============================] - 3s 229ms/step - loss: 0.0013 - val_loss: 0.0011\n",
            "Epoch 86/100\n",
            "12/12 [==============================] - 3s 235ms/step - loss: 0.0012 - val_loss: 0.0011\n",
            "Epoch 87/100\n",
            "12/12 [==============================] - 4s 331ms/step - loss: 0.0012 - val_loss: 0.0013\n",
            "Epoch 88/100\n",
            "12/12 [==============================] - 3s 224ms/step - loss: 0.0012 - val_loss: 0.0014\n",
            "Epoch 89/100\n",
            "12/12 [==============================] - 3s 248ms/step - loss: 0.0012 - val_loss: 0.0016\n",
            "Epoch 90/100\n",
            "12/12 [==============================] - 3s 232ms/step - loss: 0.0012 - val_loss: 8.9584e-04\n",
            "Epoch 91/100\n",
            "12/12 [==============================] - 3s 290ms/step - loss: 0.0012 - val_loss: 0.0013\n",
            "Epoch 92/100\n",
            "12/12 [==============================] - 3s 259ms/step - loss: 0.0012 - val_loss: 0.0014\n",
            "Epoch 93/100\n",
            "12/12 [==============================] - 3s 236ms/step - loss: 0.0013 - val_loss: 0.0019\n",
            "Epoch 94/100\n",
            "12/12 [==============================] - 3s 224ms/step - loss: 0.0013 - val_loss: 9.4061e-04\n",
            "Epoch 95/100\n",
            "12/12 [==============================] - 3s 249ms/step - loss: 0.0011 - val_loss: 9.2217e-04\n",
            "Epoch 96/100\n",
            "12/12 [==============================] - 4s 329ms/step - loss: 0.0011 - val_loss: 0.0016\n",
            "Epoch 97/100\n",
            "12/12 [==============================] - 3s 230ms/step - loss: 0.0012 - val_loss: 0.0011\n",
            "Epoch 98/100\n",
            "12/12 [==============================] - 3s 255ms/step - loss: 0.0010 - val_loss: 8.3036e-04\n",
            "Epoch 99/100\n",
            "12/12 [==============================] - 3s 254ms/step - loss: 0.0011 - val_loss: 9.8991e-04\n",
            "Epoch 100/100\n",
            "12/12 [==============================] - 4s 329ms/step - loss: 9.9687e-04 - val_loss: 9.4380e-04\n"
          ]
        },
        {
          "output_type": "execute_result",
          "data": {
            "text/plain": [
              "<keras.callbacks.History at 0x79256ec82e30>"
            ]
          },
          "metadata": {},
          "execution_count": 18
        }
      ]
    },
    {
      "cell_type": "code",
      "source": [
        "### now predicting on train and test data\n",
        "\n",
        "train_predict = model.predict(X_train)\n",
        "test_predict = model.predict(X_test)"
      ],
      "metadata": {
        "id": "Oir-SgHSHFP_",
        "colab": {
          "base_uri": "https://localhost:8080/"
        },
        "outputId": "f9d6d482-dd92-4577-85af-5ce64f7a7d2c"
      },
      "execution_count": 19,
      "outputs": [
        {
          "output_type": "stream",
          "name": "stdout",
          "text": [
            "23/23 [==============================] - 3s 66ms/step\n",
            "11/11 [==============================] - 1s 46ms/step\n"
          ]
        }
      ]
    },
    {
      "cell_type": "code",
      "source": [
        "### transforming back to original form\n",
        "\n",
        "\n",
        "train_predict = scaler.inverse_transform(train_predict)\n",
        "test_predict = scaler.inverse_transform(test_predict)\n"
      ],
      "metadata": {
        "id": "MooX_GOhHyyv"
      },
      "execution_count": 20,
      "outputs": []
    },
    {
      "cell_type": "code",
      "source": [
        "## calculting the Root mean squared error performance metrics\n",
        "\n",
        "from sklearn.metrics import mean_squared_error\n",
        "math.sqrt(mean_squared_error(Y_train, train_predict))"
      ],
      "metadata": {
        "colab": {
          "base_uri": "https://localhost:8080/"
        },
        "id": "tEN0RpOGOSJS",
        "outputId": "3db8e44e-d8ae-45fe-c51b-fc2e158b5b78"
      },
      "execution_count": 21,
      "outputs": [
        {
          "output_type": "execute_result",
          "data": {
            "text/plain": [
              "311.74279087556886"
            ]
          },
          "metadata": {},
          "execution_count": 21
        }
      ]
    },
    {
      "cell_type": "code",
      "source": [
        "## for the test data\n",
        "\n",
        "math.sqrt(mean_squared_error(Y_test, test_predict))"
      ],
      "metadata": {
        "colab": {
          "base_uri": "https://localhost:8080/"
        },
        "id": "-UCkZAdLO6bO",
        "outputId": "814f50c5-4e35-4a8e-aaca-38d2891a652b"
      },
      "execution_count": 22,
      "outputs": [
        {
          "output_type": "execute_result",
          "data": {
            "text/plain": [
              "355.0597151625897"
            ]
          },
          "metadata": {},
          "execution_count": 22
        }
      ]
    },
    {
      "cell_type": "code",
      "source": [
        "### Plotting\n",
        "# shift train predictions for plotting\n",
        "look_back=100\n",
        "trainPredictPlot = np.empty_like(df1)\n",
        "trainPredictPlot[:, :] = np.nan\n",
        "trainPredictPlot[look_back:len(train_predict)+look_back, :] = train_predict\n",
        "\n",
        "\n",
        "# shift test predictions for plotting\n",
        "testPredictPlot = np.empty_like(df1)\n",
        "testPredictPlot[:, :] = np.nan\n",
        "testPredictPlot[len(train_predict)+(look_back*2)+1:len(df1)-1, :] = test_predict\n",
        "\n",
        "\n",
        "# plot baseline and predictions\n",
        "plt.plot(scaler.inverse_transform(df1))\n",
        "plt.plot(trainPredictPlot)\n",
        "plt.plot(testPredictPlot)\n",
        "plt.show()"
      ],
      "metadata": {
        "colab": {
          "base_uri": "https://localhost:8080/",
          "height": 430
        },
        "id": "VLsN7aI3PxTN",
        "outputId": "c192006a-ef3e-47a4-e8ea-9ed13afb8fda"
      },
      "execution_count": 23,
      "outputs": [
        {
          "output_type": "display_data",
          "data": {
            "text/plain": [
              "<Figure size 640x480 with 1 Axes>"
            ],
            "image/png": "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\n"
          },
          "metadata": {}
        }
      ]
    },
    {
      "cell_type": "code",
      "source": [
        "### Now lets use this weapon to predict the future of the stock and trade\n",
        "### why stop at next day when we can use it to predict for the whole next month\n",
        "\n",
        "len(test_data) # comes out to be 441 so for the last 100 days -> 341 :\n",
        "x_input=test_data[ 340:].reshape(1,-1)\n",
        "x_input.shape"
      ],
      "metadata": {
        "colab": {
          "base_uri": "https://localhost:8080/"
        },
        "id": "GzlnoW3EQswK",
        "outputId": "7bcec6ac-4812-4b61-cb35-c152cd1c62f7"
      },
      "execution_count": 24,
      "outputs": [
        {
          "output_type": "execute_result",
          "data": {
            "text/plain": [
              "(1, 100)"
            ]
          },
          "metadata": {},
          "execution_count": 24
        }
      ]
    },
    {
      "cell_type": "code",
      "source": [
        "temp_input=list(x_input)\n",
        "temp_input=temp_input[0].tolist()"
      ],
      "metadata": {
        "id": "wXpNdDyCRnFb"
      },
      "execution_count": 25,
      "outputs": []
    },
    {
      "cell_type": "code",
      "source": [
        "#  prediction for next 30 days\n",
        "from numpy import array\n",
        "\n",
        "lst_output=[]\n",
        "n_steps=99\n",
        "i=0\n",
        "while(i<31):\n",
        "\n",
        "    if(len(temp_input)>100):\n",
        "        #print(temp_input)\n",
        "        x_input=np.array(temp_input[1:])\n",
        "        print(\"{} day input {}\".format(i,x_input))\n",
        "        x_input=x_input.reshape(1,-1)\n",
        "        x_input = x_input.reshape((1, 100, 1))\n",
        "        #print(x_input)\n",
        "        yhat = model.predict(x_input, verbose=0)\n",
        "        print(\"{} day output {}\".format(i,yhat))\n",
        "        temp_input.extend(yhat[0].tolist())\n",
        "        temp_input=temp_input[1:]\n",
        "        #print(temp_input)\n",
        "        lst_output.extend(yhat.tolist())\n",
        "        i=i+1\n",
        "    else:\n",
        "        x_input = x_input.reshape((1, 100, 1))\n",
        "        yhat = model.predict(x_input, verbose=0)\n",
        "        print(yhat[0])\n",
        "        temp_input.extend(yhat[0].tolist())\n",
        "        print(len(temp_input))\n",
        "        lst_output.extend(yhat.tolist())\n",
        "        i=i+1\n",
        "\n",
        ""
      ],
      "metadata": {
        "colab": {
          "base_uri": "https://localhost:8080/"
        },
        "id": "siU60rq7Rt1J",
        "outputId": "ec6a1784-3a5b-4090-b7a1-bb81bc8c2fe9"
      },
      "execution_count": 26,
      "outputs": [
        {
          "output_type": "stream",
          "name": "stdout",
          "text": [
            "[0.96595776]\n",
            "101\n",
            "1 day input [0.76045016 0.7589728  0.781785   0.76640306 0.78091596 0.76901017\n",
            " 0.78200226 0.78074216 0.8033371  0.8021639  0.8201964  0.83349266\n",
            " 0.82232554 0.82184757 0.81176675 0.80598766 0.82332493 0.81311376\n",
            " 0.84731033 0.85938994 0.86082385 0.85891197 0.86099765 0.87055705\n",
            " 0.8715999  0.86938385 0.84244373 0.83475276 0.86477796 0.89241331\n",
            " 0.89167463 0.87503259 0.87012253 0.87542366 0.9125315  0.91622491\n",
            " 0.90505779 0.90331972 0.90701312 0.90062571 0.90710003 0.8933258\n",
            " 0.92269923 0.94451204 0.91648562 0.91196663 0.86512558 0.84231337\n",
            " 0.84900495 0.86781959 0.83796819 0.82719214 0.85265491 0.86503867\n",
            " 0.85109064 0.89210915 0.85487095 0.83835926 0.8454419  0.87190406\n",
            " 0.8548275  0.86951421 0.88811158 0.87720518 0.86890588 0.87551056\n",
            " 0.88272356 0.89145737 0.88107239 0.90006083 0.89328235 0.9256105\n",
            " 0.95007387 0.95294169 0.95628748 0.94937864 0.92999913 0.94512036\n",
            " 0.96962718 0.98218476 0.98161988 0.99009299 0.98874598 0.97119145\n",
            " 0.97166942 0.97075693 0.96828018 1.         0.98474841 0.98965847\n",
            " 0.95528809 0.94859651 0.95433215 0.9664552  0.93582167 0.94881377\n",
            " 0.94160076 0.96558616 0.9495959  0.96595776]\n",
            "1 day output [[0.96983534]]\n",
            "2 day input [0.7589728  0.781785   0.76640306 0.78091596 0.76901017 0.78200226\n",
            " 0.78074216 0.8033371  0.8021639  0.8201964  0.83349266 0.82232554\n",
            " 0.82184757 0.81176675 0.80598766 0.82332493 0.81311376 0.84731033\n",
            " 0.85938994 0.86082385 0.85891197 0.86099765 0.87055705 0.8715999\n",
            " 0.86938385 0.84244373 0.83475276 0.86477796 0.89241331 0.89167463\n",
            " 0.87503259 0.87012253 0.87542366 0.9125315  0.91622491 0.90505779\n",
            " 0.90331972 0.90701312 0.90062571 0.90710003 0.8933258  0.92269923\n",
            " 0.94451204 0.91648562 0.91196663 0.86512558 0.84231337 0.84900495\n",
            " 0.86781959 0.83796819 0.82719214 0.85265491 0.86503867 0.85109064\n",
            " 0.89210915 0.85487095 0.83835926 0.8454419  0.87190406 0.8548275\n",
            " 0.86951421 0.88811158 0.87720518 0.86890588 0.87551056 0.88272356\n",
            " 0.89145737 0.88107239 0.90006083 0.89328235 0.9256105  0.95007387\n",
            " 0.95294169 0.95628748 0.94937864 0.92999913 0.94512036 0.96962718\n",
            " 0.98218476 0.98161988 0.99009299 0.98874598 0.97119145 0.97166942\n",
            " 0.97075693 0.96828018 1.         0.98474841 0.98965847 0.95528809\n",
            " 0.94859651 0.95433215 0.9664552  0.93582167 0.94881377 0.94160076\n",
            " 0.96558616 0.9495959  0.96595776 0.96983534]\n",
            "2 day output [[0.9750264]]\n",
            "3 day input [0.781785   0.76640306 0.78091596 0.76901017 0.78200226 0.78074216\n",
            " 0.8033371  0.8021639  0.8201964  0.83349266 0.82232554 0.82184757\n",
            " 0.81176675 0.80598766 0.82332493 0.81311376 0.84731033 0.85938994\n",
            " 0.86082385 0.85891197 0.86099765 0.87055705 0.8715999  0.86938385\n",
            " 0.84244373 0.83475276 0.86477796 0.89241331 0.89167463 0.87503259\n",
            " 0.87012253 0.87542366 0.9125315  0.91622491 0.90505779 0.90331972\n",
            " 0.90701312 0.90062571 0.90710003 0.8933258  0.92269923 0.94451204\n",
            " 0.91648562 0.91196663 0.86512558 0.84231337 0.84900495 0.86781959\n",
            " 0.83796819 0.82719214 0.85265491 0.86503867 0.85109064 0.89210915\n",
            " 0.85487095 0.83835926 0.8454419  0.87190406 0.8548275  0.86951421\n",
            " 0.88811158 0.87720518 0.86890588 0.87551056 0.88272356 0.89145737\n",
            " 0.88107239 0.90006083 0.89328235 0.9256105  0.95007387 0.95294169\n",
            " 0.95628748 0.94937864 0.92999913 0.94512036 0.96962718 0.98218476\n",
            " 0.98161988 0.99009299 0.98874598 0.97119145 0.97166942 0.97075693\n",
            " 0.96828018 1.         0.98474841 0.98965847 0.95528809 0.94859651\n",
            " 0.95433215 0.9664552  0.93582167 0.94881377 0.94160076 0.96558616\n",
            " 0.9495959  0.96595776 0.96983534 0.97502643]\n",
            "3 day output [[0.98014987]]\n",
            "4 day input [0.76640306 0.78091596 0.76901017 0.78200226 0.78074216 0.8033371\n",
            " 0.8021639  0.8201964  0.83349266 0.82232554 0.82184757 0.81176675\n",
            " 0.80598766 0.82332493 0.81311376 0.84731033 0.85938994 0.86082385\n",
            " 0.85891197 0.86099765 0.87055705 0.8715999  0.86938385 0.84244373\n",
            " 0.83475276 0.86477796 0.89241331 0.89167463 0.87503259 0.87012253\n",
            " 0.87542366 0.9125315  0.91622491 0.90505779 0.90331972 0.90701312\n",
            " 0.90062571 0.90710003 0.8933258  0.92269923 0.94451204 0.91648562\n",
            " 0.91196663 0.86512558 0.84231337 0.84900495 0.86781959 0.83796819\n",
            " 0.82719214 0.85265491 0.86503867 0.85109064 0.89210915 0.85487095\n",
            " 0.83835926 0.8454419  0.87190406 0.8548275  0.86951421 0.88811158\n",
            " 0.87720518 0.86890588 0.87551056 0.88272356 0.89145737 0.88107239\n",
            " 0.90006083 0.89328235 0.9256105  0.95007387 0.95294169 0.95628748\n",
            " 0.94937864 0.92999913 0.94512036 0.96962718 0.98218476 0.98161988\n",
            " 0.99009299 0.98874598 0.97119145 0.97166942 0.97075693 0.96828018\n",
            " 1.         0.98474841 0.98965847 0.95528809 0.94859651 0.95433215\n",
            " 0.9664552  0.93582167 0.94881377 0.94160076 0.96558616 0.9495959\n",
            " 0.96595776 0.96983534 0.97502643 0.98014987]\n",
            "4 day output [[0.98497474]]\n",
            "5 day input [0.78091596 0.76901017 0.78200226 0.78074216 0.8033371  0.8021639\n",
            " 0.8201964  0.83349266 0.82232554 0.82184757 0.81176675 0.80598766\n",
            " 0.82332493 0.81311376 0.84731033 0.85938994 0.86082385 0.85891197\n",
            " 0.86099765 0.87055705 0.8715999  0.86938385 0.84244373 0.83475276\n",
            " 0.86477796 0.89241331 0.89167463 0.87503259 0.87012253 0.87542366\n",
            " 0.9125315  0.91622491 0.90505779 0.90331972 0.90701312 0.90062571\n",
            " 0.90710003 0.8933258  0.92269923 0.94451204 0.91648562 0.91196663\n",
            " 0.86512558 0.84231337 0.84900495 0.86781959 0.83796819 0.82719214\n",
            " 0.85265491 0.86503867 0.85109064 0.89210915 0.85487095 0.83835926\n",
            " 0.8454419  0.87190406 0.8548275  0.86951421 0.88811158 0.87720518\n",
            " 0.86890588 0.87551056 0.88272356 0.89145737 0.88107239 0.90006083\n",
            " 0.89328235 0.9256105  0.95007387 0.95294169 0.95628748 0.94937864\n",
            " 0.92999913 0.94512036 0.96962718 0.98218476 0.98161988 0.99009299\n",
            " 0.98874598 0.97119145 0.97166942 0.97075693 0.96828018 1.\n",
            " 0.98474841 0.98965847 0.95528809 0.94859651 0.95433215 0.9664552\n",
            " 0.93582167 0.94881377 0.94160076 0.96558616 0.9495959  0.96595776\n",
            " 0.96983534 0.97502643 0.98014987 0.98497474]\n",
            "5 day output [[0.9896794]]\n",
            "6 day input [0.76901017 0.78200226 0.78074216 0.8033371  0.8021639  0.8201964\n",
            " 0.83349266 0.82232554 0.82184757 0.81176675 0.80598766 0.82332493\n",
            " 0.81311376 0.84731033 0.85938994 0.86082385 0.85891197 0.86099765\n",
            " 0.87055705 0.8715999  0.86938385 0.84244373 0.83475276 0.86477796\n",
            " 0.89241331 0.89167463 0.87503259 0.87012253 0.87542366 0.9125315\n",
            " 0.91622491 0.90505779 0.90331972 0.90701312 0.90062571 0.90710003\n",
            " 0.8933258  0.92269923 0.94451204 0.91648562 0.91196663 0.86512558\n",
            " 0.84231337 0.84900495 0.86781959 0.83796819 0.82719214 0.85265491\n",
            " 0.86503867 0.85109064 0.89210915 0.85487095 0.83835926 0.8454419\n",
            " 0.87190406 0.8548275  0.86951421 0.88811158 0.87720518 0.86890588\n",
            " 0.87551056 0.88272356 0.89145737 0.88107239 0.90006083 0.89328235\n",
            " 0.9256105  0.95007387 0.95294169 0.95628748 0.94937864 0.92999913\n",
            " 0.94512036 0.96962718 0.98218476 0.98161988 0.99009299 0.98874598\n",
            " 0.97119145 0.97166942 0.97075693 0.96828018 1.         0.98474841\n",
            " 0.98965847 0.95528809 0.94859651 0.95433215 0.9664552  0.93582167\n",
            " 0.94881377 0.94160076 0.96558616 0.9495959  0.96595776 0.96983534\n",
            " 0.97502643 0.98014987 0.98497474 0.9896794 ]\n",
            "6 day output [[0.9944416]]\n",
            "7 day input [0.78200226 0.78074216 0.8033371  0.8021639  0.8201964  0.83349266\n",
            " 0.82232554 0.82184757 0.81176675 0.80598766 0.82332493 0.81311376\n",
            " 0.84731033 0.85938994 0.86082385 0.85891197 0.86099765 0.87055705\n",
            " 0.8715999  0.86938385 0.84244373 0.83475276 0.86477796 0.89241331\n",
            " 0.89167463 0.87503259 0.87012253 0.87542366 0.9125315  0.91622491\n",
            " 0.90505779 0.90331972 0.90701312 0.90062571 0.90710003 0.8933258\n",
            " 0.92269923 0.94451204 0.91648562 0.91196663 0.86512558 0.84231337\n",
            " 0.84900495 0.86781959 0.83796819 0.82719214 0.85265491 0.86503867\n",
            " 0.85109064 0.89210915 0.85487095 0.83835926 0.8454419  0.87190406\n",
            " 0.8548275  0.86951421 0.88811158 0.87720518 0.86890588 0.87551056\n",
            " 0.88272356 0.89145737 0.88107239 0.90006083 0.89328235 0.9256105\n",
            " 0.95007387 0.95294169 0.95628748 0.94937864 0.92999913 0.94512036\n",
            " 0.96962718 0.98218476 0.98161988 0.99009299 0.98874598 0.97119145\n",
            " 0.97166942 0.97075693 0.96828018 1.         0.98474841 0.98965847\n",
            " 0.95528809 0.94859651 0.95433215 0.9664552  0.93582167 0.94881377\n",
            " 0.94160076 0.96558616 0.9495959  0.96595776 0.96983534 0.97502643\n",
            " 0.98014987 0.98497474 0.9896794  0.99444163]\n",
            "7 day output [[0.9993332]]\n",
            "8 day input [0.78074216 0.8033371  0.8021639  0.8201964  0.83349266 0.82232554\n",
            " 0.82184757 0.81176675 0.80598766 0.82332493 0.81311376 0.84731033\n",
            " 0.85938994 0.86082385 0.85891197 0.86099765 0.87055705 0.8715999\n",
            " 0.86938385 0.84244373 0.83475276 0.86477796 0.89241331 0.89167463\n",
            " 0.87503259 0.87012253 0.87542366 0.9125315  0.91622491 0.90505779\n",
            " 0.90331972 0.90701312 0.90062571 0.90710003 0.8933258  0.92269923\n",
            " 0.94451204 0.91648562 0.91196663 0.86512558 0.84231337 0.84900495\n",
            " 0.86781959 0.83796819 0.82719214 0.85265491 0.86503867 0.85109064\n",
            " 0.89210915 0.85487095 0.83835926 0.8454419  0.87190406 0.8548275\n",
            " 0.86951421 0.88811158 0.87720518 0.86890588 0.87551056 0.88272356\n",
            " 0.89145737 0.88107239 0.90006083 0.89328235 0.9256105  0.95007387\n",
            " 0.95294169 0.95628748 0.94937864 0.92999913 0.94512036 0.96962718\n",
            " 0.98218476 0.98161988 0.99009299 0.98874598 0.97119145 0.97166942\n",
            " 0.97075693 0.96828018 1.         0.98474841 0.98965847 0.95528809\n",
            " 0.94859651 0.95433215 0.9664552  0.93582167 0.94881377 0.94160076\n",
            " 0.96558616 0.9495959  0.96595776 0.96983534 0.97502643 0.98014987\n",
            " 0.98497474 0.9896794  0.99444163 0.9993332 ]\n",
            "8 day output [[1.0043268]]\n",
            "9 day input [0.8033371  0.8021639  0.8201964  0.83349266 0.82232554 0.82184757\n",
            " 0.81176675 0.80598766 0.82332493 0.81311376 0.84731033 0.85938994\n",
            " 0.86082385 0.85891197 0.86099765 0.87055705 0.8715999  0.86938385\n",
            " 0.84244373 0.83475276 0.86477796 0.89241331 0.89167463 0.87503259\n",
            " 0.87012253 0.87542366 0.9125315  0.91622491 0.90505779 0.90331972\n",
            " 0.90701312 0.90062571 0.90710003 0.8933258  0.92269923 0.94451204\n",
            " 0.91648562 0.91196663 0.86512558 0.84231337 0.84900495 0.86781959\n",
            " 0.83796819 0.82719214 0.85265491 0.86503867 0.85109064 0.89210915\n",
            " 0.85487095 0.83835926 0.8454419  0.87190406 0.8548275  0.86951421\n",
            " 0.88811158 0.87720518 0.86890588 0.87551056 0.88272356 0.89145737\n",
            " 0.88107239 0.90006083 0.89328235 0.9256105  0.95007387 0.95294169\n",
            " 0.95628748 0.94937864 0.92999913 0.94512036 0.96962718 0.98218476\n",
            " 0.98161988 0.99009299 0.98874598 0.97119145 0.97166942 0.97075693\n",
            " 0.96828018 1.         0.98474841 0.98965847 0.95528809 0.94859651\n",
            " 0.95433215 0.9664552  0.93582167 0.94881377 0.94160076 0.96558616\n",
            " 0.9495959  0.96595776 0.96983534 0.97502643 0.98014987 0.98497474\n",
            " 0.9896794  0.99444163 0.9993332  1.00432682]\n",
            "9 day output [[1.0093341]]\n",
            "10 day input [0.8021639  0.8201964  0.83349266 0.82232554 0.82184757 0.81176675\n",
            " 0.80598766 0.82332493 0.81311376 0.84731033 0.85938994 0.86082385\n",
            " 0.85891197 0.86099765 0.87055705 0.8715999  0.86938385 0.84244373\n",
            " 0.83475276 0.86477796 0.89241331 0.89167463 0.87503259 0.87012253\n",
            " 0.87542366 0.9125315  0.91622491 0.90505779 0.90331972 0.90701312\n",
            " 0.90062571 0.90710003 0.8933258  0.92269923 0.94451204 0.91648562\n",
            " 0.91196663 0.86512558 0.84231337 0.84900495 0.86781959 0.83796819\n",
            " 0.82719214 0.85265491 0.86503867 0.85109064 0.89210915 0.85487095\n",
            " 0.83835926 0.8454419  0.87190406 0.8548275  0.86951421 0.88811158\n",
            " 0.87720518 0.86890588 0.87551056 0.88272356 0.89145737 0.88107239\n",
            " 0.90006083 0.89328235 0.9256105  0.95007387 0.95294169 0.95628748\n",
            " 0.94937864 0.92999913 0.94512036 0.96962718 0.98218476 0.98161988\n",
            " 0.99009299 0.98874598 0.97119145 0.97166942 0.97075693 0.96828018\n",
            " 1.         0.98474841 0.98965847 0.95528809 0.94859651 0.95433215\n",
            " 0.9664552  0.93582167 0.94881377 0.94160076 0.96558616 0.9495959\n",
            " 0.96595776 0.96983534 0.97502643 0.98014987 0.98497474 0.9896794\n",
            " 0.99444163 0.9993332  1.00432682 1.00933409]\n",
            "10 day output [[1.0142472]]\n",
            "11 day input [0.8201964  0.83349266 0.82232554 0.82184757 0.81176675 0.80598766\n",
            " 0.82332493 0.81311376 0.84731033 0.85938994 0.86082385 0.85891197\n",
            " 0.86099765 0.87055705 0.8715999  0.86938385 0.84244373 0.83475276\n",
            " 0.86477796 0.89241331 0.89167463 0.87503259 0.87012253 0.87542366\n",
            " 0.9125315  0.91622491 0.90505779 0.90331972 0.90701312 0.90062571\n",
            " 0.90710003 0.8933258  0.92269923 0.94451204 0.91648562 0.91196663\n",
            " 0.86512558 0.84231337 0.84900495 0.86781959 0.83796819 0.82719214\n",
            " 0.85265491 0.86503867 0.85109064 0.89210915 0.85487095 0.83835926\n",
            " 0.8454419  0.87190406 0.8548275  0.86951421 0.88811158 0.87720518\n",
            " 0.86890588 0.87551056 0.88272356 0.89145737 0.88107239 0.90006083\n",
            " 0.89328235 0.9256105  0.95007387 0.95294169 0.95628748 0.94937864\n",
            " 0.92999913 0.94512036 0.96962718 0.98218476 0.98161988 0.99009299\n",
            " 0.98874598 0.97119145 0.97166942 0.97075693 0.96828018 1.\n",
            " 0.98474841 0.98965847 0.95528809 0.94859651 0.95433215 0.9664552\n",
            " 0.93582167 0.94881377 0.94160076 0.96558616 0.9495959  0.96595776\n",
            " 0.96983534 0.97502643 0.98014987 0.98497474 0.9896794  0.99444163\n",
            " 0.9993332  1.00432682 1.00933409 1.01424718]\n",
            "11 day output [[1.018972]]\n",
            "12 day input [0.83349266 0.82232554 0.82184757 0.81176675 0.80598766 0.82332493\n",
            " 0.81311376 0.84731033 0.85938994 0.86082385 0.85891197 0.86099765\n",
            " 0.87055705 0.8715999  0.86938385 0.84244373 0.83475276 0.86477796\n",
            " 0.89241331 0.89167463 0.87503259 0.87012253 0.87542366 0.9125315\n",
            " 0.91622491 0.90505779 0.90331972 0.90701312 0.90062571 0.90710003\n",
            " 0.8933258  0.92269923 0.94451204 0.91648562 0.91196663 0.86512558\n",
            " 0.84231337 0.84900495 0.86781959 0.83796819 0.82719214 0.85265491\n",
            " 0.86503867 0.85109064 0.89210915 0.85487095 0.83835926 0.8454419\n",
            " 0.87190406 0.8548275  0.86951421 0.88811158 0.87720518 0.86890588\n",
            " 0.87551056 0.88272356 0.89145737 0.88107239 0.90006083 0.89328235\n",
            " 0.9256105  0.95007387 0.95294169 0.95628748 0.94937864 0.92999913\n",
            " 0.94512036 0.96962718 0.98218476 0.98161988 0.99009299 0.98874598\n",
            " 0.97119145 0.97166942 0.97075693 0.96828018 1.         0.98474841\n",
            " 0.98965847 0.95528809 0.94859651 0.95433215 0.9664552  0.93582167\n",
            " 0.94881377 0.94160076 0.96558616 0.9495959  0.96595776 0.96983534\n",
            " 0.97502643 0.98014987 0.98497474 0.9896794  0.99444163 0.9993332\n",
            " 1.00432682 1.00933409 1.01424718 1.01897204]\n",
            "12 day output [[1.0234456]]\n",
            "13 day input [0.82232554 0.82184757 0.81176675 0.80598766 0.82332493 0.81311376\n",
            " 0.84731033 0.85938994 0.86082385 0.85891197 0.86099765 0.87055705\n",
            " 0.8715999  0.86938385 0.84244373 0.83475276 0.86477796 0.89241331\n",
            " 0.89167463 0.87503259 0.87012253 0.87542366 0.9125315  0.91622491\n",
            " 0.90505779 0.90331972 0.90701312 0.90062571 0.90710003 0.8933258\n",
            " 0.92269923 0.94451204 0.91648562 0.91196663 0.86512558 0.84231337\n",
            " 0.84900495 0.86781959 0.83796819 0.82719214 0.85265491 0.86503867\n",
            " 0.85109064 0.89210915 0.85487095 0.83835926 0.8454419  0.87190406\n",
            " 0.8548275  0.86951421 0.88811158 0.87720518 0.86890588 0.87551056\n",
            " 0.88272356 0.89145737 0.88107239 0.90006083 0.89328235 0.9256105\n",
            " 0.95007387 0.95294169 0.95628748 0.94937864 0.92999913 0.94512036\n",
            " 0.96962718 0.98218476 0.98161988 0.99009299 0.98874598 0.97119145\n",
            " 0.97166942 0.97075693 0.96828018 1.         0.98474841 0.98965847\n",
            " 0.95528809 0.94859651 0.95433215 0.9664552  0.93582167 0.94881377\n",
            " 0.94160076 0.96558616 0.9495959  0.96595776 0.96983534 0.97502643\n",
            " 0.98014987 0.98497474 0.9896794  0.99444163 0.9993332  1.00432682\n",
            " 1.00933409 1.01424718 1.01897204 1.02344561]\n",
            "13 day output [[1.0276369]]\n",
            "14 day input [0.82184757 0.81176675 0.80598766 0.82332493 0.81311376 0.84731033\n",
            " 0.85938994 0.86082385 0.85891197 0.86099765 0.87055705 0.8715999\n",
            " 0.86938385 0.84244373 0.83475276 0.86477796 0.89241331 0.89167463\n",
            " 0.87503259 0.87012253 0.87542366 0.9125315  0.91622491 0.90505779\n",
            " 0.90331972 0.90701312 0.90062571 0.90710003 0.8933258  0.92269923\n",
            " 0.94451204 0.91648562 0.91196663 0.86512558 0.84231337 0.84900495\n",
            " 0.86781959 0.83796819 0.82719214 0.85265491 0.86503867 0.85109064\n",
            " 0.89210915 0.85487095 0.83835926 0.8454419  0.87190406 0.8548275\n",
            " 0.86951421 0.88811158 0.87720518 0.86890588 0.87551056 0.88272356\n",
            " 0.89145737 0.88107239 0.90006083 0.89328235 0.9256105  0.95007387\n",
            " 0.95294169 0.95628748 0.94937864 0.92999913 0.94512036 0.96962718\n",
            " 0.98218476 0.98161988 0.99009299 0.98874598 0.97119145 0.97166942\n",
            " 0.97075693 0.96828018 1.         0.98474841 0.98965847 0.95528809\n",
            " 0.94859651 0.95433215 0.9664552  0.93582167 0.94881377 0.94160076\n",
            " 0.96558616 0.9495959  0.96595776 0.96983534 0.97502643 0.98014987\n",
            " 0.98497474 0.9896794  0.99444163 0.9993332  1.00432682 1.00933409\n",
            " 1.01424718 1.01897204 1.02344561 1.02763689]\n",
            "14 day output [[1.0315443]]\n",
            "15 day input [0.81176675 0.80598766 0.82332493 0.81311376 0.84731033 0.85938994\n",
            " 0.86082385 0.85891197 0.86099765 0.87055705 0.8715999  0.86938385\n",
            " 0.84244373 0.83475276 0.86477796 0.89241331 0.89167463 0.87503259\n",
            " 0.87012253 0.87542366 0.9125315  0.91622491 0.90505779 0.90331972\n",
            " 0.90701312 0.90062571 0.90710003 0.8933258  0.92269923 0.94451204\n",
            " 0.91648562 0.91196663 0.86512558 0.84231337 0.84900495 0.86781959\n",
            " 0.83796819 0.82719214 0.85265491 0.86503867 0.85109064 0.89210915\n",
            " 0.85487095 0.83835926 0.8454419  0.87190406 0.8548275  0.86951421\n",
            " 0.88811158 0.87720518 0.86890588 0.87551056 0.88272356 0.89145737\n",
            " 0.88107239 0.90006083 0.89328235 0.9256105  0.95007387 0.95294169\n",
            " 0.95628748 0.94937864 0.92999913 0.94512036 0.96962718 0.98218476\n",
            " 0.98161988 0.99009299 0.98874598 0.97119145 0.97166942 0.97075693\n",
            " 0.96828018 1.         0.98474841 0.98965847 0.95528809 0.94859651\n",
            " 0.95433215 0.9664552  0.93582167 0.94881377 0.94160076 0.96558616\n",
            " 0.9495959  0.96595776 0.96983534 0.97502643 0.98014987 0.98497474\n",
            " 0.9896794  0.99444163 0.9993332  1.00432682 1.00933409 1.01424718\n",
            " 1.01897204 1.02344561 1.02763689 1.03154433]\n",
            "15 day output [[1.035181]]\n",
            "16 day input [0.80598766 0.82332493 0.81311376 0.84731033 0.85938994 0.86082385\n",
            " 0.85891197 0.86099765 0.87055705 0.8715999  0.86938385 0.84244373\n",
            " 0.83475276 0.86477796 0.89241331 0.89167463 0.87503259 0.87012253\n",
            " 0.87542366 0.9125315  0.91622491 0.90505779 0.90331972 0.90701312\n",
            " 0.90062571 0.90710003 0.8933258  0.92269923 0.94451204 0.91648562\n",
            " 0.91196663 0.86512558 0.84231337 0.84900495 0.86781959 0.83796819\n",
            " 0.82719214 0.85265491 0.86503867 0.85109064 0.89210915 0.85487095\n",
            " 0.83835926 0.8454419  0.87190406 0.8548275  0.86951421 0.88811158\n",
            " 0.87720518 0.86890588 0.87551056 0.88272356 0.89145737 0.88107239\n",
            " 0.90006083 0.89328235 0.9256105  0.95007387 0.95294169 0.95628748\n",
            " 0.94937864 0.92999913 0.94512036 0.96962718 0.98218476 0.98161988\n",
            " 0.99009299 0.98874598 0.97119145 0.97166942 0.97075693 0.96828018\n",
            " 1.         0.98474841 0.98965847 0.95528809 0.94859651 0.95433215\n",
            " 0.9664552  0.93582167 0.94881377 0.94160076 0.96558616 0.9495959\n",
            " 0.96595776 0.96983534 0.97502643 0.98014987 0.98497474 0.9896794\n",
            " 0.99444163 0.9993332  1.00432682 1.00933409 1.01424718 1.01897204\n",
            " 1.02344561 1.02763689 1.03154433 1.03518105]\n",
            "16 day output [[1.0385692]]\n",
            "17 day input [0.82332493 0.81311376 0.84731033 0.85938994 0.86082385 0.85891197\n",
            " 0.86099765 0.87055705 0.8715999  0.86938385 0.84244373 0.83475276\n",
            " 0.86477796 0.89241331 0.89167463 0.87503259 0.87012253 0.87542366\n",
            " 0.9125315  0.91622491 0.90505779 0.90331972 0.90701312 0.90062571\n",
            " 0.90710003 0.8933258  0.92269923 0.94451204 0.91648562 0.91196663\n",
            " 0.86512558 0.84231337 0.84900495 0.86781959 0.83796819 0.82719214\n",
            " 0.85265491 0.86503867 0.85109064 0.89210915 0.85487095 0.83835926\n",
            " 0.8454419  0.87190406 0.8548275  0.86951421 0.88811158 0.87720518\n",
            " 0.86890588 0.87551056 0.88272356 0.89145737 0.88107239 0.90006083\n",
            " 0.89328235 0.9256105  0.95007387 0.95294169 0.95628748 0.94937864\n",
            " 0.92999913 0.94512036 0.96962718 0.98218476 0.98161988 0.99009299\n",
            " 0.98874598 0.97119145 0.97166942 0.97075693 0.96828018 1.\n",
            " 0.98474841 0.98965847 0.95528809 0.94859651 0.95433215 0.9664552\n",
            " 0.93582167 0.94881377 0.94160076 0.96558616 0.9495959  0.96595776\n",
            " 0.96983534 0.97502643 0.98014987 0.98497474 0.9896794  0.99444163\n",
            " 0.9993332  1.00432682 1.00933409 1.01424718 1.01897204 1.02344561\n",
            " 1.02763689 1.03154433 1.03518105 1.03856921]\n",
            "17 day output [[1.0417321]]\n",
            "18 day input [0.81311376 0.84731033 0.85938994 0.86082385 0.85891197 0.86099765\n",
            " 0.87055705 0.8715999  0.86938385 0.84244373 0.83475276 0.86477796\n",
            " 0.89241331 0.89167463 0.87503259 0.87012253 0.87542366 0.9125315\n",
            " 0.91622491 0.90505779 0.90331972 0.90701312 0.90062571 0.90710003\n",
            " 0.8933258  0.92269923 0.94451204 0.91648562 0.91196663 0.86512558\n",
            " 0.84231337 0.84900495 0.86781959 0.83796819 0.82719214 0.85265491\n",
            " 0.86503867 0.85109064 0.89210915 0.85487095 0.83835926 0.8454419\n",
            " 0.87190406 0.8548275  0.86951421 0.88811158 0.87720518 0.86890588\n",
            " 0.87551056 0.88272356 0.89145737 0.88107239 0.90006083 0.89328235\n",
            " 0.9256105  0.95007387 0.95294169 0.95628748 0.94937864 0.92999913\n",
            " 0.94512036 0.96962718 0.98218476 0.98161988 0.99009299 0.98874598\n",
            " 0.97119145 0.97166942 0.97075693 0.96828018 1.         0.98474841\n",
            " 0.98965847 0.95528809 0.94859651 0.95433215 0.9664552  0.93582167\n",
            " 0.94881377 0.94160076 0.96558616 0.9495959  0.96595776 0.96983534\n",
            " 0.97502643 0.98014987 0.98497474 0.9896794  0.99444163 0.9993332\n",
            " 1.00432682 1.00933409 1.01424718 1.01897204 1.02344561 1.02763689\n",
            " 1.03154433 1.03518105 1.03856921 1.04173207]\n",
            "18 day output [[1.04469]]\n",
            "19 day input [0.84731033 0.85938994 0.86082385 0.85891197 0.86099765 0.87055705\n",
            " 0.8715999  0.86938385 0.84244373 0.83475276 0.86477796 0.89241331\n",
            " 0.89167463 0.87503259 0.87012253 0.87542366 0.9125315  0.91622491\n",
            " 0.90505779 0.90331972 0.90701312 0.90062571 0.90710003 0.8933258\n",
            " 0.92269923 0.94451204 0.91648562 0.91196663 0.86512558 0.84231337\n",
            " 0.84900495 0.86781959 0.83796819 0.82719214 0.85265491 0.86503867\n",
            " 0.85109064 0.89210915 0.85487095 0.83835926 0.8454419  0.87190406\n",
            " 0.8548275  0.86951421 0.88811158 0.87720518 0.86890588 0.87551056\n",
            " 0.88272356 0.89145737 0.88107239 0.90006083 0.89328235 0.9256105\n",
            " 0.95007387 0.95294169 0.95628748 0.94937864 0.92999913 0.94512036\n",
            " 0.96962718 0.98218476 0.98161988 0.99009299 0.98874598 0.97119145\n",
            " 0.97166942 0.97075693 0.96828018 1.         0.98474841 0.98965847\n",
            " 0.95528809 0.94859651 0.95433215 0.9664552  0.93582167 0.94881377\n",
            " 0.94160076 0.96558616 0.9495959  0.96595776 0.96983534 0.97502643\n",
            " 0.98014987 0.98497474 0.9896794  0.99444163 0.9993332  1.00432682\n",
            " 1.00933409 1.01424718 1.01897204 1.02344561 1.02763689 1.03154433\n",
            " 1.03518105 1.03856921 1.04173207 1.04469001]\n",
            "19 day output [[1.0474617]]\n",
            "20 day input [0.85938994 0.86082385 0.85891197 0.86099765 0.87055705 0.8715999\n",
            " 0.86938385 0.84244373 0.83475276 0.86477796 0.89241331 0.89167463\n",
            " 0.87503259 0.87012253 0.87542366 0.9125315  0.91622491 0.90505779\n",
            " 0.90331972 0.90701312 0.90062571 0.90710003 0.8933258  0.92269923\n",
            " 0.94451204 0.91648562 0.91196663 0.86512558 0.84231337 0.84900495\n",
            " 0.86781959 0.83796819 0.82719214 0.85265491 0.86503867 0.85109064\n",
            " 0.89210915 0.85487095 0.83835926 0.8454419  0.87190406 0.8548275\n",
            " 0.86951421 0.88811158 0.87720518 0.86890588 0.87551056 0.88272356\n",
            " 0.89145737 0.88107239 0.90006083 0.89328235 0.9256105  0.95007387\n",
            " 0.95294169 0.95628748 0.94937864 0.92999913 0.94512036 0.96962718\n",
            " 0.98218476 0.98161988 0.99009299 0.98874598 0.97119145 0.97166942\n",
            " 0.97075693 0.96828018 1.         0.98474841 0.98965847 0.95528809\n",
            " 0.94859651 0.95433215 0.9664552  0.93582167 0.94881377 0.94160076\n",
            " 0.96558616 0.9495959  0.96595776 0.96983534 0.97502643 0.98014987\n",
            " 0.98497474 0.9896794  0.99444163 0.9993332  1.00432682 1.00933409\n",
            " 1.01424718 1.01897204 1.02344561 1.02763689 1.03154433 1.03518105\n",
            " 1.03856921 1.04173207 1.04469001 1.04746175]\n",
            "20 day output [[1.0500634]]\n",
            "21 day input [0.86082385 0.85891197 0.86099765 0.87055705 0.8715999  0.86938385\n",
            " 0.84244373 0.83475276 0.86477796 0.89241331 0.89167463 0.87503259\n",
            " 0.87012253 0.87542366 0.9125315  0.91622491 0.90505779 0.90331972\n",
            " 0.90701312 0.90062571 0.90710003 0.8933258  0.92269923 0.94451204\n",
            " 0.91648562 0.91196663 0.86512558 0.84231337 0.84900495 0.86781959\n",
            " 0.83796819 0.82719214 0.85265491 0.86503867 0.85109064 0.89210915\n",
            " 0.85487095 0.83835926 0.8454419  0.87190406 0.8548275  0.86951421\n",
            " 0.88811158 0.87720518 0.86890588 0.87551056 0.88272356 0.89145737\n",
            " 0.88107239 0.90006083 0.89328235 0.9256105  0.95007387 0.95294169\n",
            " 0.95628748 0.94937864 0.92999913 0.94512036 0.96962718 0.98218476\n",
            " 0.98161988 0.99009299 0.98874598 0.97119145 0.97166942 0.97075693\n",
            " 0.96828018 1.         0.98474841 0.98965847 0.95528809 0.94859651\n",
            " 0.95433215 0.9664552  0.93582167 0.94881377 0.94160076 0.96558616\n",
            " 0.9495959  0.96595776 0.96983534 0.97502643 0.98014987 0.98497474\n",
            " 0.9896794  0.99444163 0.9993332  1.00432682 1.00933409 1.01424718\n",
            " 1.01897204 1.02344561 1.02763689 1.03154433 1.03518105 1.03856921\n",
            " 1.04173207 1.04469001 1.04746175 1.05006337]\n",
            "21 day output [[1.0525103]]\n",
            "22 day input [0.85891197 0.86099765 0.87055705 0.8715999  0.86938385 0.84244373\n",
            " 0.83475276 0.86477796 0.89241331 0.89167463 0.87503259 0.87012253\n",
            " 0.87542366 0.9125315  0.91622491 0.90505779 0.90331972 0.90701312\n",
            " 0.90062571 0.90710003 0.8933258  0.92269923 0.94451204 0.91648562\n",
            " 0.91196663 0.86512558 0.84231337 0.84900495 0.86781959 0.83796819\n",
            " 0.82719214 0.85265491 0.86503867 0.85109064 0.89210915 0.85487095\n",
            " 0.83835926 0.8454419  0.87190406 0.8548275  0.86951421 0.88811158\n",
            " 0.87720518 0.86890588 0.87551056 0.88272356 0.89145737 0.88107239\n",
            " 0.90006083 0.89328235 0.9256105  0.95007387 0.95294169 0.95628748\n",
            " 0.94937864 0.92999913 0.94512036 0.96962718 0.98218476 0.98161988\n",
            " 0.99009299 0.98874598 0.97119145 0.97166942 0.97075693 0.96828018\n",
            " 1.         0.98474841 0.98965847 0.95528809 0.94859651 0.95433215\n",
            " 0.9664552  0.93582167 0.94881377 0.94160076 0.96558616 0.9495959\n",
            " 0.96595776 0.96983534 0.97502643 0.98014987 0.98497474 0.9896794\n",
            " 0.99444163 0.9993332  1.00432682 1.00933409 1.01424718 1.01897204\n",
            " 1.02344561 1.02763689 1.03154433 1.03518105 1.03856921 1.04173207\n",
            " 1.04469001 1.04746175 1.05006337 1.05251026]\n",
            "22 day output [[1.0548179]]\n",
            "23 day input [0.86099765 0.87055705 0.8715999  0.86938385 0.84244373 0.83475276\n",
            " 0.86477796 0.89241331 0.89167463 0.87503259 0.87012253 0.87542366\n",
            " 0.9125315  0.91622491 0.90505779 0.90331972 0.90701312 0.90062571\n",
            " 0.90710003 0.8933258  0.92269923 0.94451204 0.91648562 0.91196663\n",
            " 0.86512558 0.84231337 0.84900495 0.86781959 0.83796819 0.82719214\n",
            " 0.85265491 0.86503867 0.85109064 0.89210915 0.85487095 0.83835926\n",
            " 0.8454419  0.87190406 0.8548275  0.86951421 0.88811158 0.87720518\n",
            " 0.86890588 0.87551056 0.88272356 0.89145737 0.88107239 0.90006083\n",
            " 0.89328235 0.9256105  0.95007387 0.95294169 0.95628748 0.94937864\n",
            " 0.92999913 0.94512036 0.96962718 0.98218476 0.98161988 0.99009299\n",
            " 0.98874598 0.97119145 0.97166942 0.97075693 0.96828018 1.\n",
            " 0.98474841 0.98965847 0.95528809 0.94859651 0.95433215 0.9664552\n",
            " 0.93582167 0.94881377 0.94160076 0.96558616 0.9495959  0.96595776\n",
            " 0.96983534 0.97502643 0.98014987 0.98497474 0.9896794  0.99444163\n",
            " 0.9993332  1.00432682 1.00933409 1.01424718 1.01897204 1.02344561\n",
            " 1.02763689 1.03154433 1.03518105 1.03856921 1.04173207 1.04469001\n",
            " 1.04746175 1.05006337 1.05251026 1.05481791]\n",
            "23 day output [[1.0570028]]\n",
            "24 day input [0.87055705 0.8715999  0.86938385 0.84244373 0.83475276 0.86477796\n",
            " 0.89241331 0.89167463 0.87503259 0.87012253 0.87542366 0.9125315\n",
            " 0.91622491 0.90505779 0.90331972 0.90701312 0.90062571 0.90710003\n",
            " 0.8933258  0.92269923 0.94451204 0.91648562 0.91196663 0.86512558\n",
            " 0.84231337 0.84900495 0.86781959 0.83796819 0.82719214 0.85265491\n",
            " 0.86503867 0.85109064 0.89210915 0.85487095 0.83835926 0.8454419\n",
            " 0.87190406 0.8548275  0.86951421 0.88811158 0.87720518 0.86890588\n",
            " 0.87551056 0.88272356 0.89145737 0.88107239 0.90006083 0.89328235\n",
            " 0.9256105  0.95007387 0.95294169 0.95628748 0.94937864 0.92999913\n",
            " 0.94512036 0.96962718 0.98218476 0.98161988 0.99009299 0.98874598\n",
            " 0.97119145 0.97166942 0.97075693 0.96828018 1.         0.98474841\n",
            " 0.98965847 0.95528809 0.94859651 0.95433215 0.9664552  0.93582167\n",
            " 0.94881377 0.94160076 0.96558616 0.9495959  0.96595776 0.96983534\n",
            " 0.97502643 0.98014987 0.98497474 0.9896794  0.99444163 0.9993332\n",
            " 1.00432682 1.00933409 1.01424718 1.01897204 1.02344561 1.02763689\n",
            " 1.03154433 1.03518105 1.03856921 1.04173207 1.04469001 1.04746175\n",
            " 1.05006337 1.05251026 1.05481791 1.05700278]\n",
            "24 day output [[1.0590807]]\n",
            "25 day input [0.8715999  0.86938385 0.84244373 0.83475276 0.86477796 0.89241331\n",
            " 0.89167463 0.87503259 0.87012253 0.87542366 0.9125315  0.91622491\n",
            " 0.90505779 0.90331972 0.90701312 0.90062571 0.90710003 0.8933258\n",
            " 0.92269923 0.94451204 0.91648562 0.91196663 0.86512558 0.84231337\n",
            " 0.84900495 0.86781959 0.83796819 0.82719214 0.85265491 0.86503867\n",
            " 0.85109064 0.89210915 0.85487095 0.83835926 0.8454419  0.87190406\n",
            " 0.8548275  0.86951421 0.88811158 0.87720518 0.86890588 0.87551056\n",
            " 0.88272356 0.89145737 0.88107239 0.90006083 0.89328235 0.9256105\n",
            " 0.95007387 0.95294169 0.95628748 0.94937864 0.92999913 0.94512036\n",
            " 0.96962718 0.98218476 0.98161988 0.99009299 0.98874598 0.97119145\n",
            " 0.97166942 0.97075693 0.96828018 1.         0.98474841 0.98965847\n",
            " 0.95528809 0.94859651 0.95433215 0.9664552  0.93582167 0.94881377\n",
            " 0.94160076 0.96558616 0.9495959  0.96595776 0.96983534 0.97502643\n",
            " 0.98014987 0.98497474 0.9896794  0.99444163 0.9993332  1.00432682\n",
            " 1.00933409 1.01424718 1.01897204 1.02344561 1.02763689 1.03154433\n",
            " 1.03518105 1.03856921 1.04173207 1.04469001 1.04746175 1.05006337\n",
            " 1.05251026 1.05481791 1.05700278 1.05908072]\n",
            "25 day output [[1.0610671]]\n",
            "26 day input [0.86938385 0.84244373 0.83475276 0.86477796 0.89241331 0.89167463\n",
            " 0.87503259 0.87012253 0.87542366 0.9125315  0.91622491 0.90505779\n",
            " 0.90331972 0.90701312 0.90062571 0.90710003 0.8933258  0.92269923\n",
            " 0.94451204 0.91648562 0.91196663 0.86512558 0.84231337 0.84900495\n",
            " 0.86781959 0.83796819 0.82719214 0.85265491 0.86503867 0.85109064\n",
            " 0.89210915 0.85487095 0.83835926 0.8454419  0.87190406 0.8548275\n",
            " 0.86951421 0.88811158 0.87720518 0.86890588 0.87551056 0.88272356\n",
            " 0.89145737 0.88107239 0.90006083 0.89328235 0.9256105  0.95007387\n",
            " 0.95294169 0.95628748 0.94937864 0.92999913 0.94512036 0.96962718\n",
            " 0.98218476 0.98161988 0.99009299 0.98874598 0.97119145 0.97166942\n",
            " 0.97075693 0.96828018 1.         0.98474841 0.98965847 0.95528809\n",
            " 0.94859651 0.95433215 0.9664552  0.93582167 0.94881377 0.94160076\n",
            " 0.96558616 0.9495959  0.96595776 0.96983534 0.97502643 0.98014987\n",
            " 0.98497474 0.9896794  0.99444163 0.9993332  1.00432682 1.00933409\n",
            " 1.01424718 1.01897204 1.02344561 1.02763689 1.03154433 1.03518105\n",
            " 1.03856921 1.04173207 1.04469001 1.04746175 1.05006337 1.05251026\n",
            " 1.05481791 1.05700278 1.05908072 1.0610671 ]\n",
            "26 day output [[1.0629779]]\n",
            "27 day input [0.84244373 0.83475276 0.86477796 0.89241331 0.89167463 0.87503259\n",
            " 0.87012253 0.87542366 0.9125315  0.91622491 0.90505779 0.90331972\n",
            " 0.90701312 0.90062571 0.90710003 0.8933258  0.92269923 0.94451204\n",
            " 0.91648562 0.91196663 0.86512558 0.84231337 0.84900495 0.86781959\n",
            " 0.83796819 0.82719214 0.85265491 0.86503867 0.85109064 0.89210915\n",
            " 0.85487095 0.83835926 0.8454419  0.87190406 0.8548275  0.86951421\n",
            " 0.88811158 0.87720518 0.86890588 0.87551056 0.88272356 0.89145737\n",
            " 0.88107239 0.90006083 0.89328235 0.9256105  0.95007387 0.95294169\n",
            " 0.95628748 0.94937864 0.92999913 0.94512036 0.96962718 0.98218476\n",
            " 0.98161988 0.99009299 0.98874598 0.97119145 0.97166942 0.97075693\n",
            " 0.96828018 1.         0.98474841 0.98965847 0.95528809 0.94859651\n",
            " 0.95433215 0.9664552  0.93582167 0.94881377 0.94160076 0.96558616\n",
            " 0.9495959  0.96595776 0.96983534 0.97502643 0.98014987 0.98497474\n",
            " 0.9896794  0.99444163 0.9993332  1.00432682 1.00933409 1.01424718\n",
            " 1.01897204 1.02344561 1.02763689 1.03154433 1.03518105 1.03856921\n",
            " 1.04173207 1.04469001 1.04746175 1.05006337 1.05251026 1.05481791\n",
            " 1.05700278 1.05908072 1.0610671  1.06297791]\n",
            "27 day output [[1.0648265]]\n",
            "28 day input [0.83475276 0.86477796 0.89241331 0.89167463 0.87503259 0.87012253\n",
            " 0.87542366 0.9125315  0.91622491 0.90505779 0.90331972 0.90701312\n",
            " 0.90062571 0.90710003 0.8933258  0.92269923 0.94451204 0.91648562\n",
            " 0.91196663 0.86512558 0.84231337 0.84900495 0.86781959 0.83796819\n",
            " 0.82719214 0.85265491 0.86503867 0.85109064 0.89210915 0.85487095\n",
            " 0.83835926 0.8454419  0.87190406 0.8548275  0.86951421 0.88811158\n",
            " 0.87720518 0.86890588 0.87551056 0.88272356 0.89145737 0.88107239\n",
            " 0.90006083 0.89328235 0.9256105  0.95007387 0.95294169 0.95628748\n",
            " 0.94937864 0.92999913 0.94512036 0.96962718 0.98218476 0.98161988\n",
            " 0.99009299 0.98874598 0.97119145 0.97166942 0.97075693 0.96828018\n",
            " 1.         0.98474841 0.98965847 0.95528809 0.94859651 0.95433215\n",
            " 0.9664552  0.93582167 0.94881377 0.94160076 0.96558616 0.9495959\n",
            " 0.96595776 0.96983534 0.97502643 0.98014987 0.98497474 0.9896794\n",
            " 0.99444163 0.9993332  1.00432682 1.00933409 1.01424718 1.01897204\n",
            " 1.02344561 1.02763689 1.03154433 1.03518105 1.03856921 1.04173207\n",
            " 1.04469001 1.04746175 1.05006337 1.05251026 1.05481791 1.05700278\n",
            " 1.05908072 1.0610671  1.06297791 1.06482649]\n",
            "28 day output [[1.0666251]]\n",
            "29 day input [0.86477796 0.89241331 0.89167463 0.87503259 0.87012253 0.87542366\n",
            " 0.9125315  0.91622491 0.90505779 0.90331972 0.90701312 0.90062571\n",
            " 0.90710003 0.8933258  0.92269923 0.94451204 0.91648562 0.91196663\n",
            " 0.86512558 0.84231337 0.84900495 0.86781959 0.83796819 0.82719214\n",
            " 0.85265491 0.86503867 0.85109064 0.89210915 0.85487095 0.83835926\n",
            " 0.8454419  0.87190406 0.8548275  0.86951421 0.88811158 0.87720518\n",
            " 0.86890588 0.87551056 0.88272356 0.89145737 0.88107239 0.90006083\n",
            " 0.89328235 0.9256105  0.95007387 0.95294169 0.95628748 0.94937864\n",
            " 0.92999913 0.94512036 0.96962718 0.98218476 0.98161988 0.99009299\n",
            " 0.98874598 0.97119145 0.97166942 0.97075693 0.96828018 1.\n",
            " 0.98474841 0.98965847 0.95528809 0.94859651 0.95433215 0.9664552\n",
            " 0.93582167 0.94881377 0.94160076 0.96558616 0.9495959  0.96595776\n",
            " 0.96983534 0.97502643 0.98014987 0.98497474 0.9896794  0.99444163\n",
            " 0.9993332  1.00432682 1.00933409 1.01424718 1.01897204 1.02344561\n",
            " 1.02763689 1.03154433 1.03518105 1.03856921 1.04173207 1.04469001\n",
            " 1.04746175 1.05006337 1.05251026 1.05481791 1.05700278 1.05908072\n",
            " 1.0610671  1.06297791 1.06482649 1.06662512]\n",
            "29 day output [[1.0683845]]\n",
            "30 day input [0.89241331 0.89167463 0.87503259 0.87012253 0.87542366 0.9125315\n",
            " 0.91622491 0.90505779 0.90331972 0.90701312 0.90062571 0.90710003\n",
            " 0.8933258  0.92269923 0.94451204 0.91648562 0.91196663 0.86512558\n",
            " 0.84231337 0.84900495 0.86781959 0.83796819 0.82719214 0.85265491\n",
            " 0.86503867 0.85109064 0.89210915 0.85487095 0.83835926 0.8454419\n",
            " 0.87190406 0.8548275  0.86951421 0.88811158 0.87720518 0.86890588\n",
            " 0.87551056 0.88272356 0.89145737 0.88107239 0.90006083 0.89328235\n",
            " 0.9256105  0.95007387 0.95294169 0.95628748 0.94937864 0.92999913\n",
            " 0.94512036 0.96962718 0.98218476 0.98161988 0.99009299 0.98874598\n",
            " 0.97119145 0.97166942 0.97075693 0.96828018 1.         0.98474841\n",
            " 0.98965847 0.95528809 0.94859651 0.95433215 0.9664552  0.93582167\n",
            " 0.94881377 0.94160076 0.96558616 0.9495959  0.96595776 0.96983534\n",
            " 0.97502643 0.98014987 0.98497474 0.9896794  0.99444163 0.9993332\n",
            " 1.00432682 1.00933409 1.01424718 1.01897204 1.02344561 1.02763689\n",
            " 1.03154433 1.03518105 1.03856921 1.04173207 1.04469001 1.04746175\n",
            " 1.05006337 1.05251026 1.05481791 1.05700278 1.05908072 1.0610671\n",
            " 1.06297791 1.06482649 1.06662512 1.06838453]\n",
            "30 day output [[1.0701133]]\n"
          ]
        }
      ]
    },
    {
      "cell_type": "code",
      "source": [
        "# plotting the actual data, and the next 30 days' prediction\n",
        "\n",
        "day_new=np.arange(1,100)\n",
        "day_pred=np.arange(100,131)"
      ],
      "metadata": {
        "id": "0kTQKiJnR71p"
      },
      "execution_count": 27,
      "outputs": []
    },
    {
      "cell_type": "code",
      "source": [
        "plt.plot(day_new,scaler.inverse_transform(df1[1157:]))\n",
        "plt.plot(day_pred,scaler.inverse_transform(lst_output))\n"
      ],
      "metadata": {
        "id": "e_XGobY4SEE3",
        "colab": {
          "base_uri": "https://localhost:8080/",
          "height": 448
        },
        "outputId": "1cdbd739-abdc-4d4f-8f10-abb021841208"
      },
      "execution_count": 30,
      "outputs": [
        {
          "output_type": "execute_result",
          "data": {
            "text/plain": [
              "[<matplotlib.lines.Line2D at 0x79256f1650f0>]"
            ]
          },
          "metadata": {},
          "execution_count": 30
        },
        {
          "output_type": "display_data",
          "data": {
            "text/plain": [
              "<Figure size 640x480 with 1 Axes>"
            ],
            "image/png": "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\n"
          },
          "metadata": {}
        }
      ]
    },
    {
      "cell_type": "code",
      "source": [
        "## lets see the combined output also\n",
        "df3=df1.tolist()\n",
        "df3.extend(lst_output)\n",
        "plt.plot(df3[1200:])"
      ],
      "metadata": {
        "id": "7KCqymOuS6W7",
        "colab": {
          "base_uri": "https://localhost:8080/",
          "height": 448
        },
        "outputId": "08453d9c-b883-4848-c88e-e0095f645abf"
      },
      "execution_count": 31,
      "outputs": [
        {
          "output_type": "execute_result",
          "data": {
            "text/plain": [
              "[<matplotlib.lines.Line2D at 0x79256d8f2d10>]"
            ]
          },
          "metadata": {},
          "execution_count": 31
        },
        {
          "output_type": "display_data",
          "data": {
            "text/plain": [
              "<Figure size 640x480 with 1 Axes>"
            ],
            "image/png": "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\n"
          },
          "metadata": {}
        }
      ]
    },
    {
      "cell_type": "code",
      "source": [
        "df3=scaler.inverse_transform(df3).tolist()\n",
        "plt.plot(df3)\n",
        "\n",
        "## here is the whole complete graph"
      ],
      "metadata": {
        "colab": {
          "base_uri": "https://localhost:8080/",
          "height": 448
        },
        "id": "BZauzjxZBP20",
        "outputId": "a1d3f914-ad84-48f2-e9e5-01ac5bd50f3f"
      },
      "execution_count": 32,
      "outputs": [
        {
          "output_type": "execute_result",
          "data": {
            "text/plain": [
              "[<matplotlib.lines.Line2D at 0x79256de76bc0>]"
            ]
          },
          "metadata": {},
          "execution_count": 32
        },
        {
          "output_type": "display_data",
          "data": {
            "text/plain": [
              "<Figure size 640x480 with 1 Axes>"
            ],
            "image/png": "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\n"
          },
          "metadata": {}
        }
      ]
    }
  ]
}